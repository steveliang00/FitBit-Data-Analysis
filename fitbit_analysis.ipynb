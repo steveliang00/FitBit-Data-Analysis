{
 "cells": [
  {
   "cell_type": "markdown",
   "metadata": {},
   "source": [
    "# FitBit Tracker Exploratory Data Analysis\n",
    "\n",
    "### Notes:\n",
    "The dataset is from https://www.kaggle.com/datasets/arashnic/fitbit under the CC0: Public Domain license  \n",
    "The data consist of 18 csv files and contain data for 33 participants over a period of one month from 4/12/2016 to 5/12/2016\n"
   ]
  },
  {
   "cell_type": "code",
   "execution_count": 1,
   "metadata": {},
   "outputs": [],
   "source": [
    "import pandas as pd\n",
    "import numpy as np\n",
    "import matplotlib.pyplot as plt\n",
    "import plotly.express as px\n",
    "import seaborn as sns"
   ]
  },
  {
   "cell_type": "markdown",
   "metadata": {},
   "source": [
    "## Data Preparation\n",
    "\n"
   ]
  },
  {
   "cell_type": "markdown",
   "metadata": {},
   "source": [
    "**Preliminary screening of data:**  \n",
    "- *dailyActivity* contains data from other files: *dailyCalories*, *dailyIntensities*, *dailySteps*\n",
    "- There are 33 unique id's which corresponds to the number of participants.\n",
    "- There seems to be no unit for the columns recording distance measures. I could not find official metadata for this data, but a supplemental reading suggests it is in Kilometers"
   ]
  },
  {
   "cell_type": "code",
   "execution_count": 2,
   "metadata": {},
   "outputs": [
    {
     "name": "stdout",
     "output_type": "stream",
     "text": [
      "33\n",
      "<class 'pandas.core.frame.DataFrame'>\n",
      "RangeIndex: 940 entries, 0 to 939\n",
      "Data columns (total 15 columns):\n",
      " #   Column                    Non-Null Count  Dtype  \n",
      "---  ------                    --------------  -----  \n",
      " 0   Id                        940 non-null    int64  \n",
      " 1   ActivityDate              940 non-null    object \n",
      " 2   TotalSteps                940 non-null    int64  \n",
      " 3   TotalDistance             940 non-null    float64\n",
      " 4   TrackerDistance           940 non-null    float64\n",
      " 5   LoggedActivitiesDistance  940 non-null    float64\n",
      " 6   VeryActiveDistance        940 non-null    float64\n",
      " 7   ModeratelyActiveDistance  940 non-null    float64\n",
      " 8   LightActiveDistance       940 non-null    float64\n",
      " 9   SedentaryActiveDistance   940 non-null    float64\n",
      " 10  VeryActiveMinutes         940 non-null    int64  \n",
      " 11  FairlyActiveMinutes       940 non-null    int64  \n",
      " 12  LightlyActiveMinutes      940 non-null    int64  \n",
      " 13  SedentaryMinutes          940 non-null    int64  \n",
      " 14  Calories                  940 non-null    int64  \n",
      "dtypes: float64(7), int64(7), object(1)\n",
      "memory usage: 110.3+ KB\n",
      "None\n"
     ]
    },
    {
     "data": {
      "text/html": [
       "<div>\n",
       "<style scoped>\n",
       "    .dataframe tbody tr th:only-of-type {\n",
       "        vertical-align: middle;\n",
       "    }\n",
       "\n",
       "    .dataframe tbody tr th {\n",
       "        vertical-align: top;\n",
       "    }\n",
       "\n",
       "    .dataframe thead th {\n",
       "        text-align: right;\n",
       "    }\n",
       "</style>\n",
       "<table border=\"1\" class=\"dataframe\">\n",
       "  <thead>\n",
       "    <tr style=\"text-align: right;\">\n",
       "      <th></th>\n",
       "      <th>Id</th>\n",
       "      <th>ActivityDate</th>\n",
       "      <th>TotalSteps</th>\n",
       "      <th>TotalDistance</th>\n",
       "      <th>TrackerDistance</th>\n",
       "      <th>LoggedActivitiesDistance</th>\n",
       "      <th>VeryActiveDistance</th>\n",
       "      <th>ModeratelyActiveDistance</th>\n",
       "      <th>LightActiveDistance</th>\n",
       "      <th>SedentaryActiveDistance</th>\n",
       "      <th>VeryActiveMinutes</th>\n",
       "      <th>FairlyActiveMinutes</th>\n",
       "      <th>LightlyActiveMinutes</th>\n",
       "      <th>SedentaryMinutes</th>\n",
       "      <th>Calories</th>\n",
       "    </tr>\n",
       "  </thead>\n",
       "  <tbody>\n",
       "    <tr>\n",
       "      <th>0</th>\n",
       "      <td>1503960366</td>\n",
       "      <td>4/12/2016</td>\n",
       "      <td>13162</td>\n",
       "      <td>8.50</td>\n",
       "      <td>8.50</td>\n",
       "      <td>0.0</td>\n",
       "      <td>1.88</td>\n",
       "      <td>0.55</td>\n",
       "      <td>6.06</td>\n",
       "      <td>0.0</td>\n",
       "      <td>25</td>\n",
       "      <td>13</td>\n",
       "      <td>328</td>\n",
       "      <td>728</td>\n",
       "      <td>1985</td>\n",
       "    </tr>\n",
       "    <tr>\n",
       "      <th>1</th>\n",
       "      <td>1503960366</td>\n",
       "      <td>4/13/2016</td>\n",
       "      <td>10735</td>\n",
       "      <td>6.97</td>\n",
       "      <td>6.97</td>\n",
       "      <td>0.0</td>\n",
       "      <td>1.57</td>\n",
       "      <td>0.69</td>\n",
       "      <td>4.71</td>\n",
       "      <td>0.0</td>\n",
       "      <td>21</td>\n",
       "      <td>19</td>\n",
       "      <td>217</td>\n",
       "      <td>776</td>\n",
       "      <td>1797</td>\n",
       "    </tr>\n",
       "    <tr>\n",
       "      <th>2</th>\n",
       "      <td>1503960366</td>\n",
       "      <td>4/14/2016</td>\n",
       "      <td>10460</td>\n",
       "      <td>6.74</td>\n",
       "      <td>6.74</td>\n",
       "      <td>0.0</td>\n",
       "      <td>2.44</td>\n",
       "      <td>0.40</td>\n",
       "      <td>3.91</td>\n",
       "      <td>0.0</td>\n",
       "      <td>30</td>\n",
       "      <td>11</td>\n",
       "      <td>181</td>\n",
       "      <td>1218</td>\n",
       "      <td>1776</td>\n",
       "    </tr>\n",
       "    <tr>\n",
       "      <th>3</th>\n",
       "      <td>1503960366</td>\n",
       "      <td>4/15/2016</td>\n",
       "      <td>9762</td>\n",
       "      <td>6.28</td>\n",
       "      <td>6.28</td>\n",
       "      <td>0.0</td>\n",
       "      <td>2.14</td>\n",
       "      <td>1.26</td>\n",
       "      <td>2.83</td>\n",
       "      <td>0.0</td>\n",
       "      <td>29</td>\n",
       "      <td>34</td>\n",
       "      <td>209</td>\n",
       "      <td>726</td>\n",
       "      <td>1745</td>\n",
       "    </tr>\n",
       "    <tr>\n",
       "      <th>4</th>\n",
       "      <td>1503960366</td>\n",
       "      <td>4/16/2016</td>\n",
       "      <td>12669</td>\n",
       "      <td>8.16</td>\n",
       "      <td>8.16</td>\n",
       "      <td>0.0</td>\n",
       "      <td>2.71</td>\n",
       "      <td>0.41</td>\n",
       "      <td>5.04</td>\n",
       "      <td>0.0</td>\n",
       "      <td>36</td>\n",
       "      <td>10</td>\n",
       "      <td>221</td>\n",
       "      <td>773</td>\n",
       "      <td>1863</td>\n",
       "    </tr>\n",
       "  </tbody>\n",
       "</table>\n",
       "</div>"
      ],
      "text/plain": [
       "           Id ActivityDate  TotalSteps  TotalDistance  TrackerDistance  \\\n",
       "0  1503960366    4/12/2016       13162           8.50             8.50   \n",
       "1  1503960366    4/13/2016       10735           6.97             6.97   \n",
       "2  1503960366    4/14/2016       10460           6.74             6.74   \n",
       "3  1503960366    4/15/2016        9762           6.28             6.28   \n",
       "4  1503960366    4/16/2016       12669           8.16             8.16   \n",
       "\n",
       "   LoggedActivitiesDistance  VeryActiveDistance  ModeratelyActiveDistance  \\\n",
       "0                       0.0                1.88                      0.55   \n",
       "1                       0.0                1.57                      0.69   \n",
       "2                       0.0                2.44                      0.40   \n",
       "3                       0.0                2.14                      1.26   \n",
       "4                       0.0                2.71                      0.41   \n",
       "\n",
       "   LightActiveDistance  SedentaryActiveDistance  VeryActiveMinutes  \\\n",
       "0                 6.06                      0.0                 25   \n",
       "1                 4.71                      0.0                 21   \n",
       "2                 3.91                      0.0                 30   \n",
       "3                 2.83                      0.0                 29   \n",
       "4                 5.04                      0.0                 36   \n",
       "\n",
       "   FairlyActiveMinutes  LightlyActiveMinutes  SedentaryMinutes  Calories  \n",
       "0                   13                   328               728      1985  \n",
       "1                   19                   217               776      1797  \n",
       "2                   11                   181              1218      1776  \n",
       "3                   34                   209               726      1745  \n",
       "4                   10                   221               773      1863  "
      ]
     },
     "execution_count": 2,
     "metadata": {},
     "output_type": "execute_result"
    }
   ],
   "source": [
    "dailyActivity = pd.read_csv(\"fitbit raw data/dailyActivity_merged.csv\")\n",
    "print(dailyActivity[\"Id\"].nunique())\n",
    "print(dailyActivity.info())\n",
    "dailyActivity.head()"
   ]
  },
  {
   "cell_type": "code",
   "execution_count": 3,
   "metadata": {},
   "outputs": [
    {
     "name": "stdout",
     "output_type": "stream",
     "text": [
      "<class 'pandas.core.frame.DataFrame'>\n",
      "RangeIndex: 940 entries, 0 to 939\n",
      "Data columns (total 3 columns):\n",
      " #   Column       Non-Null Count  Dtype \n",
      "---  ------       --------------  ----- \n",
      " 0   Id           940 non-null    int64 \n",
      " 1   ActivityDay  940 non-null    object\n",
      " 2   Calories     940 non-null    int64 \n",
      "dtypes: int64(2), object(1)\n",
      "memory usage: 22.2+ KB\n"
     ]
    }
   ],
   "source": [
    "dailyCalories = pd.read_csv(\"fitbit raw data/dailyCalories_merged.csv\")\n",
    "dailyCalories.info()"
   ]
  },
  {
   "cell_type": "code",
   "execution_count": 4,
   "metadata": {},
   "outputs": [
    {
     "name": "stdout",
     "output_type": "stream",
     "text": [
      "<class 'pandas.core.frame.DataFrame'>\n",
      "RangeIndex: 940 entries, 0 to 939\n",
      "Data columns (total 10 columns):\n",
      " #   Column                    Non-Null Count  Dtype  \n",
      "---  ------                    --------------  -----  \n",
      " 0   Id                        940 non-null    int64  \n",
      " 1   ActivityDay               940 non-null    object \n",
      " 2   SedentaryMinutes          940 non-null    int64  \n",
      " 3   LightlyActiveMinutes      940 non-null    int64  \n",
      " 4   FairlyActiveMinutes       940 non-null    int64  \n",
      " 5   VeryActiveMinutes         940 non-null    int64  \n",
      " 6   SedentaryActiveDistance   940 non-null    float64\n",
      " 7   LightActiveDistance       940 non-null    float64\n",
      " 8   ModeratelyActiveDistance  940 non-null    float64\n",
      " 9   VeryActiveDistance        940 non-null    float64\n",
      "dtypes: float64(4), int64(5), object(1)\n",
      "memory usage: 73.6+ KB\n"
     ]
    }
   ],
   "source": [
    "dailyIntensities= pd.read_csv(\"fitbit raw data/dailyIntensities_merged.csv\")\n",
    "dailyIntensities.info()"
   ]
  },
  {
   "cell_type": "code",
   "execution_count": 5,
   "metadata": {},
   "outputs": [
    {
     "name": "stdout",
     "output_type": "stream",
     "text": [
      "<class 'pandas.core.frame.DataFrame'>\n",
      "RangeIndex: 940 entries, 0 to 939\n",
      "Data columns (total 3 columns):\n",
      " #   Column       Non-Null Count  Dtype \n",
      "---  ------       --------------  ----- \n",
      " 0   Id           940 non-null    int64 \n",
      " 1   ActivityDay  940 non-null    object\n",
      " 2   StepTotal    940 non-null    int64 \n",
      "dtypes: int64(2), object(1)\n",
      "memory usage: 22.2+ KB\n"
     ]
    }
   ],
   "source": [
    "dailySteps = pd.read_csv(\"fitbit raw data/dailySteps_merged.csv\")\n",
    "dailySteps.info()"
   ]
  },
  {
   "cell_type": "code",
   "execution_count": 6,
   "metadata": {},
   "outputs": [
    {
     "data": {
      "text/html": [
       "<div>\n",
       "<style scoped>\n",
       "    .dataframe tbody tr th:only-of-type {\n",
       "        vertical-align: middle;\n",
       "    }\n",
       "\n",
       "    .dataframe tbody tr th {\n",
       "        vertical-align: top;\n",
       "    }\n",
       "\n",
       "    .dataframe thead th {\n",
       "        text-align: right;\n",
       "    }\n",
       "</style>\n",
       "<table border=\"1\" class=\"dataframe\">\n",
       "  <thead>\n",
       "    <tr style=\"text-align: right;\">\n",
       "      <th></th>\n",
       "      <th>Id</th>\n",
       "      <th>Time</th>\n",
       "      <th>Value</th>\n",
       "    </tr>\n",
       "  </thead>\n",
       "  <tbody>\n",
       "    <tr>\n",
       "      <th>0</th>\n",
       "      <td>2022484408</td>\n",
       "      <td>4/12/2016 7:21:00 AM</td>\n",
       "      <td>97</td>\n",
       "    </tr>\n",
       "    <tr>\n",
       "      <th>1</th>\n",
       "      <td>2022484408</td>\n",
       "      <td>4/12/2016 7:21:05 AM</td>\n",
       "      <td>102</td>\n",
       "    </tr>\n",
       "    <tr>\n",
       "      <th>2</th>\n",
       "      <td>2022484408</td>\n",
       "      <td>4/12/2016 7:21:10 AM</td>\n",
       "      <td>105</td>\n",
       "    </tr>\n",
       "    <tr>\n",
       "      <th>3</th>\n",
       "      <td>2022484408</td>\n",
       "      <td>4/12/2016 7:21:20 AM</td>\n",
       "      <td>103</td>\n",
       "    </tr>\n",
       "    <tr>\n",
       "      <th>4</th>\n",
       "      <td>2022484408</td>\n",
       "      <td>4/12/2016 7:21:25 AM</td>\n",
       "      <td>101</td>\n",
       "    </tr>\n",
       "    <tr>\n",
       "      <th>5</th>\n",
       "      <td>2022484408</td>\n",
       "      <td>4/12/2016 7:22:05 AM</td>\n",
       "      <td>95</td>\n",
       "    </tr>\n",
       "    <tr>\n",
       "      <th>6</th>\n",
       "      <td>2022484408</td>\n",
       "      <td>4/12/2016 7:22:10 AM</td>\n",
       "      <td>91</td>\n",
       "    </tr>\n",
       "    <tr>\n",
       "      <th>7</th>\n",
       "      <td>2022484408</td>\n",
       "      <td>4/12/2016 7:22:15 AM</td>\n",
       "      <td>93</td>\n",
       "    </tr>\n",
       "    <tr>\n",
       "      <th>8</th>\n",
       "      <td>2022484408</td>\n",
       "      <td>4/12/2016 7:22:20 AM</td>\n",
       "      <td>94</td>\n",
       "    </tr>\n",
       "    <tr>\n",
       "      <th>9</th>\n",
       "      <td>2022484408</td>\n",
       "      <td>4/12/2016 7:22:25 AM</td>\n",
       "      <td>93</td>\n",
       "    </tr>\n",
       "    <tr>\n",
       "      <th>10</th>\n",
       "      <td>2022484408</td>\n",
       "      <td>4/12/2016 7:22:35 AM</td>\n",
       "      <td>92</td>\n",
       "    </tr>\n",
       "    <tr>\n",
       "      <th>11</th>\n",
       "      <td>2022484408</td>\n",
       "      <td>4/12/2016 7:22:40 AM</td>\n",
       "      <td>89</td>\n",
       "    </tr>\n",
       "    <tr>\n",
       "      <th>12</th>\n",
       "      <td>2022484408</td>\n",
       "      <td>4/12/2016 7:22:50 AM</td>\n",
       "      <td>83</td>\n",
       "    </tr>\n",
       "    <tr>\n",
       "      <th>13</th>\n",
       "      <td>2022484408</td>\n",
       "      <td>4/12/2016 7:22:55 AM</td>\n",
       "      <td>61</td>\n",
       "    </tr>\n",
       "    <tr>\n",
       "      <th>14</th>\n",
       "      <td>2022484408</td>\n",
       "      <td>4/12/2016 7:23:00 AM</td>\n",
       "      <td>60</td>\n",
       "    </tr>\n",
       "    <tr>\n",
       "      <th>15</th>\n",
       "      <td>2022484408</td>\n",
       "      <td>4/12/2016 7:23:10 AM</td>\n",
       "      <td>61</td>\n",
       "    </tr>\n",
       "    <tr>\n",
       "      <th>16</th>\n",
       "      <td>2022484408</td>\n",
       "      <td>4/12/2016 7:23:25 AM</td>\n",
       "      <td>61</td>\n",
       "    </tr>\n",
       "    <tr>\n",
       "      <th>17</th>\n",
       "      <td>2022484408</td>\n",
       "      <td>4/12/2016 7:23:30 AM</td>\n",
       "      <td>57</td>\n",
       "    </tr>\n",
       "    <tr>\n",
       "      <th>18</th>\n",
       "      <td>2022484408</td>\n",
       "      <td>4/12/2016 7:23:40 AM</td>\n",
       "      <td>54</td>\n",
       "    </tr>\n",
       "    <tr>\n",
       "      <th>19</th>\n",
       "      <td>2022484408</td>\n",
       "      <td>4/12/2016 7:23:50 AM</td>\n",
       "      <td>55</td>\n",
       "    </tr>\n",
       "  </tbody>\n",
       "</table>\n",
       "</div>"
      ],
      "text/plain": [
       "            Id                  Time  Value\n",
       "0   2022484408  4/12/2016 7:21:00 AM     97\n",
       "1   2022484408  4/12/2016 7:21:05 AM    102\n",
       "2   2022484408  4/12/2016 7:21:10 AM    105\n",
       "3   2022484408  4/12/2016 7:21:20 AM    103\n",
       "4   2022484408  4/12/2016 7:21:25 AM    101\n",
       "5   2022484408  4/12/2016 7:22:05 AM     95\n",
       "6   2022484408  4/12/2016 7:22:10 AM     91\n",
       "7   2022484408  4/12/2016 7:22:15 AM     93\n",
       "8   2022484408  4/12/2016 7:22:20 AM     94\n",
       "9   2022484408  4/12/2016 7:22:25 AM     93\n",
       "10  2022484408  4/12/2016 7:22:35 AM     92\n",
       "11  2022484408  4/12/2016 7:22:40 AM     89\n",
       "12  2022484408  4/12/2016 7:22:50 AM     83\n",
       "13  2022484408  4/12/2016 7:22:55 AM     61\n",
       "14  2022484408  4/12/2016 7:23:00 AM     60\n",
       "15  2022484408  4/12/2016 7:23:10 AM     61\n",
       "16  2022484408  4/12/2016 7:23:25 AM     61\n",
       "17  2022484408  4/12/2016 7:23:30 AM     57\n",
       "18  2022484408  4/12/2016 7:23:40 AM     54\n",
       "19  2022484408  4/12/2016 7:23:50 AM     55"
      ]
     },
     "execution_count": 6,
     "metadata": {},
     "output_type": "execute_result"
    }
   ],
   "source": [
    "heartrate_seconds = pd.read_csv(\"fitbit raw data/heartrate_seconds_merged.csv\")\n",
    "heartrate_seconds.head(20)\n",
    "#heart rates measured in intervals of 5 seconds"
   ]
  },
  {
   "cell_type": "code",
   "execution_count": 7,
   "metadata": {},
   "outputs": [
    {
     "name": "stdout",
     "output_type": "stream",
     "text": [
      "<class 'pandas.core.frame.DataFrame'>\n",
      "RangeIndex: 22099 entries, 0 to 22098\n",
      "Data columns (total 3 columns):\n",
      " #   Column        Non-Null Count  Dtype \n",
      "---  ------        --------------  ----- \n",
      " 0   Id            22099 non-null  int64 \n",
      " 1   ActivityHour  22099 non-null  object\n",
      " 2   Calories      22099 non-null  int64 \n",
      "dtypes: int64(2), object(1)\n",
      "memory usage: 518.1+ KB\n"
     ]
    }
   ],
   "source": [
    "hourlyCalories = pd.read_csv(\"fitbit raw data/hourlyCalories_merged.csv\")\n",
    "hourlyCalories.info()\n",
    "#calories burned recorded in intervals of 1 hour"
   ]
  },
  {
   "cell_type": "code",
   "execution_count": 8,
   "metadata": {},
   "outputs": [
    {
     "name": "stdout",
     "output_type": "stream",
     "text": [
      "<class 'pandas.core.frame.DataFrame'>\n",
      "RangeIndex: 22099 entries, 0 to 22098\n",
      "Data columns (total 4 columns):\n",
      " #   Column            Non-Null Count  Dtype  \n",
      "---  ------            --------------  -----  \n",
      " 0   Id                22099 non-null  int64  \n",
      " 1   ActivityHour      22099 non-null  object \n",
      " 2   TotalIntensity    22099 non-null  int64  \n",
      " 3   AverageIntensity  22099 non-null  float64\n",
      "dtypes: float64(1), int64(2), object(1)\n",
      "memory usage: 690.7+ KB\n"
     ]
    }
   ],
   "source": [
    "hourlyIntensities = pd.read_csv(\"fitbit raw data/hourlyIntensities_merged.csv\")\n",
    "hourlyIntensities.info()\n",
    "#intensity recorded in intervals of 1 hour\n",
    "#no unit for intensity"
   ]
  },
  {
   "cell_type": "code",
   "execution_count": 9,
   "metadata": {},
   "outputs": [
    {
     "name": "stdout",
     "output_type": "stream",
     "text": [
      "<class 'pandas.core.frame.DataFrame'>\n",
      "RangeIndex: 22099 entries, 0 to 22098\n",
      "Data columns (total 3 columns):\n",
      " #   Column        Non-Null Count  Dtype \n",
      "---  ------        --------------  ----- \n",
      " 0   Id            22099 non-null  int64 \n",
      " 1   ActivityHour  22099 non-null  object\n",
      " 2   StepTotal     22099 non-null  int64 \n",
      "dtypes: int64(2), object(1)\n",
      "memory usage: 518.1+ KB\n"
     ]
    }
   ],
   "source": [
    "hourlySteps = pd.read_csv(\"fitbit raw data/hourlySteps_merged.csv\")\n",
    "hourlySteps.info()\n",
    "#number of steps recorded in intervals of 1 hour"
   ]
  },
  {
   "cell_type": "code",
   "execution_count": 10,
   "metadata": {},
   "outputs": [
    {
     "data": {
      "text/html": [
       "<div>\n",
       "<style scoped>\n",
       "    .dataframe tbody tr th:only-of-type {\n",
       "        vertical-align: middle;\n",
       "    }\n",
       "\n",
       "    .dataframe tbody tr th {\n",
       "        vertical-align: top;\n",
       "    }\n",
       "\n",
       "    .dataframe thead th {\n",
       "        text-align: right;\n",
       "    }\n",
       "</style>\n",
       "<table border=\"1\" class=\"dataframe\">\n",
       "  <thead>\n",
       "    <tr style=\"text-align: right;\">\n",
       "      <th></th>\n",
       "      <th>Id</th>\n",
       "      <th>ActivityMinute</th>\n",
       "      <th>Calories</th>\n",
       "    </tr>\n",
       "  </thead>\n",
       "  <tbody>\n",
       "    <tr>\n",
       "      <th>0</th>\n",
       "      <td>1503960366</td>\n",
       "      <td>4/12/2016 12:00:00 AM</td>\n",
       "      <td>0.7865</td>\n",
       "    </tr>\n",
       "    <tr>\n",
       "      <th>1</th>\n",
       "      <td>1503960366</td>\n",
       "      <td>4/12/2016 12:01:00 AM</td>\n",
       "      <td>0.7865</td>\n",
       "    </tr>\n",
       "    <tr>\n",
       "      <th>2</th>\n",
       "      <td>1503960366</td>\n",
       "      <td>4/12/2016 12:02:00 AM</td>\n",
       "      <td>0.7865</td>\n",
       "    </tr>\n",
       "    <tr>\n",
       "      <th>3</th>\n",
       "      <td>1503960366</td>\n",
       "      <td>4/12/2016 12:03:00 AM</td>\n",
       "      <td>0.7865</td>\n",
       "    </tr>\n",
       "    <tr>\n",
       "      <th>4</th>\n",
       "      <td>1503960366</td>\n",
       "      <td>4/12/2016 12:04:00 AM</td>\n",
       "      <td>0.7865</td>\n",
       "    </tr>\n",
       "    <tr>\n",
       "      <th>5</th>\n",
       "      <td>1503960366</td>\n",
       "      <td>4/12/2016 12:05:00 AM</td>\n",
       "      <td>0.9438</td>\n",
       "    </tr>\n",
       "    <tr>\n",
       "      <th>6</th>\n",
       "      <td>1503960366</td>\n",
       "      <td>4/12/2016 12:06:00 AM</td>\n",
       "      <td>0.9438</td>\n",
       "    </tr>\n",
       "    <tr>\n",
       "      <th>7</th>\n",
       "      <td>1503960366</td>\n",
       "      <td>4/12/2016 12:07:00 AM</td>\n",
       "      <td>0.9438</td>\n",
       "    </tr>\n",
       "    <tr>\n",
       "      <th>8</th>\n",
       "      <td>1503960366</td>\n",
       "      <td>4/12/2016 12:08:00 AM</td>\n",
       "      <td>0.9438</td>\n",
       "    </tr>\n",
       "    <tr>\n",
       "      <th>9</th>\n",
       "      <td>1503960366</td>\n",
       "      <td>4/12/2016 12:09:00 AM</td>\n",
       "      <td>0.9438</td>\n",
       "    </tr>\n",
       "    <tr>\n",
       "      <th>10</th>\n",
       "      <td>1503960366</td>\n",
       "      <td>4/12/2016 12:10:00 AM</td>\n",
       "      <td>0.9438</td>\n",
       "    </tr>\n",
       "    <tr>\n",
       "      <th>11</th>\n",
       "      <td>1503960366</td>\n",
       "      <td>4/12/2016 12:11:00 AM</td>\n",
       "      <td>0.9438</td>\n",
       "    </tr>\n",
       "    <tr>\n",
       "      <th>12</th>\n",
       "      <td>1503960366</td>\n",
       "      <td>4/12/2016 12:12:00 AM</td>\n",
       "      <td>0.7865</td>\n",
       "    </tr>\n",
       "    <tr>\n",
       "      <th>13</th>\n",
       "      <td>1503960366</td>\n",
       "      <td>4/12/2016 12:13:00 AM</td>\n",
       "      <td>0.7865</td>\n",
       "    </tr>\n",
       "    <tr>\n",
       "      <th>14</th>\n",
       "      <td>1503960366</td>\n",
       "      <td>4/12/2016 12:14:00 AM</td>\n",
       "      <td>0.9438</td>\n",
       "    </tr>\n",
       "    <tr>\n",
       "      <th>15</th>\n",
       "      <td>1503960366</td>\n",
       "      <td>4/12/2016 12:15:00 AM</td>\n",
       "      <td>0.7865</td>\n",
       "    </tr>\n",
       "    <tr>\n",
       "      <th>16</th>\n",
       "      <td>1503960366</td>\n",
       "      <td>4/12/2016 12:16:00 AM</td>\n",
       "      <td>0.9438</td>\n",
       "    </tr>\n",
       "    <tr>\n",
       "      <th>17</th>\n",
       "      <td>1503960366</td>\n",
       "      <td>4/12/2016 12:17:00 AM</td>\n",
       "      <td>0.7865</td>\n",
       "    </tr>\n",
       "    <tr>\n",
       "      <th>18</th>\n",
       "      <td>1503960366</td>\n",
       "      <td>4/12/2016 12:18:00 AM</td>\n",
       "      <td>0.7865</td>\n",
       "    </tr>\n",
       "    <tr>\n",
       "      <th>19</th>\n",
       "      <td>1503960366</td>\n",
       "      <td>4/12/2016 12:19:00 AM</td>\n",
       "      <td>0.7865</td>\n",
       "    </tr>\n",
       "  </tbody>\n",
       "</table>\n",
       "</div>"
      ],
      "text/plain": [
       "            Id         ActivityMinute  Calories\n",
       "0   1503960366  4/12/2016 12:00:00 AM    0.7865\n",
       "1   1503960366  4/12/2016 12:01:00 AM    0.7865\n",
       "2   1503960366  4/12/2016 12:02:00 AM    0.7865\n",
       "3   1503960366  4/12/2016 12:03:00 AM    0.7865\n",
       "4   1503960366  4/12/2016 12:04:00 AM    0.7865\n",
       "5   1503960366  4/12/2016 12:05:00 AM    0.9438\n",
       "6   1503960366  4/12/2016 12:06:00 AM    0.9438\n",
       "7   1503960366  4/12/2016 12:07:00 AM    0.9438\n",
       "8   1503960366  4/12/2016 12:08:00 AM    0.9438\n",
       "9   1503960366  4/12/2016 12:09:00 AM    0.9438\n",
       "10  1503960366  4/12/2016 12:10:00 AM    0.9438\n",
       "11  1503960366  4/12/2016 12:11:00 AM    0.9438\n",
       "12  1503960366  4/12/2016 12:12:00 AM    0.7865\n",
       "13  1503960366  4/12/2016 12:13:00 AM    0.7865\n",
       "14  1503960366  4/12/2016 12:14:00 AM    0.9438\n",
       "15  1503960366  4/12/2016 12:15:00 AM    0.7865\n",
       "16  1503960366  4/12/2016 12:16:00 AM    0.9438\n",
       "17  1503960366  4/12/2016 12:17:00 AM    0.7865\n",
       "18  1503960366  4/12/2016 12:18:00 AM    0.7865\n",
       "19  1503960366  4/12/2016 12:19:00 AM    0.7865"
      ]
     },
     "execution_count": 10,
     "metadata": {},
     "output_type": "execute_result"
    }
   ],
   "source": [
    "minuteCaloriesNarrow = pd.read_csv(\"fitbit raw data/minuteCaloriesNarrow_merged.csv\")\n",
    "minuteCaloriesNarrow.head(20)\n",
    "#lack of documentation"
   ]
  },
  {
   "cell_type": "code",
   "execution_count": 11,
   "metadata": {},
   "outputs": [
    {
     "data": {
      "text/html": [
       "<div>\n",
       "<style scoped>\n",
       "    .dataframe tbody tr th:only-of-type {\n",
       "        vertical-align: middle;\n",
       "    }\n",
       "\n",
       "    .dataframe tbody tr th {\n",
       "        vertical-align: top;\n",
       "    }\n",
       "\n",
       "    .dataframe thead th {\n",
       "        text-align: right;\n",
       "    }\n",
       "</style>\n",
       "<table border=\"1\" class=\"dataframe\">\n",
       "  <thead>\n",
       "    <tr style=\"text-align: right;\">\n",
       "      <th></th>\n",
       "      <th>Id</th>\n",
       "      <th>ActivityHour</th>\n",
       "      <th>Calories00</th>\n",
       "      <th>Calories01</th>\n",
       "      <th>Calories02</th>\n",
       "      <th>Calories03</th>\n",
       "      <th>Calories04</th>\n",
       "      <th>Calories05</th>\n",
       "      <th>Calories06</th>\n",
       "      <th>Calories07</th>\n",
       "      <th>...</th>\n",
       "      <th>Calories50</th>\n",
       "      <th>Calories51</th>\n",
       "      <th>Calories52</th>\n",
       "      <th>Calories53</th>\n",
       "      <th>Calories54</th>\n",
       "      <th>Calories55</th>\n",
       "      <th>Calories56</th>\n",
       "      <th>Calories57</th>\n",
       "      <th>Calories58</th>\n",
       "      <th>Calories59</th>\n",
       "    </tr>\n",
       "  </thead>\n",
       "  <tbody>\n",
       "    <tr>\n",
       "      <th>0</th>\n",
       "      <td>1503960366</td>\n",
       "      <td>4/13/2016 12:00:00 AM</td>\n",
       "      <td>1.8876</td>\n",
       "      <td>2.2022</td>\n",
       "      <td>0.9438</td>\n",
       "      <td>0.9438</td>\n",
       "      <td>0.9438</td>\n",
       "      <td>2.0449</td>\n",
       "      <td>0.9438</td>\n",
       "      <td>2.2022</td>\n",
       "      <td>...</td>\n",
       "      <td>0.9438</td>\n",
       "      <td>2.0449</td>\n",
       "      <td>2.0449</td>\n",
       "      <td>0.9438</td>\n",
       "      <td>2.3595</td>\n",
       "      <td>1.8876</td>\n",
       "      <td>0.9438</td>\n",
       "      <td>0.9438</td>\n",
       "      <td>0.9438</td>\n",
       "      <td>0.9438</td>\n",
       "    </tr>\n",
       "    <tr>\n",
       "      <th>1</th>\n",
       "      <td>1503960366</td>\n",
       "      <td>4/13/2016 1:00:00 AM</td>\n",
       "      <td>0.7865</td>\n",
       "      <td>0.7865</td>\n",
       "      <td>0.7865</td>\n",
       "      <td>0.7865</td>\n",
       "      <td>0.9438</td>\n",
       "      <td>0.9438</td>\n",
       "      <td>0.9438</td>\n",
       "      <td>0.7865</td>\n",
       "      <td>...</td>\n",
       "      <td>0.7865</td>\n",
       "      <td>0.7865</td>\n",
       "      <td>0.7865</td>\n",
       "      <td>0.7865</td>\n",
       "      <td>0.7865</td>\n",
       "      <td>0.7865</td>\n",
       "      <td>0.7865</td>\n",
       "      <td>0.7865</td>\n",
       "      <td>0.7865</td>\n",
       "      <td>0.7865</td>\n",
       "    </tr>\n",
       "    <tr>\n",
       "      <th>2</th>\n",
       "      <td>1503960366</td>\n",
       "      <td>4/13/2016 2:00:00 AM</td>\n",
       "      <td>0.7865</td>\n",
       "      <td>0.7865</td>\n",
       "      <td>0.7865</td>\n",
       "      <td>0.7865</td>\n",
       "      <td>0.7865</td>\n",
       "      <td>0.7865</td>\n",
       "      <td>0.7865</td>\n",
       "      <td>0.7865</td>\n",
       "      <td>...</td>\n",
       "      <td>0.7865</td>\n",
       "      <td>0.7865</td>\n",
       "      <td>0.7865</td>\n",
       "      <td>0.7865</td>\n",
       "      <td>0.7865</td>\n",
       "      <td>0.7865</td>\n",
       "      <td>0.7865</td>\n",
       "      <td>0.7865</td>\n",
       "      <td>0.7865</td>\n",
       "      <td>0.7865</td>\n",
       "    </tr>\n",
       "    <tr>\n",
       "      <th>3</th>\n",
       "      <td>1503960366</td>\n",
       "      <td>4/13/2016 3:00:00 AM</td>\n",
       "      <td>0.7865</td>\n",
       "      <td>0.7865</td>\n",
       "      <td>0.7865</td>\n",
       "      <td>0.7865</td>\n",
       "      <td>0.7865</td>\n",
       "      <td>0.7865</td>\n",
       "      <td>0.7865</td>\n",
       "      <td>0.7865</td>\n",
       "      <td>...</td>\n",
       "      <td>0.7865</td>\n",
       "      <td>0.7865</td>\n",
       "      <td>0.7865</td>\n",
       "      <td>0.7865</td>\n",
       "      <td>0.7865</td>\n",
       "      <td>0.7865</td>\n",
       "      <td>0.7865</td>\n",
       "      <td>0.7865</td>\n",
       "      <td>0.7865</td>\n",
       "      <td>0.7865</td>\n",
       "    </tr>\n",
       "    <tr>\n",
       "      <th>4</th>\n",
       "      <td>1503960366</td>\n",
       "      <td>4/13/2016 4:00:00 AM</td>\n",
       "      <td>0.7865</td>\n",
       "      <td>0.7865</td>\n",
       "      <td>0.7865</td>\n",
       "      <td>0.7865</td>\n",
       "      <td>0.7865</td>\n",
       "      <td>0.7865</td>\n",
       "      <td>0.7865</td>\n",
       "      <td>0.7865</td>\n",
       "      <td>...</td>\n",
       "      <td>0.7865</td>\n",
       "      <td>0.7865</td>\n",
       "      <td>0.7865</td>\n",
       "      <td>0.7865</td>\n",
       "      <td>0.7865</td>\n",
       "      <td>0.7865</td>\n",
       "      <td>0.7865</td>\n",
       "      <td>0.7865</td>\n",
       "      <td>0.7865</td>\n",
       "      <td>0.7865</td>\n",
       "    </tr>\n",
       "  </tbody>\n",
       "</table>\n",
       "<p>5 rows × 62 columns</p>\n",
       "</div>"
      ],
      "text/plain": [
       "           Id           ActivityHour  Calories00  Calories01  Calories02  \\\n",
       "0  1503960366  4/13/2016 12:00:00 AM      1.8876      2.2022      0.9438   \n",
       "1  1503960366   4/13/2016 1:00:00 AM      0.7865      0.7865      0.7865   \n",
       "2  1503960366   4/13/2016 2:00:00 AM      0.7865      0.7865      0.7865   \n",
       "3  1503960366   4/13/2016 3:00:00 AM      0.7865      0.7865      0.7865   \n",
       "4  1503960366   4/13/2016 4:00:00 AM      0.7865      0.7865      0.7865   \n",
       "\n",
       "   Calories03  Calories04  Calories05  Calories06  Calories07  ...  \\\n",
       "0      0.9438      0.9438      2.0449      0.9438      2.2022  ...   \n",
       "1      0.7865      0.9438      0.9438      0.9438      0.7865  ...   \n",
       "2      0.7865      0.7865      0.7865      0.7865      0.7865  ...   \n",
       "3      0.7865      0.7865      0.7865      0.7865      0.7865  ...   \n",
       "4      0.7865      0.7865      0.7865      0.7865      0.7865  ...   \n",
       "\n",
       "   Calories50  Calories51  Calories52  Calories53  Calories54  Calories55  \\\n",
       "0      0.9438      2.0449      2.0449      0.9438      2.3595      1.8876   \n",
       "1      0.7865      0.7865      0.7865      0.7865      0.7865      0.7865   \n",
       "2      0.7865      0.7865      0.7865      0.7865      0.7865      0.7865   \n",
       "3      0.7865      0.7865      0.7865      0.7865      0.7865      0.7865   \n",
       "4      0.7865      0.7865      0.7865      0.7865      0.7865      0.7865   \n",
       "\n",
       "   Calories56  Calories57  Calories58  Calories59  \n",
       "0      0.9438      0.9438      0.9438      0.9438  \n",
       "1      0.7865      0.7865      0.7865      0.7865  \n",
       "2      0.7865      0.7865      0.7865      0.7865  \n",
       "3      0.7865      0.7865      0.7865      0.7865  \n",
       "4      0.7865      0.7865      0.7865      0.7865  \n",
       "\n",
       "[5 rows x 62 columns]"
      ]
     },
     "execution_count": 11,
     "metadata": {},
     "output_type": "execute_result"
    }
   ],
   "source": [
    "minuteCaloriesWide = pd.read_csv(\"fitbit raw data/minuteCaloriesWide_merged.csv\")\n",
    "minuteCaloriesWide.head()\n",
    "#lack of documentation"
   ]
  },
  {
   "cell_type": "code",
   "execution_count": 12,
   "metadata": {},
   "outputs": [
    {
     "data": {
      "text/plain": [
       "0    1112102\n",
       "1     180891\n",
       "3      19838\n",
       "2      12749\n",
       "Name: Intensity, dtype: int64"
      ]
     },
     "execution_count": 12,
     "metadata": {},
     "output_type": "execute_result"
    }
   ],
   "source": [
    "minuteIntensitiesNarrow = pd.read_csv(\"fitbit raw data/minuteIntensitiesNarrow_merged.csv\")\n",
    "minuteIntensitiesNarrow[\"Intensity\"].value_counts()\n",
    "#lack of documentation"
   ]
  },
  {
   "cell_type": "code",
   "execution_count": 13,
   "metadata": {},
   "outputs": [
    {
     "data": {
      "text/html": [
       "<div>\n",
       "<style scoped>\n",
       "    .dataframe tbody tr th:only-of-type {\n",
       "        vertical-align: middle;\n",
       "    }\n",
       "\n",
       "    .dataframe tbody tr th {\n",
       "        vertical-align: top;\n",
       "    }\n",
       "\n",
       "    .dataframe thead th {\n",
       "        text-align: right;\n",
       "    }\n",
       "</style>\n",
       "<table border=\"1\" class=\"dataframe\">\n",
       "  <thead>\n",
       "    <tr style=\"text-align: right;\">\n",
       "      <th></th>\n",
       "      <th>Id</th>\n",
       "      <th>ActivityHour</th>\n",
       "      <th>Intensity00</th>\n",
       "      <th>Intensity01</th>\n",
       "      <th>Intensity02</th>\n",
       "      <th>Intensity03</th>\n",
       "      <th>Intensity04</th>\n",
       "      <th>Intensity05</th>\n",
       "      <th>Intensity06</th>\n",
       "      <th>Intensity07</th>\n",
       "      <th>...</th>\n",
       "      <th>Intensity50</th>\n",
       "      <th>Intensity51</th>\n",
       "      <th>Intensity52</th>\n",
       "      <th>Intensity53</th>\n",
       "      <th>Intensity54</th>\n",
       "      <th>Intensity55</th>\n",
       "      <th>Intensity56</th>\n",
       "      <th>Intensity57</th>\n",
       "      <th>Intensity58</th>\n",
       "      <th>Intensity59</th>\n",
       "    </tr>\n",
       "  </thead>\n",
       "  <tbody>\n",
       "    <tr>\n",
       "      <th>0</th>\n",
       "      <td>1503960366</td>\n",
       "      <td>4/13/2016 12:00:00 AM</td>\n",
       "      <td>1</td>\n",
       "      <td>1</td>\n",
       "      <td>0</td>\n",
       "      <td>0</td>\n",
       "      <td>0</td>\n",
       "      <td>1</td>\n",
       "      <td>0</td>\n",
       "      <td>1</td>\n",
       "      <td>...</td>\n",
       "      <td>0</td>\n",
       "      <td>1</td>\n",
       "      <td>1</td>\n",
       "      <td>0</td>\n",
       "      <td>1</td>\n",
       "      <td>1</td>\n",
       "      <td>0</td>\n",
       "      <td>0</td>\n",
       "      <td>0</td>\n",
       "      <td>0</td>\n",
       "    </tr>\n",
       "    <tr>\n",
       "      <th>1</th>\n",
       "      <td>1503960366</td>\n",
       "      <td>4/13/2016 1:00:00 AM</td>\n",
       "      <td>0</td>\n",
       "      <td>0</td>\n",
       "      <td>0</td>\n",
       "      <td>0</td>\n",
       "      <td>0</td>\n",
       "      <td>0</td>\n",
       "      <td>0</td>\n",
       "      <td>0</td>\n",
       "      <td>...</td>\n",
       "      <td>0</td>\n",
       "      <td>0</td>\n",
       "      <td>0</td>\n",
       "      <td>0</td>\n",
       "      <td>0</td>\n",
       "      <td>0</td>\n",
       "      <td>0</td>\n",
       "      <td>0</td>\n",
       "      <td>0</td>\n",
       "      <td>0</td>\n",
       "    </tr>\n",
       "    <tr>\n",
       "      <th>2</th>\n",
       "      <td>1503960366</td>\n",
       "      <td>4/13/2016 2:00:00 AM</td>\n",
       "      <td>0</td>\n",
       "      <td>0</td>\n",
       "      <td>0</td>\n",
       "      <td>0</td>\n",
       "      <td>0</td>\n",
       "      <td>0</td>\n",
       "      <td>0</td>\n",
       "      <td>0</td>\n",
       "      <td>...</td>\n",
       "      <td>0</td>\n",
       "      <td>0</td>\n",
       "      <td>0</td>\n",
       "      <td>0</td>\n",
       "      <td>0</td>\n",
       "      <td>0</td>\n",
       "      <td>0</td>\n",
       "      <td>0</td>\n",
       "      <td>0</td>\n",
       "      <td>0</td>\n",
       "    </tr>\n",
       "    <tr>\n",
       "      <th>3</th>\n",
       "      <td>1503960366</td>\n",
       "      <td>4/13/2016 3:00:00 AM</td>\n",
       "      <td>0</td>\n",
       "      <td>0</td>\n",
       "      <td>0</td>\n",
       "      <td>0</td>\n",
       "      <td>0</td>\n",
       "      <td>0</td>\n",
       "      <td>0</td>\n",
       "      <td>0</td>\n",
       "      <td>...</td>\n",
       "      <td>0</td>\n",
       "      <td>0</td>\n",
       "      <td>0</td>\n",
       "      <td>0</td>\n",
       "      <td>0</td>\n",
       "      <td>0</td>\n",
       "      <td>0</td>\n",
       "      <td>0</td>\n",
       "      <td>0</td>\n",
       "      <td>0</td>\n",
       "    </tr>\n",
       "    <tr>\n",
       "      <th>4</th>\n",
       "      <td>1503960366</td>\n",
       "      <td>4/13/2016 4:00:00 AM</td>\n",
       "      <td>0</td>\n",
       "      <td>0</td>\n",
       "      <td>0</td>\n",
       "      <td>0</td>\n",
       "      <td>0</td>\n",
       "      <td>0</td>\n",
       "      <td>0</td>\n",
       "      <td>0</td>\n",
       "      <td>...</td>\n",
       "      <td>0</td>\n",
       "      <td>0</td>\n",
       "      <td>0</td>\n",
       "      <td>0</td>\n",
       "      <td>0</td>\n",
       "      <td>0</td>\n",
       "      <td>0</td>\n",
       "      <td>0</td>\n",
       "      <td>0</td>\n",
       "      <td>0</td>\n",
       "    </tr>\n",
       "  </tbody>\n",
       "</table>\n",
       "<p>5 rows × 62 columns</p>\n",
       "</div>"
      ],
      "text/plain": [
       "           Id           ActivityHour  Intensity00  Intensity01  Intensity02  \\\n",
       "0  1503960366  4/13/2016 12:00:00 AM            1            1            0   \n",
       "1  1503960366   4/13/2016 1:00:00 AM            0            0            0   \n",
       "2  1503960366   4/13/2016 2:00:00 AM            0            0            0   \n",
       "3  1503960366   4/13/2016 3:00:00 AM            0            0            0   \n",
       "4  1503960366   4/13/2016 4:00:00 AM            0            0            0   \n",
       "\n",
       "   Intensity03  Intensity04  Intensity05  Intensity06  Intensity07  ...  \\\n",
       "0            0            0            1            0            1  ...   \n",
       "1            0            0            0            0            0  ...   \n",
       "2            0            0            0            0            0  ...   \n",
       "3            0            0            0            0            0  ...   \n",
       "4            0            0            0            0            0  ...   \n",
       "\n",
       "   Intensity50  Intensity51  Intensity52  Intensity53  Intensity54  \\\n",
       "0            0            1            1            0            1   \n",
       "1            0            0            0            0            0   \n",
       "2            0            0            0            0            0   \n",
       "3            0            0            0            0            0   \n",
       "4            0            0            0            0            0   \n",
       "\n",
       "   Intensity55  Intensity56  Intensity57  Intensity58  Intensity59  \n",
       "0            1            0            0            0            0  \n",
       "1            0            0            0            0            0  \n",
       "2            0            0            0            0            0  \n",
       "3            0            0            0            0            0  \n",
       "4            0            0            0            0            0  \n",
       "\n",
       "[5 rows x 62 columns]"
      ]
     },
     "execution_count": 13,
     "metadata": {},
     "output_type": "execute_result"
    }
   ],
   "source": [
    "minuteIntensitiesWide = pd.read_csv(\"fitbit raw data/minuteIntensitiesWide_merged.csv\")\n",
    "minuteIntensitiesWide.head()\n",
    "#lack of documentation"
   ]
  },
  {
   "cell_type": "code",
   "execution_count": 14,
   "metadata": {},
   "outputs": [
    {
     "data": {
      "text/html": [
       "<div>\n",
       "<style scoped>\n",
       "    .dataframe tbody tr th:only-of-type {\n",
       "        vertical-align: middle;\n",
       "    }\n",
       "\n",
       "    .dataframe tbody tr th {\n",
       "        vertical-align: top;\n",
       "    }\n",
       "\n",
       "    .dataframe thead th {\n",
       "        text-align: right;\n",
       "    }\n",
       "</style>\n",
       "<table border=\"1\" class=\"dataframe\">\n",
       "  <thead>\n",
       "    <tr style=\"text-align: right;\">\n",
       "      <th></th>\n",
       "      <th>Id</th>\n",
       "      <th>ActivityMinute</th>\n",
       "      <th>METs</th>\n",
       "    </tr>\n",
       "  </thead>\n",
       "  <tbody>\n",
       "    <tr>\n",
       "      <th>0</th>\n",
       "      <td>1503960366</td>\n",
       "      <td>4/12/2016 12:00:00 AM</td>\n",
       "      <td>10</td>\n",
       "    </tr>\n",
       "    <tr>\n",
       "      <th>1</th>\n",
       "      <td>1503960366</td>\n",
       "      <td>4/12/2016 12:01:00 AM</td>\n",
       "      <td>10</td>\n",
       "    </tr>\n",
       "    <tr>\n",
       "      <th>2</th>\n",
       "      <td>1503960366</td>\n",
       "      <td>4/12/2016 12:02:00 AM</td>\n",
       "      <td>10</td>\n",
       "    </tr>\n",
       "    <tr>\n",
       "      <th>3</th>\n",
       "      <td>1503960366</td>\n",
       "      <td>4/12/2016 12:03:00 AM</td>\n",
       "      <td>10</td>\n",
       "    </tr>\n",
       "    <tr>\n",
       "      <th>4</th>\n",
       "      <td>1503960366</td>\n",
       "      <td>4/12/2016 12:04:00 AM</td>\n",
       "      <td>10</td>\n",
       "    </tr>\n",
       "  </tbody>\n",
       "</table>\n",
       "</div>"
      ],
      "text/plain": [
       "           Id         ActivityMinute  METs\n",
       "0  1503960366  4/12/2016 12:00:00 AM    10\n",
       "1  1503960366  4/12/2016 12:01:00 AM    10\n",
       "2  1503960366  4/12/2016 12:02:00 AM    10\n",
       "3  1503960366  4/12/2016 12:03:00 AM    10\n",
       "4  1503960366  4/12/2016 12:04:00 AM    10"
      ]
     },
     "execution_count": 14,
     "metadata": {},
     "output_type": "execute_result"
    }
   ],
   "source": [
    "minuteMETsNarrow = pd.read_csv(\"fitbit raw data/minuteMETsNarrow_merged.csv\")\n",
    "minuteMETsNarrow.head()\n",
    "#lack of documentation "
   ]
  },
  {
   "cell_type": "code",
   "execution_count": 15,
   "metadata": {},
   "outputs": [
    {
     "data": {
      "text/html": [
       "<div>\n",
       "<style scoped>\n",
       "    .dataframe tbody tr th:only-of-type {\n",
       "        vertical-align: middle;\n",
       "    }\n",
       "\n",
       "    .dataframe tbody tr th {\n",
       "        vertical-align: top;\n",
       "    }\n",
       "\n",
       "    .dataframe thead th {\n",
       "        text-align: right;\n",
       "    }\n",
       "</style>\n",
       "<table border=\"1\" class=\"dataframe\">\n",
       "  <thead>\n",
       "    <tr style=\"text-align: right;\">\n",
       "      <th></th>\n",
       "      <th>Id</th>\n",
       "      <th>date</th>\n",
       "      <th>value</th>\n",
       "      <th>logId</th>\n",
       "    </tr>\n",
       "  </thead>\n",
       "  <tbody>\n",
       "    <tr>\n",
       "      <th>0</th>\n",
       "      <td>1503960366</td>\n",
       "      <td>4/12/2016 2:47:30 AM</td>\n",
       "      <td>3</td>\n",
       "      <td>11380564589</td>\n",
       "    </tr>\n",
       "    <tr>\n",
       "      <th>1</th>\n",
       "      <td>1503960366</td>\n",
       "      <td>4/12/2016 2:48:30 AM</td>\n",
       "      <td>2</td>\n",
       "      <td>11380564589</td>\n",
       "    </tr>\n",
       "    <tr>\n",
       "      <th>2</th>\n",
       "      <td>1503960366</td>\n",
       "      <td>4/12/2016 2:49:30 AM</td>\n",
       "      <td>1</td>\n",
       "      <td>11380564589</td>\n",
       "    </tr>\n",
       "    <tr>\n",
       "      <th>3</th>\n",
       "      <td>1503960366</td>\n",
       "      <td>4/12/2016 2:50:30 AM</td>\n",
       "      <td>1</td>\n",
       "      <td>11380564589</td>\n",
       "    </tr>\n",
       "    <tr>\n",
       "      <th>4</th>\n",
       "      <td>1503960366</td>\n",
       "      <td>4/12/2016 2:51:30 AM</td>\n",
       "      <td>1</td>\n",
       "      <td>11380564589</td>\n",
       "    </tr>\n",
       "  </tbody>\n",
       "</table>\n",
       "</div>"
      ],
      "text/plain": [
       "           Id                  date  value        logId\n",
       "0  1503960366  4/12/2016 2:47:30 AM      3  11380564589\n",
       "1  1503960366  4/12/2016 2:48:30 AM      2  11380564589\n",
       "2  1503960366  4/12/2016 2:49:30 AM      1  11380564589\n",
       "3  1503960366  4/12/2016 2:50:30 AM      1  11380564589\n",
       "4  1503960366  4/12/2016 2:51:30 AM      1  11380564589"
      ]
     },
     "execution_count": 15,
     "metadata": {},
     "output_type": "execute_result"
    }
   ],
   "source": [
    "minuteSleep = pd.read_csv(\"fitbit raw data/minuteSleep_merged.csv\")\n",
    "minuteSleep.head()\n",
    "#lack of documentation"
   ]
  },
  {
   "cell_type": "code",
   "execution_count": 16,
   "metadata": {},
   "outputs": [
    {
     "data": {
      "text/html": [
       "<div>\n",
       "<style scoped>\n",
       "    .dataframe tbody tr th:only-of-type {\n",
       "        vertical-align: middle;\n",
       "    }\n",
       "\n",
       "    .dataframe tbody tr th {\n",
       "        vertical-align: top;\n",
       "    }\n",
       "\n",
       "    .dataframe thead th {\n",
       "        text-align: right;\n",
       "    }\n",
       "</style>\n",
       "<table border=\"1\" class=\"dataframe\">\n",
       "  <thead>\n",
       "    <tr style=\"text-align: right;\">\n",
       "      <th></th>\n",
       "      <th>Id</th>\n",
       "      <th>ActivityMinute</th>\n",
       "      <th>Steps</th>\n",
       "    </tr>\n",
       "  </thead>\n",
       "  <tbody>\n",
       "    <tr>\n",
       "      <th>0</th>\n",
       "      <td>1503960366</td>\n",
       "      <td>4/12/2016 12:00:00 AM</td>\n",
       "      <td>0</td>\n",
       "    </tr>\n",
       "    <tr>\n",
       "      <th>1</th>\n",
       "      <td>1503960366</td>\n",
       "      <td>4/12/2016 12:01:00 AM</td>\n",
       "      <td>0</td>\n",
       "    </tr>\n",
       "    <tr>\n",
       "      <th>2</th>\n",
       "      <td>1503960366</td>\n",
       "      <td>4/12/2016 12:02:00 AM</td>\n",
       "      <td>0</td>\n",
       "    </tr>\n",
       "    <tr>\n",
       "      <th>3</th>\n",
       "      <td>1503960366</td>\n",
       "      <td>4/12/2016 12:03:00 AM</td>\n",
       "      <td>0</td>\n",
       "    </tr>\n",
       "    <tr>\n",
       "      <th>4</th>\n",
       "      <td>1503960366</td>\n",
       "      <td>4/12/2016 12:04:00 AM</td>\n",
       "      <td>0</td>\n",
       "    </tr>\n",
       "  </tbody>\n",
       "</table>\n",
       "</div>"
      ],
      "text/plain": [
       "           Id         ActivityMinute  Steps\n",
       "0  1503960366  4/12/2016 12:00:00 AM      0\n",
       "1  1503960366  4/12/2016 12:01:00 AM      0\n",
       "2  1503960366  4/12/2016 12:02:00 AM      0\n",
       "3  1503960366  4/12/2016 12:03:00 AM      0\n",
       "4  1503960366  4/12/2016 12:04:00 AM      0"
      ]
     },
     "execution_count": 16,
     "metadata": {},
     "output_type": "execute_result"
    }
   ],
   "source": [
    "minuteStepsNarrow = pd.read_csv(\"fitbit raw data/minuteStepsNarrow_merged.csv\")\n",
    "minuteStepsNarrow.head()\n",
    "#number of steps in intervals of 1 minute"
   ]
  },
  {
   "cell_type": "code",
   "execution_count": 17,
   "metadata": {},
   "outputs": [
    {
     "data": {
      "text/html": [
       "<div>\n",
       "<style scoped>\n",
       "    .dataframe tbody tr th:only-of-type {\n",
       "        vertical-align: middle;\n",
       "    }\n",
       "\n",
       "    .dataframe tbody tr th {\n",
       "        vertical-align: top;\n",
       "    }\n",
       "\n",
       "    .dataframe thead th {\n",
       "        text-align: right;\n",
       "    }\n",
       "</style>\n",
       "<table border=\"1\" class=\"dataframe\">\n",
       "  <thead>\n",
       "    <tr style=\"text-align: right;\">\n",
       "      <th></th>\n",
       "      <th>Id</th>\n",
       "      <th>ActivityHour</th>\n",
       "      <th>Steps00</th>\n",
       "      <th>Steps01</th>\n",
       "      <th>Steps02</th>\n",
       "      <th>Steps03</th>\n",
       "      <th>Steps04</th>\n",
       "      <th>Steps05</th>\n",
       "      <th>Steps06</th>\n",
       "      <th>Steps07</th>\n",
       "      <th>...</th>\n",
       "      <th>Steps50</th>\n",
       "      <th>Steps51</th>\n",
       "      <th>Steps52</th>\n",
       "      <th>Steps53</th>\n",
       "      <th>Steps54</th>\n",
       "      <th>Steps55</th>\n",
       "      <th>Steps56</th>\n",
       "      <th>Steps57</th>\n",
       "      <th>Steps58</th>\n",
       "      <th>Steps59</th>\n",
       "    </tr>\n",
       "  </thead>\n",
       "  <tbody>\n",
       "    <tr>\n",
       "      <th>0</th>\n",
       "      <td>1503960366</td>\n",
       "      <td>4/13/2016 12:00:00 AM</td>\n",
       "      <td>4</td>\n",
       "      <td>16</td>\n",
       "      <td>0</td>\n",
       "      <td>0</td>\n",
       "      <td>0</td>\n",
       "      <td>9</td>\n",
       "      <td>0</td>\n",
       "      <td>17</td>\n",
       "      <td>...</td>\n",
       "      <td>0</td>\n",
       "      <td>9</td>\n",
       "      <td>8</td>\n",
       "      <td>0</td>\n",
       "      <td>20</td>\n",
       "      <td>1</td>\n",
       "      <td>0</td>\n",
       "      <td>0</td>\n",
       "      <td>0</td>\n",
       "      <td>0</td>\n",
       "    </tr>\n",
       "    <tr>\n",
       "      <th>1</th>\n",
       "      <td>1503960366</td>\n",
       "      <td>4/13/2016 1:00:00 AM</td>\n",
       "      <td>0</td>\n",
       "      <td>0</td>\n",
       "      <td>0</td>\n",
       "      <td>0</td>\n",
       "      <td>0</td>\n",
       "      <td>0</td>\n",
       "      <td>0</td>\n",
       "      <td>0</td>\n",
       "      <td>...</td>\n",
       "      <td>0</td>\n",
       "      <td>0</td>\n",
       "      <td>0</td>\n",
       "      <td>0</td>\n",
       "      <td>0</td>\n",
       "      <td>0</td>\n",
       "      <td>0</td>\n",
       "      <td>0</td>\n",
       "      <td>0</td>\n",
       "      <td>0</td>\n",
       "    </tr>\n",
       "    <tr>\n",
       "      <th>2</th>\n",
       "      <td>1503960366</td>\n",
       "      <td>4/13/2016 2:00:00 AM</td>\n",
       "      <td>0</td>\n",
       "      <td>0</td>\n",
       "      <td>0</td>\n",
       "      <td>0</td>\n",
       "      <td>0</td>\n",
       "      <td>0</td>\n",
       "      <td>0</td>\n",
       "      <td>0</td>\n",
       "      <td>...</td>\n",
       "      <td>0</td>\n",
       "      <td>0</td>\n",
       "      <td>0</td>\n",
       "      <td>0</td>\n",
       "      <td>0</td>\n",
       "      <td>0</td>\n",
       "      <td>0</td>\n",
       "      <td>0</td>\n",
       "      <td>0</td>\n",
       "      <td>0</td>\n",
       "    </tr>\n",
       "    <tr>\n",
       "      <th>3</th>\n",
       "      <td>1503960366</td>\n",
       "      <td>4/13/2016 3:00:00 AM</td>\n",
       "      <td>0</td>\n",
       "      <td>0</td>\n",
       "      <td>0</td>\n",
       "      <td>0</td>\n",
       "      <td>0</td>\n",
       "      <td>0</td>\n",
       "      <td>0</td>\n",
       "      <td>0</td>\n",
       "      <td>...</td>\n",
       "      <td>0</td>\n",
       "      <td>0</td>\n",
       "      <td>0</td>\n",
       "      <td>0</td>\n",
       "      <td>0</td>\n",
       "      <td>0</td>\n",
       "      <td>0</td>\n",
       "      <td>0</td>\n",
       "      <td>0</td>\n",
       "      <td>0</td>\n",
       "    </tr>\n",
       "    <tr>\n",
       "      <th>4</th>\n",
       "      <td>1503960366</td>\n",
       "      <td>4/13/2016 4:00:00 AM</td>\n",
       "      <td>0</td>\n",
       "      <td>0</td>\n",
       "      <td>0</td>\n",
       "      <td>0</td>\n",
       "      <td>0</td>\n",
       "      <td>0</td>\n",
       "      <td>0</td>\n",
       "      <td>0</td>\n",
       "      <td>...</td>\n",
       "      <td>0</td>\n",
       "      <td>0</td>\n",
       "      <td>0</td>\n",
       "      <td>0</td>\n",
       "      <td>0</td>\n",
       "      <td>0</td>\n",
       "      <td>0</td>\n",
       "      <td>0</td>\n",
       "      <td>0</td>\n",
       "      <td>0</td>\n",
       "    </tr>\n",
       "    <tr>\n",
       "      <th>5</th>\n",
       "      <td>1503960366</td>\n",
       "      <td>4/13/2016 5:00:00 AM</td>\n",
       "      <td>0</td>\n",
       "      <td>0</td>\n",
       "      <td>0</td>\n",
       "      <td>0</td>\n",
       "      <td>0</td>\n",
       "      <td>0</td>\n",
       "      <td>0</td>\n",
       "      <td>0</td>\n",
       "      <td>...</td>\n",
       "      <td>0</td>\n",
       "      <td>0</td>\n",
       "      <td>0</td>\n",
       "      <td>0</td>\n",
       "      <td>0</td>\n",
       "      <td>0</td>\n",
       "      <td>0</td>\n",
       "      <td>0</td>\n",
       "      <td>0</td>\n",
       "      <td>0</td>\n",
       "    </tr>\n",
       "    <tr>\n",
       "      <th>6</th>\n",
       "      <td>1503960366</td>\n",
       "      <td>4/13/2016 6:00:00 AM</td>\n",
       "      <td>0</td>\n",
       "      <td>0</td>\n",
       "      <td>0</td>\n",
       "      <td>0</td>\n",
       "      <td>0</td>\n",
       "      <td>0</td>\n",
       "      <td>0</td>\n",
       "      <td>0</td>\n",
       "      <td>...</td>\n",
       "      <td>0</td>\n",
       "      <td>0</td>\n",
       "      <td>0</td>\n",
       "      <td>0</td>\n",
       "      <td>0</td>\n",
       "      <td>0</td>\n",
       "      <td>0</td>\n",
       "      <td>0</td>\n",
       "      <td>0</td>\n",
       "      <td>0</td>\n",
       "    </tr>\n",
       "    <tr>\n",
       "      <th>7</th>\n",
       "      <td>1503960366</td>\n",
       "      <td>4/13/2016 7:00:00 AM</td>\n",
       "      <td>0</td>\n",
       "      <td>0</td>\n",
       "      <td>0</td>\n",
       "      <td>0</td>\n",
       "      <td>0</td>\n",
       "      <td>0</td>\n",
       "      <td>0</td>\n",
       "      <td>0</td>\n",
       "      <td>...</td>\n",
       "      <td>16</td>\n",
       "      <td>13</td>\n",
       "      <td>0</td>\n",
       "      <td>0</td>\n",
       "      <td>0</td>\n",
       "      <td>0</td>\n",
       "      <td>0</td>\n",
       "      <td>0</td>\n",
       "      <td>0</td>\n",
       "      <td>16</td>\n",
       "    </tr>\n",
       "    <tr>\n",
       "      <th>8</th>\n",
       "      <td>1503960366</td>\n",
       "      <td>4/13/2016 8:00:00 AM</td>\n",
       "      <td>0</td>\n",
       "      <td>0</td>\n",
       "      <td>0</td>\n",
       "      <td>0</td>\n",
       "      <td>0</td>\n",
       "      <td>0</td>\n",
       "      <td>0</td>\n",
       "      <td>0</td>\n",
       "      <td>...</td>\n",
       "      <td>0</td>\n",
       "      <td>21</td>\n",
       "      <td>0</td>\n",
       "      <td>0</td>\n",
       "      <td>0</td>\n",
       "      <td>0</td>\n",
       "      <td>31</td>\n",
       "      <td>0</td>\n",
       "      <td>42</td>\n",
       "      <td>2</td>\n",
       "    </tr>\n",
       "    <tr>\n",
       "      <th>9</th>\n",
       "      <td>1503960366</td>\n",
       "      <td>4/13/2016 9:00:00 AM</td>\n",
       "      <td>0</td>\n",
       "      <td>14</td>\n",
       "      <td>10</td>\n",
       "      <td>31</td>\n",
       "      <td>37</td>\n",
       "      <td>17</td>\n",
       "      <td>25</td>\n",
       "      <td>12</td>\n",
       "      <td>...</td>\n",
       "      <td>0</td>\n",
       "      <td>8</td>\n",
       "      <td>0</td>\n",
       "      <td>0</td>\n",
       "      <td>0</td>\n",
       "      <td>0</td>\n",
       "      <td>0</td>\n",
       "      <td>0</td>\n",
       "      <td>0</td>\n",
       "      <td>105</td>\n",
       "    </tr>\n",
       "  </tbody>\n",
       "</table>\n",
       "<p>10 rows × 62 columns</p>\n",
       "</div>"
      ],
      "text/plain": [
       "           Id           ActivityHour  Steps00  Steps01  Steps02  Steps03  \\\n",
       "0  1503960366  4/13/2016 12:00:00 AM        4       16        0        0   \n",
       "1  1503960366   4/13/2016 1:00:00 AM        0        0        0        0   \n",
       "2  1503960366   4/13/2016 2:00:00 AM        0        0        0        0   \n",
       "3  1503960366   4/13/2016 3:00:00 AM        0        0        0        0   \n",
       "4  1503960366   4/13/2016 4:00:00 AM        0        0        0        0   \n",
       "5  1503960366   4/13/2016 5:00:00 AM        0        0        0        0   \n",
       "6  1503960366   4/13/2016 6:00:00 AM        0        0        0        0   \n",
       "7  1503960366   4/13/2016 7:00:00 AM        0        0        0        0   \n",
       "8  1503960366   4/13/2016 8:00:00 AM        0        0        0        0   \n",
       "9  1503960366   4/13/2016 9:00:00 AM        0       14       10       31   \n",
       "\n",
       "   Steps04  Steps05  Steps06  Steps07  ...  Steps50  Steps51  Steps52  \\\n",
       "0        0        9        0       17  ...        0        9        8   \n",
       "1        0        0        0        0  ...        0        0        0   \n",
       "2        0        0        0        0  ...        0        0        0   \n",
       "3        0        0        0        0  ...        0        0        0   \n",
       "4        0        0        0        0  ...        0        0        0   \n",
       "5        0        0        0        0  ...        0        0        0   \n",
       "6        0        0        0        0  ...        0        0        0   \n",
       "7        0        0        0        0  ...       16       13        0   \n",
       "8        0        0        0        0  ...        0       21        0   \n",
       "9       37       17       25       12  ...        0        8        0   \n",
       "\n",
       "   Steps53  Steps54  Steps55  Steps56  Steps57  Steps58  Steps59  \n",
       "0        0       20        1        0        0        0        0  \n",
       "1        0        0        0        0        0        0        0  \n",
       "2        0        0        0        0        0        0        0  \n",
       "3        0        0        0        0        0        0        0  \n",
       "4        0        0        0        0        0        0        0  \n",
       "5        0        0        0        0        0        0        0  \n",
       "6        0        0        0        0        0        0        0  \n",
       "7        0        0        0        0        0        0       16  \n",
       "8        0        0        0       31        0       42        2  \n",
       "9        0        0        0        0        0        0      105  \n",
       "\n",
       "[10 rows x 62 columns]"
      ]
     },
     "execution_count": 17,
     "metadata": {},
     "output_type": "execute_result"
    }
   ],
   "source": [
    "minuteStepsWide = pd.read_csv(\"fitbit raw data/minuteStepsWide_merged.csv\")\n",
    "minuteStepsWide.head(10)\n",
    "#lack of documentation"
   ]
  },
  {
   "cell_type": "code",
   "execution_count": 18,
   "metadata": {},
   "outputs": [
    {
     "data": {
      "text/html": [
       "<div>\n",
       "<style scoped>\n",
       "    .dataframe tbody tr th:only-of-type {\n",
       "        vertical-align: middle;\n",
       "    }\n",
       "\n",
       "    .dataframe tbody tr th {\n",
       "        vertical-align: top;\n",
       "    }\n",
       "\n",
       "    .dataframe thead th {\n",
       "        text-align: right;\n",
       "    }\n",
       "</style>\n",
       "<table border=\"1\" class=\"dataframe\">\n",
       "  <thead>\n",
       "    <tr style=\"text-align: right;\">\n",
       "      <th></th>\n",
       "      <th>Id</th>\n",
       "      <th>SleepDay</th>\n",
       "      <th>TotalSleepRecords</th>\n",
       "      <th>TotalMinutesAsleep</th>\n",
       "      <th>TotalTimeInBed</th>\n",
       "    </tr>\n",
       "  </thead>\n",
       "  <tbody>\n",
       "    <tr>\n",
       "      <th>0</th>\n",
       "      <td>1503960366</td>\n",
       "      <td>4/12/2016 12:00:00 AM</td>\n",
       "      <td>1</td>\n",
       "      <td>327</td>\n",
       "      <td>346</td>\n",
       "    </tr>\n",
       "    <tr>\n",
       "      <th>1</th>\n",
       "      <td>1503960366</td>\n",
       "      <td>4/13/2016 12:00:00 AM</td>\n",
       "      <td>2</td>\n",
       "      <td>384</td>\n",
       "      <td>407</td>\n",
       "    </tr>\n",
       "    <tr>\n",
       "      <th>2</th>\n",
       "      <td>1503960366</td>\n",
       "      <td>4/15/2016 12:00:00 AM</td>\n",
       "      <td>1</td>\n",
       "      <td>412</td>\n",
       "      <td>442</td>\n",
       "    </tr>\n",
       "    <tr>\n",
       "      <th>3</th>\n",
       "      <td>1503960366</td>\n",
       "      <td>4/16/2016 12:00:00 AM</td>\n",
       "      <td>2</td>\n",
       "      <td>340</td>\n",
       "      <td>367</td>\n",
       "    </tr>\n",
       "    <tr>\n",
       "      <th>4</th>\n",
       "      <td>1503960366</td>\n",
       "      <td>4/17/2016 12:00:00 AM</td>\n",
       "      <td>1</td>\n",
       "      <td>700</td>\n",
       "      <td>712</td>\n",
       "    </tr>\n",
       "  </tbody>\n",
       "</table>\n",
       "</div>"
      ],
      "text/plain": [
       "           Id               SleepDay  TotalSleepRecords  TotalMinutesAsleep  \\\n",
       "0  1503960366  4/12/2016 12:00:00 AM                  1                 327   \n",
       "1  1503960366  4/13/2016 12:00:00 AM                  2                 384   \n",
       "2  1503960366  4/15/2016 12:00:00 AM                  1                 412   \n",
       "3  1503960366  4/16/2016 12:00:00 AM                  2                 340   \n",
       "4  1503960366  4/17/2016 12:00:00 AM                  1                 700   \n",
       "\n",
       "   TotalTimeInBed  \n",
       "0             346  \n",
       "1             407  \n",
       "2             442  \n",
       "3             367  \n",
       "4             712  "
      ]
     },
     "execution_count": 18,
     "metadata": {},
     "output_type": "execute_result"
    }
   ],
   "source": [
    "sleepDay = pd.read_csv(\"fitbit raw data/sleepDay_merged.csv\")\n",
    "sleepDay.head()\n",
    "#number of times asleep, total time asleep measured in minutues, total time in bed measured in minutes"
   ]
  },
  {
   "cell_type": "code",
   "execution_count": 19,
   "metadata": {},
   "outputs": [
    {
     "data": {
      "text/html": [
       "<div>\n",
       "<style scoped>\n",
       "    .dataframe tbody tr th:only-of-type {\n",
       "        vertical-align: middle;\n",
       "    }\n",
       "\n",
       "    .dataframe tbody tr th {\n",
       "        vertical-align: top;\n",
       "    }\n",
       "\n",
       "    .dataframe thead th {\n",
       "        text-align: right;\n",
       "    }\n",
       "</style>\n",
       "<table border=\"1\" class=\"dataframe\">\n",
       "  <thead>\n",
       "    <tr style=\"text-align: right;\">\n",
       "      <th></th>\n",
       "      <th>Id</th>\n",
       "      <th>Date</th>\n",
       "      <th>WeightKg</th>\n",
       "      <th>WeightPounds</th>\n",
       "      <th>Fat</th>\n",
       "      <th>BMI</th>\n",
       "      <th>IsManualReport</th>\n",
       "      <th>LogId</th>\n",
       "    </tr>\n",
       "  </thead>\n",
       "  <tbody>\n",
       "    <tr>\n",
       "      <th>0</th>\n",
       "      <td>1503960366</td>\n",
       "      <td>5/2/2016 11:59:59 PM</td>\n",
       "      <td>52.599998</td>\n",
       "      <td>115.963147</td>\n",
       "      <td>22.0</td>\n",
       "      <td>22.650000</td>\n",
       "      <td>True</td>\n",
       "      <td>1462233599000</td>\n",
       "    </tr>\n",
       "    <tr>\n",
       "      <th>1</th>\n",
       "      <td>1503960366</td>\n",
       "      <td>5/3/2016 11:59:59 PM</td>\n",
       "      <td>52.599998</td>\n",
       "      <td>115.963147</td>\n",
       "      <td>NaN</td>\n",
       "      <td>22.650000</td>\n",
       "      <td>True</td>\n",
       "      <td>1462319999000</td>\n",
       "    </tr>\n",
       "    <tr>\n",
       "      <th>2</th>\n",
       "      <td>1927972279</td>\n",
       "      <td>4/13/2016 1:08:52 AM</td>\n",
       "      <td>133.500000</td>\n",
       "      <td>294.317120</td>\n",
       "      <td>NaN</td>\n",
       "      <td>47.540001</td>\n",
       "      <td>False</td>\n",
       "      <td>1460509732000</td>\n",
       "    </tr>\n",
       "    <tr>\n",
       "      <th>3</th>\n",
       "      <td>2873212765</td>\n",
       "      <td>4/21/2016 11:59:59 PM</td>\n",
       "      <td>56.700001</td>\n",
       "      <td>125.002104</td>\n",
       "      <td>NaN</td>\n",
       "      <td>21.450001</td>\n",
       "      <td>True</td>\n",
       "      <td>1461283199000</td>\n",
       "    </tr>\n",
       "    <tr>\n",
       "      <th>4</th>\n",
       "      <td>2873212765</td>\n",
       "      <td>5/12/2016 11:59:59 PM</td>\n",
       "      <td>57.299999</td>\n",
       "      <td>126.324875</td>\n",
       "      <td>NaN</td>\n",
       "      <td>21.690001</td>\n",
       "      <td>True</td>\n",
       "      <td>1463097599000</td>\n",
       "    </tr>\n",
       "  </tbody>\n",
       "</table>\n",
       "</div>"
      ],
      "text/plain": [
       "           Id                   Date    WeightKg  WeightPounds   Fat  \\\n",
       "0  1503960366   5/2/2016 11:59:59 PM   52.599998    115.963147  22.0   \n",
       "1  1503960366   5/3/2016 11:59:59 PM   52.599998    115.963147   NaN   \n",
       "2  1927972279   4/13/2016 1:08:52 AM  133.500000    294.317120   NaN   \n",
       "3  2873212765  4/21/2016 11:59:59 PM   56.700001    125.002104   NaN   \n",
       "4  2873212765  5/12/2016 11:59:59 PM   57.299999    126.324875   NaN   \n",
       "\n",
       "         BMI  IsManualReport          LogId  \n",
       "0  22.650000            True  1462233599000  \n",
       "1  22.650000            True  1462319999000  \n",
       "2  47.540001           False  1460509732000  \n",
       "3  21.450001            True  1461283199000  \n",
       "4  21.690001            True  1463097599000  "
      ]
     },
     "execution_count": 19,
     "metadata": {},
     "output_type": "execute_result"
    }
   ],
   "source": [
    "weightLogInfo = pd.read_csv(\"fitbit raw data/weightLogInfo_merged.csv\")\n",
    "weightLogInfo.head()\n",
    "\n",
    "#weight in kg and pounds, fat, BMI, and manual report indicator"
   ]
  },
  {
   "cell_type": "markdown",
   "metadata": {},
   "source": [
    "**Data Cleaning:**  \n",
    "- We will clean the data for the csv files we will use in the analysis  \n",
    "- We will be using *dailyActivity*, *hourlyCalories*, *hourlySteps*, *sleepDay*, and *weightLogInfo*\n",
    "- The datasets are well cleaned already and there are no missing values except for the \"Fat\" column in *weightLogInfo*"
   ]
  },
  {
   "cell_type": "code",
   "execution_count": 20,
   "metadata": {},
   "outputs": [
    {
     "data": {
      "text/plain": [
       "Id                          0\n",
       "ActivityDate                0\n",
       "TotalSteps                  0\n",
       "TotalDistance               0\n",
       "TrackerDistance             0\n",
       "LoggedActivitiesDistance    0\n",
       "VeryActiveDistance          0\n",
       "ModeratelyActiveDistance    0\n",
       "LightActiveDistance         0\n",
       "SedentaryActiveDistance     0\n",
       "VeryActiveMinutes           0\n",
       "FairlyActiveMinutes         0\n",
       "LightlyActiveMinutes        0\n",
       "SedentaryMinutes            0\n",
       "Calories                    0\n",
       "dtype: int64"
      ]
     },
     "execution_count": 20,
     "metadata": {},
     "output_type": "execute_result"
    }
   ],
   "source": [
    "dailyActivity.isnull().sum()"
   ]
  },
  {
   "cell_type": "code",
   "execution_count": 21,
   "metadata": {},
   "outputs": [
    {
     "data": {
      "text/plain": [
       "Id              0\n",
       "ActivityHour    0\n",
       "Calories        0\n",
       "dtype: int64"
      ]
     },
     "execution_count": 21,
     "metadata": {},
     "output_type": "execute_result"
    }
   ],
   "source": [
    "hourlyCalories.isnull().sum()"
   ]
  },
  {
   "cell_type": "code",
   "execution_count": 22,
   "metadata": {},
   "outputs": [
    {
     "data": {
      "text/plain": [
       "Id              0\n",
       "ActivityHour    0\n",
       "StepTotal       0\n",
       "dtype: int64"
      ]
     },
     "execution_count": 22,
     "metadata": {},
     "output_type": "execute_result"
    }
   ],
   "source": [
    "hourlySteps.isnull().sum()"
   ]
  },
  {
   "cell_type": "code",
   "execution_count": 23,
   "metadata": {},
   "outputs": [
    {
     "data": {
      "text/plain": [
       "Id                    0\n",
       "SleepDay              0\n",
       "TotalSleepRecords     0\n",
       "TotalMinutesAsleep    0\n",
       "TotalTimeInBed        0\n",
       "dtype: int64"
      ]
     },
     "execution_count": 23,
     "metadata": {},
     "output_type": "execute_result"
    }
   ],
   "source": [
    "sleepDay.isnull().sum()"
   ]
  },
  {
   "cell_type": "code",
   "execution_count": 24,
   "metadata": {},
   "outputs": [
    {
     "data": {
      "text/plain": [
       "Id                 0\n",
       "Date               0\n",
       "WeightKg           0\n",
       "WeightPounds       0\n",
       "Fat               65\n",
       "BMI                0\n",
       "IsManualReport     0\n",
       "LogId              0\n",
       "dtype: int64"
      ]
     },
     "execution_count": 24,
     "metadata": {},
     "output_type": "execute_result"
    }
   ],
   "source": [
    "weightLogInfo.isnull().sum()\n",
    "#there are 67 rows in this dataset and 65 missing entries in \"Fat\" column. We should simply disregard that column in the analysis.\n"
   ]
  },
  {
   "cell_type": "markdown",
   "metadata": {},
   "source": [
    "## Univariate Analysis"
   ]
  },
  {
   "cell_type": "markdown",
   "metadata": {},
   "source": [
    "Descriptive statistics for the *dailyActivity* dataframe"
   ]
  },
  {
   "cell_type": "code",
   "execution_count": 25,
   "metadata": {},
   "outputs": [
    {
     "data": {
      "text/html": [
       "<div>\n",
       "<style scoped>\n",
       "    .dataframe tbody tr th:only-of-type {\n",
       "        vertical-align: middle;\n",
       "    }\n",
       "\n",
       "    .dataframe tbody tr th {\n",
       "        vertical-align: top;\n",
       "    }\n",
       "\n",
       "    .dataframe thead th {\n",
       "        text-align: right;\n",
       "    }\n",
       "</style>\n",
       "<table border=\"1\" class=\"dataframe\">\n",
       "  <thead>\n",
       "    <tr style=\"text-align: right;\">\n",
       "      <th></th>\n",
       "      <th>TotalSteps</th>\n",
       "      <th>TotalDistance</th>\n",
       "      <th>TrackerDistance</th>\n",
       "      <th>LoggedActivitiesDistance</th>\n",
       "      <th>VeryActiveDistance</th>\n",
       "      <th>ModeratelyActiveDistance</th>\n",
       "      <th>LightActiveDistance</th>\n",
       "      <th>SedentaryActiveDistance</th>\n",
       "      <th>VeryActiveMinutes</th>\n",
       "      <th>FairlyActiveMinutes</th>\n",
       "      <th>LightlyActiveMinutes</th>\n",
       "      <th>SedentaryMinutes</th>\n",
       "      <th>Calories</th>\n",
       "    </tr>\n",
       "  </thead>\n",
       "  <tbody>\n",
       "    <tr>\n",
       "      <th>count</th>\n",
       "      <td>940.000000</td>\n",
       "      <td>940.000000</td>\n",
       "      <td>940.000000</td>\n",
       "      <td>940.000000</td>\n",
       "      <td>940.000000</td>\n",
       "      <td>940.000000</td>\n",
       "      <td>940.000000</td>\n",
       "      <td>940.000000</td>\n",
       "      <td>940.000000</td>\n",
       "      <td>940.000000</td>\n",
       "      <td>940.000000</td>\n",
       "      <td>940.000000</td>\n",
       "      <td>940.000000</td>\n",
       "    </tr>\n",
       "    <tr>\n",
       "      <th>mean</th>\n",
       "      <td>7637.910638</td>\n",
       "      <td>5.489702</td>\n",
       "      <td>5.475351</td>\n",
       "      <td>0.108171</td>\n",
       "      <td>1.502681</td>\n",
       "      <td>0.567543</td>\n",
       "      <td>3.340819</td>\n",
       "      <td>0.001606</td>\n",
       "      <td>21.164894</td>\n",
       "      <td>13.564894</td>\n",
       "      <td>192.812766</td>\n",
       "      <td>991.210638</td>\n",
       "      <td>2303.609574</td>\n",
       "    </tr>\n",
       "    <tr>\n",
       "      <th>std</th>\n",
       "      <td>5087.150742</td>\n",
       "      <td>3.924606</td>\n",
       "      <td>3.907276</td>\n",
       "      <td>0.619897</td>\n",
       "      <td>2.658941</td>\n",
       "      <td>0.883580</td>\n",
       "      <td>2.040655</td>\n",
       "      <td>0.007346</td>\n",
       "      <td>32.844803</td>\n",
       "      <td>19.987404</td>\n",
       "      <td>109.174700</td>\n",
       "      <td>301.267437</td>\n",
       "      <td>718.166862</td>\n",
       "    </tr>\n",
       "    <tr>\n",
       "      <th>min</th>\n",
       "      <td>0.000000</td>\n",
       "      <td>0.000000</td>\n",
       "      <td>0.000000</td>\n",
       "      <td>0.000000</td>\n",
       "      <td>0.000000</td>\n",
       "      <td>0.000000</td>\n",
       "      <td>0.000000</td>\n",
       "      <td>0.000000</td>\n",
       "      <td>0.000000</td>\n",
       "      <td>0.000000</td>\n",
       "      <td>0.000000</td>\n",
       "      <td>0.000000</td>\n",
       "      <td>0.000000</td>\n",
       "    </tr>\n",
       "    <tr>\n",
       "      <th>25%</th>\n",
       "      <td>3789.750000</td>\n",
       "      <td>2.620000</td>\n",
       "      <td>2.620000</td>\n",
       "      <td>0.000000</td>\n",
       "      <td>0.000000</td>\n",
       "      <td>0.000000</td>\n",
       "      <td>1.945000</td>\n",
       "      <td>0.000000</td>\n",
       "      <td>0.000000</td>\n",
       "      <td>0.000000</td>\n",
       "      <td>127.000000</td>\n",
       "      <td>729.750000</td>\n",
       "      <td>1828.500000</td>\n",
       "    </tr>\n",
       "    <tr>\n",
       "      <th>50%</th>\n",
       "      <td>7405.500000</td>\n",
       "      <td>5.245000</td>\n",
       "      <td>5.245000</td>\n",
       "      <td>0.000000</td>\n",
       "      <td>0.210000</td>\n",
       "      <td>0.240000</td>\n",
       "      <td>3.365000</td>\n",
       "      <td>0.000000</td>\n",
       "      <td>4.000000</td>\n",
       "      <td>6.000000</td>\n",
       "      <td>199.000000</td>\n",
       "      <td>1057.500000</td>\n",
       "      <td>2134.000000</td>\n",
       "    </tr>\n",
       "    <tr>\n",
       "      <th>75%</th>\n",
       "      <td>10727.000000</td>\n",
       "      <td>7.712500</td>\n",
       "      <td>7.710000</td>\n",
       "      <td>0.000000</td>\n",
       "      <td>2.052500</td>\n",
       "      <td>0.800000</td>\n",
       "      <td>4.782500</td>\n",
       "      <td>0.000000</td>\n",
       "      <td>32.000000</td>\n",
       "      <td>19.000000</td>\n",
       "      <td>264.000000</td>\n",
       "      <td>1229.500000</td>\n",
       "      <td>2793.250000</td>\n",
       "    </tr>\n",
       "    <tr>\n",
       "      <th>max</th>\n",
       "      <td>36019.000000</td>\n",
       "      <td>28.030001</td>\n",
       "      <td>28.030001</td>\n",
       "      <td>4.942142</td>\n",
       "      <td>21.920000</td>\n",
       "      <td>6.480000</td>\n",
       "      <td>10.710000</td>\n",
       "      <td>0.110000</td>\n",
       "      <td>210.000000</td>\n",
       "      <td>143.000000</td>\n",
       "      <td>518.000000</td>\n",
       "      <td>1440.000000</td>\n",
       "      <td>4900.000000</td>\n",
       "    </tr>\n",
       "  </tbody>\n",
       "</table>\n",
       "</div>"
      ],
      "text/plain": [
       "         TotalSteps  TotalDistance  TrackerDistance  LoggedActivitiesDistance  \\\n",
       "count    940.000000     940.000000       940.000000                940.000000   \n",
       "mean    7637.910638       5.489702         5.475351                  0.108171   \n",
       "std     5087.150742       3.924606         3.907276                  0.619897   \n",
       "min        0.000000       0.000000         0.000000                  0.000000   \n",
       "25%     3789.750000       2.620000         2.620000                  0.000000   \n",
       "50%     7405.500000       5.245000         5.245000                  0.000000   \n",
       "75%    10727.000000       7.712500         7.710000                  0.000000   \n",
       "max    36019.000000      28.030001        28.030001                  4.942142   \n",
       "\n",
       "       VeryActiveDistance  ModeratelyActiveDistance  LightActiveDistance  \\\n",
       "count          940.000000                940.000000           940.000000   \n",
       "mean             1.502681                  0.567543             3.340819   \n",
       "std              2.658941                  0.883580             2.040655   \n",
       "min              0.000000                  0.000000             0.000000   \n",
       "25%              0.000000                  0.000000             1.945000   \n",
       "50%              0.210000                  0.240000             3.365000   \n",
       "75%              2.052500                  0.800000             4.782500   \n",
       "max             21.920000                  6.480000            10.710000   \n",
       "\n",
       "       SedentaryActiveDistance  VeryActiveMinutes  FairlyActiveMinutes  \\\n",
       "count               940.000000         940.000000           940.000000   \n",
       "mean                  0.001606          21.164894            13.564894   \n",
       "std                   0.007346          32.844803            19.987404   \n",
       "min                   0.000000           0.000000             0.000000   \n",
       "25%                   0.000000           0.000000             0.000000   \n",
       "50%                   0.000000           4.000000             6.000000   \n",
       "75%                   0.000000          32.000000            19.000000   \n",
       "max                   0.110000         210.000000           143.000000   \n",
       "\n",
       "       LightlyActiveMinutes  SedentaryMinutes     Calories  \n",
       "count            940.000000        940.000000   940.000000  \n",
       "mean             192.812766        991.210638  2303.609574  \n",
       "std              109.174700        301.267437   718.166862  \n",
       "min                0.000000          0.000000     0.000000  \n",
       "25%              127.000000        729.750000  1828.500000  \n",
       "50%              199.000000       1057.500000  2134.000000  \n",
       "75%              264.000000       1229.500000  2793.250000  \n",
       "max              518.000000       1440.000000  4900.000000  "
      ]
     },
     "execution_count": 25,
     "metadata": {},
     "output_type": "execute_result"
    }
   ],
   "source": [
    "dailyActivity.drop(columns=['Id']).describe()\n"
   ]
  },
  {
   "cell_type": "code",
   "execution_count": 59,
   "metadata": {},
   "outputs": [
    {
     "data": {
      "application/vnd.plotly.v1+json": {
       "config": {
        "plotlyServerURL": "https://plot.ly"
       },
       "data": [
        {
         "alignmentgroup": "True",
         "bingroup": "x",
         "hovertemplate": "TotalSteps=%{x}<br>count=%{y}<extra></extra>",
         "legendgroup": "",
         "marker": {
          "color": "#636efa",
          "pattern": {
           "shape": ""
          }
         },
         "name": "",
         "nbinsx": 94,
         "offsetgroup": "",
         "orientation": "v",
         "showlegend": false,
         "type": "histogram",
         "x": [
          13162,
          10735,
          10460,
          9762,
          12669,
          9705,
          13019,
          15506,
          10544,
          9819,
          12764,
          14371,
          10039,
          15355,
          13755,
          18134,
          13154,
          11181,
          14673,
          10602,
          14727,
          15103,
          11100,
          14070,
          12159,
          11992,
          10060,
          12022,
          12207,
          12770,
          0,
          8163,
          7007,
          9107,
          1510,
          5370,
          6175,
          10536,
          2916,
          4974,
          6349,
          4026,
          8538,
          6076,
          6497,
          2826,
          8367,
          2759,
          2390,
          6474,
          36019,
          7155,
          2100,
          2193,
          2470,
          1727,
          2104,
          3427,
          1732,
          2969,
          3134,
          2971,
          10694,
          8001,
          11037,
          5263,
          15300,
          8757,
          7132,
          11256,
          2436,
          1223,
          3673,
          6637,
          3321,
          3580,
          9919,
          3032,
          9405,
          3176,
          18213,
          6132,
          3758,
          12850,
          2309,
          4363,
          9787,
          13372,
          6724,
          6643,
          9167,
          1329,
          6697,
          4929,
          7937,
          3844,
          3414,
          4525,
          4597,
          197,
          8,
          8054,
          5372,
          3570,
          0,
          0,
          0,
          4,
          6907,
          4920,
          4014,
          2573,
          0,
          4059,
          2080,
          2237,
          44,
          0,
          0,
          0,
          0,
          0,
          0,
          678,
          356,
          2163,
          980,
          0,
          0,
          244,
          0,
          0,
          0,
          149,
          2945,
          2090,
          152,
          3761,
          0,
          1675,
          0,
          0,
          2704,
          3790,
          1326,
          1786,
          0,
          2091,
          1510,
          0,
          0,
          0,
          0,
          0,
          11875,
          12024,
          10690,
          11034,
          10100,
          15112,
          14131,
          11548,
          15112,
          12453,
          12954,
          6001,
          13481,
          11369,
          10119,
          10159,
          10140,
          10245,
          18387,
          10538,
          10379,
          12183,
          11768,
          11895,
          10227,
          6708,
          3292,
          13379,
          12798,
          13272,
          9117,
          4414,
          4993,
          3335,
          3821,
          2547,
          838,
          3325,
          2424,
          7222,
          2467,
          2915,
          12357,
          3490,
          6017,
          5933,
          6088,
          6375,
          7604,
          4729,
          3609,
          7018,
          5992,
          6564,
          12167,
          8198,
          4193,
          5528,
          10685,
          254,
          8580,
          8891,
          10725,
          7275,
          3973,
          5205,
          5057,
          6198,
          6559,
          5997,
          7192,
          3404,
          5583,
          5079,
          4165,
          3588,
          3409,
          1715,
          1532,
          924,
          4571,
          772,
          3634,
          7443,
          1201,
          5202,
          4878,
          7379,
          5161,
          3090,
          6227,
          6424,
          2661,
          10113,
          10352,
          10129,
          10465,
          22244,
          5472,
          8247,
          6711,
          10999,
          10080,
          7804,
          16901,
          9471,
          9482,
          5980,
          11423,
          5439,
          42,
          8796,
          7618,
          7910,
          8482,
          9685,
          2524,
          7762,
          7948,
          9202,
          8859,
          7286,
          9317,
          6873,
          7373,
          8242,
          3516,
          7913,
          7365,
          8452,
          7399,
          7525,
          7412,
          8278,
          8314,
          7063,
          4940,
          8168,
          7726,
          8275,
          6440,
          7566,
          4747,
          9715,
          8844,
          7451,
          6905,
          8199,
          6798,
          7711,
          4880,
          8857,
          3843,
          7396,
          6731,
          5995,
          8283,
          7904,
          5512,
          9135,
          5250,
          3077,
          8856,
          10035,
          7641,
          9010,
          13459,
          10415,
          11663,
          12414,
          11658,
          6093,
          8911,
          12058,
          14112,
          11177,
          11388,
          7193,
          7114,
          10645,
          13238,
          10414,
          16520,
          14335,
          13559,
          12312,
          11677,
          11550,
          13585,
          14687,
          13072,
          746,
          8539,
          0,
          108,
          1882,
          1982,
          16,
          62,
          0,
          0,
          0,
          0,
          0,
          0,
          0,
          0,
          0,
          0,
          0,
          0,
          0,
          475,
          4496,
          10252,
          11728,
          4369,
          6132,
          5862,
          4556,
          5546,
          3689,
          590,
          5394,
          5974,
          0,
          3984,
          7753,
          8204,
          10210,
          5664,
          4744,
          29,
          2276,
          8925,
          8954,
          3702,
          4500,
          4935,
          4081,
          9259,
          9899,
          10780,
          10817,
          7990,
          8221,
          1251,
          9261,
          9648,
          10429,
          13658,
          9524,
          7937,
          3672,
          10378,
          9487,
          9129,
          17,
          10122,
          10993,
          8863,
          8758,
          6580,
          4660,
          11009,
          10181,
          10553,
          10055,
          12139,
          13236,
          10243,
          12961,
          9461,
          11193,
          10074,
          9232,
          12533,
          10255,
          10096,
          12727,
          12375,
          9603,
          13175,
          22770,
          17298,
          10218,
          10299,
          10201,
          3369,
          3276,
          2961,
          3974,
          7198,
          3945,
          2268,
          6155,
          2064,
          2072,
          3809,
          6831,
          4363,
          5002,
          3385,
          6326,
          7243,
          4493,
          4676,
          6222,
          5232,
          6910,
          7502,
          2923,
          3800,
          4514,
          5183,
          7303,
          5275,
          3915,
          9105,
          768,
          5135,
          4978,
          6799,
          7795,
          7289,
          9634,
          8940,
          5401,
          4803,
          13743,
          9601,
          6890,
          8563,
          8095,
          9148,
          9557,
          9451,
          7833,
          10319,
          3428,
          7891,
          5267,
          5232,
          10611,
          3755,
          8237,
          6543,
          11451,
          6435,
          9108,
          6307,
          7213,
          6877,
          7860,
          6506,
          11140,
          12692,
          9105,
          6708,
          8793,
          6530,
          1664,
          15126,
          15050,
          9167,
          6108,
          7047,
          9023,
          9930,
          10144,
          0,
          7245,
          9454,
          8161,
          8614,
          6943,
          14370,
          12857,
          8232,
          10613,
          9810,
          2752,
          11596,
          4832,
          17022,
          16556,
          5771,
          655,
          3727,
          15482,
          2713,
          12346,
          11682,
          4112,
          1807,
          10946,
          11886,
          10538,
          11393,
          12764,
          1202,
          5164,
          9769,
          12848,
          4249,
          14331,
          9632,
          1868,
          6083,
          11611,
          16358,
          4926,
          3121,
          8135,
          5077,
          8596,
          12087,
          14269,
          12231,
          9893,
          12574,
          8330,
          10830,
          9172,
          7638,
          15764,
          6393,
          5325,
          6805,
          9841,
          7924,
          12363,
          13368,
          7439,
          11045,
          5206,
          7550,
          4950,
          0,
          0,
          3421,
          8869,
          4038,
          0,
          0,
          0,
          14019,
          14450,
          7150,
          5153,
          11135,
          10449,
          19542,
          8206,
          11495,
          7623,
          0,
          9543,
          9411,
          3403,
          9592,
          6987,
          8915,
          4933,
          0,
          2997,
          9799,
          3365,
          7336,
          7328,
          4477,
          4562,
          7142,
          7671,
          9501,
          8301,
          7851,
          6885,
          7142,
          6361,
          0,
          6238,
          0,
          5896,
          7802,
          0,
          5565,
          5731,
          0,
          6744,
          9837,
          6781,
          6047,
          5832,
          6339,
          6116,
          5510,
          7706,
          6277,
          0,
          0,
          4053,
          5162,
          1282,
          4732,
          2497,
          8294,
          0,
          10771,
          0,
          637,
          0,
          2153,
          6474,
          7091,
          0,
          703,
          0,
          2503,
          2487,
          0,
          9,
          0,
          0,
          4697,
          1967,
          10199,
          5652,
          1551,
          5563,
          13217,
          10145,
          11404,
          10742,
          13928,
          11835,
          10725,
          20031,
          5029,
          13239,
          10433,
          10320,
          12627,
          10762,
          10081,
          5454,
          12912,
          12109,
          10147,
          10524,
          5908,
          6815,
          4188,
          12342,
          15448,
          6722,
          3587,
          14172,
          12862,
          11179,
          5273,
          4631,
          8059,
          14816,
          14194,
          15566,
          13744,
          15299,
          8093,
          11085,
          18229,
          15090,
          13541,
          15128,
          20067,
          3761,
          5600,
          13041,
          14510,
          0,
          15010,
          11459,
          0,
          11317,
          5813,
          9123,
          8585,
          31,
          0,
          9827,
          10688,
          14365,
          9469,
          9753,
          2817,
          3520,
          10091,
          10387,
          11107,
          11584,
          7881,
          14560,
          12390,
          10052,
          10288,
          10988,
          8564,
          12461,
          12827,
          10677,
          13566,
          14433,
          9572,
          3789,
          18060,
          16433,
          20159,
          20669,
          14549,
          18827,
          17076,
          15929,
          15108,
          16057,
          10520,
          22359,
          22988,
          20500,
          12685,
          12422,
          15447,
          12315,
          7135,
          1170,
          1969,
          15484,
          14581,
          14990,
          13953,
          19769,
          22026,
          12465,
          14810,
          12209,
          4998,
          9033,
          8053,
          5234,
          2672,
          9256,
          10204,
          5151,
          4212,
          6466,
          11268,
          2824,
          9282,
          8905,
          6829,
          4562,
          10232,
          2718,
          6260,
          0,
          7626,
          12386,
          13318,
          14461,
          11207,
          2132,
          13630,
          13070,
          9388,
          15148,
          12200,
          5709,
          3703,
          12405,
          16208,
          7359,
          5417,
          6175,
          2946,
          11419,
          6064,
          8712,
          7875,
          8567,
          7045,
          4468,
          2943,
          8382,
          6582,
          9143,
          4561,
          5014,
          5571,
          3135,
          3430,
          5319,
          3008,
          3864,
          5697,
          5273,
          8538,
          8687,
          9423,
          8286,
          4503,
          10499,
          12474,
          6174,
          15168,
          10085,
          4512,
          8469,
          12015,
          3588,
          12427,
          5843,
          6117,
          9217,
          9877,
          8240,
          8701,
          0,
          2564,
          1320,
          1219,
          2483,
          244,
          0,
          0,
          0,
          3147,
          144,
          4068,
          5245,
          400,
          0,
          1321,
          1758,
          6157,
          8360,
          7174,
          1619,
          1831,
          2421,
          2283,
          0,
          0,
          0,
          0,
          0,
          0,
          23186,
          15337,
          21129,
          13422,
          29326,
          15118,
          11423,
          18785,
          19948,
          19377,
          18258,
          11200,
          16674,
          12986,
          11101,
          23629,
          14890,
          9733,
          27745,
          10930,
          4790,
          10818,
          18193,
          14055,
          21727,
          12332,
          10686,
          20226,
          10733,
          21420,
          8064
         ],
         "xaxis": "x",
         "yaxis": "y"
        }
       ],
       "layout": {
        "barmode": "relative",
        "legend": {
         "tracegroupgap": 0
        },
        "template": {
         "data": {
          "bar": [
           {
            "error_x": {
             "color": "#2a3f5f"
            },
            "error_y": {
             "color": "#2a3f5f"
            },
            "marker": {
             "line": {
              "color": "#E5ECF6",
              "width": 0.5
             },
             "pattern": {
              "fillmode": "overlay",
              "size": 10,
              "solidity": 0.2
             }
            },
            "type": "bar"
           }
          ],
          "barpolar": [
           {
            "marker": {
             "line": {
              "color": "#E5ECF6",
              "width": 0.5
             },
             "pattern": {
              "fillmode": "overlay",
              "size": 10,
              "solidity": 0.2
             }
            },
            "type": "barpolar"
           }
          ],
          "carpet": [
           {
            "aaxis": {
             "endlinecolor": "#2a3f5f",
             "gridcolor": "white",
             "linecolor": "white",
             "minorgridcolor": "white",
             "startlinecolor": "#2a3f5f"
            },
            "baxis": {
             "endlinecolor": "#2a3f5f",
             "gridcolor": "white",
             "linecolor": "white",
             "minorgridcolor": "white",
             "startlinecolor": "#2a3f5f"
            },
            "type": "carpet"
           }
          ],
          "choropleth": [
           {
            "colorbar": {
             "outlinewidth": 0,
             "ticks": ""
            },
            "type": "choropleth"
           }
          ],
          "contour": [
           {
            "colorbar": {
             "outlinewidth": 0,
             "ticks": ""
            },
            "colorscale": [
             [
              0,
              "#0d0887"
             ],
             [
              0.1111111111111111,
              "#46039f"
             ],
             [
              0.2222222222222222,
              "#7201a8"
             ],
             [
              0.3333333333333333,
              "#9c179e"
             ],
             [
              0.4444444444444444,
              "#bd3786"
             ],
             [
              0.5555555555555556,
              "#d8576b"
             ],
             [
              0.6666666666666666,
              "#ed7953"
             ],
             [
              0.7777777777777778,
              "#fb9f3a"
             ],
             [
              0.8888888888888888,
              "#fdca26"
             ],
             [
              1,
              "#f0f921"
             ]
            ],
            "type": "contour"
           }
          ],
          "contourcarpet": [
           {
            "colorbar": {
             "outlinewidth": 0,
             "ticks": ""
            },
            "type": "contourcarpet"
           }
          ],
          "heatmap": [
           {
            "colorbar": {
             "outlinewidth": 0,
             "ticks": ""
            },
            "colorscale": [
             [
              0,
              "#0d0887"
             ],
             [
              0.1111111111111111,
              "#46039f"
             ],
             [
              0.2222222222222222,
              "#7201a8"
             ],
             [
              0.3333333333333333,
              "#9c179e"
             ],
             [
              0.4444444444444444,
              "#bd3786"
             ],
             [
              0.5555555555555556,
              "#d8576b"
             ],
             [
              0.6666666666666666,
              "#ed7953"
             ],
             [
              0.7777777777777778,
              "#fb9f3a"
             ],
             [
              0.8888888888888888,
              "#fdca26"
             ],
             [
              1,
              "#f0f921"
             ]
            ],
            "type": "heatmap"
           }
          ],
          "heatmapgl": [
           {
            "colorbar": {
             "outlinewidth": 0,
             "ticks": ""
            },
            "colorscale": [
             [
              0,
              "#0d0887"
             ],
             [
              0.1111111111111111,
              "#46039f"
             ],
             [
              0.2222222222222222,
              "#7201a8"
             ],
             [
              0.3333333333333333,
              "#9c179e"
             ],
             [
              0.4444444444444444,
              "#bd3786"
             ],
             [
              0.5555555555555556,
              "#d8576b"
             ],
             [
              0.6666666666666666,
              "#ed7953"
             ],
             [
              0.7777777777777778,
              "#fb9f3a"
             ],
             [
              0.8888888888888888,
              "#fdca26"
             ],
             [
              1,
              "#f0f921"
             ]
            ],
            "type": "heatmapgl"
           }
          ],
          "histogram": [
           {
            "marker": {
             "pattern": {
              "fillmode": "overlay",
              "size": 10,
              "solidity": 0.2
             }
            },
            "type": "histogram"
           }
          ],
          "histogram2d": [
           {
            "colorbar": {
             "outlinewidth": 0,
             "ticks": ""
            },
            "colorscale": [
             [
              0,
              "#0d0887"
             ],
             [
              0.1111111111111111,
              "#46039f"
             ],
             [
              0.2222222222222222,
              "#7201a8"
             ],
             [
              0.3333333333333333,
              "#9c179e"
             ],
             [
              0.4444444444444444,
              "#bd3786"
             ],
             [
              0.5555555555555556,
              "#d8576b"
             ],
             [
              0.6666666666666666,
              "#ed7953"
             ],
             [
              0.7777777777777778,
              "#fb9f3a"
             ],
             [
              0.8888888888888888,
              "#fdca26"
             ],
             [
              1,
              "#f0f921"
             ]
            ],
            "type": "histogram2d"
           }
          ],
          "histogram2dcontour": [
           {
            "colorbar": {
             "outlinewidth": 0,
             "ticks": ""
            },
            "colorscale": [
             [
              0,
              "#0d0887"
             ],
             [
              0.1111111111111111,
              "#46039f"
             ],
             [
              0.2222222222222222,
              "#7201a8"
             ],
             [
              0.3333333333333333,
              "#9c179e"
             ],
             [
              0.4444444444444444,
              "#bd3786"
             ],
             [
              0.5555555555555556,
              "#d8576b"
             ],
             [
              0.6666666666666666,
              "#ed7953"
             ],
             [
              0.7777777777777778,
              "#fb9f3a"
             ],
             [
              0.8888888888888888,
              "#fdca26"
             ],
             [
              1,
              "#f0f921"
             ]
            ],
            "type": "histogram2dcontour"
           }
          ],
          "mesh3d": [
           {
            "colorbar": {
             "outlinewidth": 0,
             "ticks": ""
            },
            "type": "mesh3d"
           }
          ],
          "parcoords": [
           {
            "line": {
             "colorbar": {
              "outlinewidth": 0,
              "ticks": ""
             }
            },
            "type": "parcoords"
           }
          ],
          "pie": [
           {
            "automargin": true,
            "type": "pie"
           }
          ],
          "scatter": [
           {
            "fillpattern": {
             "fillmode": "overlay",
             "size": 10,
             "solidity": 0.2
            },
            "type": "scatter"
           }
          ],
          "scatter3d": [
           {
            "line": {
             "colorbar": {
              "outlinewidth": 0,
              "ticks": ""
             }
            },
            "marker": {
             "colorbar": {
              "outlinewidth": 0,
              "ticks": ""
             }
            },
            "type": "scatter3d"
           }
          ],
          "scattercarpet": [
           {
            "marker": {
             "colorbar": {
              "outlinewidth": 0,
              "ticks": ""
             }
            },
            "type": "scattercarpet"
           }
          ],
          "scattergeo": [
           {
            "marker": {
             "colorbar": {
              "outlinewidth": 0,
              "ticks": ""
             }
            },
            "type": "scattergeo"
           }
          ],
          "scattergl": [
           {
            "marker": {
             "colorbar": {
              "outlinewidth": 0,
              "ticks": ""
             }
            },
            "type": "scattergl"
           }
          ],
          "scattermapbox": [
           {
            "marker": {
             "colorbar": {
              "outlinewidth": 0,
              "ticks": ""
             }
            },
            "type": "scattermapbox"
           }
          ],
          "scatterpolar": [
           {
            "marker": {
             "colorbar": {
              "outlinewidth": 0,
              "ticks": ""
             }
            },
            "type": "scatterpolar"
           }
          ],
          "scatterpolargl": [
           {
            "marker": {
             "colorbar": {
              "outlinewidth": 0,
              "ticks": ""
             }
            },
            "type": "scatterpolargl"
           }
          ],
          "scatterternary": [
           {
            "marker": {
             "colorbar": {
              "outlinewidth": 0,
              "ticks": ""
             }
            },
            "type": "scatterternary"
           }
          ],
          "surface": [
           {
            "colorbar": {
             "outlinewidth": 0,
             "ticks": ""
            },
            "colorscale": [
             [
              0,
              "#0d0887"
             ],
             [
              0.1111111111111111,
              "#46039f"
             ],
             [
              0.2222222222222222,
              "#7201a8"
             ],
             [
              0.3333333333333333,
              "#9c179e"
             ],
             [
              0.4444444444444444,
              "#bd3786"
             ],
             [
              0.5555555555555556,
              "#d8576b"
             ],
             [
              0.6666666666666666,
              "#ed7953"
             ],
             [
              0.7777777777777778,
              "#fb9f3a"
             ],
             [
              0.8888888888888888,
              "#fdca26"
             ],
             [
              1,
              "#f0f921"
             ]
            ],
            "type": "surface"
           }
          ],
          "table": [
           {
            "cells": {
             "fill": {
              "color": "#EBF0F8"
             },
             "line": {
              "color": "white"
             }
            },
            "header": {
             "fill": {
              "color": "#C8D4E3"
             },
             "line": {
              "color": "white"
             }
            },
            "type": "table"
           }
          ]
         },
         "layout": {
          "annotationdefaults": {
           "arrowcolor": "#2a3f5f",
           "arrowhead": 0,
           "arrowwidth": 1
          },
          "autotypenumbers": "strict",
          "coloraxis": {
           "colorbar": {
            "outlinewidth": 0,
            "ticks": ""
           }
          },
          "colorscale": {
           "diverging": [
            [
             0,
             "#8e0152"
            ],
            [
             0.1,
             "#c51b7d"
            ],
            [
             0.2,
             "#de77ae"
            ],
            [
             0.3,
             "#f1b6da"
            ],
            [
             0.4,
             "#fde0ef"
            ],
            [
             0.5,
             "#f7f7f7"
            ],
            [
             0.6,
             "#e6f5d0"
            ],
            [
             0.7,
             "#b8e186"
            ],
            [
             0.8,
             "#7fbc41"
            ],
            [
             0.9,
             "#4d9221"
            ],
            [
             1,
             "#276419"
            ]
           ],
           "sequential": [
            [
             0,
             "#0d0887"
            ],
            [
             0.1111111111111111,
             "#46039f"
            ],
            [
             0.2222222222222222,
             "#7201a8"
            ],
            [
             0.3333333333333333,
             "#9c179e"
            ],
            [
             0.4444444444444444,
             "#bd3786"
            ],
            [
             0.5555555555555556,
             "#d8576b"
            ],
            [
             0.6666666666666666,
             "#ed7953"
            ],
            [
             0.7777777777777778,
             "#fb9f3a"
            ],
            [
             0.8888888888888888,
             "#fdca26"
            ],
            [
             1,
             "#f0f921"
            ]
           ],
           "sequentialminus": [
            [
             0,
             "#0d0887"
            ],
            [
             0.1111111111111111,
             "#46039f"
            ],
            [
             0.2222222222222222,
             "#7201a8"
            ],
            [
             0.3333333333333333,
             "#9c179e"
            ],
            [
             0.4444444444444444,
             "#bd3786"
            ],
            [
             0.5555555555555556,
             "#d8576b"
            ],
            [
             0.6666666666666666,
             "#ed7953"
            ],
            [
             0.7777777777777778,
             "#fb9f3a"
            ],
            [
             0.8888888888888888,
             "#fdca26"
            ],
            [
             1,
             "#f0f921"
            ]
           ]
          },
          "colorway": [
           "#636efa",
           "#EF553B",
           "#00cc96",
           "#ab63fa",
           "#FFA15A",
           "#19d3f3",
           "#FF6692",
           "#B6E880",
           "#FF97FF",
           "#FECB52"
          ],
          "font": {
           "color": "#2a3f5f"
          },
          "geo": {
           "bgcolor": "white",
           "lakecolor": "white",
           "landcolor": "#E5ECF6",
           "showlakes": true,
           "showland": true,
           "subunitcolor": "white"
          },
          "hoverlabel": {
           "align": "left"
          },
          "hovermode": "closest",
          "mapbox": {
           "style": "light"
          },
          "paper_bgcolor": "white",
          "plot_bgcolor": "#E5ECF6",
          "polar": {
           "angularaxis": {
            "gridcolor": "white",
            "linecolor": "white",
            "ticks": ""
           },
           "bgcolor": "#E5ECF6",
           "radialaxis": {
            "gridcolor": "white",
            "linecolor": "white",
            "ticks": ""
           }
          },
          "scene": {
           "xaxis": {
            "backgroundcolor": "#E5ECF6",
            "gridcolor": "white",
            "gridwidth": 2,
            "linecolor": "white",
            "showbackground": true,
            "ticks": "",
            "zerolinecolor": "white"
           },
           "yaxis": {
            "backgroundcolor": "#E5ECF6",
            "gridcolor": "white",
            "gridwidth": 2,
            "linecolor": "white",
            "showbackground": true,
            "ticks": "",
            "zerolinecolor": "white"
           },
           "zaxis": {
            "backgroundcolor": "#E5ECF6",
            "gridcolor": "white",
            "gridwidth": 2,
            "linecolor": "white",
            "showbackground": true,
            "ticks": "",
            "zerolinecolor": "white"
           }
          },
          "shapedefaults": {
           "line": {
            "color": "#2a3f5f"
           }
          },
          "ternary": {
           "aaxis": {
            "gridcolor": "white",
            "linecolor": "white",
            "ticks": ""
           },
           "baxis": {
            "gridcolor": "white",
            "linecolor": "white",
            "ticks": ""
           },
           "bgcolor": "#E5ECF6",
           "caxis": {
            "gridcolor": "white",
            "linecolor": "white",
            "ticks": ""
           }
          },
          "title": {
           "x": 0.05
          },
          "xaxis": {
           "automargin": true,
           "gridcolor": "white",
           "linecolor": "white",
           "ticks": "",
           "title": {
            "standoff": 15
           },
           "zerolinecolor": "white",
           "zerolinewidth": 2
          },
          "yaxis": {
           "automargin": true,
           "gridcolor": "white",
           "linecolor": "white",
           "ticks": "",
           "title": {
            "standoff": 15
           },
           "zerolinecolor": "white",
           "zerolinewidth": 2
          }
         }
        },
        "title": {
         "text": "Histogram of Total Steps"
        },
        "width": 800,
        "xaxis": {
         "anchor": "y",
         "domain": [
          0,
          1
         ],
         "title": {
          "text": "TotalSteps"
         }
        },
        "yaxis": {
         "anchor": "x",
         "domain": [
          0,
          1
         ],
         "title": {
          "text": "count"
         }
        }
       }
      }
     },
     "metadata": {},
     "output_type": "display_data"
    },
    {
     "data": {
      "application/vnd.plotly.v1+json": {
       "config": {
        "plotlyServerURL": "https://plot.ly"
       },
       "data": [
        {
         "alignmentgroup": "True",
         "box": {
          "visible": true
         },
         "hovertemplate": "TotalSteps=%{x}<extra></extra>",
         "legendgroup": "",
         "marker": {
          "color": "#636efa"
         },
         "name": "",
         "offsetgroup": "",
         "orientation": "h",
         "points": "all",
         "scalegroup": "True",
         "showlegend": false,
         "type": "violin",
         "x": [
          13162,
          10735,
          10460,
          9762,
          12669,
          9705,
          13019,
          15506,
          10544,
          9819,
          12764,
          14371,
          10039,
          15355,
          13755,
          18134,
          13154,
          11181,
          14673,
          10602,
          14727,
          15103,
          11100,
          14070,
          12159,
          11992,
          10060,
          12022,
          12207,
          12770,
          0,
          8163,
          7007,
          9107,
          1510,
          5370,
          6175,
          10536,
          2916,
          4974,
          6349,
          4026,
          8538,
          6076,
          6497,
          2826,
          8367,
          2759,
          2390,
          6474,
          36019,
          7155,
          2100,
          2193,
          2470,
          1727,
          2104,
          3427,
          1732,
          2969,
          3134,
          2971,
          10694,
          8001,
          11037,
          5263,
          15300,
          8757,
          7132,
          11256,
          2436,
          1223,
          3673,
          6637,
          3321,
          3580,
          9919,
          3032,
          9405,
          3176,
          18213,
          6132,
          3758,
          12850,
          2309,
          4363,
          9787,
          13372,
          6724,
          6643,
          9167,
          1329,
          6697,
          4929,
          7937,
          3844,
          3414,
          4525,
          4597,
          197,
          8,
          8054,
          5372,
          3570,
          0,
          0,
          0,
          4,
          6907,
          4920,
          4014,
          2573,
          0,
          4059,
          2080,
          2237,
          44,
          0,
          0,
          0,
          0,
          0,
          0,
          678,
          356,
          2163,
          980,
          0,
          0,
          244,
          0,
          0,
          0,
          149,
          2945,
          2090,
          152,
          3761,
          0,
          1675,
          0,
          0,
          2704,
          3790,
          1326,
          1786,
          0,
          2091,
          1510,
          0,
          0,
          0,
          0,
          0,
          11875,
          12024,
          10690,
          11034,
          10100,
          15112,
          14131,
          11548,
          15112,
          12453,
          12954,
          6001,
          13481,
          11369,
          10119,
          10159,
          10140,
          10245,
          18387,
          10538,
          10379,
          12183,
          11768,
          11895,
          10227,
          6708,
          3292,
          13379,
          12798,
          13272,
          9117,
          4414,
          4993,
          3335,
          3821,
          2547,
          838,
          3325,
          2424,
          7222,
          2467,
          2915,
          12357,
          3490,
          6017,
          5933,
          6088,
          6375,
          7604,
          4729,
          3609,
          7018,
          5992,
          6564,
          12167,
          8198,
          4193,
          5528,
          10685,
          254,
          8580,
          8891,
          10725,
          7275,
          3973,
          5205,
          5057,
          6198,
          6559,
          5997,
          7192,
          3404,
          5583,
          5079,
          4165,
          3588,
          3409,
          1715,
          1532,
          924,
          4571,
          772,
          3634,
          7443,
          1201,
          5202,
          4878,
          7379,
          5161,
          3090,
          6227,
          6424,
          2661,
          10113,
          10352,
          10129,
          10465,
          22244,
          5472,
          8247,
          6711,
          10999,
          10080,
          7804,
          16901,
          9471,
          9482,
          5980,
          11423,
          5439,
          42,
          8796,
          7618,
          7910,
          8482,
          9685,
          2524,
          7762,
          7948,
          9202,
          8859,
          7286,
          9317,
          6873,
          7373,
          8242,
          3516,
          7913,
          7365,
          8452,
          7399,
          7525,
          7412,
          8278,
          8314,
          7063,
          4940,
          8168,
          7726,
          8275,
          6440,
          7566,
          4747,
          9715,
          8844,
          7451,
          6905,
          8199,
          6798,
          7711,
          4880,
          8857,
          3843,
          7396,
          6731,
          5995,
          8283,
          7904,
          5512,
          9135,
          5250,
          3077,
          8856,
          10035,
          7641,
          9010,
          13459,
          10415,
          11663,
          12414,
          11658,
          6093,
          8911,
          12058,
          14112,
          11177,
          11388,
          7193,
          7114,
          10645,
          13238,
          10414,
          16520,
          14335,
          13559,
          12312,
          11677,
          11550,
          13585,
          14687,
          13072,
          746,
          8539,
          0,
          108,
          1882,
          1982,
          16,
          62,
          0,
          0,
          0,
          0,
          0,
          0,
          0,
          0,
          0,
          0,
          0,
          0,
          0,
          475,
          4496,
          10252,
          11728,
          4369,
          6132,
          5862,
          4556,
          5546,
          3689,
          590,
          5394,
          5974,
          0,
          3984,
          7753,
          8204,
          10210,
          5664,
          4744,
          29,
          2276,
          8925,
          8954,
          3702,
          4500,
          4935,
          4081,
          9259,
          9899,
          10780,
          10817,
          7990,
          8221,
          1251,
          9261,
          9648,
          10429,
          13658,
          9524,
          7937,
          3672,
          10378,
          9487,
          9129,
          17,
          10122,
          10993,
          8863,
          8758,
          6580,
          4660,
          11009,
          10181,
          10553,
          10055,
          12139,
          13236,
          10243,
          12961,
          9461,
          11193,
          10074,
          9232,
          12533,
          10255,
          10096,
          12727,
          12375,
          9603,
          13175,
          22770,
          17298,
          10218,
          10299,
          10201,
          3369,
          3276,
          2961,
          3974,
          7198,
          3945,
          2268,
          6155,
          2064,
          2072,
          3809,
          6831,
          4363,
          5002,
          3385,
          6326,
          7243,
          4493,
          4676,
          6222,
          5232,
          6910,
          7502,
          2923,
          3800,
          4514,
          5183,
          7303,
          5275,
          3915,
          9105,
          768,
          5135,
          4978,
          6799,
          7795,
          7289,
          9634,
          8940,
          5401,
          4803,
          13743,
          9601,
          6890,
          8563,
          8095,
          9148,
          9557,
          9451,
          7833,
          10319,
          3428,
          7891,
          5267,
          5232,
          10611,
          3755,
          8237,
          6543,
          11451,
          6435,
          9108,
          6307,
          7213,
          6877,
          7860,
          6506,
          11140,
          12692,
          9105,
          6708,
          8793,
          6530,
          1664,
          15126,
          15050,
          9167,
          6108,
          7047,
          9023,
          9930,
          10144,
          0,
          7245,
          9454,
          8161,
          8614,
          6943,
          14370,
          12857,
          8232,
          10613,
          9810,
          2752,
          11596,
          4832,
          17022,
          16556,
          5771,
          655,
          3727,
          15482,
          2713,
          12346,
          11682,
          4112,
          1807,
          10946,
          11886,
          10538,
          11393,
          12764,
          1202,
          5164,
          9769,
          12848,
          4249,
          14331,
          9632,
          1868,
          6083,
          11611,
          16358,
          4926,
          3121,
          8135,
          5077,
          8596,
          12087,
          14269,
          12231,
          9893,
          12574,
          8330,
          10830,
          9172,
          7638,
          15764,
          6393,
          5325,
          6805,
          9841,
          7924,
          12363,
          13368,
          7439,
          11045,
          5206,
          7550,
          4950,
          0,
          0,
          3421,
          8869,
          4038,
          0,
          0,
          0,
          14019,
          14450,
          7150,
          5153,
          11135,
          10449,
          19542,
          8206,
          11495,
          7623,
          0,
          9543,
          9411,
          3403,
          9592,
          6987,
          8915,
          4933,
          0,
          2997,
          9799,
          3365,
          7336,
          7328,
          4477,
          4562,
          7142,
          7671,
          9501,
          8301,
          7851,
          6885,
          7142,
          6361,
          0,
          6238,
          0,
          5896,
          7802,
          0,
          5565,
          5731,
          0,
          6744,
          9837,
          6781,
          6047,
          5832,
          6339,
          6116,
          5510,
          7706,
          6277,
          0,
          0,
          4053,
          5162,
          1282,
          4732,
          2497,
          8294,
          0,
          10771,
          0,
          637,
          0,
          2153,
          6474,
          7091,
          0,
          703,
          0,
          2503,
          2487,
          0,
          9,
          0,
          0,
          4697,
          1967,
          10199,
          5652,
          1551,
          5563,
          13217,
          10145,
          11404,
          10742,
          13928,
          11835,
          10725,
          20031,
          5029,
          13239,
          10433,
          10320,
          12627,
          10762,
          10081,
          5454,
          12912,
          12109,
          10147,
          10524,
          5908,
          6815,
          4188,
          12342,
          15448,
          6722,
          3587,
          14172,
          12862,
          11179,
          5273,
          4631,
          8059,
          14816,
          14194,
          15566,
          13744,
          15299,
          8093,
          11085,
          18229,
          15090,
          13541,
          15128,
          20067,
          3761,
          5600,
          13041,
          14510,
          0,
          15010,
          11459,
          0,
          11317,
          5813,
          9123,
          8585,
          31,
          0,
          9827,
          10688,
          14365,
          9469,
          9753,
          2817,
          3520,
          10091,
          10387,
          11107,
          11584,
          7881,
          14560,
          12390,
          10052,
          10288,
          10988,
          8564,
          12461,
          12827,
          10677,
          13566,
          14433,
          9572,
          3789,
          18060,
          16433,
          20159,
          20669,
          14549,
          18827,
          17076,
          15929,
          15108,
          16057,
          10520,
          22359,
          22988,
          20500,
          12685,
          12422,
          15447,
          12315,
          7135,
          1170,
          1969,
          15484,
          14581,
          14990,
          13953,
          19769,
          22026,
          12465,
          14810,
          12209,
          4998,
          9033,
          8053,
          5234,
          2672,
          9256,
          10204,
          5151,
          4212,
          6466,
          11268,
          2824,
          9282,
          8905,
          6829,
          4562,
          10232,
          2718,
          6260,
          0,
          7626,
          12386,
          13318,
          14461,
          11207,
          2132,
          13630,
          13070,
          9388,
          15148,
          12200,
          5709,
          3703,
          12405,
          16208,
          7359,
          5417,
          6175,
          2946,
          11419,
          6064,
          8712,
          7875,
          8567,
          7045,
          4468,
          2943,
          8382,
          6582,
          9143,
          4561,
          5014,
          5571,
          3135,
          3430,
          5319,
          3008,
          3864,
          5697,
          5273,
          8538,
          8687,
          9423,
          8286,
          4503,
          10499,
          12474,
          6174,
          15168,
          10085,
          4512,
          8469,
          12015,
          3588,
          12427,
          5843,
          6117,
          9217,
          9877,
          8240,
          8701,
          0,
          2564,
          1320,
          1219,
          2483,
          244,
          0,
          0,
          0,
          3147,
          144,
          4068,
          5245,
          400,
          0,
          1321,
          1758,
          6157,
          8360,
          7174,
          1619,
          1831,
          2421,
          2283,
          0,
          0,
          0,
          0,
          0,
          0,
          23186,
          15337,
          21129,
          13422,
          29326,
          15118,
          11423,
          18785,
          19948,
          19377,
          18258,
          11200,
          16674,
          12986,
          11101,
          23629,
          14890,
          9733,
          27745,
          10930,
          4790,
          10818,
          18193,
          14055,
          21727,
          12332,
          10686,
          20226,
          10733,
          21420,
          8064
         ],
         "x0": " ",
         "xaxis": "x",
         "y0": " ",
         "yaxis": "y"
        }
       ],
       "layout": {
        "legend": {
         "tracegroupgap": 0
        },
        "template": {
         "data": {
          "bar": [
           {
            "error_x": {
             "color": "#2a3f5f"
            },
            "error_y": {
             "color": "#2a3f5f"
            },
            "marker": {
             "line": {
              "color": "#E5ECF6",
              "width": 0.5
             },
             "pattern": {
              "fillmode": "overlay",
              "size": 10,
              "solidity": 0.2
             }
            },
            "type": "bar"
           }
          ],
          "barpolar": [
           {
            "marker": {
             "line": {
              "color": "#E5ECF6",
              "width": 0.5
             },
             "pattern": {
              "fillmode": "overlay",
              "size": 10,
              "solidity": 0.2
             }
            },
            "type": "barpolar"
           }
          ],
          "carpet": [
           {
            "aaxis": {
             "endlinecolor": "#2a3f5f",
             "gridcolor": "white",
             "linecolor": "white",
             "minorgridcolor": "white",
             "startlinecolor": "#2a3f5f"
            },
            "baxis": {
             "endlinecolor": "#2a3f5f",
             "gridcolor": "white",
             "linecolor": "white",
             "minorgridcolor": "white",
             "startlinecolor": "#2a3f5f"
            },
            "type": "carpet"
           }
          ],
          "choropleth": [
           {
            "colorbar": {
             "outlinewidth": 0,
             "ticks": ""
            },
            "type": "choropleth"
           }
          ],
          "contour": [
           {
            "colorbar": {
             "outlinewidth": 0,
             "ticks": ""
            },
            "colorscale": [
             [
              0,
              "#0d0887"
             ],
             [
              0.1111111111111111,
              "#46039f"
             ],
             [
              0.2222222222222222,
              "#7201a8"
             ],
             [
              0.3333333333333333,
              "#9c179e"
             ],
             [
              0.4444444444444444,
              "#bd3786"
             ],
             [
              0.5555555555555556,
              "#d8576b"
             ],
             [
              0.6666666666666666,
              "#ed7953"
             ],
             [
              0.7777777777777778,
              "#fb9f3a"
             ],
             [
              0.8888888888888888,
              "#fdca26"
             ],
             [
              1,
              "#f0f921"
             ]
            ],
            "type": "contour"
           }
          ],
          "contourcarpet": [
           {
            "colorbar": {
             "outlinewidth": 0,
             "ticks": ""
            },
            "type": "contourcarpet"
           }
          ],
          "heatmap": [
           {
            "colorbar": {
             "outlinewidth": 0,
             "ticks": ""
            },
            "colorscale": [
             [
              0,
              "#0d0887"
             ],
             [
              0.1111111111111111,
              "#46039f"
             ],
             [
              0.2222222222222222,
              "#7201a8"
             ],
             [
              0.3333333333333333,
              "#9c179e"
             ],
             [
              0.4444444444444444,
              "#bd3786"
             ],
             [
              0.5555555555555556,
              "#d8576b"
             ],
             [
              0.6666666666666666,
              "#ed7953"
             ],
             [
              0.7777777777777778,
              "#fb9f3a"
             ],
             [
              0.8888888888888888,
              "#fdca26"
             ],
             [
              1,
              "#f0f921"
             ]
            ],
            "type": "heatmap"
           }
          ],
          "heatmapgl": [
           {
            "colorbar": {
             "outlinewidth": 0,
             "ticks": ""
            },
            "colorscale": [
             [
              0,
              "#0d0887"
             ],
             [
              0.1111111111111111,
              "#46039f"
             ],
             [
              0.2222222222222222,
              "#7201a8"
             ],
             [
              0.3333333333333333,
              "#9c179e"
             ],
             [
              0.4444444444444444,
              "#bd3786"
             ],
             [
              0.5555555555555556,
              "#d8576b"
             ],
             [
              0.6666666666666666,
              "#ed7953"
             ],
             [
              0.7777777777777778,
              "#fb9f3a"
             ],
             [
              0.8888888888888888,
              "#fdca26"
             ],
             [
              1,
              "#f0f921"
             ]
            ],
            "type": "heatmapgl"
           }
          ],
          "histogram": [
           {
            "marker": {
             "pattern": {
              "fillmode": "overlay",
              "size": 10,
              "solidity": 0.2
             }
            },
            "type": "histogram"
           }
          ],
          "histogram2d": [
           {
            "colorbar": {
             "outlinewidth": 0,
             "ticks": ""
            },
            "colorscale": [
             [
              0,
              "#0d0887"
             ],
             [
              0.1111111111111111,
              "#46039f"
             ],
             [
              0.2222222222222222,
              "#7201a8"
             ],
             [
              0.3333333333333333,
              "#9c179e"
             ],
             [
              0.4444444444444444,
              "#bd3786"
             ],
             [
              0.5555555555555556,
              "#d8576b"
             ],
             [
              0.6666666666666666,
              "#ed7953"
             ],
             [
              0.7777777777777778,
              "#fb9f3a"
             ],
             [
              0.8888888888888888,
              "#fdca26"
             ],
             [
              1,
              "#f0f921"
             ]
            ],
            "type": "histogram2d"
           }
          ],
          "histogram2dcontour": [
           {
            "colorbar": {
             "outlinewidth": 0,
             "ticks": ""
            },
            "colorscale": [
             [
              0,
              "#0d0887"
             ],
             [
              0.1111111111111111,
              "#46039f"
             ],
             [
              0.2222222222222222,
              "#7201a8"
             ],
             [
              0.3333333333333333,
              "#9c179e"
             ],
             [
              0.4444444444444444,
              "#bd3786"
             ],
             [
              0.5555555555555556,
              "#d8576b"
             ],
             [
              0.6666666666666666,
              "#ed7953"
             ],
             [
              0.7777777777777778,
              "#fb9f3a"
             ],
             [
              0.8888888888888888,
              "#fdca26"
             ],
             [
              1,
              "#f0f921"
             ]
            ],
            "type": "histogram2dcontour"
           }
          ],
          "mesh3d": [
           {
            "colorbar": {
             "outlinewidth": 0,
             "ticks": ""
            },
            "type": "mesh3d"
           }
          ],
          "parcoords": [
           {
            "line": {
             "colorbar": {
              "outlinewidth": 0,
              "ticks": ""
             }
            },
            "type": "parcoords"
           }
          ],
          "pie": [
           {
            "automargin": true,
            "type": "pie"
           }
          ],
          "scatter": [
           {
            "fillpattern": {
             "fillmode": "overlay",
             "size": 10,
             "solidity": 0.2
            },
            "type": "scatter"
           }
          ],
          "scatter3d": [
           {
            "line": {
             "colorbar": {
              "outlinewidth": 0,
              "ticks": ""
             }
            },
            "marker": {
             "colorbar": {
              "outlinewidth": 0,
              "ticks": ""
             }
            },
            "type": "scatter3d"
           }
          ],
          "scattercarpet": [
           {
            "marker": {
             "colorbar": {
              "outlinewidth": 0,
              "ticks": ""
             }
            },
            "type": "scattercarpet"
           }
          ],
          "scattergeo": [
           {
            "marker": {
             "colorbar": {
              "outlinewidth": 0,
              "ticks": ""
             }
            },
            "type": "scattergeo"
           }
          ],
          "scattergl": [
           {
            "marker": {
             "colorbar": {
              "outlinewidth": 0,
              "ticks": ""
             }
            },
            "type": "scattergl"
           }
          ],
          "scattermapbox": [
           {
            "marker": {
             "colorbar": {
              "outlinewidth": 0,
              "ticks": ""
             }
            },
            "type": "scattermapbox"
           }
          ],
          "scatterpolar": [
           {
            "marker": {
             "colorbar": {
              "outlinewidth": 0,
              "ticks": ""
             }
            },
            "type": "scatterpolar"
           }
          ],
          "scatterpolargl": [
           {
            "marker": {
             "colorbar": {
              "outlinewidth": 0,
              "ticks": ""
             }
            },
            "type": "scatterpolargl"
           }
          ],
          "scatterternary": [
           {
            "marker": {
             "colorbar": {
              "outlinewidth": 0,
              "ticks": ""
             }
            },
            "type": "scatterternary"
           }
          ],
          "surface": [
           {
            "colorbar": {
             "outlinewidth": 0,
             "ticks": ""
            },
            "colorscale": [
             [
              0,
              "#0d0887"
             ],
             [
              0.1111111111111111,
              "#46039f"
             ],
             [
              0.2222222222222222,
              "#7201a8"
             ],
             [
              0.3333333333333333,
              "#9c179e"
             ],
             [
              0.4444444444444444,
              "#bd3786"
             ],
             [
              0.5555555555555556,
              "#d8576b"
             ],
             [
              0.6666666666666666,
              "#ed7953"
             ],
             [
              0.7777777777777778,
              "#fb9f3a"
             ],
             [
              0.8888888888888888,
              "#fdca26"
             ],
             [
              1,
              "#f0f921"
             ]
            ],
            "type": "surface"
           }
          ],
          "table": [
           {
            "cells": {
             "fill": {
              "color": "#EBF0F8"
             },
             "line": {
              "color": "white"
             }
            },
            "header": {
             "fill": {
              "color": "#C8D4E3"
             },
             "line": {
              "color": "white"
             }
            },
            "type": "table"
           }
          ]
         },
         "layout": {
          "annotationdefaults": {
           "arrowcolor": "#2a3f5f",
           "arrowhead": 0,
           "arrowwidth": 1
          },
          "autotypenumbers": "strict",
          "coloraxis": {
           "colorbar": {
            "outlinewidth": 0,
            "ticks": ""
           }
          },
          "colorscale": {
           "diverging": [
            [
             0,
             "#8e0152"
            ],
            [
             0.1,
             "#c51b7d"
            ],
            [
             0.2,
             "#de77ae"
            ],
            [
             0.3,
             "#f1b6da"
            ],
            [
             0.4,
             "#fde0ef"
            ],
            [
             0.5,
             "#f7f7f7"
            ],
            [
             0.6,
             "#e6f5d0"
            ],
            [
             0.7,
             "#b8e186"
            ],
            [
             0.8,
             "#7fbc41"
            ],
            [
             0.9,
             "#4d9221"
            ],
            [
             1,
             "#276419"
            ]
           ],
           "sequential": [
            [
             0,
             "#0d0887"
            ],
            [
             0.1111111111111111,
             "#46039f"
            ],
            [
             0.2222222222222222,
             "#7201a8"
            ],
            [
             0.3333333333333333,
             "#9c179e"
            ],
            [
             0.4444444444444444,
             "#bd3786"
            ],
            [
             0.5555555555555556,
             "#d8576b"
            ],
            [
             0.6666666666666666,
             "#ed7953"
            ],
            [
             0.7777777777777778,
             "#fb9f3a"
            ],
            [
             0.8888888888888888,
             "#fdca26"
            ],
            [
             1,
             "#f0f921"
            ]
           ],
           "sequentialminus": [
            [
             0,
             "#0d0887"
            ],
            [
             0.1111111111111111,
             "#46039f"
            ],
            [
             0.2222222222222222,
             "#7201a8"
            ],
            [
             0.3333333333333333,
             "#9c179e"
            ],
            [
             0.4444444444444444,
             "#bd3786"
            ],
            [
             0.5555555555555556,
             "#d8576b"
            ],
            [
             0.6666666666666666,
             "#ed7953"
            ],
            [
             0.7777777777777778,
             "#fb9f3a"
            ],
            [
             0.8888888888888888,
             "#fdca26"
            ],
            [
             1,
             "#f0f921"
            ]
           ]
          },
          "colorway": [
           "#636efa",
           "#EF553B",
           "#00cc96",
           "#ab63fa",
           "#FFA15A",
           "#19d3f3",
           "#FF6692",
           "#B6E880",
           "#FF97FF",
           "#FECB52"
          ],
          "font": {
           "color": "#2a3f5f"
          },
          "geo": {
           "bgcolor": "white",
           "lakecolor": "white",
           "landcolor": "#E5ECF6",
           "showlakes": true,
           "showland": true,
           "subunitcolor": "white"
          },
          "hoverlabel": {
           "align": "left"
          },
          "hovermode": "closest",
          "mapbox": {
           "style": "light"
          },
          "paper_bgcolor": "white",
          "plot_bgcolor": "#E5ECF6",
          "polar": {
           "angularaxis": {
            "gridcolor": "white",
            "linecolor": "white",
            "ticks": ""
           },
           "bgcolor": "#E5ECF6",
           "radialaxis": {
            "gridcolor": "white",
            "linecolor": "white",
            "ticks": ""
           }
          },
          "scene": {
           "xaxis": {
            "backgroundcolor": "#E5ECF6",
            "gridcolor": "white",
            "gridwidth": 2,
            "linecolor": "white",
            "showbackground": true,
            "ticks": "",
            "zerolinecolor": "white"
           },
           "yaxis": {
            "backgroundcolor": "#E5ECF6",
            "gridcolor": "white",
            "gridwidth": 2,
            "linecolor": "white",
            "showbackground": true,
            "ticks": "",
            "zerolinecolor": "white"
           },
           "zaxis": {
            "backgroundcolor": "#E5ECF6",
            "gridcolor": "white",
            "gridwidth": 2,
            "linecolor": "white",
            "showbackground": true,
            "ticks": "",
            "zerolinecolor": "white"
           }
          },
          "shapedefaults": {
           "line": {
            "color": "#2a3f5f"
           }
          },
          "ternary": {
           "aaxis": {
            "gridcolor": "white",
            "linecolor": "white",
            "ticks": ""
           },
           "baxis": {
            "gridcolor": "white",
            "linecolor": "white",
            "ticks": ""
           },
           "bgcolor": "#E5ECF6",
           "caxis": {
            "gridcolor": "white",
            "linecolor": "white",
            "ticks": ""
           }
          },
          "title": {
           "x": 0.05
          },
          "xaxis": {
           "automargin": true,
           "gridcolor": "white",
           "linecolor": "white",
           "ticks": "",
           "title": {
            "standoff": 15
           },
           "zerolinecolor": "white",
           "zerolinewidth": 2
          },
          "yaxis": {
           "automargin": true,
           "gridcolor": "white",
           "linecolor": "white",
           "ticks": "",
           "title": {
            "standoff": 15
           },
           "zerolinecolor": "white",
           "zerolinewidth": 2
          }
         }
        },
        "title": {
         "text": "Violin plot of Total Steps"
        },
        "violinmode": "group",
        "width": 800,
        "xaxis": {
         "anchor": "y",
         "domain": [
          0,
          1
         ],
         "title": {
          "text": "TotalSteps"
         }
        },
        "yaxis": {
         "anchor": "x",
         "domain": [
          0,
          1
         ]
        }
       }
      }
     },
     "metadata": {},
     "output_type": "display_data"
    },
    {
     "data": {
      "application/vnd.plotly.v1+json": {
       "config": {
        "plotlyServerURL": "https://plot.ly"
       },
       "data": [
        {
         "alignmentgroup": "True",
         "bingroup": "x",
         "hovertemplate": "Calories=%{x}<br>count=%{y}<extra></extra>",
         "legendgroup": "",
         "marker": {
          "color": "#636efa",
          "pattern": {
           "shape": ""
          }
         },
         "name": "",
         "nbinsx": 94,
         "offsetgroup": "",
         "orientation": "v",
         "showlegend": false,
         "type": "histogram",
         "x": [
          1985,
          1797,
          1776,
          1745,
          1863,
          1728,
          1921,
          2035,
          1786,
          1775,
          1827,
          1949,
          1788,
          2013,
          1970,
          2159,
          1898,
          1837,
          1947,
          1820,
          2004,
          1990,
          1819,
          1959,
          1896,
          1821,
          1740,
          1819,
          1859,
          1783,
          0,
          1432,
          1411,
          1572,
          1344,
          1463,
          1554,
          1604,
          1435,
          1446,
          1467,
          1470,
          1562,
          1617,
          1492,
          1402,
          1670,
          1401,
          1404,
          1655,
          2690,
          1497,
          1334,
          1368,
          1370,
          1341,
          1474,
          1427,
          1328,
          1393,
          1359,
          1002,
          3199,
          2902,
          3226,
          2750,
          3493,
          3011,
          2806,
          3300,
          2430,
          2140,
          2344,
          2677,
          2413,
          2497,
          3123,
          2489,
          3108,
          2498,
          3846,
          2696,
          2580,
          3324,
          2222,
          2463,
          3328,
          3404,
          2987,
          3008,
          2799,
          1276,
          2030,
          1860,
          2130,
          1725,
          1657,
          1793,
          1814,
          1366,
          1349,
          2062,
          1827,
          1645,
          1347,
          1347,
          1347,
          1348,
          1992,
          1856,
          1763,
          1541,
          1348,
          1742,
          1549,
          1589,
          1351,
          1347,
          1347,
          1347,
          1347,
          1347,
          665,
          2220,
          2151,
          2383,
          2221,
          2064,
          2063,
          2111,
          2063,
          2063,
          2064,
          2093,
          2499,
          2324,
          2100,
          2638,
          2063,
          2351,
          2063,
          2064,
          2411,
          2505,
          2195,
          2338,
          2063,
          2383,
          2229,
          2063,
          2063,
          2063,
          2063,
          1383,
          2390,
          2601,
          2312,
          2525,
          2177,
          2782,
          2770,
          2489,
          2897,
          3158,
          2638,
          2069,
          2529,
          2470,
          2793,
          2463,
          2296,
          2611,
          2732,
          2380,
          2473,
          2752,
          2649,
          2609,
          2498,
          1995,
          1848,
          2709,
          2797,
          2544,
          1853,
          1459,
          1521,
          1431,
          1444,
          1373,
          1214,
          1419,
          1356,
          1667,
          1370,
          1399,
          1916,
          1401,
          1576,
          1595,
          1593,
          1649,
          1692,
          1506,
          1447,
          1690,
          1604,
          1658,
          1926,
          1736,
          1491,
          1555,
          1869,
          1141,
          1698,
          1364,
          2124,
          2003,
          1696,
          1801,
          1724,
          1852,
          1905,
          1811,
          1922,
          1610,
          1851,
          1804,
          1725,
          1654,
          1632,
          1481,
          1473,
          1410,
          1779,
          1403,
          1613,
          1878,
          1426,
          1780,
          1742,
          1972,
          1821,
          1630,
          1899,
          1903,
          1125,
          2344,
          2038,
          2010,
          2133,
          2670,
          1882,
          1944,
          2346,
          2198,
          2048,
          1946,
          2629,
          2187,
          2095,
          1861,
          2194,
          1854,
          403,
          1982,
          2004,
          1893,
          2063,
          2148,
          1529,
          1890,
          1956,
          2094,
          1970,
          2241,
          2021,
          1898,
          1907,
          1882,
          1966,
          1835,
          1780,
          1830,
          1739,
          1878,
          1906,
          2015,
          1971,
          1910,
          1897,
          2096,
          1906,
          1962,
          1826,
          1431,
          1788,
          2093,
          2065,
          1908,
          1908,
          1964,
          2014,
          1985,
          1867,
          2124,
          1669,
          1995,
          1921,
          2010,
          2057,
          2095,
          1972,
          2044,
          1946,
          1237,
          1450,
          1495,
          1433,
          1468,
          1625,
          1529,
          1584,
          1638,
          1554,
          1397,
          1481,
          1638,
          1655,
          1570,
          1551,
          1377,
          1407,
          1545,
          1650,
          1501,
          1760,
          1710,
          1628,
          1618,
          1590,
          1574,
          1633,
          1667,
          1630,
          52,
          3654,
          1981,
          2011,
          2951,
          3051,
          1990,
          1995,
          1980,
          1980,
          1980,
          1980,
          1980,
          1980,
          1980,
          1980,
          1980,
          1980,
          1980,
          1980,
          1980,
          2207,
          2828,
          3879,
          3429,
          2704,
          2975,
          3089,
          2785,
          2926,
          2645,
          1120,
          2286,
          2306,
          1776,
          1527,
          2115,
          2135,
          2302,
          1985,
          1884,
          1464,
          1632,
          2200,
          2220,
          1792,
          1886,
          1945,
          1880,
          2314,
          2236,
          2324,
          2367,
          2175,
          2092,
          1593,
          2270,
          2235,
          2282,
          2530,
          2266,
          2158,
          1792,
          2345,
          2260,
          2232,
          257,
          2955,
          3092,
          2998,
          3066,
          3073,
          2572,
          3274,
          3015,
          3083,
          3069,
          3544,
          3306,
          2885,
          3288,
          2929,
          3074,
          2969,
          2979,
          3283,
          2926,
          3147,
          3290,
          3162,
          2899,
          3425,
          4022,
          3934,
          3013,
          3061,
          2954,
          1623,
          2113,
          2095,
          2194,
          2496,
          2180,
          1933,
          2248,
          1954,
          1974,
          2150,
          2432,
          2149,
          2247,
          2070,
          2291,
          2361,
          2203,
          2196,
          2363,
          2246,
          2336,
          2421,
          2070,
          2120,
          2211,
          2123,
          2423,
          2281,
          2181,
          2499,
          1212,
          1909,
          1722,
          1922,
          2121,
          1997,
          2117,
          2116,
          1876,
          1788,
          2486,
          2094,
          2085,
          2173,
          2225,
          2223,
          2098,
          2185,
          1918,
          2105,
          1692,
          2066,
          1953,
          1842,
          2262,
          1722,
          1973,
          2666,
          2223,
          1889,
          2131,
          1452,
          2947,
          2898,
          2984,
          2896,
          3328,
          3394,
          3013,
          2812,
          3061,
          2729,
          2241,
          3691,
          3538,
          3064,
          2784,
          2908,
          3033,
          3165,
          3115,
          2017,
          2859,
          3145,
          3004,
          3006,
          2859,
          3683,
          3287,
          2990,
          3172,
          3069,
          1240,
          2026,
          1718,
          2324,
          2254,
          1831,
          1397,
          1683,
          2284,
          1570,
          2066,
          2105,
          1776,
          1507,
          2033,
          2093,
          1922,
          1999,
          2169,
          1463,
          1747,
          1996,
          2116,
          1698,
          2156,
          1916,
          1494,
          1762,
          2272,
          2335,
          1693,
          741,
          3405,
          2551,
          4022,
          4005,
          4274,
          4552,
          3625,
          3501,
          3192,
          4018,
          3329,
          3152,
          4392,
          3374,
          3088,
          3294,
          3580,
          3544,
          4501,
          4546,
          3014,
          3795,
          2755,
          3004,
          2643,
          1819,
          1819,
          2489,
          3841,
          1665,
          1496,
          1496,
          1496,
          2865,
          2828,
          2225,
          2018,
          2606,
          2536,
          4900,
          2409,
          2651,
          2305,
          1497,
          2450,
          2576,
          1879,
          2560,
          2275,
          2361,
          2044,
          1496,
          1902,
          2636,
          1838,
          2469,
          2250,
          1248,
          2560,
          2905,
          2952,
          2896,
          2783,
          3171,
          2766,
          2839,
          2701,
          2060,
          2796,
          2664,
          2703,
          2771,
          2060,
          2743,
          2687,
          2060,
          2843,
          3327,
          2725,
          2671,
          2718,
          2682,
          2806,
          2613,
          2712,
          2175,
          0,
          1841,
          2400,
          2507,
          2127,
          2225,
          2067,
          2798,
          1841,
          3727,
          1841,
          1922,
          1841,
          2053,
          2484,
          2584,
          1841,
          1993,
          1841,
          2280,
          2319,
          1841,
          1843,
          1841,
          1841,
          2496,
          1032,
          1994,
          1718,
          1466,
          1756,
          2173,
          2027,
          2039,
          2046,
          2174,
          2179,
          2086,
          2571,
          1705,
          2194,
          2012,
          2034,
          2182,
          2254,
          2002,
          1740,
          2162,
          2072,
          2086,
          2066,
          1850,
          1947,
          1659,
          2105,
          2361,
          1855,
          928,
          2937,
          2742,
          2668,
          2098,
          2076,
          2383,
          2832,
          2812,
          3096,
          2763,
          2889,
          2284,
          2667,
          3055,
          2939,
          2830,
          2836,
          3180,
          2051,
          2225,
          2642,
          2976,
          1557,
          2933,
          2553,
          120,
          2772,
          2516,
          2734,
          2395,
          1635,
          1629,
          2743,
          2944,
          2997,
          2463,
          2846,
          1965,
          2049,
          2752,
          2781,
          2693,
          2862,
          2616,
          2995,
          2730,
          2754,
          2754,
          2655,
          2386,
          2924,
          2739,
          2534,
          2960,
          2800,
          2735,
          1199,
          3186,
          3140,
          3411,
          3410,
          2867,
          3213,
          3133,
          3114,
          3043,
          3103,
          2655,
          3554,
          3577,
          3403,
          2846,
          2852,
          3062,
          2794,
          2408,
          1886,
          1988,
          3023,
          2918,
          2950,
          2859,
          3331,
          3589,
          2765,
          2926,
          2809,
          1505,
          2044,
          1935,
          1705,
          1632,
          1880,
          2112,
          1829,
          1763,
          1931,
          2218,
          1651,
          2132,
          1976,
          1909,
          1813,
          2008,
          1580,
          1854,
          0,
          3635,
          4079,
          4163,
          3666,
          3363,
          2572,
          4157,
          4092,
          3787,
          4236,
          4044,
          2908,
          2741,
          4005,
          3763,
          3061,
          2884,
          2982,
          2660,
          3369,
          3491,
          3784,
          3110,
          3783,
          3644,
          2799,
          2685,
          3721,
          3586,
          3788,
          1976,
          2650,
          2654,
          2443,
          2505,
          2693,
          2439,
          2536,
          2668,
          2647,
          2883,
          2944,
          3012,
          2889,
          2547,
          3093,
          3142,
          2757,
          3513,
          3164,
          2596,
          2894,
          3212,
          2516,
          3266,
          2683,
          2810,
          2940,
          2947,
          2846,
          2804,
          0,
          2044,
          1934,
          1963,
          2009,
          1721,
          1688,
          1688,
          1688,
          2188,
          1720,
          2419,
          2748,
          1799,
          1688,
          1928,
          2067,
          2780,
          3101,
          2896,
          1962,
          2015,
          2297,
          2067,
          1688,
          1688,
          1688,
          1688,
          1688,
          57,
          3921,
          3566,
          3793,
          3934,
          4547,
          3545,
          2761,
          3676,
          3679,
          3659,
          3427,
          3891,
          3455,
          3802,
          2860,
          3808,
          3060,
          2698,
          4398,
          2786,
          2189,
          2817,
          3477,
          3052,
          4015,
          4142,
          2847,
          3710,
          2832,
          3832,
          1849
         ],
         "xaxis": "x",
         "yaxis": "y"
        }
       ],
       "layout": {
        "barmode": "relative",
        "legend": {
         "tracegroupgap": 0
        },
        "template": {
         "data": {
          "bar": [
           {
            "error_x": {
             "color": "#2a3f5f"
            },
            "error_y": {
             "color": "#2a3f5f"
            },
            "marker": {
             "line": {
              "color": "#E5ECF6",
              "width": 0.5
             },
             "pattern": {
              "fillmode": "overlay",
              "size": 10,
              "solidity": 0.2
             }
            },
            "type": "bar"
           }
          ],
          "barpolar": [
           {
            "marker": {
             "line": {
              "color": "#E5ECF6",
              "width": 0.5
             },
             "pattern": {
              "fillmode": "overlay",
              "size": 10,
              "solidity": 0.2
             }
            },
            "type": "barpolar"
           }
          ],
          "carpet": [
           {
            "aaxis": {
             "endlinecolor": "#2a3f5f",
             "gridcolor": "white",
             "linecolor": "white",
             "minorgridcolor": "white",
             "startlinecolor": "#2a3f5f"
            },
            "baxis": {
             "endlinecolor": "#2a3f5f",
             "gridcolor": "white",
             "linecolor": "white",
             "minorgridcolor": "white",
             "startlinecolor": "#2a3f5f"
            },
            "type": "carpet"
           }
          ],
          "choropleth": [
           {
            "colorbar": {
             "outlinewidth": 0,
             "ticks": ""
            },
            "type": "choropleth"
           }
          ],
          "contour": [
           {
            "colorbar": {
             "outlinewidth": 0,
             "ticks": ""
            },
            "colorscale": [
             [
              0,
              "#0d0887"
             ],
             [
              0.1111111111111111,
              "#46039f"
             ],
             [
              0.2222222222222222,
              "#7201a8"
             ],
             [
              0.3333333333333333,
              "#9c179e"
             ],
             [
              0.4444444444444444,
              "#bd3786"
             ],
             [
              0.5555555555555556,
              "#d8576b"
             ],
             [
              0.6666666666666666,
              "#ed7953"
             ],
             [
              0.7777777777777778,
              "#fb9f3a"
             ],
             [
              0.8888888888888888,
              "#fdca26"
             ],
             [
              1,
              "#f0f921"
             ]
            ],
            "type": "contour"
           }
          ],
          "contourcarpet": [
           {
            "colorbar": {
             "outlinewidth": 0,
             "ticks": ""
            },
            "type": "contourcarpet"
           }
          ],
          "heatmap": [
           {
            "colorbar": {
             "outlinewidth": 0,
             "ticks": ""
            },
            "colorscale": [
             [
              0,
              "#0d0887"
             ],
             [
              0.1111111111111111,
              "#46039f"
             ],
             [
              0.2222222222222222,
              "#7201a8"
             ],
             [
              0.3333333333333333,
              "#9c179e"
             ],
             [
              0.4444444444444444,
              "#bd3786"
             ],
             [
              0.5555555555555556,
              "#d8576b"
             ],
             [
              0.6666666666666666,
              "#ed7953"
             ],
             [
              0.7777777777777778,
              "#fb9f3a"
             ],
             [
              0.8888888888888888,
              "#fdca26"
             ],
             [
              1,
              "#f0f921"
             ]
            ],
            "type": "heatmap"
           }
          ],
          "heatmapgl": [
           {
            "colorbar": {
             "outlinewidth": 0,
             "ticks": ""
            },
            "colorscale": [
             [
              0,
              "#0d0887"
             ],
             [
              0.1111111111111111,
              "#46039f"
             ],
             [
              0.2222222222222222,
              "#7201a8"
             ],
             [
              0.3333333333333333,
              "#9c179e"
             ],
             [
              0.4444444444444444,
              "#bd3786"
             ],
             [
              0.5555555555555556,
              "#d8576b"
             ],
             [
              0.6666666666666666,
              "#ed7953"
             ],
             [
              0.7777777777777778,
              "#fb9f3a"
             ],
             [
              0.8888888888888888,
              "#fdca26"
             ],
             [
              1,
              "#f0f921"
             ]
            ],
            "type": "heatmapgl"
           }
          ],
          "histogram": [
           {
            "marker": {
             "pattern": {
              "fillmode": "overlay",
              "size": 10,
              "solidity": 0.2
             }
            },
            "type": "histogram"
           }
          ],
          "histogram2d": [
           {
            "colorbar": {
             "outlinewidth": 0,
             "ticks": ""
            },
            "colorscale": [
             [
              0,
              "#0d0887"
             ],
             [
              0.1111111111111111,
              "#46039f"
             ],
             [
              0.2222222222222222,
              "#7201a8"
             ],
             [
              0.3333333333333333,
              "#9c179e"
             ],
             [
              0.4444444444444444,
              "#bd3786"
             ],
             [
              0.5555555555555556,
              "#d8576b"
             ],
             [
              0.6666666666666666,
              "#ed7953"
             ],
             [
              0.7777777777777778,
              "#fb9f3a"
             ],
             [
              0.8888888888888888,
              "#fdca26"
             ],
             [
              1,
              "#f0f921"
             ]
            ],
            "type": "histogram2d"
           }
          ],
          "histogram2dcontour": [
           {
            "colorbar": {
             "outlinewidth": 0,
             "ticks": ""
            },
            "colorscale": [
             [
              0,
              "#0d0887"
             ],
             [
              0.1111111111111111,
              "#46039f"
             ],
             [
              0.2222222222222222,
              "#7201a8"
             ],
             [
              0.3333333333333333,
              "#9c179e"
             ],
             [
              0.4444444444444444,
              "#bd3786"
             ],
             [
              0.5555555555555556,
              "#d8576b"
             ],
             [
              0.6666666666666666,
              "#ed7953"
             ],
             [
              0.7777777777777778,
              "#fb9f3a"
             ],
             [
              0.8888888888888888,
              "#fdca26"
             ],
             [
              1,
              "#f0f921"
             ]
            ],
            "type": "histogram2dcontour"
           }
          ],
          "mesh3d": [
           {
            "colorbar": {
             "outlinewidth": 0,
             "ticks": ""
            },
            "type": "mesh3d"
           }
          ],
          "parcoords": [
           {
            "line": {
             "colorbar": {
              "outlinewidth": 0,
              "ticks": ""
             }
            },
            "type": "parcoords"
           }
          ],
          "pie": [
           {
            "automargin": true,
            "type": "pie"
           }
          ],
          "scatter": [
           {
            "fillpattern": {
             "fillmode": "overlay",
             "size": 10,
             "solidity": 0.2
            },
            "type": "scatter"
           }
          ],
          "scatter3d": [
           {
            "line": {
             "colorbar": {
              "outlinewidth": 0,
              "ticks": ""
             }
            },
            "marker": {
             "colorbar": {
              "outlinewidth": 0,
              "ticks": ""
             }
            },
            "type": "scatter3d"
           }
          ],
          "scattercarpet": [
           {
            "marker": {
             "colorbar": {
              "outlinewidth": 0,
              "ticks": ""
             }
            },
            "type": "scattercarpet"
           }
          ],
          "scattergeo": [
           {
            "marker": {
             "colorbar": {
              "outlinewidth": 0,
              "ticks": ""
             }
            },
            "type": "scattergeo"
           }
          ],
          "scattergl": [
           {
            "marker": {
             "colorbar": {
              "outlinewidth": 0,
              "ticks": ""
             }
            },
            "type": "scattergl"
           }
          ],
          "scattermapbox": [
           {
            "marker": {
             "colorbar": {
              "outlinewidth": 0,
              "ticks": ""
             }
            },
            "type": "scattermapbox"
           }
          ],
          "scatterpolar": [
           {
            "marker": {
             "colorbar": {
              "outlinewidth": 0,
              "ticks": ""
             }
            },
            "type": "scatterpolar"
           }
          ],
          "scatterpolargl": [
           {
            "marker": {
             "colorbar": {
              "outlinewidth": 0,
              "ticks": ""
             }
            },
            "type": "scatterpolargl"
           }
          ],
          "scatterternary": [
           {
            "marker": {
             "colorbar": {
              "outlinewidth": 0,
              "ticks": ""
             }
            },
            "type": "scatterternary"
           }
          ],
          "surface": [
           {
            "colorbar": {
             "outlinewidth": 0,
             "ticks": ""
            },
            "colorscale": [
             [
              0,
              "#0d0887"
             ],
             [
              0.1111111111111111,
              "#46039f"
             ],
             [
              0.2222222222222222,
              "#7201a8"
             ],
             [
              0.3333333333333333,
              "#9c179e"
             ],
             [
              0.4444444444444444,
              "#bd3786"
             ],
             [
              0.5555555555555556,
              "#d8576b"
             ],
             [
              0.6666666666666666,
              "#ed7953"
             ],
             [
              0.7777777777777778,
              "#fb9f3a"
             ],
             [
              0.8888888888888888,
              "#fdca26"
             ],
             [
              1,
              "#f0f921"
             ]
            ],
            "type": "surface"
           }
          ],
          "table": [
           {
            "cells": {
             "fill": {
              "color": "#EBF0F8"
             },
             "line": {
              "color": "white"
             }
            },
            "header": {
             "fill": {
              "color": "#C8D4E3"
             },
             "line": {
              "color": "white"
             }
            },
            "type": "table"
           }
          ]
         },
         "layout": {
          "annotationdefaults": {
           "arrowcolor": "#2a3f5f",
           "arrowhead": 0,
           "arrowwidth": 1
          },
          "autotypenumbers": "strict",
          "coloraxis": {
           "colorbar": {
            "outlinewidth": 0,
            "ticks": ""
           }
          },
          "colorscale": {
           "diverging": [
            [
             0,
             "#8e0152"
            ],
            [
             0.1,
             "#c51b7d"
            ],
            [
             0.2,
             "#de77ae"
            ],
            [
             0.3,
             "#f1b6da"
            ],
            [
             0.4,
             "#fde0ef"
            ],
            [
             0.5,
             "#f7f7f7"
            ],
            [
             0.6,
             "#e6f5d0"
            ],
            [
             0.7,
             "#b8e186"
            ],
            [
             0.8,
             "#7fbc41"
            ],
            [
             0.9,
             "#4d9221"
            ],
            [
             1,
             "#276419"
            ]
           ],
           "sequential": [
            [
             0,
             "#0d0887"
            ],
            [
             0.1111111111111111,
             "#46039f"
            ],
            [
             0.2222222222222222,
             "#7201a8"
            ],
            [
             0.3333333333333333,
             "#9c179e"
            ],
            [
             0.4444444444444444,
             "#bd3786"
            ],
            [
             0.5555555555555556,
             "#d8576b"
            ],
            [
             0.6666666666666666,
             "#ed7953"
            ],
            [
             0.7777777777777778,
             "#fb9f3a"
            ],
            [
             0.8888888888888888,
             "#fdca26"
            ],
            [
             1,
             "#f0f921"
            ]
           ],
           "sequentialminus": [
            [
             0,
             "#0d0887"
            ],
            [
             0.1111111111111111,
             "#46039f"
            ],
            [
             0.2222222222222222,
             "#7201a8"
            ],
            [
             0.3333333333333333,
             "#9c179e"
            ],
            [
             0.4444444444444444,
             "#bd3786"
            ],
            [
             0.5555555555555556,
             "#d8576b"
            ],
            [
             0.6666666666666666,
             "#ed7953"
            ],
            [
             0.7777777777777778,
             "#fb9f3a"
            ],
            [
             0.8888888888888888,
             "#fdca26"
            ],
            [
             1,
             "#f0f921"
            ]
           ]
          },
          "colorway": [
           "#636efa",
           "#EF553B",
           "#00cc96",
           "#ab63fa",
           "#FFA15A",
           "#19d3f3",
           "#FF6692",
           "#B6E880",
           "#FF97FF",
           "#FECB52"
          ],
          "font": {
           "color": "#2a3f5f"
          },
          "geo": {
           "bgcolor": "white",
           "lakecolor": "white",
           "landcolor": "#E5ECF6",
           "showlakes": true,
           "showland": true,
           "subunitcolor": "white"
          },
          "hoverlabel": {
           "align": "left"
          },
          "hovermode": "closest",
          "mapbox": {
           "style": "light"
          },
          "paper_bgcolor": "white",
          "plot_bgcolor": "#E5ECF6",
          "polar": {
           "angularaxis": {
            "gridcolor": "white",
            "linecolor": "white",
            "ticks": ""
           },
           "bgcolor": "#E5ECF6",
           "radialaxis": {
            "gridcolor": "white",
            "linecolor": "white",
            "ticks": ""
           }
          },
          "scene": {
           "xaxis": {
            "backgroundcolor": "#E5ECF6",
            "gridcolor": "white",
            "gridwidth": 2,
            "linecolor": "white",
            "showbackground": true,
            "ticks": "",
            "zerolinecolor": "white"
           },
           "yaxis": {
            "backgroundcolor": "#E5ECF6",
            "gridcolor": "white",
            "gridwidth": 2,
            "linecolor": "white",
            "showbackground": true,
            "ticks": "",
            "zerolinecolor": "white"
           },
           "zaxis": {
            "backgroundcolor": "#E5ECF6",
            "gridcolor": "white",
            "gridwidth": 2,
            "linecolor": "white",
            "showbackground": true,
            "ticks": "",
            "zerolinecolor": "white"
           }
          },
          "shapedefaults": {
           "line": {
            "color": "#2a3f5f"
           }
          },
          "ternary": {
           "aaxis": {
            "gridcolor": "white",
            "linecolor": "white",
            "ticks": ""
           },
           "baxis": {
            "gridcolor": "white",
            "linecolor": "white",
            "ticks": ""
           },
           "bgcolor": "#E5ECF6",
           "caxis": {
            "gridcolor": "white",
            "linecolor": "white",
            "ticks": ""
           }
          },
          "title": {
           "x": 0.05
          },
          "xaxis": {
           "automargin": true,
           "gridcolor": "white",
           "linecolor": "white",
           "ticks": "",
           "title": {
            "standoff": 15
           },
           "zerolinecolor": "white",
           "zerolinewidth": 2
          },
          "yaxis": {
           "automargin": true,
           "gridcolor": "white",
           "linecolor": "white",
           "ticks": "",
           "title": {
            "standoff": 15
           },
           "zerolinecolor": "white",
           "zerolinewidth": 2
          }
         }
        },
        "title": {
         "text": "Histogram of Calories"
        },
        "width": 800,
        "xaxis": {
         "anchor": "y",
         "domain": [
          0,
          1
         ],
         "title": {
          "text": "Calories"
         }
        },
        "yaxis": {
         "anchor": "x",
         "domain": [
          0,
          1
         ],
         "title": {
          "text": "count"
         }
        }
       }
      }
     },
     "metadata": {},
     "output_type": "display_data"
    },
    {
     "data": {
      "application/vnd.plotly.v1+json": {
       "config": {
        "plotlyServerURL": "https://plot.ly"
       },
       "data": [
        {
         "alignmentgroup": "True",
         "bingroup": "x",
         "hovertemplate": "VeryActiveMinutes=%{x}<br>count=%{y}<extra></extra>",
         "legendgroup": "",
         "marker": {
          "color": "#636efa",
          "pattern": {
           "shape": ""
          }
         },
         "name": "",
         "offsetgroup": "",
         "orientation": "v",
         "showlegend": false,
         "type": "histogram",
         "x": [
          25,
          21,
          30,
          29,
          36,
          38,
          42,
          50,
          28,
          19,
          66,
          41,
          39,
          73,
          31,
          78,
          48,
          16,
          52,
          33,
          41,
          50,
          36,
          45,
          24,
          37,
          44,
          46,
          46,
          36,
          0,
          0,
          0,
          0,
          0,
          0,
          15,
          17,
          0,
          0,
          0,
          0,
          0,
          16,
          0,
          0,
          17,
          0,
          0,
          11,
          186,
          7,
          0,
          0,
          0,
          0,
          0,
          0,
          0,
          0,
          0,
          0,
          2,
          30,
          5,
          3,
          51,
          29,
          15,
          5,
          0,
          0,
          0,
          0,
          0,
          8,
          11,
          0,
          3,
          0,
          9,
          3,
          1,
          10,
          0,
          6,
          11,
          41,
          0,
          32,
          12,
          0,
          0,
          0,
          0,
          0,
          0,
          2,
          0,
          0,
          0,
          2,
          0,
          0,
          0,
          0,
          0,
          0,
          0,
          0,
          0,
          0,
          0,
          0,
          0,
          0,
          0,
          0,
          0,
          0,
          0,
          0,
          0,
          0,
          0,
          0,
          0,
          0,
          0,
          0,
          0,
          0,
          0,
          0,
          0,
          1,
          0,
          0,
          0,
          0,
          0,
          0,
          14,
          16,
          10,
          0,
          0,
          0,
          0,
          0,
          0,
          0,
          0,
          0,
          42,
          43,
          32,
          27,
          41,
          28,
          48,
          31,
          48,
          104,
          52,
          0,
          37,
          44,
          55,
          19,
          6,
          21,
          13,
          25,
          36,
          72,
          36,
          55,
          24,
          20,
          0,
          35,
          57,
          58,
          16,
          3,
          0,
          0,
          0,
          0,
          0,
          0,
          0,
          0,
          0,
          0,
          0,
          0,
          0,
          0,
          0,
          0,
          0,
          0,
          0,
          0,
          0,
          0,
          0,
          0,
          0,
          0,
          0,
          0,
          0,
          0,
          13,
          0,
          0,
          0,
          0,
          0,
          0,
          0,
          0,
          1,
          0,
          0,
          0,
          3,
          0,
          0,
          0,
          0,
          0,
          0,
          5,
          20,
          0,
          0,
          0,
          0,
          0,
          0,
          0,
          0,
          0,
          28,
          19,
          1,
          1,
          66,
          1,
          11,
          0,
          11,
          23,
          9,
          32,
          0,
          15,
          0,
          26,
          0,
          0,
          2,
          0,
          0,
          0,
          47,
          0,
          1,
          0,
          22,
          2,
          46,
          28,
          46,
          0,
          2,
          46,
          28,
          20,
          5,
          7,
          0,
          1,
          0,
          13,
          0,
          75,
          46,
          0,
          0,
          0,
          0,
          0,
          16,
          6,
          0,
          0,
          11,
          20,
          0,
          15,
          18,
          0,
          20,
          14,
          0,
          22,
          24,
          0,
          0,
          17,
          0,
          44,
          31,
          5,
          15,
          31,
          11,
          4,
          19,
          2,
          0,
          33,
          0,
          30,
          50,
          7,
          0,
          15,
          36,
          43,
          41,
          24,
          47,
          14,
          14,
          29,
          0,
          9,
          8,
          1,
          4,
          4,
          0,
          0,
          36,
          65,
          0,
          0,
          0,
          0,
          0,
          0,
          0,
          0,
          0,
          0,
          0,
          0,
          0,
          0,
          0,
          0,
          0,
          13,
          38,
          0,
          0,
          0,
          3,
          0,
          2,
          0,
          0,
          0,
          0,
          3,
          0,
          8,
          1,
          0,
          0,
          0,
          1,
          0,
          0,
          0,
          1,
          0,
          1,
          0,
          8,
          6,
          13,
          6,
          6,
          0,
          0,
          8,
          8,
          27,
          6,
          3,
          0,
          2,
          3,
          3,
          0,
          0,
          1,
          10,
          0,
          6,
          0,
          27,
          20,
          19,
          7,
          77,
          58,
          14,
          11,
          14,
          11,
          19,
          13,
          14,
          12,
          33,
          18,
          35,
          12,
          33,
          120,
          107,
          6,
          13,
          8,
          0,
          0,
          0,
          0,
          0,
          0,
          0,
          25,
          0,
          0,
          0,
          0,
          0,
          0,
          0,
          29,
          32,
          0,
          0,
          0,
          0,
          27,
          30,
          0,
          2,
          0,
          26,
          0,
          0,
          0,
          34,
          0,
          0,
          19,
          0,
          17,
          8,
          7,
          14,
          1,
          0,
          6,
          20,
          5,
          0,
          18,
          12,
          27,
          1,
          15,
          7,
          0,
          0,
          21,
          0,
          14,
          0,
          23,
          66,
          6,
          11,
          4,
          0,
          0,
          0,
          0,
          1,
          3,
          12,
          22,
          10,
          2,
          4,
          0,
          9,
          15,
          6,
          1,
          1,
          14,
          12,
          4,
          0,
          5,
          0,
          4,
          8,
          1,
          5,
          9,
          0,
          1,
          10,
          0,
          19,
          0,
          61,
          58,
          0,
          0,
          0,
          69,
          0,
          47,
          25,
          0,
          0,
          51,
          40,
          16,
          49,
          46,
          0,
          0,
          23,
          26,
          0,
          44,
          21,
          0,
          3,
          59,
          61,
          0,
          8,
          86,
          15,
          118,
          115,
          184,
          200,
          114,
          108,
          87,
          110,
          62,
          24,
          210,
          61,
          38,
          63,
          99,
          97,
          207,
          194,
          37,
          97,
          25,
          45,
          41,
          0,
          0,
          34,
          104,
          45,
          0,
          0,
          0,
          0,
          7,
          0,
          0,
          0,
          26,
          11,
          0,
          0,
          0,
          0,
          0,
          0,
          0,
          0,
          0,
          0,
          0,
          0,
          0,
          0,
          0,
          0,
          0,
          0,
          0,
          0,
          0,
          0,
          0,
          31,
          0,
          0,
          0,
          0,
          0,
          33,
          0,
          8,
          0,
          0,
          0,
          0,
          0,
          8,
          0,
          0,
          0,
          0,
          0,
          0,
          0,
          0,
          0,
          0,
          17,
          14,
          0,
          36,
          5,
          30,
          0,
          70,
          0,
          0,
          0,
          11,
          33,
          42,
          0,
          2,
          0,
          3,
          9,
          0,
          0,
          0,
          0,
          12,
          2,
          50,
          8,
          0,
          0,
          50,
          5,
          13,
          35,
          48,
          53,
          30,
          58,
          0,
          35,
          36,
          7,
          38,
          12,
          32,
          0,
          18,
          21,
          15,
          14,
          0,
          0,
          0,
          43,
          62,
          24,
          0,
          53,
          56,
          34,
          0,
          0,
          0,
          48,
          53,
          60,
          30,
          64,
          2,
          0,
          51,
          16,
          50,
          16,
          55,
          0,
          0,
          64,
          58,
          0,
          53,
          44,
          0,
          59,
          31,
          35,
          30,
          0,
          0,
          61,
          67,
          87,
          19,
          58,
          0,
          0,
          69,
          70,
          55,
          54,
          24,
          42,
          30,
          66,
          57,
          45,
          24,
          84,
          20,
          32,
          67,
          72,
          57,
          5,
          116,
          95,
          119,
          132,
          96,
          111,
          102,
          90,
          89,
          100,
          60,
          125,
          129,
          118,
          68,
          60,
          90,
          58,
          27,
          0,
          0,
          87,
          89,
          93,
          90,
          121,
          125,
          66,
          96,
          60,
          28,
          40,
          35,
          29,
          0,
          6,
          41,
          16,
          0,
          5,
          49,
          0,
          30,
          41,
          7,
          19,
          45,
          11,
          16,
          0,
          65,
          116,
          123,
          60,
          64,
          0,
          117,
          120,
          82,
          137,
          113,
          19,
          0,
          117,
          90,
          4,
          11,
          3,
          0,
          71,
          63,
          71,
          19,
          66,
          74,
          0,
          0,
          71,
          63,
          72,
          8,
          0,
          2,
          0,
          0,
          0,
          0,
          4,
          7,
          0,
          35,
          4,
          7,
          2,
          18,
          1,
          77,
          0,
          46,
          2,
          10,
          0,
          0,
          0,
          0,
          2,
          0,
          3,
          66,
          9,
          5,
          0,
          0,
          0,
          0,
          0,
          0,
          0,
          0,
          0,
          0,
          0,
          1,
          8,
          3,
          0,
          0,
          0,
          0,
          6,
          10,
          0,
          0,
          0,
          0,
          0,
          0,
          0,
          0,
          0,
          0,
          85,
          108,
          68,
          106,
          94,
          58,
          29,
          82,
          73,
          82,
          61,
          102,
          64,
          113,
          22,
          93,
          58,
          18,
          124,
          36,
          0,
          19,
          66,
          67,
          96,
          105,
          17,
          73,
          18,
          88,
          23
         ],
         "xaxis": "x",
         "yaxis": "y"
        }
       ],
       "layout": {
        "barmode": "relative",
        "legend": {
         "tracegroupgap": 0
        },
        "template": {
         "data": {
          "bar": [
           {
            "error_x": {
             "color": "#2a3f5f"
            },
            "error_y": {
             "color": "#2a3f5f"
            },
            "marker": {
             "line": {
              "color": "#E5ECF6",
              "width": 0.5
             },
             "pattern": {
              "fillmode": "overlay",
              "size": 10,
              "solidity": 0.2
             }
            },
            "type": "bar"
           }
          ],
          "barpolar": [
           {
            "marker": {
             "line": {
              "color": "#E5ECF6",
              "width": 0.5
             },
             "pattern": {
              "fillmode": "overlay",
              "size": 10,
              "solidity": 0.2
             }
            },
            "type": "barpolar"
           }
          ],
          "carpet": [
           {
            "aaxis": {
             "endlinecolor": "#2a3f5f",
             "gridcolor": "white",
             "linecolor": "white",
             "minorgridcolor": "white",
             "startlinecolor": "#2a3f5f"
            },
            "baxis": {
             "endlinecolor": "#2a3f5f",
             "gridcolor": "white",
             "linecolor": "white",
             "minorgridcolor": "white",
             "startlinecolor": "#2a3f5f"
            },
            "type": "carpet"
           }
          ],
          "choropleth": [
           {
            "colorbar": {
             "outlinewidth": 0,
             "ticks": ""
            },
            "type": "choropleth"
           }
          ],
          "contour": [
           {
            "colorbar": {
             "outlinewidth": 0,
             "ticks": ""
            },
            "colorscale": [
             [
              0,
              "#0d0887"
             ],
             [
              0.1111111111111111,
              "#46039f"
             ],
             [
              0.2222222222222222,
              "#7201a8"
             ],
             [
              0.3333333333333333,
              "#9c179e"
             ],
             [
              0.4444444444444444,
              "#bd3786"
             ],
             [
              0.5555555555555556,
              "#d8576b"
             ],
             [
              0.6666666666666666,
              "#ed7953"
             ],
             [
              0.7777777777777778,
              "#fb9f3a"
             ],
             [
              0.8888888888888888,
              "#fdca26"
             ],
             [
              1,
              "#f0f921"
             ]
            ],
            "type": "contour"
           }
          ],
          "contourcarpet": [
           {
            "colorbar": {
             "outlinewidth": 0,
             "ticks": ""
            },
            "type": "contourcarpet"
           }
          ],
          "heatmap": [
           {
            "colorbar": {
             "outlinewidth": 0,
             "ticks": ""
            },
            "colorscale": [
             [
              0,
              "#0d0887"
             ],
             [
              0.1111111111111111,
              "#46039f"
             ],
             [
              0.2222222222222222,
              "#7201a8"
             ],
             [
              0.3333333333333333,
              "#9c179e"
             ],
             [
              0.4444444444444444,
              "#bd3786"
             ],
             [
              0.5555555555555556,
              "#d8576b"
             ],
             [
              0.6666666666666666,
              "#ed7953"
             ],
             [
              0.7777777777777778,
              "#fb9f3a"
             ],
             [
              0.8888888888888888,
              "#fdca26"
             ],
             [
              1,
              "#f0f921"
             ]
            ],
            "type": "heatmap"
           }
          ],
          "heatmapgl": [
           {
            "colorbar": {
             "outlinewidth": 0,
             "ticks": ""
            },
            "colorscale": [
             [
              0,
              "#0d0887"
             ],
             [
              0.1111111111111111,
              "#46039f"
             ],
             [
              0.2222222222222222,
              "#7201a8"
             ],
             [
              0.3333333333333333,
              "#9c179e"
             ],
             [
              0.4444444444444444,
              "#bd3786"
             ],
             [
              0.5555555555555556,
              "#d8576b"
             ],
             [
              0.6666666666666666,
              "#ed7953"
             ],
             [
              0.7777777777777778,
              "#fb9f3a"
             ],
             [
              0.8888888888888888,
              "#fdca26"
             ],
             [
              1,
              "#f0f921"
             ]
            ],
            "type": "heatmapgl"
           }
          ],
          "histogram": [
           {
            "marker": {
             "pattern": {
              "fillmode": "overlay",
              "size": 10,
              "solidity": 0.2
             }
            },
            "type": "histogram"
           }
          ],
          "histogram2d": [
           {
            "colorbar": {
             "outlinewidth": 0,
             "ticks": ""
            },
            "colorscale": [
             [
              0,
              "#0d0887"
             ],
             [
              0.1111111111111111,
              "#46039f"
             ],
             [
              0.2222222222222222,
              "#7201a8"
             ],
             [
              0.3333333333333333,
              "#9c179e"
             ],
             [
              0.4444444444444444,
              "#bd3786"
             ],
             [
              0.5555555555555556,
              "#d8576b"
             ],
             [
              0.6666666666666666,
              "#ed7953"
             ],
             [
              0.7777777777777778,
              "#fb9f3a"
             ],
             [
              0.8888888888888888,
              "#fdca26"
             ],
             [
              1,
              "#f0f921"
             ]
            ],
            "type": "histogram2d"
           }
          ],
          "histogram2dcontour": [
           {
            "colorbar": {
             "outlinewidth": 0,
             "ticks": ""
            },
            "colorscale": [
             [
              0,
              "#0d0887"
             ],
             [
              0.1111111111111111,
              "#46039f"
             ],
             [
              0.2222222222222222,
              "#7201a8"
             ],
             [
              0.3333333333333333,
              "#9c179e"
             ],
             [
              0.4444444444444444,
              "#bd3786"
             ],
             [
              0.5555555555555556,
              "#d8576b"
             ],
             [
              0.6666666666666666,
              "#ed7953"
             ],
             [
              0.7777777777777778,
              "#fb9f3a"
             ],
             [
              0.8888888888888888,
              "#fdca26"
             ],
             [
              1,
              "#f0f921"
             ]
            ],
            "type": "histogram2dcontour"
           }
          ],
          "mesh3d": [
           {
            "colorbar": {
             "outlinewidth": 0,
             "ticks": ""
            },
            "type": "mesh3d"
           }
          ],
          "parcoords": [
           {
            "line": {
             "colorbar": {
              "outlinewidth": 0,
              "ticks": ""
             }
            },
            "type": "parcoords"
           }
          ],
          "pie": [
           {
            "automargin": true,
            "type": "pie"
           }
          ],
          "scatter": [
           {
            "fillpattern": {
             "fillmode": "overlay",
             "size": 10,
             "solidity": 0.2
            },
            "type": "scatter"
           }
          ],
          "scatter3d": [
           {
            "line": {
             "colorbar": {
              "outlinewidth": 0,
              "ticks": ""
             }
            },
            "marker": {
             "colorbar": {
              "outlinewidth": 0,
              "ticks": ""
             }
            },
            "type": "scatter3d"
           }
          ],
          "scattercarpet": [
           {
            "marker": {
             "colorbar": {
              "outlinewidth": 0,
              "ticks": ""
             }
            },
            "type": "scattercarpet"
           }
          ],
          "scattergeo": [
           {
            "marker": {
             "colorbar": {
              "outlinewidth": 0,
              "ticks": ""
             }
            },
            "type": "scattergeo"
           }
          ],
          "scattergl": [
           {
            "marker": {
             "colorbar": {
              "outlinewidth": 0,
              "ticks": ""
             }
            },
            "type": "scattergl"
           }
          ],
          "scattermapbox": [
           {
            "marker": {
             "colorbar": {
              "outlinewidth": 0,
              "ticks": ""
             }
            },
            "type": "scattermapbox"
           }
          ],
          "scatterpolar": [
           {
            "marker": {
             "colorbar": {
              "outlinewidth": 0,
              "ticks": ""
             }
            },
            "type": "scatterpolar"
           }
          ],
          "scatterpolargl": [
           {
            "marker": {
             "colorbar": {
              "outlinewidth": 0,
              "ticks": ""
             }
            },
            "type": "scatterpolargl"
           }
          ],
          "scatterternary": [
           {
            "marker": {
             "colorbar": {
              "outlinewidth": 0,
              "ticks": ""
             }
            },
            "type": "scatterternary"
           }
          ],
          "surface": [
           {
            "colorbar": {
             "outlinewidth": 0,
             "ticks": ""
            },
            "colorscale": [
             [
              0,
              "#0d0887"
             ],
             [
              0.1111111111111111,
              "#46039f"
             ],
             [
              0.2222222222222222,
              "#7201a8"
             ],
             [
              0.3333333333333333,
              "#9c179e"
             ],
             [
              0.4444444444444444,
              "#bd3786"
             ],
             [
              0.5555555555555556,
              "#d8576b"
             ],
             [
              0.6666666666666666,
              "#ed7953"
             ],
             [
              0.7777777777777778,
              "#fb9f3a"
             ],
             [
              0.8888888888888888,
              "#fdca26"
             ],
             [
              1,
              "#f0f921"
             ]
            ],
            "type": "surface"
           }
          ],
          "table": [
           {
            "cells": {
             "fill": {
              "color": "#EBF0F8"
             },
             "line": {
              "color": "white"
             }
            },
            "header": {
             "fill": {
              "color": "#C8D4E3"
             },
             "line": {
              "color": "white"
             }
            },
            "type": "table"
           }
          ]
         },
         "layout": {
          "annotationdefaults": {
           "arrowcolor": "#2a3f5f",
           "arrowhead": 0,
           "arrowwidth": 1
          },
          "autotypenumbers": "strict",
          "coloraxis": {
           "colorbar": {
            "outlinewidth": 0,
            "ticks": ""
           }
          },
          "colorscale": {
           "diverging": [
            [
             0,
             "#8e0152"
            ],
            [
             0.1,
             "#c51b7d"
            ],
            [
             0.2,
             "#de77ae"
            ],
            [
             0.3,
             "#f1b6da"
            ],
            [
             0.4,
             "#fde0ef"
            ],
            [
             0.5,
             "#f7f7f7"
            ],
            [
             0.6,
             "#e6f5d0"
            ],
            [
             0.7,
             "#b8e186"
            ],
            [
             0.8,
             "#7fbc41"
            ],
            [
             0.9,
             "#4d9221"
            ],
            [
             1,
             "#276419"
            ]
           ],
           "sequential": [
            [
             0,
             "#0d0887"
            ],
            [
             0.1111111111111111,
             "#46039f"
            ],
            [
             0.2222222222222222,
             "#7201a8"
            ],
            [
             0.3333333333333333,
             "#9c179e"
            ],
            [
             0.4444444444444444,
             "#bd3786"
            ],
            [
             0.5555555555555556,
             "#d8576b"
            ],
            [
             0.6666666666666666,
             "#ed7953"
            ],
            [
             0.7777777777777778,
             "#fb9f3a"
            ],
            [
             0.8888888888888888,
             "#fdca26"
            ],
            [
             1,
             "#f0f921"
            ]
           ],
           "sequentialminus": [
            [
             0,
             "#0d0887"
            ],
            [
             0.1111111111111111,
             "#46039f"
            ],
            [
             0.2222222222222222,
             "#7201a8"
            ],
            [
             0.3333333333333333,
             "#9c179e"
            ],
            [
             0.4444444444444444,
             "#bd3786"
            ],
            [
             0.5555555555555556,
             "#d8576b"
            ],
            [
             0.6666666666666666,
             "#ed7953"
            ],
            [
             0.7777777777777778,
             "#fb9f3a"
            ],
            [
             0.8888888888888888,
             "#fdca26"
            ],
            [
             1,
             "#f0f921"
            ]
           ]
          },
          "colorway": [
           "#636efa",
           "#EF553B",
           "#00cc96",
           "#ab63fa",
           "#FFA15A",
           "#19d3f3",
           "#FF6692",
           "#B6E880",
           "#FF97FF",
           "#FECB52"
          ],
          "font": {
           "color": "#2a3f5f"
          },
          "geo": {
           "bgcolor": "white",
           "lakecolor": "white",
           "landcolor": "#E5ECF6",
           "showlakes": true,
           "showland": true,
           "subunitcolor": "white"
          },
          "hoverlabel": {
           "align": "left"
          },
          "hovermode": "closest",
          "mapbox": {
           "style": "light"
          },
          "paper_bgcolor": "white",
          "plot_bgcolor": "#E5ECF6",
          "polar": {
           "angularaxis": {
            "gridcolor": "white",
            "linecolor": "white",
            "ticks": ""
           },
           "bgcolor": "#E5ECF6",
           "radialaxis": {
            "gridcolor": "white",
            "linecolor": "white",
            "ticks": ""
           }
          },
          "scene": {
           "xaxis": {
            "backgroundcolor": "#E5ECF6",
            "gridcolor": "white",
            "gridwidth": 2,
            "linecolor": "white",
            "showbackground": true,
            "ticks": "",
            "zerolinecolor": "white"
           },
           "yaxis": {
            "backgroundcolor": "#E5ECF6",
            "gridcolor": "white",
            "gridwidth": 2,
            "linecolor": "white",
            "showbackground": true,
            "ticks": "",
            "zerolinecolor": "white"
           },
           "zaxis": {
            "backgroundcolor": "#E5ECF6",
            "gridcolor": "white",
            "gridwidth": 2,
            "linecolor": "white",
            "showbackground": true,
            "ticks": "",
            "zerolinecolor": "white"
           }
          },
          "shapedefaults": {
           "line": {
            "color": "#2a3f5f"
           }
          },
          "ternary": {
           "aaxis": {
            "gridcolor": "white",
            "linecolor": "white",
            "ticks": ""
           },
           "baxis": {
            "gridcolor": "white",
            "linecolor": "white",
            "ticks": ""
           },
           "bgcolor": "#E5ECF6",
           "caxis": {
            "gridcolor": "white",
            "linecolor": "white",
            "ticks": ""
           }
          },
          "title": {
           "x": 0.05
          },
          "xaxis": {
           "automargin": true,
           "gridcolor": "white",
           "linecolor": "white",
           "ticks": "",
           "title": {
            "standoff": 15
           },
           "zerolinecolor": "white",
           "zerolinewidth": 2
          },
          "yaxis": {
           "automargin": true,
           "gridcolor": "white",
           "linecolor": "white",
           "ticks": "",
           "title": {
            "standoff": 15
           },
           "zerolinecolor": "white",
           "zerolinewidth": 2
          }
         }
        },
        "title": {
         "text": "Histogram of Very Active Minutes"
        },
        "width": 800,
        "xaxis": {
         "anchor": "y",
         "domain": [
          0,
          1
         ],
         "title": {
          "text": "VeryActiveMinutes"
         }
        },
        "yaxis": {
         "anchor": "x",
         "domain": [
          0,
          1
         ],
         "title": {
          "text": "count"
         }
        }
       }
      }
     },
     "metadata": {},
     "output_type": "display_data"
    },
    {
     "data": {
      "application/vnd.plotly.v1+json": {
       "config": {
        "plotlyServerURL": "https://plot.ly"
       },
       "data": [
        {
         "alignmentgroup": "True",
         "bingroup": "x",
         "hovertemplate": "FairlyActiveMinutes=%{x}<br>count=%{y}<extra></extra>",
         "legendgroup": "",
         "marker": {
          "color": "#636efa",
          "pattern": {
           "shape": ""
          }
         },
         "name": "",
         "offsetgroup": "",
         "orientation": "v",
         "showlegend": false,
         "type": "histogram",
         "x": [
          13,
          19,
          11,
          34,
          10,
          20,
          16,
          31,
          12,
          8,
          27,
          21,
          5,
          14,
          23,
          11,
          28,
          12,
          34,
          35,
          15,
          24,
          22,
          24,
          6,
          46,
          8,
          11,
          31,
          23,
          0,
          0,
          0,
          0,
          0,
          0,
          22,
          7,
          0,
          0,
          0,
          0,
          0,
          18,
          0,
          0,
          36,
          5,
          0,
          23,
          63,
          6,
          0,
          0,
          0,
          0,
          0,
          0,
          0,
          0,
          0,
          0,
          51,
          16,
          58,
          4,
          42,
          13,
          33,
          58,
          0,
          0,
          0,
          15,
          0,
          1,
          41,
          0,
          53,
          0,
          71,
          24,
          7,
          94,
          0,
          12,
          6,
          17,
          0,
          6,
          19,
          0,
          0,
          0,
          0,
          0,
          0,
          8,
          12,
          0,
          0,
          13,
          0,
          0,
          0,
          0,
          0,
          0,
          0,
          0,
          0,
          7,
          0,
          0,
          0,
          0,
          0,
          0,
          0,
          0,
          0,
          0,
          0,
          0,
          0,
          9,
          0,
          0,
          0,
          0,
          0,
          0,
          0,
          0,
          0,
          6,
          0,
          0,
          0,
          0,
          0,
          0,
          1,
          8,
          0,
          0,
          0,
          0,
          0,
          0,
          0,
          0,
          0,
          0,
          14,
          5,
          3,
          9,
          11,
          29,
          3,
          7,
          63,
          53,
          10,
          0,
          26,
          8,
          24,
          20,
          20,
          40,
          23,
          28,
          8,
          14,
          27,
          20,
          17,
          2,
          0,
          47,
          28,
          25,
          16,
          8,
          0,
          0,
          0,
          0,
          0,
          0,
          0,
          0,
          0,
          0,
          0,
          0,
          0,
          0,
          0,
          0,
          0,
          0,
          0,
          0,
          0,
          0,
          0,
          0,
          0,
          0,
          0,
          0,
          0,
          0,
          9,
          0,
          0,
          0,
          0,
          0,
          7,
          11,
          11,
          10,
          0,
          0,
          0,
          5,
          0,
          0,
          0,
          0,
          0,
          0,
          6,
          10,
          0,
          11,
          0,
          0,
          0,
          0,
          0,
          0,
          0,
          13,
          32,
          48,
          24,
          72,
          7,
          16,
          7,
          43,
          26,
          27,
          35,
          0,
          11,
          0,
          9,
          0,
          0,
          21,
          8,
          0,
          0,
          1,
          8,
          6,
          0,
          5,
          10,
          0,
          5,
          1,
          0,
          5,
          0,
          7,
          23,
          20,
          18,
          7,
          6,
          0,
          23,
          5,
          11,
          0,
          0,
          0,
          0,
          0,
          0,
          8,
          25,
          0,
          0,
          2,
          7,
          0,
          3,
          9,
          0,
          2,
          7,
          0,
          2,
          13,
          0,
          0,
          4,
          0,
          19,
          46,
          23,
          42,
          83,
          58,
          95,
          67,
          98,
          0,
          12,
          92,
          95,
          9,
          95,
          10,
          8,
          32,
          52,
          40,
          143,
          41,
          96,
          88,
          55,
          86,
          116,
          122,
          115,
          0,
          15,
          0,
          0,
          18,
          21,
          0,
          0,
          0,
          0,
          0,
          0,
          0,
          0,
          0,
          0,
          0,
          0,
          0,
          0,
          0,
          11,
          0,
          46,
          42,
          0,
          0,
          0,
          5,
          0,
          8,
          0,
          0,
          0,
          0,
          6,
          0,
          15,
          9,
          0,
          0,
          0,
          9,
          0,
          18,
          0,
          19,
          0,
          5,
          8,
          21,
          47,
          8,
          18,
          38,
          0,
          11,
          26,
          13,
          34,
          11,
          28,
          0,
          14,
          12,
          18,
          0,
          0,
          14,
          35,
          0,
          9,
          0,
          8,
          16,
          42,
          12,
          25,
          5,
          8,
          31,
          23,
          48,
          9,
          16,
          43,
          15,
          4,
          18,
          21,
          39,
          45,
          56,
          38,
          19,
          14,
          18,
          0,
          0,
          0,
          0,
          0,
          0,
          0,
          6,
          0,
          0,
          0,
          0,
          0,
          0,
          0,
          1,
          1,
          0,
          0,
          0,
          0,
          4,
          2,
          0,
          6,
          0,
          4,
          8,
          0,
          0,
          22,
          0,
          0,
          7,
          0,
          30,
          12,
          19,
          15,
          9,
          0,
          21,
          25,
          5,
          0,
          10,
          41,
          14,
          11,
          29,
          29,
          0,
          0,
          10,
          0,
          8,
          0,
          16,
          35,
          30,
          18,
          31,
          0,
          0,
          0,
          0,
          8,
          24,
          66,
          30,
          8,
          29,
          41,
          0,
          66,
          95,
          15,
          8,
          16,
          9,
          19,
          36,
          0,
          40,
          0,
          15,
          5,
          16,
          46,
          125,
          12,
          37,
          41,
          0,
          13,
          0,
          41,
          38,
          0,
          0,
          0,
          28,
          0,
          42,
          16,
          0,
          0,
          11,
          18,
          16,
          13,
          15,
          0,
          0,
          9,
          29,
          0,
          29,
          9,
          0,
          8,
          22,
          40,
          0,
          6,
          16,
          11,
          30,
          54,
          56,
          37,
          32,
          23,
          16,
          74,
          30,
          24,
          65,
          38,
          32,
          16,
          51,
          36,
          45,
          72,
          20,
          8,
          9,
          21,
          16,
          0,
          0,
          11,
          37,
          15,
          0,
          0,
          0,
          6,
          15,
          0,
          0,
          0,
          10,
          19,
          0,
          0,
          0,
          0,
          7,
          0,
          0,
          0,
          0,
          0,
          0,
          0,
          0,
          0,
          0,
          0,
          0,
          0,
          0,
          0,
          0,
          0,
          0,
          12,
          0,
          0,
          0,
          0,
          0,
          0,
          0,
          3,
          0,
          0,
          0,
          0,
          0,
          95,
          0,
          0,
          0,
          0,
          0,
          0,
          0,
          0,
          0,
          0,
          18,
          24,
          0,
          18,
          24,
          31,
          0,
          113,
          0,
          0,
          0,
          18,
          13,
          30,
          0,
          13,
          0,
          9,
          34,
          0,
          0,
          0,
          0,
          35,
          5,
          14,
          24,
          0,
          0,
          3,
          13,
          42,
          41,
          4,
          27,
          33,
          41,
          0,
          31,
          7,
          38,
          8,
          15,
          16,
          0,
          39,
          36,
          36,
          22,
          0,
          0,
          14,
          21,
          34,
          7,
          8,
          8,
          22,
          6,
          0,
          0,
          0,
          31,
          17,
          33,
          34,
          50,
          25,
          0,
          24,
          22,
          12,
          16,
          42,
          0,
          0,
          14,
          31,
          0,
          23,
          13,
          0,
          6,
          26,
          32,
          21,
          0,
          0,
          51,
          69,
          13,
          6,
          59,
          0,
          0,
          39,
          33,
          6,
          48,
          36,
          17,
          15,
          26,
          36,
          12,
          14,
          35,
          42,
          27,
          50,
          23,
          40,
          4,
          8,
          12,
          5,
          8,
          6,
          21,
          6,
          7,
          5,
          6,
          3,
          14,
          33,
          9,
          5,
          10,
          9,
          8,
          1,
          0,
          0,
          22,
          8,
          9,
          15,
          20,
          14,
          12,
          10,
          7,
          4,
          2,
          11,
          16,
          0,
          51,
          5,
          16,
          0,
          18,
          20,
          0,
          26,
          4,
          54,
          14,
          5,
          16,
          14,
          0,
          15,
          14,
          21,
          23,
          21,
          0,
          10,
          19,
          8,
          16,
          12,
          10,
          0,
          16,
          18,
          4,
          10,
          7,
          0,
          10,
          4,
          20,
          10,
          3,
          5,
          0,
          0,
          13,
          13,
          10,
          6,
          7,
          23,
          0,
          0,
          0,
          0,
          22,
          10,
          27,
          18,
          54,
          44,
          44,
          6,
          91,
          5,
          28,
          67,
          28,
          2,
          0,
          0,
          0,
          0,
          22,
          0,
          72,
          4,
          43,
          71,
          0,
          0,
          0,
          0,
          0,
          0,
          0,
          0,
          0,
          10,
          0,
          20,
          45,
          8,
          0,
          0,
          0,
          0,
          14,
          20,
          0,
          0,
          0,
          0,
          0,
          0,
          0,
          0,
          0,
          0,
          7,
          18,
          13,
          1,
          29,
          15,
          5,
          13,
          19,
          13,
          2,
          6,
          1,
          8,
          3,
          8,
          8,
          5,
          4,
          12,
          0,
          3,
          8,
          15,
          17,
          28,
          4,
          19,
          11,
          12,
          1
         ],
         "xaxis": "x",
         "yaxis": "y"
        }
       ],
       "layout": {
        "barmode": "relative",
        "legend": {
         "tracegroupgap": 0
        },
        "template": {
         "data": {
          "bar": [
           {
            "error_x": {
             "color": "#2a3f5f"
            },
            "error_y": {
             "color": "#2a3f5f"
            },
            "marker": {
             "line": {
              "color": "#E5ECF6",
              "width": 0.5
             },
             "pattern": {
              "fillmode": "overlay",
              "size": 10,
              "solidity": 0.2
             }
            },
            "type": "bar"
           }
          ],
          "barpolar": [
           {
            "marker": {
             "line": {
              "color": "#E5ECF6",
              "width": 0.5
             },
             "pattern": {
              "fillmode": "overlay",
              "size": 10,
              "solidity": 0.2
             }
            },
            "type": "barpolar"
           }
          ],
          "carpet": [
           {
            "aaxis": {
             "endlinecolor": "#2a3f5f",
             "gridcolor": "white",
             "linecolor": "white",
             "minorgridcolor": "white",
             "startlinecolor": "#2a3f5f"
            },
            "baxis": {
             "endlinecolor": "#2a3f5f",
             "gridcolor": "white",
             "linecolor": "white",
             "minorgridcolor": "white",
             "startlinecolor": "#2a3f5f"
            },
            "type": "carpet"
           }
          ],
          "choropleth": [
           {
            "colorbar": {
             "outlinewidth": 0,
             "ticks": ""
            },
            "type": "choropleth"
           }
          ],
          "contour": [
           {
            "colorbar": {
             "outlinewidth": 0,
             "ticks": ""
            },
            "colorscale": [
             [
              0,
              "#0d0887"
             ],
             [
              0.1111111111111111,
              "#46039f"
             ],
             [
              0.2222222222222222,
              "#7201a8"
             ],
             [
              0.3333333333333333,
              "#9c179e"
             ],
             [
              0.4444444444444444,
              "#bd3786"
             ],
             [
              0.5555555555555556,
              "#d8576b"
             ],
             [
              0.6666666666666666,
              "#ed7953"
             ],
             [
              0.7777777777777778,
              "#fb9f3a"
             ],
             [
              0.8888888888888888,
              "#fdca26"
             ],
             [
              1,
              "#f0f921"
             ]
            ],
            "type": "contour"
           }
          ],
          "contourcarpet": [
           {
            "colorbar": {
             "outlinewidth": 0,
             "ticks": ""
            },
            "type": "contourcarpet"
           }
          ],
          "heatmap": [
           {
            "colorbar": {
             "outlinewidth": 0,
             "ticks": ""
            },
            "colorscale": [
             [
              0,
              "#0d0887"
             ],
             [
              0.1111111111111111,
              "#46039f"
             ],
             [
              0.2222222222222222,
              "#7201a8"
             ],
             [
              0.3333333333333333,
              "#9c179e"
             ],
             [
              0.4444444444444444,
              "#bd3786"
             ],
             [
              0.5555555555555556,
              "#d8576b"
             ],
             [
              0.6666666666666666,
              "#ed7953"
             ],
             [
              0.7777777777777778,
              "#fb9f3a"
             ],
             [
              0.8888888888888888,
              "#fdca26"
             ],
             [
              1,
              "#f0f921"
             ]
            ],
            "type": "heatmap"
           }
          ],
          "heatmapgl": [
           {
            "colorbar": {
             "outlinewidth": 0,
             "ticks": ""
            },
            "colorscale": [
             [
              0,
              "#0d0887"
             ],
             [
              0.1111111111111111,
              "#46039f"
             ],
             [
              0.2222222222222222,
              "#7201a8"
             ],
             [
              0.3333333333333333,
              "#9c179e"
             ],
             [
              0.4444444444444444,
              "#bd3786"
             ],
             [
              0.5555555555555556,
              "#d8576b"
             ],
             [
              0.6666666666666666,
              "#ed7953"
             ],
             [
              0.7777777777777778,
              "#fb9f3a"
             ],
             [
              0.8888888888888888,
              "#fdca26"
             ],
             [
              1,
              "#f0f921"
             ]
            ],
            "type": "heatmapgl"
           }
          ],
          "histogram": [
           {
            "marker": {
             "pattern": {
              "fillmode": "overlay",
              "size": 10,
              "solidity": 0.2
             }
            },
            "type": "histogram"
           }
          ],
          "histogram2d": [
           {
            "colorbar": {
             "outlinewidth": 0,
             "ticks": ""
            },
            "colorscale": [
             [
              0,
              "#0d0887"
             ],
             [
              0.1111111111111111,
              "#46039f"
             ],
             [
              0.2222222222222222,
              "#7201a8"
             ],
             [
              0.3333333333333333,
              "#9c179e"
             ],
             [
              0.4444444444444444,
              "#bd3786"
             ],
             [
              0.5555555555555556,
              "#d8576b"
             ],
             [
              0.6666666666666666,
              "#ed7953"
             ],
             [
              0.7777777777777778,
              "#fb9f3a"
             ],
             [
              0.8888888888888888,
              "#fdca26"
             ],
             [
              1,
              "#f0f921"
             ]
            ],
            "type": "histogram2d"
           }
          ],
          "histogram2dcontour": [
           {
            "colorbar": {
             "outlinewidth": 0,
             "ticks": ""
            },
            "colorscale": [
             [
              0,
              "#0d0887"
             ],
             [
              0.1111111111111111,
              "#46039f"
             ],
             [
              0.2222222222222222,
              "#7201a8"
             ],
             [
              0.3333333333333333,
              "#9c179e"
             ],
             [
              0.4444444444444444,
              "#bd3786"
             ],
             [
              0.5555555555555556,
              "#d8576b"
             ],
             [
              0.6666666666666666,
              "#ed7953"
             ],
             [
              0.7777777777777778,
              "#fb9f3a"
             ],
             [
              0.8888888888888888,
              "#fdca26"
             ],
             [
              1,
              "#f0f921"
             ]
            ],
            "type": "histogram2dcontour"
           }
          ],
          "mesh3d": [
           {
            "colorbar": {
             "outlinewidth": 0,
             "ticks": ""
            },
            "type": "mesh3d"
           }
          ],
          "parcoords": [
           {
            "line": {
             "colorbar": {
              "outlinewidth": 0,
              "ticks": ""
             }
            },
            "type": "parcoords"
           }
          ],
          "pie": [
           {
            "automargin": true,
            "type": "pie"
           }
          ],
          "scatter": [
           {
            "fillpattern": {
             "fillmode": "overlay",
             "size": 10,
             "solidity": 0.2
            },
            "type": "scatter"
           }
          ],
          "scatter3d": [
           {
            "line": {
             "colorbar": {
              "outlinewidth": 0,
              "ticks": ""
             }
            },
            "marker": {
             "colorbar": {
              "outlinewidth": 0,
              "ticks": ""
             }
            },
            "type": "scatter3d"
           }
          ],
          "scattercarpet": [
           {
            "marker": {
             "colorbar": {
              "outlinewidth": 0,
              "ticks": ""
             }
            },
            "type": "scattercarpet"
           }
          ],
          "scattergeo": [
           {
            "marker": {
             "colorbar": {
              "outlinewidth": 0,
              "ticks": ""
             }
            },
            "type": "scattergeo"
           }
          ],
          "scattergl": [
           {
            "marker": {
             "colorbar": {
              "outlinewidth": 0,
              "ticks": ""
             }
            },
            "type": "scattergl"
           }
          ],
          "scattermapbox": [
           {
            "marker": {
             "colorbar": {
              "outlinewidth": 0,
              "ticks": ""
             }
            },
            "type": "scattermapbox"
           }
          ],
          "scatterpolar": [
           {
            "marker": {
             "colorbar": {
              "outlinewidth": 0,
              "ticks": ""
             }
            },
            "type": "scatterpolar"
           }
          ],
          "scatterpolargl": [
           {
            "marker": {
             "colorbar": {
              "outlinewidth": 0,
              "ticks": ""
             }
            },
            "type": "scatterpolargl"
           }
          ],
          "scatterternary": [
           {
            "marker": {
             "colorbar": {
              "outlinewidth": 0,
              "ticks": ""
             }
            },
            "type": "scatterternary"
           }
          ],
          "surface": [
           {
            "colorbar": {
             "outlinewidth": 0,
             "ticks": ""
            },
            "colorscale": [
             [
              0,
              "#0d0887"
             ],
             [
              0.1111111111111111,
              "#46039f"
             ],
             [
              0.2222222222222222,
              "#7201a8"
             ],
             [
              0.3333333333333333,
              "#9c179e"
             ],
             [
              0.4444444444444444,
              "#bd3786"
             ],
             [
              0.5555555555555556,
              "#d8576b"
             ],
             [
              0.6666666666666666,
              "#ed7953"
             ],
             [
              0.7777777777777778,
              "#fb9f3a"
             ],
             [
              0.8888888888888888,
              "#fdca26"
             ],
             [
              1,
              "#f0f921"
             ]
            ],
            "type": "surface"
           }
          ],
          "table": [
           {
            "cells": {
             "fill": {
              "color": "#EBF0F8"
             },
             "line": {
              "color": "white"
             }
            },
            "header": {
             "fill": {
              "color": "#C8D4E3"
             },
             "line": {
              "color": "white"
             }
            },
            "type": "table"
           }
          ]
         },
         "layout": {
          "annotationdefaults": {
           "arrowcolor": "#2a3f5f",
           "arrowhead": 0,
           "arrowwidth": 1
          },
          "autotypenumbers": "strict",
          "coloraxis": {
           "colorbar": {
            "outlinewidth": 0,
            "ticks": ""
           }
          },
          "colorscale": {
           "diverging": [
            [
             0,
             "#8e0152"
            ],
            [
             0.1,
             "#c51b7d"
            ],
            [
             0.2,
             "#de77ae"
            ],
            [
             0.3,
             "#f1b6da"
            ],
            [
             0.4,
             "#fde0ef"
            ],
            [
             0.5,
             "#f7f7f7"
            ],
            [
             0.6,
             "#e6f5d0"
            ],
            [
             0.7,
             "#b8e186"
            ],
            [
             0.8,
             "#7fbc41"
            ],
            [
             0.9,
             "#4d9221"
            ],
            [
             1,
             "#276419"
            ]
           ],
           "sequential": [
            [
             0,
             "#0d0887"
            ],
            [
             0.1111111111111111,
             "#46039f"
            ],
            [
             0.2222222222222222,
             "#7201a8"
            ],
            [
             0.3333333333333333,
             "#9c179e"
            ],
            [
             0.4444444444444444,
             "#bd3786"
            ],
            [
             0.5555555555555556,
             "#d8576b"
            ],
            [
             0.6666666666666666,
             "#ed7953"
            ],
            [
             0.7777777777777778,
             "#fb9f3a"
            ],
            [
             0.8888888888888888,
             "#fdca26"
            ],
            [
             1,
             "#f0f921"
            ]
           ],
           "sequentialminus": [
            [
             0,
             "#0d0887"
            ],
            [
             0.1111111111111111,
             "#46039f"
            ],
            [
             0.2222222222222222,
             "#7201a8"
            ],
            [
             0.3333333333333333,
             "#9c179e"
            ],
            [
             0.4444444444444444,
             "#bd3786"
            ],
            [
             0.5555555555555556,
             "#d8576b"
            ],
            [
             0.6666666666666666,
             "#ed7953"
            ],
            [
             0.7777777777777778,
             "#fb9f3a"
            ],
            [
             0.8888888888888888,
             "#fdca26"
            ],
            [
             1,
             "#f0f921"
            ]
           ]
          },
          "colorway": [
           "#636efa",
           "#EF553B",
           "#00cc96",
           "#ab63fa",
           "#FFA15A",
           "#19d3f3",
           "#FF6692",
           "#B6E880",
           "#FF97FF",
           "#FECB52"
          ],
          "font": {
           "color": "#2a3f5f"
          },
          "geo": {
           "bgcolor": "white",
           "lakecolor": "white",
           "landcolor": "#E5ECF6",
           "showlakes": true,
           "showland": true,
           "subunitcolor": "white"
          },
          "hoverlabel": {
           "align": "left"
          },
          "hovermode": "closest",
          "mapbox": {
           "style": "light"
          },
          "paper_bgcolor": "white",
          "plot_bgcolor": "#E5ECF6",
          "polar": {
           "angularaxis": {
            "gridcolor": "white",
            "linecolor": "white",
            "ticks": ""
           },
           "bgcolor": "#E5ECF6",
           "radialaxis": {
            "gridcolor": "white",
            "linecolor": "white",
            "ticks": ""
           }
          },
          "scene": {
           "xaxis": {
            "backgroundcolor": "#E5ECF6",
            "gridcolor": "white",
            "gridwidth": 2,
            "linecolor": "white",
            "showbackground": true,
            "ticks": "",
            "zerolinecolor": "white"
           },
           "yaxis": {
            "backgroundcolor": "#E5ECF6",
            "gridcolor": "white",
            "gridwidth": 2,
            "linecolor": "white",
            "showbackground": true,
            "ticks": "",
            "zerolinecolor": "white"
           },
           "zaxis": {
            "backgroundcolor": "#E5ECF6",
            "gridcolor": "white",
            "gridwidth": 2,
            "linecolor": "white",
            "showbackground": true,
            "ticks": "",
            "zerolinecolor": "white"
           }
          },
          "shapedefaults": {
           "line": {
            "color": "#2a3f5f"
           }
          },
          "ternary": {
           "aaxis": {
            "gridcolor": "white",
            "linecolor": "white",
            "ticks": ""
           },
           "baxis": {
            "gridcolor": "white",
            "linecolor": "white",
            "ticks": ""
           },
           "bgcolor": "#E5ECF6",
           "caxis": {
            "gridcolor": "white",
            "linecolor": "white",
            "ticks": ""
           }
          },
          "title": {
           "x": 0.05
          },
          "xaxis": {
           "automargin": true,
           "gridcolor": "white",
           "linecolor": "white",
           "ticks": "",
           "title": {
            "standoff": 15
           },
           "zerolinecolor": "white",
           "zerolinewidth": 2
          },
          "yaxis": {
           "automargin": true,
           "gridcolor": "white",
           "linecolor": "white",
           "ticks": "",
           "title": {
            "standoff": 15
           },
           "zerolinecolor": "white",
           "zerolinewidth": 2
          }
         }
        },
        "title": {
         "text": "Histogram of Fairly Active Minutes"
        },
        "width": 800,
        "xaxis": {
         "anchor": "y",
         "domain": [
          0,
          1
         ],
         "title": {
          "text": "FairlyActiveMinutes"
         }
        },
        "yaxis": {
         "anchor": "x",
         "domain": [
          0,
          1
         ],
         "title": {
          "text": "count"
         }
        }
       }
      }
     },
     "metadata": {},
     "output_type": "display_data"
    },
    {
     "data": {
      "application/vnd.plotly.v1+json": {
       "config": {
        "plotlyServerURL": "https://plot.ly"
       },
       "data": [
        {
         "alignmentgroup": "True",
         "bingroup": "x",
         "hovertemplate": "LightlyActiveMinutes=%{x}<br>count=%{y}<extra></extra>",
         "legendgroup": "",
         "marker": {
          "color": "#636efa",
          "pattern": {
           "shape": ""
          }
         },
         "name": "",
         "offsetgroup": "",
         "orientation": "v",
         "showlegend": false,
         "type": "histogram",
         "x": [
          328,
          217,
          181,
          209,
          221,
          164,
          233,
          264,
          205,
          211,
          130,
          262,
          238,
          216,
          279,
          243,
          189,
          243,
          217,
          246,
          277,
          254,
          203,
          250,
          289,
          175,
          203,
          206,
          214,
          251,
          0,
          146,
          148,
          236,
          96,
          176,
          127,
          202,
          141,
          151,
          186,
          199,
          227,
          185,
          202,
          140,
          154,
          115,
          150,
          224,
          171,
          166,
          96,
          118,
          117,
          102,
          182,
          152,
          91,
          139,
          112,
          107,
          256,
          135,
          252,
          170,
          212,
          186,
          121,
          278,
          125,
          38,
          86,
          160,
          89,
          94,
          223,
          118,
          227,
          120,
          402,
          146,
          148,
          221,
          52,
          81,
          369,
          243,
          295,
          303,
          155,
          49,
          339,
          248,
          373,
          176,
          147,
          199,
          217,
          10,
          1,
          308,
          220,
          139,
          0,
          0,
          0,
          1,
          302,
          247,
          184,
          75,
          0,
          184,
          87,
          120,
          2,
          0,
          0,
          0,
          0,
          0,
          0,
          55,
          32,
          88,
          51,
          0,
          0,
          17,
          0,
          0,
          0,
          10,
          145,
          75,
          12,
          192,
          0,
          95,
          0,
          0,
          70,
          94,
          17,
          87,
          0,
          108,
          48,
          0,
          0,
          0,
          0,
          0,
          227,
          292,
          257,
          282,
          151,
          331,
          311,
          250,
          276,
          255,
          273,
          249,
          216,
          217,
          275,
          282,
          291,
          281,
          361,
          245,
          277,
          250,
          272,
          253,
          295,
          149,
          135,
          297,
          271,
          224,
          236,
          181,
          238,
          197,
          188,
          150,
          60,
          182,
          141,
          327,
          153,
          162,
          432,
          164,
          260,
          288,
          286,
          331,
          352,
          233,
          191,
          355,
          304,
          345,
          475,
          383,
          229,
          258,
          401,
          17,
          330,
          343,
          306,
          335,
          191,
          245,
          195,
          249,
          260,
          228,
          283,
          127,
          266,
          242,
          204,
          152,
          147,
          82,
          76,
          45,
          234,
          40,
          123,
          206,
          52,
          223,
          204,
          319,
          247,
          145,
          290,
          300,
          128,
          320,
          195,
          206,
          284,
          268,
          249,
          206,
          382,
          269,
          208,
          206,
          360,
          360,
          277,
          227,
          295,
          229,
          4,
          356,
          404,
          331,
          448,
          305,
          160,
          311,
          389,
          378,
          371,
          366,
          330,
          190,
          359,
          309,
          197,
          213,
          206,
          248,
          196,
          334,
          363,
          420,
          311,
          370,
          52,
          326,
          345,
          373,
          319,
          268,
          280,
          371,
          370,
          335,
          356,
          322,
          343,
          376,
          274,
          376,
          206,
          303,
          292,
          416,
          333,
          346,
          385,
          402,
          300,
          172,
          131,
          153,
          214,
          183,
          153,
          205,
          214,
          221,
          164,
          242,
          188,
          252,
          129,
          133,
          170,
          176,
          190,
          150,
          194,
          124,
          176,
          258,
          142,
          178,
          168,
          208,
          171,
          151,
          196,
          9,
          331,
          0,
          3,
          87,
          55,
          2,
          2,
          0,
          0,
          0,
          0,
          0,
          0,
          0,
          0,
          0,
          0,
          0,
          0,
          0,
          31,
          174,
          346,
          196,
          177,
          184,
          263,
          173,
          206,
          134,
          21,
          164,
          160,
          0,
          88,
          0,
          96,
          339,
          228,
          194,
          3,
          58,
          311,
          306,
          34,
          176,
          233,
          191,
          390,
          288,
          300,
          359,
          289,
          196,
          67,
          344,
          287,
          313,
          328,
          314,
          279,
          153,
          374,
          329,
          311,
          2,
          0,
          150,
          219,
          299,
          253,
          201,
          239,
          249,
          228,
          272,
          220,
          215,
          239,
          301,
          224,
          241,
          234,
          236,
          300,
          241,
          204,
          306,
          251,
          199,
          262,
          260,
          178,
          258,
          267,
          256,
          108,
          196,
          194,
          231,
          350,
          225,
          114,
          162,
          121,
          137,
          215,
          317,
          201,
          244,
          179,
          180,
          194,
          236,
          226,
          290,
          240,
          200,
          233,
          180,
          185,
          229,
          108,
          308,
          266,
          231,
          232,
          58,
          318,
          127,
          279,
          262,
          308,
          304,
          331,
          248,
          222,
          432,
          273,
          308,
          395,
          340,
          283,
          312,
          367,
          197,
          293,
          190,
          383,
          237,
          252,
          370,
          202,
          233,
          238,
          339,
          220,
          324,
          247,
          263,
          258,
          271,
          256,
          335,
          302,
          191,
          179,
          260,
          144,
          72,
          408,
          281,
          270,
          216,
          238,
          232,
          267,
          263,
          0,
          195,
          313,
          251,
          241,
          207,
          439,
          192,
          253,
          262,
          235,
          68,
          277,
          226,
          256,
          239,
          288,
          46,
          206,
          249,
          148,
          177,
          270,
          272,
          104,
          201,
          238,
          206,
          165,
          270,
          84,
          237,
          227,
          247,
          224,
          241,
          229,
          96,
          210,
          251,
          265,
          195,
          48,
          140,
          144,
          176,
          199,
          158,
          159,
          130,
          111,
          113,
          175,
          200,
          223,
          141,
          214,
          181,
          190,
          141,
          165,
          163,
          178,
          235,
          212,
          141,
          143,
          79,
          0,
          0,
          70,
          194,
          63,
          0,
          0,
          0,
          513,
          518,
          312,
          241,
          480,
          349,
          294,
          402,
          512,
          362,
          0,
          352,
          458,
          141,
          461,
          343,
          397,
          236,
          0,
          156,
          487,
          133,
          412,
          318,
          197,
          199,
          350,
          363,
          328,
          258,
          225,
          271,
          321,
          258,
          0,
          302,
          0,
          258,
          249,
          0,
          287,
          255,
          0,
          324,
          282,
          268,
          240,
          272,
          239,
          305,
          227,
          251,
          264,
          0,
          0,
          85,
          105,
          58,
          9,
          19,
          146,
          0,
          178,
          0,
          20,
          0,
          11,
          92,
          47,
          0,
          15,
          0,
          84,
          50,
          0,
          1,
          0,
          0,
          75,
          49,
          189,
          142,
          86,
          217,
          280,
          295,
          238,
          195,
          297,
          214,
          240,
          347,
          199,
          282,
          254,
          279,
          288,
          369,
          237,
          215,
          313,
          267,
          284,
          305,
          299,
          328,
          151,
          231,
          275,
          199,
          105,
          355,
          261,
          304,
          202,
          203,
          305,
          284,
          304,
          347,
          327,
          261,
          223,
          419,
          379,
          424,
          337,
          401,
          382,
          200,
          237,
          250,
          330,
          0,
          317,
          247,
          0,
          153,
          155,
          189,
          139,
          3,
          0,
          114,
          124,
          145,
          206,
          153,
          90,
          125,
          129,
          132,
          145,
          161,
          182,
          308,
          258,
          139,
          152,
          135,
          149,
          154,
          209,
          147,
          171,
          106,
          128,
          58,
          123,
          156,
          193,
          158,
          83,
          195,
          195,
          191,
          158,
          170,
          117,
          223,
          182,
          209,
          185,
          183,
          153,
          159,
          131,
          51,
          95,
          165,
          123,
          130,
          90,
          148,
          228,
          148,
          115,
          184,
          39,
          154,
          96,
          33,
          105,
          115,
          157,
          130,
          164,
          216,
          172,
          120,
          191,
          82,
          118,
          108,
          104,
          20,
          136,
          0,
          156,
          169,
          174,
          190,
          142,
          93,
          174,
          154,
          169,
          145,
          159,
          136,
          135,
          141,
          161,
          192,
          139,
          172,
          121,
          127,
          142,
          195,
          167,
          214,
          166,
          158,
          139,
          171,
          152,
          184,
          102,
          196,
          163,
          134,
          65,
          0,
          0,
          105,
          166,
          167,
          158,
          212,
          238,
          206,
          122,
          214,
          129,
          203,
          258,
          317,
          117,
          0,
          0,
          0,
          70,
          166,
          250,
          182,
          110,
          162,
          177,
          0,
          116,
          82,
          84,
          126,
          12,
          0,
          0,
          0,
          139,
          9,
          195,
          232,
          19,
          0,
          80,
          112,
          310,
          380,
          301,
          79,
          101,
          156,
          129,
          0,
          0,
          0,
          0,
          0,
          0,
          312,
          216,
          298,
          281,
          429,
          307,
          191,
          214,
          225,
          226,
          236,
          300,
          227,
          218,
          258,
          235,
          231,
          210,
          223,
          166,
          105,
          229,
          212,
          188,
          232,
          271,
          245,
          217,
          224,
          213,
          137
         ],
         "xaxis": "x",
         "yaxis": "y"
        }
       ],
       "layout": {
        "barmode": "relative",
        "legend": {
         "tracegroupgap": 0
        },
        "template": {
         "data": {
          "bar": [
           {
            "error_x": {
             "color": "#2a3f5f"
            },
            "error_y": {
             "color": "#2a3f5f"
            },
            "marker": {
             "line": {
              "color": "#E5ECF6",
              "width": 0.5
             },
             "pattern": {
              "fillmode": "overlay",
              "size": 10,
              "solidity": 0.2
             }
            },
            "type": "bar"
           }
          ],
          "barpolar": [
           {
            "marker": {
             "line": {
              "color": "#E5ECF6",
              "width": 0.5
             },
             "pattern": {
              "fillmode": "overlay",
              "size": 10,
              "solidity": 0.2
             }
            },
            "type": "barpolar"
           }
          ],
          "carpet": [
           {
            "aaxis": {
             "endlinecolor": "#2a3f5f",
             "gridcolor": "white",
             "linecolor": "white",
             "minorgridcolor": "white",
             "startlinecolor": "#2a3f5f"
            },
            "baxis": {
             "endlinecolor": "#2a3f5f",
             "gridcolor": "white",
             "linecolor": "white",
             "minorgridcolor": "white",
             "startlinecolor": "#2a3f5f"
            },
            "type": "carpet"
           }
          ],
          "choropleth": [
           {
            "colorbar": {
             "outlinewidth": 0,
             "ticks": ""
            },
            "type": "choropleth"
           }
          ],
          "contour": [
           {
            "colorbar": {
             "outlinewidth": 0,
             "ticks": ""
            },
            "colorscale": [
             [
              0,
              "#0d0887"
             ],
             [
              0.1111111111111111,
              "#46039f"
             ],
             [
              0.2222222222222222,
              "#7201a8"
             ],
             [
              0.3333333333333333,
              "#9c179e"
             ],
             [
              0.4444444444444444,
              "#bd3786"
             ],
             [
              0.5555555555555556,
              "#d8576b"
             ],
             [
              0.6666666666666666,
              "#ed7953"
             ],
             [
              0.7777777777777778,
              "#fb9f3a"
             ],
             [
              0.8888888888888888,
              "#fdca26"
             ],
             [
              1,
              "#f0f921"
             ]
            ],
            "type": "contour"
           }
          ],
          "contourcarpet": [
           {
            "colorbar": {
             "outlinewidth": 0,
             "ticks": ""
            },
            "type": "contourcarpet"
           }
          ],
          "heatmap": [
           {
            "colorbar": {
             "outlinewidth": 0,
             "ticks": ""
            },
            "colorscale": [
             [
              0,
              "#0d0887"
             ],
             [
              0.1111111111111111,
              "#46039f"
             ],
             [
              0.2222222222222222,
              "#7201a8"
             ],
             [
              0.3333333333333333,
              "#9c179e"
             ],
             [
              0.4444444444444444,
              "#bd3786"
             ],
             [
              0.5555555555555556,
              "#d8576b"
             ],
             [
              0.6666666666666666,
              "#ed7953"
             ],
             [
              0.7777777777777778,
              "#fb9f3a"
             ],
             [
              0.8888888888888888,
              "#fdca26"
             ],
             [
              1,
              "#f0f921"
             ]
            ],
            "type": "heatmap"
           }
          ],
          "heatmapgl": [
           {
            "colorbar": {
             "outlinewidth": 0,
             "ticks": ""
            },
            "colorscale": [
             [
              0,
              "#0d0887"
             ],
             [
              0.1111111111111111,
              "#46039f"
             ],
             [
              0.2222222222222222,
              "#7201a8"
             ],
             [
              0.3333333333333333,
              "#9c179e"
             ],
             [
              0.4444444444444444,
              "#bd3786"
             ],
             [
              0.5555555555555556,
              "#d8576b"
             ],
             [
              0.6666666666666666,
              "#ed7953"
             ],
             [
              0.7777777777777778,
              "#fb9f3a"
             ],
             [
              0.8888888888888888,
              "#fdca26"
             ],
             [
              1,
              "#f0f921"
             ]
            ],
            "type": "heatmapgl"
           }
          ],
          "histogram": [
           {
            "marker": {
             "pattern": {
              "fillmode": "overlay",
              "size": 10,
              "solidity": 0.2
             }
            },
            "type": "histogram"
           }
          ],
          "histogram2d": [
           {
            "colorbar": {
             "outlinewidth": 0,
             "ticks": ""
            },
            "colorscale": [
             [
              0,
              "#0d0887"
             ],
             [
              0.1111111111111111,
              "#46039f"
             ],
             [
              0.2222222222222222,
              "#7201a8"
             ],
             [
              0.3333333333333333,
              "#9c179e"
             ],
             [
              0.4444444444444444,
              "#bd3786"
             ],
             [
              0.5555555555555556,
              "#d8576b"
             ],
             [
              0.6666666666666666,
              "#ed7953"
             ],
             [
              0.7777777777777778,
              "#fb9f3a"
             ],
             [
              0.8888888888888888,
              "#fdca26"
             ],
             [
              1,
              "#f0f921"
             ]
            ],
            "type": "histogram2d"
           }
          ],
          "histogram2dcontour": [
           {
            "colorbar": {
             "outlinewidth": 0,
             "ticks": ""
            },
            "colorscale": [
             [
              0,
              "#0d0887"
             ],
             [
              0.1111111111111111,
              "#46039f"
             ],
             [
              0.2222222222222222,
              "#7201a8"
             ],
             [
              0.3333333333333333,
              "#9c179e"
             ],
             [
              0.4444444444444444,
              "#bd3786"
             ],
             [
              0.5555555555555556,
              "#d8576b"
             ],
             [
              0.6666666666666666,
              "#ed7953"
             ],
             [
              0.7777777777777778,
              "#fb9f3a"
             ],
             [
              0.8888888888888888,
              "#fdca26"
             ],
             [
              1,
              "#f0f921"
             ]
            ],
            "type": "histogram2dcontour"
           }
          ],
          "mesh3d": [
           {
            "colorbar": {
             "outlinewidth": 0,
             "ticks": ""
            },
            "type": "mesh3d"
           }
          ],
          "parcoords": [
           {
            "line": {
             "colorbar": {
              "outlinewidth": 0,
              "ticks": ""
             }
            },
            "type": "parcoords"
           }
          ],
          "pie": [
           {
            "automargin": true,
            "type": "pie"
           }
          ],
          "scatter": [
           {
            "fillpattern": {
             "fillmode": "overlay",
             "size": 10,
             "solidity": 0.2
            },
            "type": "scatter"
           }
          ],
          "scatter3d": [
           {
            "line": {
             "colorbar": {
              "outlinewidth": 0,
              "ticks": ""
             }
            },
            "marker": {
             "colorbar": {
              "outlinewidth": 0,
              "ticks": ""
             }
            },
            "type": "scatter3d"
           }
          ],
          "scattercarpet": [
           {
            "marker": {
             "colorbar": {
              "outlinewidth": 0,
              "ticks": ""
             }
            },
            "type": "scattercarpet"
           }
          ],
          "scattergeo": [
           {
            "marker": {
             "colorbar": {
              "outlinewidth": 0,
              "ticks": ""
             }
            },
            "type": "scattergeo"
           }
          ],
          "scattergl": [
           {
            "marker": {
             "colorbar": {
              "outlinewidth": 0,
              "ticks": ""
             }
            },
            "type": "scattergl"
           }
          ],
          "scattermapbox": [
           {
            "marker": {
             "colorbar": {
              "outlinewidth": 0,
              "ticks": ""
             }
            },
            "type": "scattermapbox"
           }
          ],
          "scatterpolar": [
           {
            "marker": {
             "colorbar": {
              "outlinewidth": 0,
              "ticks": ""
             }
            },
            "type": "scatterpolar"
           }
          ],
          "scatterpolargl": [
           {
            "marker": {
             "colorbar": {
              "outlinewidth": 0,
              "ticks": ""
             }
            },
            "type": "scatterpolargl"
           }
          ],
          "scatterternary": [
           {
            "marker": {
             "colorbar": {
              "outlinewidth": 0,
              "ticks": ""
             }
            },
            "type": "scatterternary"
           }
          ],
          "surface": [
           {
            "colorbar": {
             "outlinewidth": 0,
             "ticks": ""
            },
            "colorscale": [
             [
              0,
              "#0d0887"
             ],
             [
              0.1111111111111111,
              "#46039f"
             ],
             [
              0.2222222222222222,
              "#7201a8"
             ],
             [
              0.3333333333333333,
              "#9c179e"
             ],
             [
              0.4444444444444444,
              "#bd3786"
             ],
             [
              0.5555555555555556,
              "#d8576b"
             ],
             [
              0.6666666666666666,
              "#ed7953"
             ],
             [
              0.7777777777777778,
              "#fb9f3a"
             ],
             [
              0.8888888888888888,
              "#fdca26"
             ],
             [
              1,
              "#f0f921"
             ]
            ],
            "type": "surface"
           }
          ],
          "table": [
           {
            "cells": {
             "fill": {
              "color": "#EBF0F8"
             },
             "line": {
              "color": "white"
             }
            },
            "header": {
             "fill": {
              "color": "#C8D4E3"
             },
             "line": {
              "color": "white"
             }
            },
            "type": "table"
           }
          ]
         },
         "layout": {
          "annotationdefaults": {
           "arrowcolor": "#2a3f5f",
           "arrowhead": 0,
           "arrowwidth": 1
          },
          "autotypenumbers": "strict",
          "coloraxis": {
           "colorbar": {
            "outlinewidth": 0,
            "ticks": ""
           }
          },
          "colorscale": {
           "diverging": [
            [
             0,
             "#8e0152"
            ],
            [
             0.1,
             "#c51b7d"
            ],
            [
             0.2,
             "#de77ae"
            ],
            [
             0.3,
             "#f1b6da"
            ],
            [
             0.4,
             "#fde0ef"
            ],
            [
             0.5,
             "#f7f7f7"
            ],
            [
             0.6,
             "#e6f5d0"
            ],
            [
             0.7,
             "#b8e186"
            ],
            [
             0.8,
             "#7fbc41"
            ],
            [
             0.9,
             "#4d9221"
            ],
            [
             1,
             "#276419"
            ]
           ],
           "sequential": [
            [
             0,
             "#0d0887"
            ],
            [
             0.1111111111111111,
             "#46039f"
            ],
            [
             0.2222222222222222,
             "#7201a8"
            ],
            [
             0.3333333333333333,
             "#9c179e"
            ],
            [
             0.4444444444444444,
             "#bd3786"
            ],
            [
             0.5555555555555556,
             "#d8576b"
            ],
            [
             0.6666666666666666,
             "#ed7953"
            ],
            [
             0.7777777777777778,
             "#fb9f3a"
            ],
            [
             0.8888888888888888,
             "#fdca26"
            ],
            [
             1,
             "#f0f921"
            ]
           ],
           "sequentialminus": [
            [
             0,
             "#0d0887"
            ],
            [
             0.1111111111111111,
             "#46039f"
            ],
            [
             0.2222222222222222,
             "#7201a8"
            ],
            [
             0.3333333333333333,
             "#9c179e"
            ],
            [
             0.4444444444444444,
             "#bd3786"
            ],
            [
             0.5555555555555556,
             "#d8576b"
            ],
            [
             0.6666666666666666,
             "#ed7953"
            ],
            [
             0.7777777777777778,
             "#fb9f3a"
            ],
            [
             0.8888888888888888,
             "#fdca26"
            ],
            [
             1,
             "#f0f921"
            ]
           ]
          },
          "colorway": [
           "#636efa",
           "#EF553B",
           "#00cc96",
           "#ab63fa",
           "#FFA15A",
           "#19d3f3",
           "#FF6692",
           "#B6E880",
           "#FF97FF",
           "#FECB52"
          ],
          "font": {
           "color": "#2a3f5f"
          },
          "geo": {
           "bgcolor": "white",
           "lakecolor": "white",
           "landcolor": "#E5ECF6",
           "showlakes": true,
           "showland": true,
           "subunitcolor": "white"
          },
          "hoverlabel": {
           "align": "left"
          },
          "hovermode": "closest",
          "mapbox": {
           "style": "light"
          },
          "paper_bgcolor": "white",
          "plot_bgcolor": "#E5ECF6",
          "polar": {
           "angularaxis": {
            "gridcolor": "white",
            "linecolor": "white",
            "ticks": ""
           },
           "bgcolor": "#E5ECF6",
           "radialaxis": {
            "gridcolor": "white",
            "linecolor": "white",
            "ticks": ""
           }
          },
          "scene": {
           "xaxis": {
            "backgroundcolor": "#E5ECF6",
            "gridcolor": "white",
            "gridwidth": 2,
            "linecolor": "white",
            "showbackground": true,
            "ticks": "",
            "zerolinecolor": "white"
           },
           "yaxis": {
            "backgroundcolor": "#E5ECF6",
            "gridcolor": "white",
            "gridwidth": 2,
            "linecolor": "white",
            "showbackground": true,
            "ticks": "",
            "zerolinecolor": "white"
           },
           "zaxis": {
            "backgroundcolor": "#E5ECF6",
            "gridcolor": "white",
            "gridwidth": 2,
            "linecolor": "white",
            "showbackground": true,
            "ticks": "",
            "zerolinecolor": "white"
           }
          },
          "shapedefaults": {
           "line": {
            "color": "#2a3f5f"
           }
          },
          "ternary": {
           "aaxis": {
            "gridcolor": "white",
            "linecolor": "white",
            "ticks": ""
           },
           "baxis": {
            "gridcolor": "white",
            "linecolor": "white",
            "ticks": ""
           },
           "bgcolor": "#E5ECF6",
           "caxis": {
            "gridcolor": "white",
            "linecolor": "white",
            "ticks": ""
           }
          },
          "title": {
           "x": 0.05
          },
          "xaxis": {
           "automargin": true,
           "gridcolor": "white",
           "linecolor": "white",
           "ticks": "",
           "title": {
            "standoff": 15
           },
           "zerolinecolor": "white",
           "zerolinewidth": 2
          },
          "yaxis": {
           "automargin": true,
           "gridcolor": "white",
           "linecolor": "white",
           "ticks": "",
           "title": {
            "standoff": 15
           },
           "zerolinecolor": "white",
           "zerolinewidth": 2
          }
         }
        },
        "title": {
         "text": "Histogram of Lightly Active Minutes"
        },
        "width": 800,
        "xaxis": {
         "anchor": "y",
         "domain": [
          0,
          1
         ],
         "title": {
          "text": "LightlyActiveMinutes"
         }
        },
        "yaxis": {
         "anchor": "x",
         "domain": [
          0,
          1
         ],
         "title": {
          "text": "count"
         }
        }
       }
      }
     },
     "metadata": {},
     "output_type": "display_data"
    },
    {
     "data": {
      "application/vnd.plotly.v1+json": {
       "config": {
        "plotlyServerURL": "https://plot.ly"
       },
       "data": [
        {
         "alignmentgroup": "True",
         "bingroup": "x",
         "hovertemplate": "SedentaryMinutes=%{x}<br>count=%{y}<extra></extra>",
         "legendgroup": "",
         "marker": {
          "color": "#636efa",
          "pattern": {
           "shape": ""
          }
         },
         "name": "",
         "offsetgroup": "",
         "orientation": "v",
         "showlegend": false,
         "type": "histogram",
         "x": [
          728,
          776,
          1218,
          726,
          773,
          539,
          1149,
          775,
          818,
          838,
          1217,
          732,
          709,
          814,
          833,
          1108,
          782,
          815,
          712,
          730,
          798,
          816,
          1179,
          857,
          754,
          833,
          574,
          835,
          746,
          669,
          1440,
          1294,
          1292,
          1204,
          1344,
          1264,
          1276,
          1214,
          1299,
          1289,
          1254,
          1241,
          1213,
          1221,
          1238,
          1300,
          1233,
          1320,
          1290,
          1182,
          1020,
          1261,
          1344,
          1322,
          1323,
          1338,
          1258,
          1288,
          1349,
          1301,
          1328,
          890,
          1131,
          1259,
          1125,
          1263,
          1135,
          1212,
          1271,
          1099,
          1315,
          1402,
          1354,
          1265,
          1351,
          1337,
          1165,
          1322,
          1157,
          1193,
          816,
          908,
          682,
          1115,
          1388,
          1341,
          1054,
          1139,
          991,
          1099,
          1254,
          713,
          1101,
          1192,
          843,
          527,
          1293,
          1231,
          1211,
          1430,
          1439,
          1117,
          1220,
          1301,
          1440,
          1440,
          1440,
          1439,
          1138,
          1082,
          218,
          585,
          1440,
          1256,
          1353,
          1320,
          1438,
          1440,
          1440,
          1440,
          1440,
          1440,
          711,
          734,
          986,
          1292,
          941,
          1440,
          1440,
          1423,
          1440,
          1440,
          1440,
          1430,
          1295,
          1358,
          1303,
          1058,
          1440,
          1167,
          1440,
          1440,
          1355,
          1322,
          1413,
          1353,
          1440,
          1332,
          1392,
          1440,
          1440,
          1440,
          1440,
          966,
          1157,
          1100,
          1148,
          1122,
          1237,
          1052,
          1078,
          1152,
          1053,
          1028,
          1105,
          1191,
          1161,
          1171,
          1086,
          1119,
          1123,
          1098,
          1043,
          1142,
          1119,
          1104,
          1105,
          1112,
          1104,
          1269,
          1305,
          1061,
          1084,
          1133,
          728,
          706,
          663,
          653,
          687,
          728,
          1053,
          1062,
          785,
          623,
          749,
          712,
          458,
          704,
          821,
          1018,
          586,
          626,
          492,
          594,
          716,
          716,
          981,
          530,
          479,
          511,
          665,
          610,
          543,
          1002,
          569,
          330,
          1112,
          1105,
          1249,
          1195,
          1245,
          1191,
          1173,
          1201,
          1146,
          1302,
          1174,
          1129,
          1236,
          1280,
          1293,
          1358,
          1364,
          1395,
          1206,
          1400,
          1306,
          1204,
          1388,
          1206,
          1236,
          1121,
          1193,
          1295,
          1150,
          1140,
          830,
          964,
          676,
          705,
          720,
          968,
          508,
          678,
          648,
          1011,
          761,
          781,
          591,
          584,
          653,
          732,
          623,
          764,
          2,
          1061,
          1028,
          1109,
          992,
          1087,
          1272,
          1122,
          1051,
          1035,
          1057,
          1028,
          1077,
          1203,
          1081,
          1124,
          1197,
          1192,
          1191,
          1167,
          1219,
          1099,
          1070,
          1020,
          1093,
          1065,
          1302,
          1068,
          1095,
          1067,
          1121,
          720,
          1160,
          1045,
          1039,
          1105,
          1084,
          1105,
          1070,
          1064,
          1148,
          1037,
          1234,
          1115,
          1127,
          1024,
          1083,
          1057,
          1055,
          1038,
          1119,
          842,
          777,
          754,
          801,
          644,
          663,
          600,
          605,
          738,
          845,
          712,
          731,
          724,
          660,
          781,
          797,
          714,
          804,
          744,
          687,
          691,
          713,
          594,
          852,
          680,
          676,
          703,
          688,
          1159,
          676,
          13,
          712,
          1440,
          1437,
          1299,
          1222,
          1438,
          1438,
          1440,
          1440,
          1440,
          1440,
          1440,
          1440,
          1440,
          1440,
          1440,
          1440,
          1440,
          1440,
          1440,
          1350,
          950,
          531,
          916,
          855,
          1256,
          775,
          1225,
          774,
          1296,
          721,
          1276,
          1280,
          1440,
          873,
          1440,
          1234,
          589,
          752,
          724,
          1363,
          824,
          604,
          671,
          1265,
          709,
          546,
          692,
          544,
          649,
          680,
          552,
          624,
          695,
          836,
          585,
          669,
          1106,
          957,
          692,
          586,
          603,
          490,
          555,
          574,
          0,
          1440,
          1275,
          945,
          837,
          609,
          721,
          1017,
          704,
          696,
          853,
          945,
          749,
          584,
          1054,
          673,
          684,
          878,
          1175,
          537,
          579,
          935,
          984,
          632,
          896,
          1100,
          508,
          576,
          1020,
          648,
          858,
          825,
          787,
          840,
          717,
          711,
          716,
          1219,
          1247,
          895,
          841,
          756,
          706,
          1239,
          1196,
          916,
          839,
          839,
          762,
          1106,
          797,
          741,
          667,
          725,
          897,
          734,
          809,
          866,
          733,
          641,
          783,
          622,
          380,
          1122,
          1287,
          1161,
          1131,
          1112,
          1110,
          1080,
          1182,
          1218,
          844,
          1122,
          1122,
          1045,
          993,
          1062,
          1087,
          985,
          1096,
          1111,
          1121,
          1057,
          1172,
          1188,
          1048,
          1238,
          1116,
          1019,
          1065,
          1191,
          1081,
          736,
          718,
          777,
          772,
          944,
          556,
          437,
          890,
          757,
          717,
          901,
          1341,
          469,
          542,
          730,
          765,
          733,
          738,
          692,
          728,
          1440,
          1131,
          729,
          757,
          745,
          682,
          577,
          1019,
          746,
          701,
          784,
          241,
          767,
          647,
          693,
          689,
          521,
          943,
          622,
          756,
          598,
          801,
          781,
          443,
          582,
          732,
          750,
          745,
          727,
          709,
          506,
          436,
          724,
          812,
          651,
          692,
          761,
          902,
          505,
          667,
          707,
          628,
          222,
          728,
          776,
          662,
          695,
          472,
          525,
          623,
          733,
          773,
          670,
          823,
          627,
          425,
          743,
          759,
          773,
          692,
          739,
          621,
          499,
          732,
          580,
          631,
          1153,
          1304,
          1440,
          1440,
          1099,
          639,
          257,
          1440,
          1440,
          1440,
          921,
          502,
          702,
          759,
          425,
          587,
          579,
          413,
          468,
          711,
          1440,
          1077,
          417,
          758,
          479,
          1040,
          525,
          1204,
          1440,
          1279,
          479,
          673,
          456,
          517,
          125,
          1241,
          1090,
          1077,
          1112,
          1182,
          1172,
          1169,
          1119,
          1182,
          1440,
          1138,
          1407,
          1182,
          1180,
          1440,
          1153,
          1185,
          1440,
          1116,
          1055,
          1172,
          1200,
          1168,
          1201,
          1135,
          1213,
          1189,
          800,
          1440,
          1440,
          1053,
          863,
          976,
          1377,
          1392,
          1233,
          1440,
          1079,
          1440,
          1420,
          1440,
          1400,
          1302,
          1321,
          1440,
          1410,
          1440,
          1344,
          1347,
          1440,
          1439,
          1440,
          1440,
          1318,
          551,
          796,
          548,
          862,
          837,
          741,
          634,
          689,
          659,
          639,
          708,
          659,
          484,
          720,
          637,
          680,
          697,
          621,
          645,
          731,
          722,
          655,
          654,
          683,
          591,
          717,
          745,
          709,
          607,
          626,
          709,
          127,
          1024,
          1101,
          1096,
          1238,
          1155,
          1135,
          1077,
          1066,
          1000,
          1049,
          1065,
          1190,
          1021,
          986,
          978,
          1041,
          1007,
          961,
          1240,
          1142,
          1112,
          1021,
          1440,
          1047,
          1136,
          111,
          745,
          744,
          787,
          864,
          1437,
          1440,
          1136,
          671,
          797,
          758,
          762,
          1350,
          566,
          706,
          726,
          829,
          810,
          1198,
          584,
          685,
          737,
          761,
          843,
          1253,
          834,
          621,
          695,
          743,
          1182,
          757,
          343,
          1193,
          1177,
          1123,
          1142,
          1255,
          1113,
          1137,
          1152,
          695,
          1164,
          1260,
          741,
          1096,
          1104,
          1182,
          1187,
          1188,
          1215,
          1281,
          1389,
          1345,
          1166,
          1220,
          1208,
          1245,
          1076,
          1073,
          1214,
          1219,
          1189,
          839,
          1244,
          1298,
          1362,
          1335,
          1268,
          1237,
          1278,
          1276,
          1201,
          1199,
          1320,
          1193,
          1313,
          1261,
          1299,
          1286,
          1393,
          1257,
          1440,
          723,
          680,
          699,
          729,
          563,
          599,
          720,
          737,
          763,
          677,
          769,
          740,
          734,
          692,
          593,
          676,
          711,
          767,
          780,
          669,
          802,
          822,
          680,
          764,
          831,
          851,
          621,
          772,
          840,
          763,
          433,
          1237,
          1252,
          1306,
          1375,
          1440,
          1440,
          1309,
          1257,
          1246,
          1229,
          1170,
          1151,
          1188,
          1294,
          1134,
          1229,
          1209,
          1069,
          1093,
          1311,
          1440,
          1440,
          1440,
          1370,
          1250,
          1190,
          1183,
          1260,
          1226,
          1106,
          1440,
          831,
          806,
          853,
          937,
          1428,
          1440,
          1440,
          1440,
          744,
          1431,
          817,
          795,
          1410,
          1440,
          1360,
          900,
          714,
          634,
          749,
          834,
          916,
          739,
          848,
          1440,
          1440,
          1440,
          1440,
          1440,
          48,
          1036,
          1098,
          1061,
          1052,
          888,
          1060,
          1215,
          1131,
          1123,
          1119,
          1141,
          1032,
          1148,
          1101,
          1157,
          1104,
          1143,
          1207,
          1089,
          1226,
          1335,
          1189,
          1154,
          1170,
          1095,
          1036,
          1174,
          1131,
          1187,
          1127,
          770
         ],
         "xaxis": "x",
         "yaxis": "y"
        }
       ],
       "layout": {
        "barmode": "relative",
        "legend": {
         "tracegroupgap": 0
        },
        "template": {
         "data": {
          "bar": [
           {
            "error_x": {
             "color": "#2a3f5f"
            },
            "error_y": {
             "color": "#2a3f5f"
            },
            "marker": {
             "line": {
              "color": "#E5ECF6",
              "width": 0.5
             },
             "pattern": {
              "fillmode": "overlay",
              "size": 10,
              "solidity": 0.2
             }
            },
            "type": "bar"
           }
          ],
          "barpolar": [
           {
            "marker": {
             "line": {
              "color": "#E5ECF6",
              "width": 0.5
             },
             "pattern": {
              "fillmode": "overlay",
              "size": 10,
              "solidity": 0.2
             }
            },
            "type": "barpolar"
           }
          ],
          "carpet": [
           {
            "aaxis": {
             "endlinecolor": "#2a3f5f",
             "gridcolor": "white",
             "linecolor": "white",
             "minorgridcolor": "white",
             "startlinecolor": "#2a3f5f"
            },
            "baxis": {
             "endlinecolor": "#2a3f5f",
             "gridcolor": "white",
             "linecolor": "white",
             "minorgridcolor": "white",
             "startlinecolor": "#2a3f5f"
            },
            "type": "carpet"
           }
          ],
          "choropleth": [
           {
            "colorbar": {
             "outlinewidth": 0,
             "ticks": ""
            },
            "type": "choropleth"
           }
          ],
          "contour": [
           {
            "colorbar": {
             "outlinewidth": 0,
             "ticks": ""
            },
            "colorscale": [
             [
              0,
              "#0d0887"
             ],
             [
              0.1111111111111111,
              "#46039f"
             ],
             [
              0.2222222222222222,
              "#7201a8"
             ],
             [
              0.3333333333333333,
              "#9c179e"
             ],
             [
              0.4444444444444444,
              "#bd3786"
             ],
             [
              0.5555555555555556,
              "#d8576b"
             ],
             [
              0.6666666666666666,
              "#ed7953"
             ],
             [
              0.7777777777777778,
              "#fb9f3a"
             ],
             [
              0.8888888888888888,
              "#fdca26"
             ],
             [
              1,
              "#f0f921"
             ]
            ],
            "type": "contour"
           }
          ],
          "contourcarpet": [
           {
            "colorbar": {
             "outlinewidth": 0,
             "ticks": ""
            },
            "type": "contourcarpet"
           }
          ],
          "heatmap": [
           {
            "colorbar": {
             "outlinewidth": 0,
             "ticks": ""
            },
            "colorscale": [
             [
              0,
              "#0d0887"
             ],
             [
              0.1111111111111111,
              "#46039f"
             ],
             [
              0.2222222222222222,
              "#7201a8"
             ],
             [
              0.3333333333333333,
              "#9c179e"
             ],
             [
              0.4444444444444444,
              "#bd3786"
             ],
             [
              0.5555555555555556,
              "#d8576b"
             ],
             [
              0.6666666666666666,
              "#ed7953"
             ],
             [
              0.7777777777777778,
              "#fb9f3a"
             ],
             [
              0.8888888888888888,
              "#fdca26"
             ],
             [
              1,
              "#f0f921"
             ]
            ],
            "type": "heatmap"
           }
          ],
          "heatmapgl": [
           {
            "colorbar": {
             "outlinewidth": 0,
             "ticks": ""
            },
            "colorscale": [
             [
              0,
              "#0d0887"
             ],
             [
              0.1111111111111111,
              "#46039f"
             ],
             [
              0.2222222222222222,
              "#7201a8"
             ],
             [
              0.3333333333333333,
              "#9c179e"
             ],
             [
              0.4444444444444444,
              "#bd3786"
             ],
             [
              0.5555555555555556,
              "#d8576b"
             ],
             [
              0.6666666666666666,
              "#ed7953"
             ],
             [
              0.7777777777777778,
              "#fb9f3a"
             ],
             [
              0.8888888888888888,
              "#fdca26"
             ],
             [
              1,
              "#f0f921"
             ]
            ],
            "type": "heatmapgl"
           }
          ],
          "histogram": [
           {
            "marker": {
             "pattern": {
              "fillmode": "overlay",
              "size": 10,
              "solidity": 0.2
             }
            },
            "type": "histogram"
           }
          ],
          "histogram2d": [
           {
            "colorbar": {
             "outlinewidth": 0,
             "ticks": ""
            },
            "colorscale": [
             [
              0,
              "#0d0887"
             ],
             [
              0.1111111111111111,
              "#46039f"
             ],
             [
              0.2222222222222222,
              "#7201a8"
             ],
             [
              0.3333333333333333,
              "#9c179e"
             ],
             [
              0.4444444444444444,
              "#bd3786"
             ],
             [
              0.5555555555555556,
              "#d8576b"
             ],
             [
              0.6666666666666666,
              "#ed7953"
             ],
             [
              0.7777777777777778,
              "#fb9f3a"
             ],
             [
              0.8888888888888888,
              "#fdca26"
             ],
             [
              1,
              "#f0f921"
             ]
            ],
            "type": "histogram2d"
           }
          ],
          "histogram2dcontour": [
           {
            "colorbar": {
             "outlinewidth": 0,
             "ticks": ""
            },
            "colorscale": [
             [
              0,
              "#0d0887"
             ],
             [
              0.1111111111111111,
              "#46039f"
             ],
             [
              0.2222222222222222,
              "#7201a8"
             ],
             [
              0.3333333333333333,
              "#9c179e"
             ],
             [
              0.4444444444444444,
              "#bd3786"
             ],
             [
              0.5555555555555556,
              "#d8576b"
             ],
             [
              0.6666666666666666,
              "#ed7953"
             ],
             [
              0.7777777777777778,
              "#fb9f3a"
             ],
             [
              0.8888888888888888,
              "#fdca26"
             ],
             [
              1,
              "#f0f921"
             ]
            ],
            "type": "histogram2dcontour"
           }
          ],
          "mesh3d": [
           {
            "colorbar": {
             "outlinewidth": 0,
             "ticks": ""
            },
            "type": "mesh3d"
           }
          ],
          "parcoords": [
           {
            "line": {
             "colorbar": {
              "outlinewidth": 0,
              "ticks": ""
             }
            },
            "type": "parcoords"
           }
          ],
          "pie": [
           {
            "automargin": true,
            "type": "pie"
           }
          ],
          "scatter": [
           {
            "fillpattern": {
             "fillmode": "overlay",
             "size": 10,
             "solidity": 0.2
            },
            "type": "scatter"
           }
          ],
          "scatter3d": [
           {
            "line": {
             "colorbar": {
              "outlinewidth": 0,
              "ticks": ""
             }
            },
            "marker": {
             "colorbar": {
              "outlinewidth": 0,
              "ticks": ""
             }
            },
            "type": "scatter3d"
           }
          ],
          "scattercarpet": [
           {
            "marker": {
             "colorbar": {
              "outlinewidth": 0,
              "ticks": ""
             }
            },
            "type": "scattercarpet"
           }
          ],
          "scattergeo": [
           {
            "marker": {
             "colorbar": {
              "outlinewidth": 0,
              "ticks": ""
             }
            },
            "type": "scattergeo"
           }
          ],
          "scattergl": [
           {
            "marker": {
             "colorbar": {
              "outlinewidth": 0,
              "ticks": ""
             }
            },
            "type": "scattergl"
           }
          ],
          "scattermapbox": [
           {
            "marker": {
             "colorbar": {
              "outlinewidth": 0,
              "ticks": ""
             }
            },
            "type": "scattermapbox"
           }
          ],
          "scatterpolar": [
           {
            "marker": {
             "colorbar": {
              "outlinewidth": 0,
              "ticks": ""
             }
            },
            "type": "scatterpolar"
           }
          ],
          "scatterpolargl": [
           {
            "marker": {
             "colorbar": {
              "outlinewidth": 0,
              "ticks": ""
             }
            },
            "type": "scatterpolargl"
           }
          ],
          "scatterternary": [
           {
            "marker": {
             "colorbar": {
              "outlinewidth": 0,
              "ticks": ""
             }
            },
            "type": "scatterternary"
           }
          ],
          "surface": [
           {
            "colorbar": {
             "outlinewidth": 0,
             "ticks": ""
            },
            "colorscale": [
             [
              0,
              "#0d0887"
             ],
             [
              0.1111111111111111,
              "#46039f"
             ],
             [
              0.2222222222222222,
              "#7201a8"
             ],
             [
              0.3333333333333333,
              "#9c179e"
             ],
             [
              0.4444444444444444,
              "#bd3786"
             ],
             [
              0.5555555555555556,
              "#d8576b"
             ],
             [
              0.6666666666666666,
              "#ed7953"
             ],
             [
              0.7777777777777778,
              "#fb9f3a"
             ],
             [
              0.8888888888888888,
              "#fdca26"
             ],
             [
              1,
              "#f0f921"
             ]
            ],
            "type": "surface"
           }
          ],
          "table": [
           {
            "cells": {
             "fill": {
              "color": "#EBF0F8"
             },
             "line": {
              "color": "white"
             }
            },
            "header": {
             "fill": {
              "color": "#C8D4E3"
             },
             "line": {
              "color": "white"
             }
            },
            "type": "table"
           }
          ]
         },
         "layout": {
          "annotationdefaults": {
           "arrowcolor": "#2a3f5f",
           "arrowhead": 0,
           "arrowwidth": 1
          },
          "autotypenumbers": "strict",
          "coloraxis": {
           "colorbar": {
            "outlinewidth": 0,
            "ticks": ""
           }
          },
          "colorscale": {
           "diverging": [
            [
             0,
             "#8e0152"
            ],
            [
             0.1,
             "#c51b7d"
            ],
            [
             0.2,
             "#de77ae"
            ],
            [
             0.3,
             "#f1b6da"
            ],
            [
             0.4,
             "#fde0ef"
            ],
            [
             0.5,
             "#f7f7f7"
            ],
            [
             0.6,
             "#e6f5d0"
            ],
            [
             0.7,
             "#b8e186"
            ],
            [
             0.8,
             "#7fbc41"
            ],
            [
             0.9,
             "#4d9221"
            ],
            [
             1,
             "#276419"
            ]
           ],
           "sequential": [
            [
             0,
             "#0d0887"
            ],
            [
             0.1111111111111111,
             "#46039f"
            ],
            [
             0.2222222222222222,
             "#7201a8"
            ],
            [
             0.3333333333333333,
             "#9c179e"
            ],
            [
             0.4444444444444444,
             "#bd3786"
            ],
            [
             0.5555555555555556,
             "#d8576b"
            ],
            [
             0.6666666666666666,
             "#ed7953"
            ],
            [
             0.7777777777777778,
             "#fb9f3a"
            ],
            [
             0.8888888888888888,
             "#fdca26"
            ],
            [
             1,
             "#f0f921"
            ]
           ],
           "sequentialminus": [
            [
             0,
             "#0d0887"
            ],
            [
             0.1111111111111111,
             "#46039f"
            ],
            [
             0.2222222222222222,
             "#7201a8"
            ],
            [
             0.3333333333333333,
             "#9c179e"
            ],
            [
             0.4444444444444444,
             "#bd3786"
            ],
            [
             0.5555555555555556,
             "#d8576b"
            ],
            [
             0.6666666666666666,
             "#ed7953"
            ],
            [
             0.7777777777777778,
             "#fb9f3a"
            ],
            [
             0.8888888888888888,
             "#fdca26"
            ],
            [
             1,
             "#f0f921"
            ]
           ]
          },
          "colorway": [
           "#636efa",
           "#EF553B",
           "#00cc96",
           "#ab63fa",
           "#FFA15A",
           "#19d3f3",
           "#FF6692",
           "#B6E880",
           "#FF97FF",
           "#FECB52"
          ],
          "font": {
           "color": "#2a3f5f"
          },
          "geo": {
           "bgcolor": "white",
           "lakecolor": "white",
           "landcolor": "#E5ECF6",
           "showlakes": true,
           "showland": true,
           "subunitcolor": "white"
          },
          "hoverlabel": {
           "align": "left"
          },
          "hovermode": "closest",
          "mapbox": {
           "style": "light"
          },
          "paper_bgcolor": "white",
          "plot_bgcolor": "#E5ECF6",
          "polar": {
           "angularaxis": {
            "gridcolor": "white",
            "linecolor": "white",
            "ticks": ""
           },
           "bgcolor": "#E5ECF6",
           "radialaxis": {
            "gridcolor": "white",
            "linecolor": "white",
            "ticks": ""
           }
          },
          "scene": {
           "xaxis": {
            "backgroundcolor": "#E5ECF6",
            "gridcolor": "white",
            "gridwidth": 2,
            "linecolor": "white",
            "showbackground": true,
            "ticks": "",
            "zerolinecolor": "white"
           },
           "yaxis": {
            "backgroundcolor": "#E5ECF6",
            "gridcolor": "white",
            "gridwidth": 2,
            "linecolor": "white",
            "showbackground": true,
            "ticks": "",
            "zerolinecolor": "white"
           },
           "zaxis": {
            "backgroundcolor": "#E5ECF6",
            "gridcolor": "white",
            "gridwidth": 2,
            "linecolor": "white",
            "showbackground": true,
            "ticks": "",
            "zerolinecolor": "white"
           }
          },
          "shapedefaults": {
           "line": {
            "color": "#2a3f5f"
           }
          },
          "ternary": {
           "aaxis": {
            "gridcolor": "white",
            "linecolor": "white",
            "ticks": ""
           },
           "baxis": {
            "gridcolor": "white",
            "linecolor": "white",
            "ticks": ""
           },
           "bgcolor": "#E5ECF6",
           "caxis": {
            "gridcolor": "white",
            "linecolor": "white",
            "ticks": ""
           }
          },
          "title": {
           "x": 0.05
          },
          "xaxis": {
           "automargin": true,
           "gridcolor": "white",
           "linecolor": "white",
           "ticks": "",
           "title": {
            "standoff": 15
           },
           "zerolinecolor": "white",
           "zerolinewidth": 2
          },
          "yaxis": {
           "automargin": true,
           "gridcolor": "white",
           "linecolor": "white",
           "ticks": "",
           "title": {
            "standoff": 15
           },
           "zerolinecolor": "white",
           "zerolinewidth": 2
          }
         }
        },
        "title": {
         "text": "Histogram of Sedentary Minutes"
        },
        "width": 800,
        "xaxis": {
         "anchor": "y",
         "domain": [
          0,
          1
         ],
         "title": {
          "text": "SedentaryMinutes"
         }
        },
        "yaxis": {
         "anchor": "x",
         "domain": [
          0,
          1
         ],
         "title": {
          "text": "count"
         }
        }
       }
      }
     },
     "metadata": {},
     "output_type": "display_data"
    }
   ],
   "source": [
    "fig = px.histogram(\n",
    "    dailyActivity, \n",
    "    x='TotalSteps',\n",
    "    nbins= 94,\n",
    "    title='Histogram of Total Steps',\n",
    "    width=800\n",
    "    )\n",
    "fig.show()\n",
    "\n",
    "fig = px.violin(\n",
    "    dailyActivity,\n",
    "    x='TotalSteps',\n",
    "    box=True,\n",
    "    points='all',\n",
    "    title='Violin plot of Total Steps',\n",
    "    width=800\n",
    ")\n",
    "fig.show()\n",
    "\n",
    "fig = px.histogram(\n",
    "    dailyActivity, \n",
    "    x='Calories',\n",
    "    nbins= 94,\n",
    "    title='Histogram of Calories',\n",
    "    width=800\n",
    "    )\n",
    "fig.show()\n",
    "\n",
    "fig = px.histogram(\n",
    "    dailyActivity, \n",
    "    x='VeryActiveMinutes',\n",
    "    title='Histogram of Very Active Minutes',\n",
    "    width=800\n",
    "    )\n",
    "fig.show()\n",
    "\n",
    "fig = px.histogram(\n",
    "    dailyActivity, \n",
    "    x='FairlyActiveMinutes',\n",
    "    title='Histogram of Fairly Active Minutes',\n",
    "    width=800\n",
    "    )\n",
    "fig.show()\n",
    "\n",
    "fig = px.histogram(\n",
    "    dailyActivity, \n",
    "    x='LightlyActiveMinutes',\n",
    "    title='Histogram of Lightly Active Minutes',\n",
    "    width=800\n",
    "    )\n",
    "fig.show()\n",
    "\n",
    "fig = px.histogram(\n",
    "    dailyActivity, \n",
    "    x='SedentaryMinutes',\n",
    "    title='Histogram of Sedentary Minutes',\n",
    "    width=800\n",
    "    )\n",
    "fig.show()"
   ]
  },
  {
   "cell_type": "markdown",
   "metadata": {},
   "source": [
    "Grouping *dailyActivity* by \"Id\" and aggregating the columns by mean. The resulting dataframe contains the daily averages of each column for each participant. We could use the averages for each individual to represent the overall fitness characteristics for each individual."
   ]
  },
  {
   "cell_type": "code",
   "execution_count": 60,
   "metadata": {},
   "outputs": [
    {
     "data": {
      "text/html": [
       "<div>\n",
       "<style scoped>\n",
       "    .dataframe tbody tr th:only-of-type {\n",
       "        vertical-align: middle;\n",
       "    }\n",
       "\n",
       "    .dataframe tbody tr th {\n",
       "        vertical-align: top;\n",
       "    }\n",
       "\n",
       "    .dataframe thead th {\n",
       "        text-align: right;\n",
       "    }\n",
       "</style>\n",
       "<table border=\"1\" class=\"dataframe\">\n",
       "  <thead>\n",
       "    <tr style=\"text-align: right;\">\n",
       "      <th></th>\n",
       "      <th>TotalSteps_mean</th>\n",
       "      <th>TotalDistance_mean</th>\n",
       "      <th>TrackerDistance_mean</th>\n",
       "      <th>LoggedActivitiesDistance_mean</th>\n",
       "      <th>VeryActiveDistance_mean</th>\n",
       "      <th>ModeratelyActiveDistance_mean</th>\n",
       "      <th>LightActiveDistance_mean</th>\n",
       "      <th>SedentaryActiveDistance_mean</th>\n",
       "      <th>VeryActiveMinutes_mean</th>\n",
       "      <th>FairlyActiveMinutes_mean</th>\n",
       "      <th>LightlyActiveMinutes_mean</th>\n",
       "      <th>SedentaryMinutes_mean</th>\n",
       "      <th>Calories_mean</th>\n",
       "    </tr>\n",
       "    <tr>\n",
       "      <th>Id</th>\n",
       "      <th></th>\n",
       "      <th></th>\n",
       "      <th></th>\n",
       "      <th></th>\n",
       "      <th></th>\n",
       "      <th></th>\n",
       "      <th></th>\n",
       "      <th></th>\n",
       "      <th></th>\n",
       "      <th></th>\n",
       "      <th></th>\n",
       "      <th></th>\n",
       "      <th></th>\n",
       "    </tr>\n",
       "  </thead>\n",
       "  <tbody>\n",
       "    <tr>\n",
       "      <th>1503960366</th>\n",
       "      <td>12116.741935</td>\n",
       "      <td>7.809677</td>\n",
       "      <td>7.809677</td>\n",
       "      <td>0.0</td>\n",
       "      <td>2.858387</td>\n",
       "      <td>0.794194</td>\n",
       "      <td>4.152903</td>\n",
       "      <td>0.000000</td>\n",
       "      <td>38.709677</td>\n",
       "      <td>19.161290</td>\n",
       "      <td>219.935484</td>\n",
       "      <td>848.161290</td>\n",
       "      <td>1816.419355</td>\n",
       "    </tr>\n",
       "    <tr>\n",
       "      <th>1624580081</th>\n",
       "      <td>5743.903226</td>\n",
       "      <td>3.914839</td>\n",
       "      <td>3.914839</td>\n",
       "      <td>0.0</td>\n",
       "      <td>0.939355</td>\n",
       "      <td>0.360645</td>\n",
       "      <td>2.606774</td>\n",
       "      <td>0.006129</td>\n",
       "      <td>8.677419</td>\n",
       "      <td>5.806452</td>\n",
       "      <td>153.483871</td>\n",
       "      <td>1257.741935</td>\n",
       "      <td>1483.354839</td>\n",
       "    </tr>\n",
       "    <tr>\n",
       "      <th>1644430081</th>\n",
       "      <td>7282.966667</td>\n",
       "      <td>5.295333</td>\n",
       "      <td>5.295333</td>\n",
       "      <td>0.0</td>\n",
       "      <td>0.730000</td>\n",
       "      <td>0.951000</td>\n",
       "      <td>3.609000</td>\n",
       "      <td>0.004000</td>\n",
       "      <td>9.566667</td>\n",
       "      <td>21.366667</td>\n",
       "      <td>178.466667</td>\n",
       "      <td>1161.866667</td>\n",
       "      <td>2811.300000</td>\n",
       "    </tr>\n",
       "    <tr>\n",
       "      <th>1844505072</th>\n",
       "      <td>2580.064516</td>\n",
       "      <td>1.706129</td>\n",
       "      <td>1.706129</td>\n",
       "      <td>0.0</td>\n",
       "      <td>0.008387</td>\n",
       "      <td>0.049032</td>\n",
       "      <td>1.647419</td>\n",
       "      <td>0.000000</td>\n",
       "      <td>0.129032</td>\n",
       "      <td>1.290323</td>\n",
       "      <td>115.451613</td>\n",
       "      <td>1206.612903</td>\n",
       "      <td>1573.483871</td>\n",
       "    </tr>\n",
       "    <tr>\n",
       "      <th>1927972279</th>\n",
       "      <td>916.129032</td>\n",
       "      <td>0.634516</td>\n",
       "      <td>0.634516</td>\n",
       "      <td>0.0</td>\n",
       "      <td>0.095806</td>\n",
       "      <td>0.031290</td>\n",
       "      <td>0.507097</td>\n",
       "      <td>0.000000</td>\n",
       "      <td>1.322581</td>\n",
       "      <td>0.774194</td>\n",
       "      <td>38.580645</td>\n",
       "      <td>1317.419355</td>\n",
       "      <td>2172.806452</td>\n",
       "    </tr>\n",
       "  </tbody>\n",
       "</table>\n",
       "</div>"
      ],
      "text/plain": [
       "            TotalSteps_mean  TotalDistance_mean  TrackerDistance_mean  \\\n",
       "Id                                                                      \n",
       "1503960366     12116.741935            7.809677              7.809677   \n",
       "1624580081      5743.903226            3.914839              3.914839   \n",
       "1644430081      7282.966667            5.295333              5.295333   \n",
       "1844505072      2580.064516            1.706129              1.706129   \n",
       "1927972279       916.129032            0.634516              0.634516   \n",
       "\n",
       "            LoggedActivitiesDistance_mean  VeryActiveDistance_mean  \\\n",
       "Id                                                                   \n",
       "1503960366                            0.0                 2.858387   \n",
       "1624580081                            0.0                 0.939355   \n",
       "1644430081                            0.0                 0.730000   \n",
       "1844505072                            0.0                 0.008387   \n",
       "1927972279                            0.0                 0.095806   \n",
       "\n",
       "            ModeratelyActiveDistance_mean  LightActiveDistance_mean  \\\n",
       "Id                                                                    \n",
       "1503960366                       0.794194                  4.152903   \n",
       "1624580081                       0.360645                  2.606774   \n",
       "1644430081                       0.951000                  3.609000   \n",
       "1844505072                       0.049032                  1.647419   \n",
       "1927972279                       0.031290                  0.507097   \n",
       "\n",
       "            SedentaryActiveDistance_mean  VeryActiveMinutes_mean  \\\n",
       "Id                                                                 \n",
       "1503960366                      0.000000               38.709677   \n",
       "1624580081                      0.006129                8.677419   \n",
       "1644430081                      0.004000                9.566667   \n",
       "1844505072                      0.000000                0.129032   \n",
       "1927972279                      0.000000                1.322581   \n",
       "\n",
       "            FairlyActiveMinutes_mean  LightlyActiveMinutes_mean  \\\n",
       "Id                                                                \n",
       "1503960366                 19.161290                 219.935484   \n",
       "1624580081                  5.806452                 153.483871   \n",
       "1644430081                 21.366667                 178.466667   \n",
       "1844505072                  1.290323                 115.451613   \n",
       "1927972279                  0.774194                  38.580645   \n",
       "\n",
       "            SedentaryMinutes_mean  Calories_mean  \n",
       "Id                                                \n",
       "1503960366             848.161290    1816.419355  \n",
       "1624580081            1257.741935    1483.354839  \n",
       "1644430081            1161.866667    2811.300000  \n",
       "1844505072            1206.612903    1573.483871  \n",
       "1927972279            1317.419355    2172.806452  "
      ]
     },
     "execution_count": 60,
     "metadata": {},
     "output_type": "execute_result"
    }
   ],
   "source": [
    "dailyActivity_agg = dailyActivity.groupby(['Id']).agg(['mean'])\n",
    "dailyActivity_agg.columns = dailyActivity_agg.columns.map('_'.join)\n",
    "dailyActivity_agg.head()"
   ]
  },
  {
   "cell_type": "code",
   "execution_count": null,
   "metadata": {},
   "outputs": [],
   "source": [
    "\n"
   ]
  },
  {
   "cell_type": "markdown",
   "metadata": {},
   "source": [
    "Grouping *weightLogInfo* by \"Id\" and aggregating the columns by mean. The resulting dataframe shows the average of individual weight and BMI measurements. The columns \"Fat\", \"LogId\", and \"IsManualReport\" are dropped because they don't make sense when aggregated by mean. "
   ]
  },
  {
   "cell_type": "code",
   "execution_count": 29,
   "metadata": {},
   "outputs": [
    {
     "data": {
      "text/html": [
       "<div>\n",
       "<style scoped>\n",
       "    .dataframe tbody tr th:only-of-type {\n",
       "        vertical-align: middle;\n",
       "    }\n",
       "\n",
       "    .dataframe tbody tr th {\n",
       "        vertical-align: top;\n",
       "    }\n",
       "\n",
       "    .dataframe thead th {\n",
       "        text-align: right;\n",
       "    }\n",
       "</style>\n",
       "<table border=\"1\" class=\"dataframe\">\n",
       "  <thead>\n",
       "    <tr style=\"text-align: right;\">\n",
       "      <th></th>\n",
       "      <th>WeightKg_mean</th>\n",
       "      <th>WeightPounds_mean</th>\n",
       "      <th>BMI_mean</th>\n",
       "    </tr>\n",
       "    <tr>\n",
       "      <th>Id</th>\n",
       "      <th></th>\n",
       "      <th></th>\n",
       "      <th></th>\n",
       "    </tr>\n",
       "  </thead>\n",
       "  <tbody>\n",
       "    <tr>\n",
       "      <th>1503960366</th>\n",
       "      <td>52.599998</td>\n",
       "      <td>115.963147</td>\n",
       "      <td>22.650000</td>\n",
       "    </tr>\n",
       "    <tr>\n",
       "      <th>1927972279</th>\n",
       "      <td>133.500000</td>\n",
       "      <td>294.317120</td>\n",
       "      <td>47.540001</td>\n",
       "    </tr>\n",
       "    <tr>\n",
       "      <th>2873212765</th>\n",
       "      <td>57.000000</td>\n",
       "      <td>125.663489</td>\n",
       "      <td>21.570001</td>\n",
       "    </tr>\n",
       "    <tr>\n",
       "      <th>4319703577</th>\n",
       "      <td>72.350002</td>\n",
       "      <td>159.504452</td>\n",
       "      <td>27.415000</td>\n",
       "    </tr>\n",
       "    <tr>\n",
       "      <th>4558609924</th>\n",
       "      <td>69.639999</td>\n",
       "      <td>153.529918</td>\n",
       "      <td>27.214000</td>\n",
       "    </tr>\n",
       "    <tr>\n",
       "      <th>5577150313</th>\n",
       "      <td>90.699997</td>\n",
       "      <td>199.959265</td>\n",
       "      <td>28.000000</td>\n",
       "    </tr>\n",
       "    <tr>\n",
       "      <th>6962181067</th>\n",
       "      <td>61.553334</td>\n",
       "      <td>135.701872</td>\n",
       "      <td>24.028000</td>\n",
       "    </tr>\n",
       "    <tr>\n",
       "      <th>8877689391</th>\n",
       "      <td>85.145834</td>\n",
       "      <td>187.714432</td>\n",
       "      <td>25.487083</td>\n",
       "    </tr>\n",
       "  </tbody>\n",
       "</table>\n",
       "</div>"
      ],
      "text/plain": [
       "            WeightKg_mean  WeightPounds_mean   BMI_mean\n",
       "Id                                                     \n",
       "1503960366      52.599998         115.963147  22.650000\n",
       "1927972279     133.500000         294.317120  47.540001\n",
       "2873212765      57.000000         125.663489  21.570001\n",
       "4319703577      72.350002         159.504452  27.415000\n",
       "4558609924      69.639999         153.529918  27.214000\n",
       "5577150313      90.699997         199.959265  28.000000\n",
       "6962181067      61.553334         135.701872  24.028000\n",
       "8877689391      85.145834         187.714432  25.487083"
      ]
     },
     "execution_count": 29,
     "metadata": {},
     "output_type": "execute_result"
    }
   ],
   "source": [
    "weightLogInfo_agg = weightLogInfo.groupby(['Id']).agg(['mean'])\n",
    "weightLogInfo_agg.drop(['Fat','LogId','IsManualReport'], axis=1, inplace=True)\n",
    "weightLogInfo_agg.columns = weightLogInfo_agg.columns.map('_'.join)\n",
    "weightLogInfo_agg\n",
    "#only 8 individuals reported weight\n",
    "\n"
   ]
  },
  {
   "cell_type": "markdown",
   "metadata": {},
   "source": [
    "Descriptive statistics for the mean weights and BMI for the individuals that tracked their weight. Only 8 individuals tracked their weight"
   ]
  },
  {
   "cell_type": "code",
   "execution_count": 30,
   "metadata": {},
   "outputs": [
    {
     "data": {
      "text/html": [
       "<div>\n",
       "<style scoped>\n",
       "    .dataframe tbody tr th:only-of-type {\n",
       "        vertical-align: middle;\n",
       "    }\n",
       "\n",
       "    .dataframe tbody tr th {\n",
       "        vertical-align: top;\n",
       "    }\n",
       "\n",
       "    .dataframe thead th {\n",
       "        text-align: right;\n",
       "    }\n",
       "</style>\n",
       "<table border=\"1\" class=\"dataframe\">\n",
       "  <thead>\n",
       "    <tr style=\"text-align: right;\">\n",
       "      <th></th>\n",
       "      <th>WeightKg_mean</th>\n",
       "      <th>WeightPounds_mean</th>\n",
       "      <th>BMI_mean</th>\n",
       "    </tr>\n",
       "  </thead>\n",
       "  <tbody>\n",
       "    <tr>\n",
       "      <th>count</th>\n",
       "      <td>8.000000</td>\n",
       "      <td>8.000000</td>\n",
       "      <td>8.000000</td>\n",
       "    </tr>\n",
       "    <tr>\n",
       "      <th>mean</th>\n",
       "      <td>77.811146</td>\n",
       "      <td>171.544212</td>\n",
       "      <td>27.988011</td>\n",
       "    </tr>\n",
       "    <tr>\n",
       "      <th>std</th>\n",
       "      <td>26.051549</td>\n",
       "      <td>57.433835</td>\n",
       "      <td>8.236066</td>\n",
       "    </tr>\n",
       "    <tr>\n",
       "      <th>min</th>\n",
       "      <td>52.599998</td>\n",
       "      <td>115.963147</td>\n",
       "      <td>21.570001</td>\n",
       "    </tr>\n",
       "    <tr>\n",
       "      <th>25%</th>\n",
       "      <td>60.415000</td>\n",
       "      <td>133.192276</td>\n",
       "      <td>23.683500</td>\n",
       "    </tr>\n",
       "    <tr>\n",
       "      <th>50%</th>\n",
       "      <td>70.995001</td>\n",
       "      <td>156.517185</td>\n",
       "      <td>26.350542</td>\n",
       "    </tr>\n",
       "    <tr>\n",
       "      <th>75%</th>\n",
       "      <td>86.534375</td>\n",
       "      <td>190.775641</td>\n",
       "      <td>27.561250</td>\n",
       "    </tr>\n",
       "    <tr>\n",
       "      <th>max</th>\n",
       "      <td>133.500000</td>\n",
       "      <td>294.317120</td>\n",
       "      <td>47.540001</td>\n",
       "    </tr>\n",
       "  </tbody>\n",
       "</table>\n",
       "</div>"
      ],
      "text/plain": [
       "       WeightKg_mean  WeightPounds_mean   BMI_mean\n",
       "count       8.000000           8.000000   8.000000\n",
       "mean       77.811146         171.544212  27.988011\n",
       "std        26.051549          57.433835   8.236066\n",
       "min        52.599998         115.963147  21.570001\n",
       "25%        60.415000         133.192276  23.683500\n",
       "50%        70.995001         156.517185  26.350542\n",
       "75%        86.534375         190.775641  27.561250\n",
       "max       133.500000         294.317120  47.540001"
      ]
     },
     "execution_count": 30,
     "metadata": {},
     "output_type": "execute_result"
    }
   ],
   "source": [
    "weightLogInfo_agg.describe()"
   ]
  },
  {
   "cell_type": "markdown",
   "metadata": {},
   "source": [
    "Grouping *hourlyCalories* and *hourlySteps* by hour in the day"
   ]
  },
  {
   "cell_type": "code",
   "execution_count": 31,
   "metadata": {},
   "outputs": [
    {
     "data": {
      "text/html": [
       "<div>\n",
       "<style scoped>\n",
       "    .dataframe tbody tr th:only-of-type {\n",
       "        vertical-align: middle;\n",
       "    }\n",
       "\n",
       "    .dataframe tbody tr th {\n",
       "        vertical-align: top;\n",
       "    }\n",
       "\n",
       "    .dataframe thead th {\n",
       "        text-align: right;\n",
       "    }\n",
       "</style>\n",
       "<table border=\"1\" class=\"dataframe\">\n",
       "  <thead>\n",
       "    <tr style=\"text-align: right;\">\n",
       "      <th></th>\n",
       "      <th>Calories_mean</th>\n",
       "    </tr>\n",
       "    <tr>\n",
       "      <th>hour_value</th>\n",
       "      <th></th>\n",
       "    </tr>\n",
       "  </thead>\n",
       "  <tbody>\n",
       "    <tr>\n",
       "      <th>0</th>\n",
       "      <td>71.805</td>\n",
       "    </tr>\n",
       "    <tr>\n",
       "      <th>1</th>\n",
       "      <td>70.165</td>\n",
       "    </tr>\n",
       "    <tr>\n",
       "      <th>2</th>\n",
       "      <td>69.186</td>\n",
       "    </tr>\n",
       "    <tr>\n",
       "      <th>3</th>\n",
       "      <td>67.538</td>\n",
       "    </tr>\n",
       "    <tr>\n",
       "      <th>4</th>\n",
       "      <td>68.262</td>\n",
       "    </tr>\n",
       "    <tr>\n",
       "      <th>5</th>\n",
       "      <td>81.708</td>\n",
       "    </tr>\n",
       "    <tr>\n",
       "      <th>6</th>\n",
       "      <td>86.997</td>\n",
       "    </tr>\n",
       "    <tr>\n",
       "      <th>7</th>\n",
       "      <td>94.478</td>\n",
       "    </tr>\n",
       "    <tr>\n",
       "      <th>8</th>\n",
       "      <td>103.337</td>\n",
       "    </tr>\n",
       "    <tr>\n",
       "      <th>9</th>\n",
       "      <td>106.143</td>\n",
       "    </tr>\n",
       "    <tr>\n",
       "      <th>10</th>\n",
       "      <td>110.461</td>\n",
       "    </tr>\n",
       "    <tr>\n",
       "      <th>11</th>\n",
       "      <td>109.807</td>\n",
       "    </tr>\n",
       "    <tr>\n",
       "      <th>12</th>\n",
       "      <td>117.197</td>\n",
       "    </tr>\n",
       "    <tr>\n",
       "      <th>13</th>\n",
       "      <td>115.309</td>\n",
       "    </tr>\n",
       "    <tr>\n",
       "      <th>14</th>\n",
       "      <td>115.733</td>\n",
       "    </tr>\n",
       "    <tr>\n",
       "      <th>15</th>\n",
       "      <td>106.637</td>\n",
       "    </tr>\n",
       "    <tr>\n",
       "      <th>16</th>\n",
       "      <td>113.327</td>\n",
       "    </tr>\n",
       "    <tr>\n",
       "      <th>17</th>\n",
       "      <td>122.753</td>\n",
       "    </tr>\n",
       "    <tr>\n",
       "      <th>18</th>\n",
       "      <td>123.492</td>\n",
       "    </tr>\n",
       "    <tr>\n",
       "      <th>19</th>\n",
       "      <td>121.485</td>\n",
       "    </tr>\n",
       "    <tr>\n",
       "      <th>20</th>\n",
       "      <td>102.358</td>\n",
       "    </tr>\n",
       "    <tr>\n",
       "      <th>21</th>\n",
       "      <td>96.056</td>\n",
       "    </tr>\n",
       "    <tr>\n",
       "      <th>22</th>\n",
       "      <td>88.265</td>\n",
       "    </tr>\n",
       "    <tr>\n",
       "      <th>23</th>\n",
       "      <td>77.594</td>\n",
       "    </tr>\n",
       "  </tbody>\n",
       "</table>\n",
       "</div>"
      ],
      "text/plain": [
       "            Calories_mean\n",
       "hour_value               \n",
       "0                  71.805\n",
       "1                  70.165\n",
       "2                  69.186\n",
       "3                  67.538\n",
       "4                  68.262\n",
       "5                  81.708\n",
       "6                  86.997\n",
       "7                  94.478\n",
       "8                 103.337\n",
       "9                 106.143\n",
       "10                110.461\n",
       "11                109.807\n",
       "12                117.197\n",
       "13                115.309\n",
       "14                115.733\n",
       "15                106.637\n",
       "16                113.327\n",
       "17                122.753\n",
       "18                123.492\n",
       "19                121.485\n",
       "20                102.358\n",
       "21                 96.056\n",
       "22                 88.265\n",
       "23                 77.594"
      ]
     },
     "execution_count": 31,
     "metadata": {},
     "output_type": "execute_result"
    }
   ],
   "source": [
    "hourlyCalories['ActivityHour'] = pd.to_datetime(hourlyCalories['ActivityHour']) #convert column to datetime\n",
    "hourlyCalories['hour_value'] = hourlyCalories['ActivityHour'].dt.hour #create new column with hour value for grouping\n",
    "hourlyCalories_agg = hourlyCalories.groupby(['hour_value']).agg(['mean']).round(3)\n",
    "hourlyCalories_agg.drop(['Id'], axis=1, inplace=True)\n",
    "hourlyCalories_agg.columns = hourlyCalories_agg.columns.map('_'.join)\n",
    "hourlyCalories_agg\n",
    "\n"
   ]
  },
  {
   "cell_type": "markdown",
   "metadata": {},
   "source": [
    "Bar Chart showing mean hourly calories burnt by hour in the day"
   ]
  },
  {
   "cell_type": "code",
   "execution_count": 67,
   "metadata": {},
   "outputs": [
    {
     "data": {
      "application/vnd.plotly.v1+json": {
       "config": {
        "plotlyServerURL": "https://plot.ly"
       },
       "data": [
        {
         "alignmentgroup": "True",
         "hovertemplate": "hour_value=%{x}<br>Calories_mean=%{y}<extra></extra>",
         "legendgroup": "",
         "marker": {
          "color": "#636efa",
          "pattern": {
           "shape": ""
          }
         },
         "name": "",
         "offsetgroup": "",
         "orientation": "v",
         "showlegend": false,
         "textposition": "auto",
         "type": "bar",
         "x": [
          0,
          1,
          2,
          3,
          4,
          5,
          6,
          7,
          8,
          9,
          10,
          11,
          12,
          13,
          14,
          15,
          16,
          17,
          18,
          19,
          20,
          21,
          22,
          23
         ],
         "xaxis": "x",
         "y": [
          71.805,
          70.165,
          69.186,
          67.538,
          68.262,
          81.708,
          86.997,
          94.478,
          103.337,
          106.143,
          110.461,
          109.807,
          117.197,
          115.309,
          115.733,
          106.637,
          113.327,
          122.753,
          123.492,
          121.485,
          102.358,
          96.056,
          88.265,
          77.594
         ],
         "yaxis": "y"
        }
       ],
       "layout": {
        "barmode": "relative",
        "legend": {
         "tracegroupgap": 0
        },
        "template": {
         "data": {
          "bar": [
           {
            "error_x": {
             "color": "#2a3f5f"
            },
            "error_y": {
             "color": "#2a3f5f"
            },
            "marker": {
             "line": {
              "color": "#E5ECF6",
              "width": 0.5
             },
             "pattern": {
              "fillmode": "overlay",
              "size": 10,
              "solidity": 0.2
             }
            },
            "type": "bar"
           }
          ],
          "barpolar": [
           {
            "marker": {
             "line": {
              "color": "#E5ECF6",
              "width": 0.5
             },
             "pattern": {
              "fillmode": "overlay",
              "size": 10,
              "solidity": 0.2
             }
            },
            "type": "barpolar"
           }
          ],
          "carpet": [
           {
            "aaxis": {
             "endlinecolor": "#2a3f5f",
             "gridcolor": "white",
             "linecolor": "white",
             "minorgridcolor": "white",
             "startlinecolor": "#2a3f5f"
            },
            "baxis": {
             "endlinecolor": "#2a3f5f",
             "gridcolor": "white",
             "linecolor": "white",
             "minorgridcolor": "white",
             "startlinecolor": "#2a3f5f"
            },
            "type": "carpet"
           }
          ],
          "choropleth": [
           {
            "colorbar": {
             "outlinewidth": 0,
             "ticks": ""
            },
            "type": "choropleth"
           }
          ],
          "contour": [
           {
            "colorbar": {
             "outlinewidth": 0,
             "ticks": ""
            },
            "colorscale": [
             [
              0,
              "#0d0887"
             ],
             [
              0.1111111111111111,
              "#46039f"
             ],
             [
              0.2222222222222222,
              "#7201a8"
             ],
             [
              0.3333333333333333,
              "#9c179e"
             ],
             [
              0.4444444444444444,
              "#bd3786"
             ],
             [
              0.5555555555555556,
              "#d8576b"
             ],
             [
              0.6666666666666666,
              "#ed7953"
             ],
             [
              0.7777777777777778,
              "#fb9f3a"
             ],
             [
              0.8888888888888888,
              "#fdca26"
             ],
             [
              1,
              "#f0f921"
             ]
            ],
            "type": "contour"
           }
          ],
          "contourcarpet": [
           {
            "colorbar": {
             "outlinewidth": 0,
             "ticks": ""
            },
            "type": "contourcarpet"
           }
          ],
          "heatmap": [
           {
            "colorbar": {
             "outlinewidth": 0,
             "ticks": ""
            },
            "colorscale": [
             [
              0,
              "#0d0887"
             ],
             [
              0.1111111111111111,
              "#46039f"
             ],
             [
              0.2222222222222222,
              "#7201a8"
             ],
             [
              0.3333333333333333,
              "#9c179e"
             ],
             [
              0.4444444444444444,
              "#bd3786"
             ],
             [
              0.5555555555555556,
              "#d8576b"
             ],
             [
              0.6666666666666666,
              "#ed7953"
             ],
             [
              0.7777777777777778,
              "#fb9f3a"
             ],
             [
              0.8888888888888888,
              "#fdca26"
             ],
             [
              1,
              "#f0f921"
             ]
            ],
            "type": "heatmap"
           }
          ],
          "heatmapgl": [
           {
            "colorbar": {
             "outlinewidth": 0,
             "ticks": ""
            },
            "colorscale": [
             [
              0,
              "#0d0887"
             ],
             [
              0.1111111111111111,
              "#46039f"
             ],
             [
              0.2222222222222222,
              "#7201a8"
             ],
             [
              0.3333333333333333,
              "#9c179e"
             ],
             [
              0.4444444444444444,
              "#bd3786"
             ],
             [
              0.5555555555555556,
              "#d8576b"
             ],
             [
              0.6666666666666666,
              "#ed7953"
             ],
             [
              0.7777777777777778,
              "#fb9f3a"
             ],
             [
              0.8888888888888888,
              "#fdca26"
             ],
             [
              1,
              "#f0f921"
             ]
            ],
            "type": "heatmapgl"
           }
          ],
          "histogram": [
           {
            "marker": {
             "pattern": {
              "fillmode": "overlay",
              "size": 10,
              "solidity": 0.2
             }
            },
            "type": "histogram"
           }
          ],
          "histogram2d": [
           {
            "colorbar": {
             "outlinewidth": 0,
             "ticks": ""
            },
            "colorscale": [
             [
              0,
              "#0d0887"
             ],
             [
              0.1111111111111111,
              "#46039f"
             ],
             [
              0.2222222222222222,
              "#7201a8"
             ],
             [
              0.3333333333333333,
              "#9c179e"
             ],
             [
              0.4444444444444444,
              "#bd3786"
             ],
             [
              0.5555555555555556,
              "#d8576b"
             ],
             [
              0.6666666666666666,
              "#ed7953"
             ],
             [
              0.7777777777777778,
              "#fb9f3a"
             ],
             [
              0.8888888888888888,
              "#fdca26"
             ],
             [
              1,
              "#f0f921"
             ]
            ],
            "type": "histogram2d"
           }
          ],
          "histogram2dcontour": [
           {
            "colorbar": {
             "outlinewidth": 0,
             "ticks": ""
            },
            "colorscale": [
             [
              0,
              "#0d0887"
             ],
             [
              0.1111111111111111,
              "#46039f"
             ],
             [
              0.2222222222222222,
              "#7201a8"
             ],
             [
              0.3333333333333333,
              "#9c179e"
             ],
             [
              0.4444444444444444,
              "#bd3786"
             ],
             [
              0.5555555555555556,
              "#d8576b"
             ],
             [
              0.6666666666666666,
              "#ed7953"
             ],
             [
              0.7777777777777778,
              "#fb9f3a"
             ],
             [
              0.8888888888888888,
              "#fdca26"
             ],
             [
              1,
              "#f0f921"
             ]
            ],
            "type": "histogram2dcontour"
           }
          ],
          "mesh3d": [
           {
            "colorbar": {
             "outlinewidth": 0,
             "ticks": ""
            },
            "type": "mesh3d"
           }
          ],
          "parcoords": [
           {
            "line": {
             "colorbar": {
              "outlinewidth": 0,
              "ticks": ""
             }
            },
            "type": "parcoords"
           }
          ],
          "pie": [
           {
            "automargin": true,
            "type": "pie"
           }
          ],
          "scatter": [
           {
            "fillpattern": {
             "fillmode": "overlay",
             "size": 10,
             "solidity": 0.2
            },
            "type": "scatter"
           }
          ],
          "scatter3d": [
           {
            "line": {
             "colorbar": {
              "outlinewidth": 0,
              "ticks": ""
             }
            },
            "marker": {
             "colorbar": {
              "outlinewidth": 0,
              "ticks": ""
             }
            },
            "type": "scatter3d"
           }
          ],
          "scattercarpet": [
           {
            "marker": {
             "colorbar": {
              "outlinewidth": 0,
              "ticks": ""
             }
            },
            "type": "scattercarpet"
           }
          ],
          "scattergeo": [
           {
            "marker": {
             "colorbar": {
              "outlinewidth": 0,
              "ticks": ""
             }
            },
            "type": "scattergeo"
           }
          ],
          "scattergl": [
           {
            "marker": {
             "colorbar": {
              "outlinewidth": 0,
              "ticks": ""
             }
            },
            "type": "scattergl"
           }
          ],
          "scattermapbox": [
           {
            "marker": {
             "colorbar": {
              "outlinewidth": 0,
              "ticks": ""
             }
            },
            "type": "scattermapbox"
           }
          ],
          "scatterpolar": [
           {
            "marker": {
             "colorbar": {
              "outlinewidth": 0,
              "ticks": ""
             }
            },
            "type": "scatterpolar"
           }
          ],
          "scatterpolargl": [
           {
            "marker": {
             "colorbar": {
              "outlinewidth": 0,
              "ticks": ""
             }
            },
            "type": "scatterpolargl"
           }
          ],
          "scatterternary": [
           {
            "marker": {
             "colorbar": {
              "outlinewidth": 0,
              "ticks": ""
             }
            },
            "type": "scatterternary"
           }
          ],
          "surface": [
           {
            "colorbar": {
             "outlinewidth": 0,
             "ticks": ""
            },
            "colorscale": [
             [
              0,
              "#0d0887"
             ],
             [
              0.1111111111111111,
              "#46039f"
             ],
             [
              0.2222222222222222,
              "#7201a8"
             ],
             [
              0.3333333333333333,
              "#9c179e"
             ],
             [
              0.4444444444444444,
              "#bd3786"
             ],
             [
              0.5555555555555556,
              "#d8576b"
             ],
             [
              0.6666666666666666,
              "#ed7953"
             ],
             [
              0.7777777777777778,
              "#fb9f3a"
             ],
             [
              0.8888888888888888,
              "#fdca26"
             ],
             [
              1,
              "#f0f921"
             ]
            ],
            "type": "surface"
           }
          ],
          "table": [
           {
            "cells": {
             "fill": {
              "color": "#EBF0F8"
             },
             "line": {
              "color": "white"
             }
            },
            "header": {
             "fill": {
              "color": "#C8D4E3"
             },
             "line": {
              "color": "white"
             }
            },
            "type": "table"
           }
          ]
         },
         "layout": {
          "annotationdefaults": {
           "arrowcolor": "#2a3f5f",
           "arrowhead": 0,
           "arrowwidth": 1
          },
          "autotypenumbers": "strict",
          "coloraxis": {
           "colorbar": {
            "outlinewidth": 0,
            "ticks": ""
           }
          },
          "colorscale": {
           "diverging": [
            [
             0,
             "#8e0152"
            ],
            [
             0.1,
             "#c51b7d"
            ],
            [
             0.2,
             "#de77ae"
            ],
            [
             0.3,
             "#f1b6da"
            ],
            [
             0.4,
             "#fde0ef"
            ],
            [
             0.5,
             "#f7f7f7"
            ],
            [
             0.6,
             "#e6f5d0"
            ],
            [
             0.7,
             "#b8e186"
            ],
            [
             0.8,
             "#7fbc41"
            ],
            [
             0.9,
             "#4d9221"
            ],
            [
             1,
             "#276419"
            ]
           ],
           "sequential": [
            [
             0,
             "#0d0887"
            ],
            [
             0.1111111111111111,
             "#46039f"
            ],
            [
             0.2222222222222222,
             "#7201a8"
            ],
            [
             0.3333333333333333,
             "#9c179e"
            ],
            [
             0.4444444444444444,
             "#bd3786"
            ],
            [
             0.5555555555555556,
             "#d8576b"
            ],
            [
             0.6666666666666666,
             "#ed7953"
            ],
            [
             0.7777777777777778,
             "#fb9f3a"
            ],
            [
             0.8888888888888888,
             "#fdca26"
            ],
            [
             1,
             "#f0f921"
            ]
           ],
           "sequentialminus": [
            [
             0,
             "#0d0887"
            ],
            [
             0.1111111111111111,
             "#46039f"
            ],
            [
             0.2222222222222222,
             "#7201a8"
            ],
            [
             0.3333333333333333,
             "#9c179e"
            ],
            [
             0.4444444444444444,
             "#bd3786"
            ],
            [
             0.5555555555555556,
             "#d8576b"
            ],
            [
             0.6666666666666666,
             "#ed7953"
            ],
            [
             0.7777777777777778,
             "#fb9f3a"
            ],
            [
             0.8888888888888888,
             "#fdca26"
            ],
            [
             1,
             "#f0f921"
            ]
           ]
          },
          "colorway": [
           "#636efa",
           "#EF553B",
           "#00cc96",
           "#ab63fa",
           "#FFA15A",
           "#19d3f3",
           "#FF6692",
           "#B6E880",
           "#FF97FF",
           "#FECB52"
          ],
          "font": {
           "color": "#2a3f5f"
          },
          "geo": {
           "bgcolor": "white",
           "lakecolor": "white",
           "landcolor": "#E5ECF6",
           "showlakes": true,
           "showland": true,
           "subunitcolor": "white"
          },
          "hoverlabel": {
           "align": "left"
          },
          "hovermode": "closest",
          "mapbox": {
           "style": "light"
          },
          "paper_bgcolor": "white",
          "plot_bgcolor": "#E5ECF6",
          "polar": {
           "angularaxis": {
            "gridcolor": "white",
            "linecolor": "white",
            "ticks": ""
           },
           "bgcolor": "#E5ECF6",
           "radialaxis": {
            "gridcolor": "white",
            "linecolor": "white",
            "ticks": ""
           }
          },
          "scene": {
           "xaxis": {
            "backgroundcolor": "#E5ECF6",
            "gridcolor": "white",
            "gridwidth": 2,
            "linecolor": "white",
            "showbackground": true,
            "ticks": "",
            "zerolinecolor": "white"
           },
           "yaxis": {
            "backgroundcolor": "#E5ECF6",
            "gridcolor": "white",
            "gridwidth": 2,
            "linecolor": "white",
            "showbackground": true,
            "ticks": "",
            "zerolinecolor": "white"
           },
           "zaxis": {
            "backgroundcolor": "#E5ECF6",
            "gridcolor": "white",
            "gridwidth": 2,
            "linecolor": "white",
            "showbackground": true,
            "ticks": "",
            "zerolinecolor": "white"
           }
          },
          "shapedefaults": {
           "line": {
            "color": "#2a3f5f"
           }
          },
          "ternary": {
           "aaxis": {
            "gridcolor": "white",
            "linecolor": "white",
            "ticks": ""
           },
           "baxis": {
            "gridcolor": "white",
            "linecolor": "white",
            "ticks": ""
           },
           "bgcolor": "#E5ECF6",
           "caxis": {
            "gridcolor": "white",
            "linecolor": "white",
            "ticks": ""
           }
          },
          "title": {
           "x": 0.05
          },
          "xaxis": {
           "automargin": true,
           "gridcolor": "white",
           "linecolor": "white",
           "ticks": "",
           "title": {
            "standoff": 15
           },
           "zerolinecolor": "white",
           "zerolinewidth": 2
          },
          "yaxis": {
           "automargin": true,
           "gridcolor": "white",
           "linecolor": "white",
           "ticks": "",
           "title": {
            "standoff": 15
           },
           "zerolinecolor": "white",
           "zerolinewidth": 2
          }
         }
        },
        "title": {
         "text": "Mean Calories by Hour of the Day"
        },
        "width": 800,
        "xaxis": {
         "anchor": "y",
         "domain": [
          0,
          1
         ],
         "title": {
          "text": "hour_value"
         }
        },
        "yaxis": {
         "anchor": "x",
         "domain": [
          0,
          1
         ],
         "title": {
          "text": "Calories_mean"
         }
        }
       }
      }
     },
     "metadata": {},
     "output_type": "display_data"
    }
   ],
   "source": [
    "px.bar(\n",
    "    hourlyCalories_agg,\n",
    "    y='Calories_mean',\n",
    "    title='Mean Calories by Hour of the Day',\n",
    "    width=800\n",
    ")"
   ]
  },
  {
   "cell_type": "code",
   "execution_count": 33,
   "metadata": {},
   "outputs": [
    {
     "data": {
      "text/html": [
       "<div>\n",
       "<style scoped>\n",
       "    .dataframe tbody tr th:only-of-type {\n",
       "        vertical-align: middle;\n",
       "    }\n",
       "\n",
       "    .dataframe tbody tr th {\n",
       "        vertical-align: top;\n",
       "    }\n",
       "\n",
       "    .dataframe thead th {\n",
       "        text-align: right;\n",
       "    }\n",
       "</style>\n",
       "<table border=\"1\" class=\"dataframe\">\n",
       "  <thead>\n",
       "    <tr style=\"text-align: right;\">\n",
       "      <th></th>\n",
       "      <th>StepTotal_mean</th>\n",
       "    </tr>\n",
       "    <tr>\n",
       "      <th>hour_value</th>\n",
       "      <th></th>\n",
       "    </tr>\n",
       "  </thead>\n",
       "  <tbody>\n",
       "    <tr>\n",
       "      <th>0</th>\n",
       "      <td>42.188</td>\n",
       "    </tr>\n",
       "    <tr>\n",
       "      <th>1</th>\n",
       "      <td>23.103</td>\n",
       "    </tr>\n",
       "    <tr>\n",
       "      <th>2</th>\n",
       "      <td>17.110</td>\n",
       "    </tr>\n",
       "    <tr>\n",
       "      <th>3</th>\n",
       "      <td>6.427</td>\n",
       "    </tr>\n",
       "    <tr>\n",
       "      <th>4</th>\n",
       "      <td>12.700</td>\n",
       "    </tr>\n",
       "    <tr>\n",
       "      <th>5</th>\n",
       "      <td>43.869</td>\n",
       "    </tr>\n",
       "    <tr>\n",
       "      <th>6</th>\n",
       "      <td>178.508</td>\n",
       "    </tr>\n",
       "    <tr>\n",
       "      <th>7</th>\n",
       "      <td>306.049</td>\n",
       "    </tr>\n",
       "    <tr>\n",
       "      <th>8</th>\n",
       "      <td>427.545</td>\n",
       "    </tr>\n",
       "    <tr>\n",
       "      <th>9</th>\n",
       "      <td>433.302</td>\n",
       "    </tr>\n",
       "    <tr>\n",
       "      <th>10</th>\n",
       "      <td>481.665</td>\n",
       "    </tr>\n",
       "    <tr>\n",
       "      <th>11</th>\n",
       "      <td>456.887</td>\n",
       "    </tr>\n",
       "    <tr>\n",
       "      <th>12</th>\n",
       "      <td>548.642</td>\n",
       "    </tr>\n",
       "    <tr>\n",
       "      <th>13</th>\n",
       "      <td>537.698</td>\n",
       "    </tr>\n",
       "    <tr>\n",
       "      <th>14</th>\n",
       "      <td>540.514</td>\n",
       "    </tr>\n",
       "    <tr>\n",
       "      <th>15</th>\n",
       "      <td>406.319</td>\n",
       "    </tr>\n",
       "    <tr>\n",
       "      <th>16</th>\n",
       "      <td>496.846</td>\n",
       "    </tr>\n",
       "    <tr>\n",
       "      <th>17</th>\n",
       "      <td>550.233</td>\n",
       "    </tr>\n",
       "    <tr>\n",
       "      <th>18</th>\n",
       "      <td>599.170</td>\n",
       "    </tr>\n",
       "    <tr>\n",
       "      <th>19</th>\n",
       "      <td>583.391</td>\n",
       "    </tr>\n",
       "    <tr>\n",
       "      <th>20</th>\n",
       "      <td>353.905</td>\n",
       "    </tr>\n",
       "    <tr>\n",
       "      <th>21</th>\n",
       "      <td>308.138</td>\n",
       "    </tr>\n",
       "    <tr>\n",
       "      <th>22</th>\n",
       "      <td>237.988</td>\n",
       "    </tr>\n",
       "    <tr>\n",
       "      <th>23</th>\n",
       "      <td>122.133</td>\n",
       "    </tr>\n",
       "  </tbody>\n",
       "</table>\n",
       "</div>"
      ],
      "text/plain": [
       "            StepTotal_mean\n",
       "hour_value                \n",
       "0                   42.188\n",
       "1                   23.103\n",
       "2                   17.110\n",
       "3                    6.427\n",
       "4                   12.700\n",
       "5                   43.869\n",
       "6                  178.508\n",
       "7                  306.049\n",
       "8                  427.545\n",
       "9                  433.302\n",
       "10                 481.665\n",
       "11                 456.887\n",
       "12                 548.642\n",
       "13                 537.698\n",
       "14                 540.514\n",
       "15                 406.319\n",
       "16                 496.846\n",
       "17                 550.233\n",
       "18                 599.170\n",
       "19                 583.391\n",
       "20                 353.905\n",
       "21                 308.138\n",
       "22                 237.988\n",
       "23                 122.133"
      ]
     },
     "execution_count": 33,
     "metadata": {},
     "output_type": "execute_result"
    }
   ],
   "source": [
    "hourlySteps['ActivityHour'] = pd.to_datetime(hourlySteps['ActivityHour']) #convert column to datetime\n",
    "hourlySteps['hour_value'] = hourlySteps['ActivityHour'].dt.hour #create new column with hour value for grouping\n",
    "hourlySteps_agg = hourlySteps.groupby(['hour_value']).agg(['mean']).round(3)\n",
    "hourlySteps_agg.drop(['Id'], axis=1, inplace=True)\n",
    "hourlySteps_agg.columns = hourlySteps_agg.columns.map('_'.join)\n",
    "hourlySteps_agg\n"
   ]
  },
  {
   "cell_type": "code",
   "execution_count": 66,
   "metadata": {},
   "outputs": [
    {
     "data": {
      "application/vnd.plotly.v1+json": {
       "config": {
        "plotlyServerURL": "https://plot.ly"
       },
       "data": [
        {
         "alignmentgroup": "True",
         "hovertemplate": "hour_value=%{x}<br>StepTotal_mean=%{y}<extra></extra>",
         "legendgroup": "",
         "marker": {
          "color": "#636efa",
          "pattern": {
           "shape": ""
          }
         },
         "name": "",
         "offsetgroup": "",
         "orientation": "v",
         "showlegend": false,
         "textposition": "auto",
         "type": "bar",
         "x": [
          0,
          1,
          2,
          3,
          4,
          5,
          6,
          7,
          8,
          9,
          10,
          11,
          12,
          13,
          14,
          15,
          16,
          17,
          18,
          19,
          20,
          21,
          22,
          23
         ],
         "xaxis": "x",
         "y": [
          42.188,
          23.103,
          17.11,
          6.427,
          12.7,
          43.869,
          178.508,
          306.049,
          427.545,
          433.302,
          481.665,
          456.887,
          548.642,
          537.698,
          540.514,
          406.319,
          496.846,
          550.233,
          599.17,
          583.391,
          353.905,
          308.138,
          237.988,
          122.133
         ],
         "yaxis": "y"
        }
       ],
       "layout": {
        "barmode": "relative",
        "legend": {
         "tracegroupgap": 0
        },
        "template": {
         "data": {
          "bar": [
           {
            "error_x": {
             "color": "#2a3f5f"
            },
            "error_y": {
             "color": "#2a3f5f"
            },
            "marker": {
             "line": {
              "color": "#E5ECF6",
              "width": 0.5
             },
             "pattern": {
              "fillmode": "overlay",
              "size": 10,
              "solidity": 0.2
             }
            },
            "type": "bar"
           }
          ],
          "barpolar": [
           {
            "marker": {
             "line": {
              "color": "#E5ECF6",
              "width": 0.5
             },
             "pattern": {
              "fillmode": "overlay",
              "size": 10,
              "solidity": 0.2
             }
            },
            "type": "barpolar"
           }
          ],
          "carpet": [
           {
            "aaxis": {
             "endlinecolor": "#2a3f5f",
             "gridcolor": "white",
             "linecolor": "white",
             "minorgridcolor": "white",
             "startlinecolor": "#2a3f5f"
            },
            "baxis": {
             "endlinecolor": "#2a3f5f",
             "gridcolor": "white",
             "linecolor": "white",
             "minorgridcolor": "white",
             "startlinecolor": "#2a3f5f"
            },
            "type": "carpet"
           }
          ],
          "choropleth": [
           {
            "colorbar": {
             "outlinewidth": 0,
             "ticks": ""
            },
            "type": "choropleth"
           }
          ],
          "contour": [
           {
            "colorbar": {
             "outlinewidth": 0,
             "ticks": ""
            },
            "colorscale": [
             [
              0,
              "#0d0887"
             ],
             [
              0.1111111111111111,
              "#46039f"
             ],
             [
              0.2222222222222222,
              "#7201a8"
             ],
             [
              0.3333333333333333,
              "#9c179e"
             ],
             [
              0.4444444444444444,
              "#bd3786"
             ],
             [
              0.5555555555555556,
              "#d8576b"
             ],
             [
              0.6666666666666666,
              "#ed7953"
             ],
             [
              0.7777777777777778,
              "#fb9f3a"
             ],
             [
              0.8888888888888888,
              "#fdca26"
             ],
             [
              1,
              "#f0f921"
             ]
            ],
            "type": "contour"
           }
          ],
          "contourcarpet": [
           {
            "colorbar": {
             "outlinewidth": 0,
             "ticks": ""
            },
            "type": "contourcarpet"
           }
          ],
          "heatmap": [
           {
            "colorbar": {
             "outlinewidth": 0,
             "ticks": ""
            },
            "colorscale": [
             [
              0,
              "#0d0887"
             ],
             [
              0.1111111111111111,
              "#46039f"
             ],
             [
              0.2222222222222222,
              "#7201a8"
             ],
             [
              0.3333333333333333,
              "#9c179e"
             ],
             [
              0.4444444444444444,
              "#bd3786"
             ],
             [
              0.5555555555555556,
              "#d8576b"
             ],
             [
              0.6666666666666666,
              "#ed7953"
             ],
             [
              0.7777777777777778,
              "#fb9f3a"
             ],
             [
              0.8888888888888888,
              "#fdca26"
             ],
             [
              1,
              "#f0f921"
             ]
            ],
            "type": "heatmap"
           }
          ],
          "heatmapgl": [
           {
            "colorbar": {
             "outlinewidth": 0,
             "ticks": ""
            },
            "colorscale": [
             [
              0,
              "#0d0887"
             ],
             [
              0.1111111111111111,
              "#46039f"
             ],
             [
              0.2222222222222222,
              "#7201a8"
             ],
             [
              0.3333333333333333,
              "#9c179e"
             ],
             [
              0.4444444444444444,
              "#bd3786"
             ],
             [
              0.5555555555555556,
              "#d8576b"
             ],
             [
              0.6666666666666666,
              "#ed7953"
             ],
             [
              0.7777777777777778,
              "#fb9f3a"
             ],
             [
              0.8888888888888888,
              "#fdca26"
             ],
             [
              1,
              "#f0f921"
             ]
            ],
            "type": "heatmapgl"
           }
          ],
          "histogram": [
           {
            "marker": {
             "pattern": {
              "fillmode": "overlay",
              "size": 10,
              "solidity": 0.2
             }
            },
            "type": "histogram"
           }
          ],
          "histogram2d": [
           {
            "colorbar": {
             "outlinewidth": 0,
             "ticks": ""
            },
            "colorscale": [
             [
              0,
              "#0d0887"
             ],
             [
              0.1111111111111111,
              "#46039f"
             ],
             [
              0.2222222222222222,
              "#7201a8"
             ],
             [
              0.3333333333333333,
              "#9c179e"
             ],
             [
              0.4444444444444444,
              "#bd3786"
             ],
             [
              0.5555555555555556,
              "#d8576b"
             ],
             [
              0.6666666666666666,
              "#ed7953"
             ],
             [
              0.7777777777777778,
              "#fb9f3a"
             ],
             [
              0.8888888888888888,
              "#fdca26"
             ],
             [
              1,
              "#f0f921"
             ]
            ],
            "type": "histogram2d"
           }
          ],
          "histogram2dcontour": [
           {
            "colorbar": {
             "outlinewidth": 0,
             "ticks": ""
            },
            "colorscale": [
             [
              0,
              "#0d0887"
             ],
             [
              0.1111111111111111,
              "#46039f"
             ],
             [
              0.2222222222222222,
              "#7201a8"
             ],
             [
              0.3333333333333333,
              "#9c179e"
             ],
             [
              0.4444444444444444,
              "#bd3786"
             ],
             [
              0.5555555555555556,
              "#d8576b"
             ],
             [
              0.6666666666666666,
              "#ed7953"
             ],
             [
              0.7777777777777778,
              "#fb9f3a"
             ],
             [
              0.8888888888888888,
              "#fdca26"
             ],
             [
              1,
              "#f0f921"
             ]
            ],
            "type": "histogram2dcontour"
           }
          ],
          "mesh3d": [
           {
            "colorbar": {
             "outlinewidth": 0,
             "ticks": ""
            },
            "type": "mesh3d"
           }
          ],
          "parcoords": [
           {
            "line": {
             "colorbar": {
              "outlinewidth": 0,
              "ticks": ""
             }
            },
            "type": "parcoords"
           }
          ],
          "pie": [
           {
            "automargin": true,
            "type": "pie"
           }
          ],
          "scatter": [
           {
            "fillpattern": {
             "fillmode": "overlay",
             "size": 10,
             "solidity": 0.2
            },
            "type": "scatter"
           }
          ],
          "scatter3d": [
           {
            "line": {
             "colorbar": {
              "outlinewidth": 0,
              "ticks": ""
             }
            },
            "marker": {
             "colorbar": {
              "outlinewidth": 0,
              "ticks": ""
             }
            },
            "type": "scatter3d"
           }
          ],
          "scattercarpet": [
           {
            "marker": {
             "colorbar": {
              "outlinewidth": 0,
              "ticks": ""
             }
            },
            "type": "scattercarpet"
           }
          ],
          "scattergeo": [
           {
            "marker": {
             "colorbar": {
              "outlinewidth": 0,
              "ticks": ""
             }
            },
            "type": "scattergeo"
           }
          ],
          "scattergl": [
           {
            "marker": {
             "colorbar": {
              "outlinewidth": 0,
              "ticks": ""
             }
            },
            "type": "scattergl"
           }
          ],
          "scattermapbox": [
           {
            "marker": {
             "colorbar": {
              "outlinewidth": 0,
              "ticks": ""
             }
            },
            "type": "scattermapbox"
           }
          ],
          "scatterpolar": [
           {
            "marker": {
             "colorbar": {
              "outlinewidth": 0,
              "ticks": ""
             }
            },
            "type": "scatterpolar"
           }
          ],
          "scatterpolargl": [
           {
            "marker": {
             "colorbar": {
              "outlinewidth": 0,
              "ticks": ""
             }
            },
            "type": "scatterpolargl"
           }
          ],
          "scatterternary": [
           {
            "marker": {
             "colorbar": {
              "outlinewidth": 0,
              "ticks": ""
             }
            },
            "type": "scatterternary"
           }
          ],
          "surface": [
           {
            "colorbar": {
             "outlinewidth": 0,
             "ticks": ""
            },
            "colorscale": [
             [
              0,
              "#0d0887"
             ],
             [
              0.1111111111111111,
              "#46039f"
             ],
             [
              0.2222222222222222,
              "#7201a8"
             ],
             [
              0.3333333333333333,
              "#9c179e"
             ],
             [
              0.4444444444444444,
              "#bd3786"
             ],
             [
              0.5555555555555556,
              "#d8576b"
             ],
             [
              0.6666666666666666,
              "#ed7953"
             ],
             [
              0.7777777777777778,
              "#fb9f3a"
             ],
             [
              0.8888888888888888,
              "#fdca26"
             ],
             [
              1,
              "#f0f921"
             ]
            ],
            "type": "surface"
           }
          ],
          "table": [
           {
            "cells": {
             "fill": {
              "color": "#EBF0F8"
             },
             "line": {
              "color": "white"
             }
            },
            "header": {
             "fill": {
              "color": "#C8D4E3"
             },
             "line": {
              "color": "white"
             }
            },
            "type": "table"
           }
          ]
         },
         "layout": {
          "annotationdefaults": {
           "arrowcolor": "#2a3f5f",
           "arrowhead": 0,
           "arrowwidth": 1
          },
          "autotypenumbers": "strict",
          "coloraxis": {
           "colorbar": {
            "outlinewidth": 0,
            "ticks": ""
           }
          },
          "colorscale": {
           "diverging": [
            [
             0,
             "#8e0152"
            ],
            [
             0.1,
             "#c51b7d"
            ],
            [
             0.2,
             "#de77ae"
            ],
            [
             0.3,
             "#f1b6da"
            ],
            [
             0.4,
             "#fde0ef"
            ],
            [
             0.5,
             "#f7f7f7"
            ],
            [
             0.6,
             "#e6f5d0"
            ],
            [
             0.7,
             "#b8e186"
            ],
            [
             0.8,
             "#7fbc41"
            ],
            [
             0.9,
             "#4d9221"
            ],
            [
             1,
             "#276419"
            ]
           ],
           "sequential": [
            [
             0,
             "#0d0887"
            ],
            [
             0.1111111111111111,
             "#46039f"
            ],
            [
             0.2222222222222222,
             "#7201a8"
            ],
            [
             0.3333333333333333,
             "#9c179e"
            ],
            [
             0.4444444444444444,
             "#bd3786"
            ],
            [
             0.5555555555555556,
             "#d8576b"
            ],
            [
             0.6666666666666666,
             "#ed7953"
            ],
            [
             0.7777777777777778,
             "#fb9f3a"
            ],
            [
             0.8888888888888888,
             "#fdca26"
            ],
            [
             1,
             "#f0f921"
            ]
           ],
           "sequentialminus": [
            [
             0,
             "#0d0887"
            ],
            [
             0.1111111111111111,
             "#46039f"
            ],
            [
             0.2222222222222222,
             "#7201a8"
            ],
            [
             0.3333333333333333,
             "#9c179e"
            ],
            [
             0.4444444444444444,
             "#bd3786"
            ],
            [
             0.5555555555555556,
             "#d8576b"
            ],
            [
             0.6666666666666666,
             "#ed7953"
            ],
            [
             0.7777777777777778,
             "#fb9f3a"
            ],
            [
             0.8888888888888888,
             "#fdca26"
            ],
            [
             1,
             "#f0f921"
            ]
           ]
          },
          "colorway": [
           "#636efa",
           "#EF553B",
           "#00cc96",
           "#ab63fa",
           "#FFA15A",
           "#19d3f3",
           "#FF6692",
           "#B6E880",
           "#FF97FF",
           "#FECB52"
          ],
          "font": {
           "color": "#2a3f5f"
          },
          "geo": {
           "bgcolor": "white",
           "lakecolor": "white",
           "landcolor": "#E5ECF6",
           "showlakes": true,
           "showland": true,
           "subunitcolor": "white"
          },
          "hoverlabel": {
           "align": "left"
          },
          "hovermode": "closest",
          "mapbox": {
           "style": "light"
          },
          "paper_bgcolor": "white",
          "plot_bgcolor": "#E5ECF6",
          "polar": {
           "angularaxis": {
            "gridcolor": "white",
            "linecolor": "white",
            "ticks": ""
           },
           "bgcolor": "#E5ECF6",
           "radialaxis": {
            "gridcolor": "white",
            "linecolor": "white",
            "ticks": ""
           }
          },
          "scene": {
           "xaxis": {
            "backgroundcolor": "#E5ECF6",
            "gridcolor": "white",
            "gridwidth": 2,
            "linecolor": "white",
            "showbackground": true,
            "ticks": "",
            "zerolinecolor": "white"
           },
           "yaxis": {
            "backgroundcolor": "#E5ECF6",
            "gridcolor": "white",
            "gridwidth": 2,
            "linecolor": "white",
            "showbackground": true,
            "ticks": "",
            "zerolinecolor": "white"
           },
           "zaxis": {
            "backgroundcolor": "#E5ECF6",
            "gridcolor": "white",
            "gridwidth": 2,
            "linecolor": "white",
            "showbackground": true,
            "ticks": "",
            "zerolinecolor": "white"
           }
          },
          "shapedefaults": {
           "line": {
            "color": "#2a3f5f"
           }
          },
          "ternary": {
           "aaxis": {
            "gridcolor": "white",
            "linecolor": "white",
            "ticks": ""
           },
           "baxis": {
            "gridcolor": "white",
            "linecolor": "white",
            "ticks": ""
           },
           "bgcolor": "#E5ECF6",
           "caxis": {
            "gridcolor": "white",
            "linecolor": "white",
            "ticks": ""
           }
          },
          "title": {
           "x": 0.05
          },
          "xaxis": {
           "automargin": true,
           "gridcolor": "white",
           "linecolor": "white",
           "ticks": "",
           "title": {
            "standoff": 15
           },
           "zerolinecolor": "white",
           "zerolinewidth": 2
          },
          "yaxis": {
           "automargin": true,
           "gridcolor": "white",
           "linecolor": "white",
           "ticks": "",
           "title": {
            "standoff": 15
           },
           "zerolinecolor": "white",
           "zerolinewidth": 2
          }
         }
        },
        "title": {
         "text": "Mean Steps by Hour of the Day"
        },
        "width": 800,
        "xaxis": {
         "anchor": "y",
         "domain": [
          0,
          1
         ],
         "title": {
          "text": "hour_value"
         }
        },
        "yaxis": {
         "anchor": "x",
         "domain": [
          0,
          1
         ],
         "title": {
          "text": "StepTotal_mean"
         }
        }
       }
      }
     },
     "metadata": {},
     "output_type": "display_data"
    }
   ],
   "source": [
    "px.bar(\n",
    "    hourlySteps_agg,\n",
    "    y='StepTotal_mean',\n",
    "    title='Mean Steps by Hour of the Day',\n",
    "    width=800\n",
    ")"
   ]
  },
  {
   "cell_type": "code",
   "execution_count": 63,
   "metadata": {},
   "outputs": [
    {
     "name": "stdout",
     "output_type": "stream",
     "text": [
      "24\n"
     ]
    },
    {
     "data": {
      "text/html": [
       "<div>\n",
       "<style scoped>\n",
       "    .dataframe tbody tr th:only-of-type {\n",
       "        vertical-align: middle;\n",
       "    }\n",
       "\n",
       "    .dataframe tbody tr th {\n",
       "        vertical-align: top;\n",
       "    }\n",
       "\n",
       "    .dataframe thead th {\n",
       "        text-align: right;\n",
       "    }\n",
       "</style>\n",
       "<table border=\"1\" class=\"dataframe\">\n",
       "  <thead>\n",
       "    <tr style=\"text-align: right;\">\n",
       "      <th></th>\n",
       "      <th>Id</th>\n",
       "      <th>SleepDay</th>\n",
       "      <th>TotalSleepRecords</th>\n",
       "      <th>TotalMinutesAsleep</th>\n",
       "      <th>TotalTimeInBed</th>\n",
       "      <th>day_of_week</th>\n",
       "    </tr>\n",
       "  </thead>\n",
       "  <tbody>\n",
       "    <tr>\n",
       "      <th>0</th>\n",
       "      <td>1503960366</td>\n",
       "      <td>2016-04-12</td>\n",
       "      <td>1</td>\n",
       "      <td>327</td>\n",
       "      <td>346</td>\n",
       "      <td>1</td>\n",
       "    </tr>\n",
       "    <tr>\n",
       "      <th>1</th>\n",
       "      <td>1503960366</td>\n",
       "      <td>2016-04-13</td>\n",
       "      <td>2</td>\n",
       "      <td>384</td>\n",
       "      <td>407</td>\n",
       "      <td>2</td>\n",
       "    </tr>\n",
       "    <tr>\n",
       "      <th>2</th>\n",
       "      <td>1503960366</td>\n",
       "      <td>2016-04-15</td>\n",
       "      <td>1</td>\n",
       "      <td>412</td>\n",
       "      <td>442</td>\n",
       "      <td>4</td>\n",
       "    </tr>\n",
       "    <tr>\n",
       "      <th>3</th>\n",
       "      <td>1503960366</td>\n",
       "      <td>2016-04-16</td>\n",
       "      <td>2</td>\n",
       "      <td>340</td>\n",
       "      <td>367</td>\n",
       "      <td>5</td>\n",
       "    </tr>\n",
       "    <tr>\n",
       "      <th>4</th>\n",
       "      <td>1503960366</td>\n",
       "      <td>2016-04-17</td>\n",
       "      <td>1</td>\n",
       "      <td>700</td>\n",
       "      <td>712</td>\n",
       "      <td>6</td>\n",
       "    </tr>\n",
       "  </tbody>\n",
       "</table>\n",
       "</div>"
      ],
      "text/plain": [
       "           Id   SleepDay  TotalSleepRecords  TotalMinutesAsleep  \\\n",
       "0  1503960366 2016-04-12                  1                 327   \n",
       "1  1503960366 2016-04-13                  2                 384   \n",
       "2  1503960366 2016-04-15                  1                 412   \n",
       "3  1503960366 2016-04-16                  2                 340   \n",
       "4  1503960366 2016-04-17                  1                 700   \n",
       "\n",
       "   TotalTimeInBed  day_of_week  \n",
       "0             346            1  \n",
       "1             407            2  \n",
       "2             442            4  \n",
       "3             367            5  \n",
       "4             712            6  "
      ]
     },
     "execution_count": 63,
     "metadata": {},
     "output_type": "execute_result"
    }
   ],
   "source": [
    "print(sleepDay['Id'].nunique())\n",
    "\n",
    "sleepDay.head()\n",
    "#not everyone recorded sleep data. only 24 individuals"
   ]
  },
  {
   "cell_type": "code",
   "execution_count": 65,
   "metadata": {},
   "outputs": [
    {
     "data": {
      "application/vnd.plotly.v1+json": {
       "config": {
        "plotlyServerURL": "https://plot.ly"
       },
       "data": [
        {
         "alignmentgroup": "True",
         "bingroup": "x",
         "hovertemplate": "TotalMinutesAsleep=%{x}<br>count=%{y}<extra></extra>",
         "legendgroup": "",
         "marker": {
          "color": "#636efa",
          "pattern": {
           "shape": ""
          }
         },
         "name": "",
         "nbinsx": 40,
         "offsetgroup": "",
         "orientation": "v",
         "showlegend": false,
         "type": "histogram",
         "x": [
          327,
          384,
          412,
          340,
          700,
          304,
          360,
          325,
          361,
          430,
          277,
          245,
          366,
          341,
          404,
          369,
          277,
          273,
          247,
          334,
          331,
          594,
          338,
          383,
          285,
          119,
          124,
          796,
          137,
          644,
          722,
          590,
          750,
          398,
          475,
          296,
          166,
          503,
          531,
          545,
          523,
          524,
          437,
          498,
          461,
          477,
          520,
          522,
          555,
          506,
          508,
          513,
          490,
          573,
          527,
          511,
          538,
          468,
          524,
          511,
          541,
          531,
          357,
          523,
          456,
          61,
          467,
          445,
          452,
          556,
          500,
          465,
          460,
          405,
          374,
          442,
          433,
          436,
          448,
          408,
          411,
          274,
          295,
          291,
          424,
          283,
          381,
          412,
          219,
          152,
          332,
          355,
          235,
          310,
          262,
          250,
          349,
          261,
          333,
          237,
          383,
          230,
          292,
          213,
          318,
          323,
          237,
          259,
          312,
          501,
          77,
          322,
          478,
          226,
          385,
          364,
          442,
          535,
          465,
          506,
          515,
          461,
          523,
          59,
          533,
          692,
          467,
          488,
          505,
          286,
          497,
          523,
          490,
          484,
          478,
          474,
          450,
          507,
          602,
          535,
          487,
          529,
          302,
          499,
          426,
          619,
          99,
          329,
          421,
          442,
          82,
          478,
          552,
          319,
          439,
          428,
          409,
          547,
          368,
          390,
          471,
          471,
          472,
          529,
          62,
          354,
          469,
          429,
          370,
          441,
          337,
          462,
          98,
          388,
          439,
          436,
          388,
          328,
          353,
          332,
          419,
          106,
          322,
          439,
          502,
          417,
          337,
          462,
          374,
          401,
          361,
          457,
          405,
          499,
          483,
          126,
          103,
          171,
          115,
          123,
          425,
          400,
          384,
          253,
          382,
          591,
          293,
          457,
          454,
          425,
          465,
          480,
          370,
          421,
          432,
          442,
          433,
          479,
          327,
          412,
          414,
          404,
          520,
          520,
          435,
          416,
          354,
          404,
          441,
          455,
          357,
          377,
          651,
          350,
          520,
          357,
          658,
          399,
          322,
          631,
          553,
          433,
          412,
          347,
          421,
          450,
          775,
          622,
          409,
          380,
          447,
          419,
          400,
          442,
          568,
          453,
          418,
          463,
          438,
          419,
          432,
          477,
          392,
          406,
          549,
          527,
          449,
          447,
          414,
          338,
          384,
          543,
          421,
          354,
          424,
          361,
          459,
          412,
          379,
          525,
          508,
          603,
          74,
          504,
          431,
          380,
          336,
          493,
          465,
          474,
          508,
          480,
          492,
          353,
          542,
          393,
          600,
          507,
          392,
          658,
          498,
          555,
          492,
          235,
          423,
          391,
          366,
          630,
          508,
          370,
          357,
          427,
          442,
          476,
          418,
          451,
          425,
          528,
          511,
          400,
          441,
          455,
          440,
          433,
          422,
          411,
          466,
          394,
          442,
          467,
          443,
          298,
          541,
          489,
          469,
          452,
          516,
          79,
          58,
          514,
          451,
          472,
          377,
          472,
          492,
          390,
          428,
          681,
          446,
          485,
          469,
          354,
          485,
          388,
          440,
          456,
          420,
          322,
          530,
          481,
          427,
          451,
          444,
          486,
          331,
          74,
          338,
          447,
          424,
          513,
          611,
          525,
          398,
          387,
          381,
          396,
          441,
          565,
          458,
          388,
          388,
          550,
          531,
          506,
          527,
          468,
          475,
          351,
          405,
          441,
          381,
          323,
          459,
          545,
          359,
          342,
          368,
          496,
          458,
          531,
          486,
          363,
          528,
          391,
          339,
          423,
          402,
          398,
          343,
          503,
          415,
          516,
          439
         ],
         "xaxis": "x",
         "yaxis": "y"
        }
       ],
       "layout": {
        "barmode": "relative",
        "legend": {
         "tracegroupgap": 0
        },
        "template": {
         "data": {
          "bar": [
           {
            "error_x": {
             "color": "#2a3f5f"
            },
            "error_y": {
             "color": "#2a3f5f"
            },
            "marker": {
             "line": {
              "color": "#E5ECF6",
              "width": 0.5
             },
             "pattern": {
              "fillmode": "overlay",
              "size": 10,
              "solidity": 0.2
             }
            },
            "type": "bar"
           }
          ],
          "barpolar": [
           {
            "marker": {
             "line": {
              "color": "#E5ECF6",
              "width": 0.5
             },
             "pattern": {
              "fillmode": "overlay",
              "size": 10,
              "solidity": 0.2
             }
            },
            "type": "barpolar"
           }
          ],
          "carpet": [
           {
            "aaxis": {
             "endlinecolor": "#2a3f5f",
             "gridcolor": "white",
             "linecolor": "white",
             "minorgridcolor": "white",
             "startlinecolor": "#2a3f5f"
            },
            "baxis": {
             "endlinecolor": "#2a3f5f",
             "gridcolor": "white",
             "linecolor": "white",
             "minorgridcolor": "white",
             "startlinecolor": "#2a3f5f"
            },
            "type": "carpet"
           }
          ],
          "choropleth": [
           {
            "colorbar": {
             "outlinewidth": 0,
             "ticks": ""
            },
            "type": "choropleth"
           }
          ],
          "contour": [
           {
            "colorbar": {
             "outlinewidth": 0,
             "ticks": ""
            },
            "colorscale": [
             [
              0,
              "#0d0887"
             ],
             [
              0.1111111111111111,
              "#46039f"
             ],
             [
              0.2222222222222222,
              "#7201a8"
             ],
             [
              0.3333333333333333,
              "#9c179e"
             ],
             [
              0.4444444444444444,
              "#bd3786"
             ],
             [
              0.5555555555555556,
              "#d8576b"
             ],
             [
              0.6666666666666666,
              "#ed7953"
             ],
             [
              0.7777777777777778,
              "#fb9f3a"
             ],
             [
              0.8888888888888888,
              "#fdca26"
             ],
             [
              1,
              "#f0f921"
             ]
            ],
            "type": "contour"
           }
          ],
          "contourcarpet": [
           {
            "colorbar": {
             "outlinewidth": 0,
             "ticks": ""
            },
            "type": "contourcarpet"
           }
          ],
          "heatmap": [
           {
            "colorbar": {
             "outlinewidth": 0,
             "ticks": ""
            },
            "colorscale": [
             [
              0,
              "#0d0887"
             ],
             [
              0.1111111111111111,
              "#46039f"
             ],
             [
              0.2222222222222222,
              "#7201a8"
             ],
             [
              0.3333333333333333,
              "#9c179e"
             ],
             [
              0.4444444444444444,
              "#bd3786"
             ],
             [
              0.5555555555555556,
              "#d8576b"
             ],
             [
              0.6666666666666666,
              "#ed7953"
             ],
             [
              0.7777777777777778,
              "#fb9f3a"
             ],
             [
              0.8888888888888888,
              "#fdca26"
             ],
             [
              1,
              "#f0f921"
             ]
            ],
            "type": "heatmap"
           }
          ],
          "heatmapgl": [
           {
            "colorbar": {
             "outlinewidth": 0,
             "ticks": ""
            },
            "colorscale": [
             [
              0,
              "#0d0887"
             ],
             [
              0.1111111111111111,
              "#46039f"
             ],
             [
              0.2222222222222222,
              "#7201a8"
             ],
             [
              0.3333333333333333,
              "#9c179e"
             ],
             [
              0.4444444444444444,
              "#bd3786"
             ],
             [
              0.5555555555555556,
              "#d8576b"
             ],
             [
              0.6666666666666666,
              "#ed7953"
             ],
             [
              0.7777777777777778,
              "#fb9f3a"
             ],
             [
              0.8888888888888888,
              "#fdca26"
             ],
             [
              1,
              "#f0f921"
             ]
            ],
            "type": "heatmapgl"
           }
          ],
          "histogram": [
           {
            "marker": {
             "pattern": {
              "fillmode": "overlay",
              "size": 10,
              "solidity": 0.2
             }
            },
            "type": "histogram"
           }
          ],
          "histogram2d": [
           {
            "colorbar": {
             "outlinewidth": 0,
             "ticks": ""
            },
            "colorscale": [
             [
              0,
              "#0d0887"
             ],
             [
              0.1111111111111111,
              "#46039f"
             ],
             [
              0.2222222222222222,
              "#7201a8"
             ],
             [
              0.3333333333333333,
              "#9c179e"
             ],
             [
              0.4444444444444444,
              "#bd3786"
             ],
             [
              0.5555555555555556,
              "#d8576b"
             ],
             [
              0.6666666666666666,
              "#ed7953"
             ],
             [
              0.7777777777777778,
              "#fb9f3a"
             ],
             [
              0.8888888888888888,
              "#fdca26"
             ],
             [
              1,
              "#f0f921"
             ]
            ],
            "type": "histogram2d"
           }
          ],
          "histogram2dcontour": [
           {
            "colorbar": {
             "outlinewidth": 0,
             "ticks": ""
            },
            "colorscale": [
             [
              0,
              "#0d0887"
             ],
             [
              0.1111111111111111,
              "#46039f"
             ],
             [
              0.2222222222222222,
              "#7201a8"
             ],
             [
              0.3333333333333333,
              "#9c179e"
             ],
             [
              0.4444444444444444,
              "#bd3786"
             ],
             [
              0.5555555555555556,
              "#d8576b"
             ],
             [
              0.6666666666666666,
              "#ed7953"
             ],
             [
              0.7777777777777778,
              "#fb9f3a"
             ],
             [
              0.8888888888888888,
              "#fdca26"
             ],
             [
              1,
              "#f0f921"
             ]
            ],
            "type": "histogram2dcontour"
           }
          ],
          "mesh3d": [
           {
            "colorbar": {
             "outlinewidth": 0,
             "ticks": ""
            },
            "type": "mesh3d"
           }
          ],
          "parcoords": [
           {
            "line": {
             "colorbar": {
              "outlinewidth": 0,
              "ticks": ""
             }
            },
            "type": "parcoords"
           }
          ],
          "pie": [
           {
            "automargin": true,
            "type": "pie"
           }
          ],
          "scatter": [
           {
            "fillpattern": {
             "fillmode": "overlay",
             "size": 10,
             "solidity": 0.2
            },
            "type": "scatter"
           }
          ],
          "scatter3d": [
           {
            "line": {
             "colorbar": {
              "outlinewidth": 0,
              "ticks": ""
             }
            },
            "marker": {
             "colorbar": {
              "outlinewidth": 0,
              "ticks": ""
             }
            },
            "type": "scatter3d"
           }
          ],
          "scattercarpet": [
           {
            "marker": {
             "colorbar": {
              "outlinewidth": 0,
              "ticks": ""
             }
            },
            "type": "scattercarpet"
           }
          ],
          "scattergeo": [
           {
            "marker": {
             "colorbar": {
              "outlinewidth": 0,
              "ticks": ""
             }
            },
            "type": "scattergeo"
           }
          ],
          "scattergl": [
           {
            "marker": {
             "colorbar": {
              "outlinewidth": 0,
              "ticks": ""
             }
            },
            "type": "scattergl"
           }
          ],
          "scattermapbox": [
           {
            "marker": {
             "colorbar": {
              "outlinewidth": 0,
              "ticks": ""
             }
            },
            "type": "scattermapbox"
           }
          ],
          "scatterpolar": [
           {
            "marker": {
             "colorbar": {
              "outlinewidth": 0,
              "ticks": ""
             }
            },
            "type": "scatterpolar"
           }
          ],
          "scatterpolargl": [
           {
            "marker": {
             "colorbar": {
              "outlinewidth": 0,
              "ticks": ""
             }
            },
            "type": "scatterpolargl"
           }
          ],
          "scatterternary": [
           {
            "marker": {
             "colorbar": {
              "outlinewidth": 0,
              "ticks": ""
             }
            },
            "type": "scatterternary"
           }
          ],
          "surface": [
           {
            "colorbar": {
             "outlinewidth": 0,
             "ticks": ""
            },
            "colorscale": [
             [
              0,
              "#0d0887"
             ],
             [
              0.1111111111111111,
              "#46039f"
             ],
             [
              0.2222222222222222,
              "#7201a8"
             ],
             [
              0.3333333333333333,
              "#9c179e"
             ],
             [
              0.4444444444444444,
              "#bd3786"
             ],
             [
              0.5555555555555556,
              "#d8576b"
             ],
             [
              0.6666666666666666,
              "#ed7953"
             ],
             [
              0.7777777777777778,
              "#fb9f3a"
             ],
             [
              0.8888888888888888,
              "#fdca26"
             ],
             [
              1,
              "#f0f921"
             ]
            ],
            "type": "surface"
           }
          ],
          "table": [
           {
            "cells": {
             "fill": {
              "color": "#EBF0F8"
             },
             "line": {
              "color": "white"
             }
            },
            "header": {
             "fill": {
              "color": "#C8D4E3"
             },
             "line": {
              "color": "white"
             }
            },
            "type": "table"
           }
          ]
         },
         "layout": {
          "annotationdefaults": {
           "arrowcolor": "#2a3f5f",
           "arrowhead": 0,
           "arrowwidth": 1
          },
          "autotypenumbers": "strict",
          "coloraxis": {
           "colorbar": {
            "outlinewidth": 0,
            "ticks": ""
           }
          },
          "colorscale": {
           "diverging": [
            [
             0,
             "#8e0152"
            ],
            [
             0.1,
             "#c51b7d"
            ],
            [
             0.2,
             "#de77ae"
            ],
            [
             0.3,
             "#f1b6da"
            ],
            [
             0.4,
             "#fde0ef"
            ],
            [
             0.5,
             "#f7f7f7"
            ],
            [
             0.6,
             "#e6f5d0"
            ],
            [
             0.7,
             "#b8e186"
            ],
            [
             0.8,
             "#7fbc41"
            ],
            [
             0.9,
             "#4d9221"
            ],
            [
             1,
             "#276419"
            ]
           ],
           "sequential": [
            [
             0,
             "#0d0887"
            ],
            [
             0.1111111111111111,
             "#46039f"
            ],
            [
             0.2222222222222222,
             "#7201a8"
            ],
            [
             0.3333333333333333,
             "#9c179e"
            ],
            [
             0.4444444444444444,
             "#bd3786"
            ],
            [
             0.5555555555555556,
             "#d8576b"
            ],
            [
             0.6666666666666666,
             "#ed7953"
            ],
            [
             0.7777777777777778,
             "#fb9f3a"
            ],
            [
             0.8888888888888888,
             "#fdca26"
            ],
            [
             1,
             "#f0f921"
            ]
           ],
           "sequentialminus": [
            [
             0,
             "#0d0887"
            ],
            [
             0.1111111111111111,
             "#46039f"
            ],
            [
             0.2222222222222222,
             "#7201a8"
            ],
            [
             0.3333333333333333,
             "#9c179e"
            ],
            [
             0.4444444444444444,
             "#bd3786"
            ],
            [
             0.5555555555555556,
             "#d8576b"
            ],
            [
             0.6666666666666666,
             "#ed7953"
            ],
            [
             0.7777777777777778,
             "#fb9f3a"
            ],
            [
             0.8888888888888888,
             "#fdca26"
            ],
            [
             1,
             "#f0f921"
            ]
           ]
          },
          "colorway": [
           "#636efa",
           "#EF553B",
           "#00cc96",
           "#ab63fa",
           "#FFA15A",
           "#19d3f3",
           "#FF6692",
           "#B6E880",
           "#FF97FF",
           "#FECB52"
          ],
          "font": {
           "color": "#2a3f5f"
          },
          "geo": {
           "bgcolor": "white",
           "lakecolor": "white",
           "landcolor": "#E5ECF6",
           "showlakes": true,
           "showland": true,
           "subunitcolor": "white"
          },
          "hoverlabel": {
           "align": "left"
          },
          "hovermode": "closest",
          "mapbox": {
           "style": "light"
          },
          "paper_bgcolor": "white",
          "plot_bgcolor": "#E5ECF6",
          "polar": {
           "angularaxis": {
            "gridcolor": "white",
            "linecolor": "white",
            "ticks": ""
           },
           "bgcolor": "#E5ECF6",
           "radialaxis": {
            "gridcolor": "white",
            "linecolor": "white",
            "ticks": ""
           }
          },
          "scene": {
           "xaxis": {
            "backgroundcolor": "#E5ECF6",
            "gridcolor": "white",
            "gridwidth": 2,
            "linecolor": "white",
            "showbackground": true,
            "ticks": "",
            "zerolinecolor": "white"
           },
           "yaxis": {
            "backgroundcolor": "#E5ECF6",
            "gridcolor": "white",
            "gridwidth": 2,
            "linecolor": "white",
            "showbackground": true,
            "ticks": "",
            "zerolinecolor": "white"
           },
           "zaxis": {
            "backgroundcolor": "#E5ECF6",
            "gridcolor": "white",
            "gridwidth": 2,
            "linecolor": "white",
            "showbackground": true,
            "ticks": "",
            "zerolinecolor": "white"
           }
          },
          "shapedefaults": {
           "line": {
            "color": "#2a3f5f"
           }
          },
          "ternary": {
           "aaxis": {
            "gridcolor": "white",
            "linecolor": "white",
            "ticks": ""
           },
           "baxis": {
            "gridcolor": "white",
            "linecolor": "white",
            "ticks": ""
           },
           "bgcolor": "#E5ECF6",
           "caxis": {
            "gridcolor": "white",
            "linecolor": "white",
            "ticks": ""
           }
          },
          "title": {
           "x": 0.05
          },
          "xaxis": {
           "automargin": true,
           "gridcolor": "white",
           "linecolor": "white",
           "ticks": "",
           "title": {
            "standoff": 15
           },
           "zerolinecolor": "white",
           "zerolinewidth": 2
          },
          "yaxis": {
           "automargin": true,
           "gridcolor": "white",
           "linecolor": "white",
           "ticks": "",
           "title": {
            "standoff": 15
           },
           "zerolinecolor": "white",
           "zerolinewidth": 2
          }
         }
        },
        "title": {
         "text": "Histogram of Total Minutes Asleep"
        },
        "width": 800,
        "xaxis": {
         "anchor": "y",
         "domain": [
          0,
          1
         ],
         "title": {
          "text": "TotalMinutesAsleep"
         }
        },
        "yaxis": {
         "anchor": "x",
         "domain": [
          0,
          1
         ],
         "title": {
          "text": "count"
         }
        }
       }
      }
     },
     "metadata": {},
     "output_type": "display_data"
    }
   ],
   "source": [
    "px.histogram(\n",
    "    sleepDay,\n",
    "    x='TotalMinutesAsleep',\n",
    "    nbins=40,\n",
    "    title='Histogram of Total Minutes Asleep',\n",
    "    width=800\n",
    ")"
   ]
  },
  {
   "cell_type": "markdown",
   "metadata": {},
   "source": [
    "Descriptive statistics for the *sleepDay* dataframe"
   ]
  },
  {
   "cell_type": "code",
   "execution_count": 37,
   "metadata": {},
   "outputs": [
    {
     "data": {
      "text/html": [
       "<div>\n",
       "<style scoped>\n",
       "    .dataframe tbody tr th:only-of-type {\n",
       "        vertical-align: middle;\n",
       "    }\n",
       "\n",
       "    .dataframe tbody tr th {\n",
       "        vertical-align: top;\n",
       "    }\n",
       "\n",
       "    .dataframe thead th {\n",
       "        text-align: right;\n",
       "    }\n",
       "</style>\n",
       "<table border=\"1\" class=\"dataframe\">\n",
       "  <thead>\n",
       "    <tr style=\"text-align: right;\">\n",
       "      <th></th>\n",
       "      <th>TotalSleepRecords</th>\n",
       "      <th>TotalMinutesAsleep</th>\n",
       "      <th>TotalTimeInBed</th>\n",
       "    </tr>\n",
       "  </thead>\n",
       "  <tbody>\n",
       "    <tr>\n",
       "      <th>count</th>\n",
       "      <td>413.000</td>\n",
       "      <td>413.000</td>\n",
       "      <td>413.000</td>\n",
       "    </tr>\n",
       "    <tr>\n",
       "      <th>mean</th>\n",
       "      <td>1.119</td>\n",
       "      <td>419.467</td>\n",
       "      <td>458.639</td>\n",
       "    </tr>\n",
       "    <tr>\n",
       "      <th>std</th>\n",
       "      <td>0.346</td>\n",
       "      <td>118.345</td>\n",
       "      <td>127.102</td>\n",
       "    </tr>\n",
       "    <tr>\n",
       "      <th>min</th>\n",
       "      <td>1.000</td>\n",
       "      <td>58.000</td>\n",
       "      <td>61.000</td>\n",
       "    </tr>\n",
       "    <tr>\n",
       "      <th>25%</th>\n",
       "      <td>1.000</td>\n",
       "      <td>361.000</td>\n",
       "      <td>403.000</td>\n",
       "    </tr>\n",
       "    <tr>\n",
       "      <th>50%</th>\n",
       "      <td>1.000</td>\n",
       "      <td>433.000</td>\n",
       "      <td>463.000</td>\n",
       "    </tr>\n",
       "    <tr>\n",
       "      <th>75%</th>\n",
       "      <td>1.000</td>\n",
       "      <td>490.000</td>\n",
       "      <td>526.000</td>\n",
       "    </tr>\n",
       "    <tr>\n",
       "      <th>max</th>\n",
       "      <td>3.000</td>\n",
       "      <td>796.000</td>\n",
       "      <td>961.000</td>\n",
       "    </tr>\n",
       "  </tbody>\n",
       "</table>\n",
       "</div>"
      ],
      "text/plain": [
       "       TotalSleepRecords  TotalMinutesAsleep  TotalTimeInBed\n",
       "count            413.000             413.000         413.000\n",
       "mean               1.119             419.467         458.639\n",
       "std                0.346             118.345         127.102\n",
       "min                1.000              58.000          61.000\n",
       "25%                1.000             361.000         403.000\n",
       "50%                1.000             433.000         463.000\n",
       "75%                1.000             490.000         526.000\n",
       "max                3.000             796.000         961.000"
      ]
     },
     "execution_count": 37,
     "metadata": {},
     "output_type": "execute_result"
    }
   ],
   "source": [
    "sleepDay.drop(columns=['Id','SleepDay']).describe().round(3)\n",
    "#sleep duration slightly left skewed"
   ]
  },
  {
   "cell_type": "markdown",
   "metadata": {},
   "source": [
    "Grouping *sleepDay* by \"Id\" and aggregating the columns by mean. The resulting dataframe contains the daily averages for each individual."
   ]
  },
  {
   "cell_type": "code",
   "execution_count": 38,
   "metadata": {},
   "outputs": [
    {
     "data": {
      "text/html": [
       "<div>\n",
       "<style scoped>\n",
       "    .dataframe tbody tr th:only-of-type {\n",
       "        vertical-align: middle;\n",
       "    }\n",
       "\n",
       "    .dataframe tbody tr th {\n",
       "        vertical-align: top;\n",
       "    }\n",
       "\n",
       "    .dataframe thead th {\n",
       "        text-align: right;\n",
       "    }\n",
       "</style>\n",
       "<table border=\"1\" class=\"dataframe\">\n",
       "  <thead>\n",
       "    <tr style=\"text-align: right;\">\n",
       "      <th></th>\n",
       "      <th>TotalSleepRecords_mean</th>\n",
       "      <th>TotalMinutesAsleep_mean</th>\n",
       "      <th>TotalTimeInBed_mean</th>\n",
       "    </tr>\n",
       "    <tr>\n",
       "      <th>Id</th>\n",
       "      <th></th>\n",
       "      <th></th>\n",
       "      <th></th>\n",
       "    </tr>\n",
       "  </thead>\n",
       "  <tbody>\n",
       "    <tr>\n",
       "      <th>1503960366</th>\n",
       "      <td>1.080</td>\n",
       "      <td>360.280</td>\n",
       "      <td>383.200</td>\n",
       "    </tr>\n",
       "    <tr>\n",
       "      <th>1644430081</th>\n",
       "      <td>1.000</td>\n",
       "      <td>294.000</td>\n",
       "      <td>346.000</td>\n",
       "    </tr>\n",
       "    <tr>\n",
       "      <th>1844505072</th>\n",
       "      <td>1.000</td>\n",
       "      <td>652.000</td>\n",
       "      <td>961.000</td>\n",
       "    </tr>\n",
       "    <tr>\n",
       "      <th>1927972279</th>\n",
       "      <td>1.600</td>\n",
       "      <td>417.000</td>\n",
       "      <td>437.800</td>\n",
       "    </tr>\n",
       "    <tr>\n",
       "      <th>2026352035</th>\n",
       "      <td>1.000</td>\n",
       "      <td>506.179</td>\n",
       "      <td>537.643</td>\n",
       "    </tr>\n",
       "    <tr>\n",
       "      <th>2320127002</th>\n",
       "      <td>1.000</td>\n",
       "      <td>61.000</td>\n",
       "      <td>69.000</td>\n",
       "    </tr>\n",
       "    <tr>\n",
       "      <th>2347167796</th>\n",
       "      <td>1.000</td>\n",
       "      <td>446.800</td>\n",
       "      <td>491.333</td>\n",
       "    </tr>\n",
       "    <tr>\n",
       "      <th>3977333714</th>\n",
       "      <td>1.143</td>\n",
       "      <td>293.643</td>\n",
       "      <td>461.143</td>\n",
       "    </tr>\n",
       "    <tr>\n",
       "      <th>4020332650</th>\n",
       "      <td>1.000</td>\n",
       "      <td>349.375</td>\n",
       "      <td>379.750</td>\n",
       "    </tr>\n",
       "    <tr>\n",
       "      <th>4319703577</th>\n",
       "      <td>1.038</td>\n",
       "      <td>476.654</td>\n",
       "      <td>501.962</td>\n",
       "    </tr>\n",
       "    <tr>\n",
       "      <th>4388161847</th>\n",
       "      <td>1.292</td>\n",
       "      <td>403.125</td>\n",
       "      <td>426.208</td>\n",
       "    </tr>\n",
       "    <tr>\n",
       "      <th>4445114986</th>\n",
       "      <td>1.393</td>\n",
       "      <td>385.179</td>\n",
       "      <td>416.821</td>\n",
       "    </tr>\n",
       "    <tr>\n",
       "      <th>4558609924</th>\n",
       "      <td>1.000</td>\n",
       "      <td>127.600</td>\n",
       "      <td>140.000</td>\n",
       "    </tr>\n",
       "    <tr>\n",
       "      <th>4702921684</th>\n",
       "      <td>1.071</td>\n",
       "      <td>421.143</td>\n",
       "      <td>441.964</td>\n",
       "    </tr>\n",
       "    <tr>\n",
       "      <th>5553957443</th>\n",
       "      <td>1.226</td>\n",
       "      <td>463.484</td>\n",
       "      <td>505.871</td>\n",
       "    </tr>\n",
       "    <tr>\n",
       "      <th>5577150313</th>\n",
       "      <td>1.038</td>\n",
       "      <td>432.000</td>\n",
       "      <td>460.615</td>\n",
       "    </tr>\n",
       "    <tr>\n",
       "      <th>6117666160</th>\n",
       "      <td>1.222</td>\n",
       "      <td>478.778</td>\n",
       "      <td>510.167</td>\n",
       "    </tr>\n",
       "    <tr>\n",
       "      <th>6775888955</th>\n",
       "      <td>1.000</td>\n",
       "      <td>349.667</td>\n",
       "      <td>369.000</td>\n",
       "    </tr>\n",
       "    <tr>\n",
       "      <th>6962181067</th>\n",
       "      <td>1.097</td>\n",
       "      <td>448.000</td>\n",
       "      <td>466.129</td>\n",
       "    </tr>\n",
       "    <tr>\n",
       "      <th>7007744171</th>\n",
       "      <td>1.000</td>\n",
       "      <td>68.500</td>\n",
       "      <td>71.500</td>\n",
       "    </tr>\n",
       "    <tr>\n",
       "      <th>7086361926</th>\n",
       "      <td>1.000</td>\n",
       "      <td>453.125</td>\n",
       "      <td>466.417</td>\n",
       "    </tr>\n",
       "    <tr>\n",
       "      <th>8053475328</th>\n",
       "      <td>1.000</td>\n",
       "      <td>297.000</td>\n",
       "      <td>301.667</td>\n",
       "    </tr>\n",
       "    <tr>\n",
       "      <th>8378563200</th>\n",
       "      <td>1.125</td>\n",
       "      <td>443.344</td>\n",
       "      <td>483.312</td>\n",
       "    </tr>\n",
       "    <tr>\n",
       "      <th>8792009665</th>\n",
       "      <td>1.000</td>\n",
       "      <td>435.667</td>\n",
       "      <td>453.800</td>\n",
       "    </tr>\n",
       "  </tbody>\n",
       "</table>\n",
       "</div>"
      ],
      "text/plain": [
       "            TotalSleepRecords_mean  TotalMinutesAsleep_mean  \\\n",
       "Id                                                            \n",
       "1503960366                   1.080                  360.280   \n",
       "1644430081                   1.000                  294.000   \n",
       "1844505072                   1.000                  652.000   \n",
       "1927972279                   1.600                  417.000   \n",
       "2026352035                   1.000                  506.179   \n",
       "2320127002                   1.000                   61.000   \n",
       "2347167796                   1.000                  446.800   \n",
       "3977333714                   1.143                  293.643   \n",
       "4020332650                   1.000                  349.375   \n",
       "4319703577                   1.038                  476.654   \n",
       "4388161847                   1.292                  403.125   \n",
       "4445114986                   1.393                  385.179   \n",
       "4558609924                   1.000                  127.600   \n",
       "4702921684                   1.071                  421.143   \n",
       "5553957443                   1.226                  463.484   \n",
       "5577150313                   1.038                  432.000   \n",
       "6117666160                   1.222                  478.778   \n",
       "6775888955                   1.000                  349.667   \n",
       "6962181067                   1.097                  448.000   \n",
       "7007744171                   1.000                   68.500   \n",
       "7086361926                   1.000                  453.125   \n",
       "8053475328                   1.000                  297.000   \n",
       "8378563200                   1.125                  443.344   \n",
       "8792009665                   1.000                  435.667   \n",
       "\n",
       "            TotalTimeInBed_mean  \n",
       "Id                               \n",
       "1503960366              383.200  \n",
       "1644430081              346.000  \n",
       "1844505072              961.000  \n",
       "1927972279              437.800  \n",
       "2026352035              537.643  \n",
       "2320127002               69.000  \n",
       "2347167796              491.333  \n",
       "3977333714              461.143  \n",
       "4020332650              379.750  \n",
       "4319703577              501.962  \n",
       "4388161847              426.208  \n",
       "4445114986              416.821  \n",
       "4558609924              140.000  \n",
       "4702921684              441.964  \n",
       "5553957443              505.871  \n",
       "5577150313              460.615  \n",
       "6117666160              510.167  \n",
       "6775888955              369.000  \n",
       "6962181067              466.129  \n",
       "7007744171               71.500  \n",
       "7086361926              466.417  \n",
       "8053475328              301.667  \n",
       "8378563200              483.312  \n",
       "8792009665              453.800  "
      ]
     },
     "execution_count": 38,
     "metadata": {},
     "output_type": "execute_result"
    }
   ],
   "source": [
    "sleepDay_agg = sleepDay.groupby(['Id']).agg(['mean']).round(3)\n",
    "sleepDay_agg.columns = sleepDay_agg.columns.map('_'.join)\n",
    "sleepDay_agg"
   ]
  },
  {
   "cell_type": "code",
   "execution_count": 78,
   "metadata": {},
   "outputs": [
    {
     "data": {
      "application/vnd.plotly.v1+json": {
       "config": {
        "plotlyServerURL": "https://plot.ly"
       },
       "data": [
        {
         "alignmentgroup": "True",
         "bingroup": "x",
         "hovertemplate": "TotalMinutesAsleep_mean=%{x}<br>count=%{y}<extra></extra>",
         "legendgroup": "",
         "marker": {
          "color": "#636efa",
          "pattern": {
           "shape": ""
          }
         },
         "name": "",
         "offsetgroup": "",
         "orientation": "v",
         "showlegend": false,
         "type": "histogram",
         "x": [
          360.28,
          294,
          652,
          417,
          506.179,
          61,
          446.8,
          293.643,
          349.375,
          476.654,
          403.125,
          385.179,
          127.6,
          421.143,
          463.484,
          432,
          478.778,
          349.667,
          448,
          68.5,
          453.125,
          297,
          443.344,
          435.667
         ],
         "xaxis": "x",
         "yaxis": "y"
        }
       ],
       "layout": {
        "barmode": "relative",
        "legend": {
         "tracegroupgap": 0
        },
        "template": {
         "data": {
          "bar": [
           {
            "error_x": {
             "color": "#2a3f5f"
            },
            "error_y": {
             "color": "#2a3f5f"
            },
            "marker": {
             "line": {
              "color": "#E5ECF6",
              "width": 0.5
             },
             "pattern": {
              "fillmode": "overlay",
              "size": 10,
              "solidity": 0.2
             }
            },
            "type": "bar"
           }
          ],
          "barpolar": [
           {
            "marker": {
             "line": {
              "color": "#E5ECF6",
              "width": 0.5
             },
             "pattern": {
              "fillmode": "overlay",
              "size": 10,
              "solidity": 0.2
             }
            },
            "type": "barpolar"
           }
          ],
          "carpet": [
           {
            "aaxis": {
             "endlinecolor": "#2a3f5f",
             "gridcolor": "white",
             "linecolor": "white",
             "minorgridcolor": "white",
             "startlinecolor": "#2a3f5f"
            },
            "baxis": {
             "endlinecolor": "#2a3f5f",
             "gridcolor": "white",
             "linecolor": "white",
             "minorgridcolor": "white",
             "startlinecolor": "#2a3f5f"
            },
            "type": "carpet"
           }
          ],
          "choropleth": [
           {
            "colorbar": {
             "outlinewidth": 0,
             "ticks": ""
            },
            "type": "choropleth"
           }
          ],
          "contour": [
           {
            "colorbar": {
             "outlinewidth": 0,
             "ticks": ""
            },
            "colorscale": [
             [
              0,
              "#0d0887"
             ],
             [
              0.1111111111111111,
              "#46039f"
             ],
             [
              0.2222222222222222,
              "#7201a8"
             ],
             [
              0.3333333333333333,
              "#9c179e"
             ],
             [
              0.4444444444444444,
              "#bd3786"
             ],
             [
              0.5555555555555556,
              "#d8576b"
             ],
             [
              0.6666666666666666,
              "#ed7953"
             ],
             [
              0.7777777777777778,
              "#fb9f3a"
             ],
             [
              0.8888888888888888,
              "#fdca26"
             ],
             [
              1,
              "#f0f921"
             ]
            ],
            "type": "contour"
           }
          ],
          "contourcarpet": [
           {
            "colorbar": {
             "outlinewidth": 0,
             "ticks": ""
            },
            "type": "contourcarpet"
           }
          ],
          "heatmap": [
           {
            "colorbar": {
             "outlinewidth": 0,
             "ticks": ""
            },
            "colorscale": [
             [
              0,
              "#0d0887"
             ],
             [
              0.1111111111111111,
              "#46039f"
             ],
             [
              0.2222222222222222,
              "#7201a8"
             ],
             [
              0.3333333333333333,
              "#9c179e"
             ],
             [
              0.4444444444444444,
              "#bd3786"
             ],
             [
              0.5555555555555556,
              "#d8576b"
             ],
             [
              0.6666666666666666,
              "#ed7953"
             ],
             [
              0.7777777777777778,
              "#fb9f3a"
             ],
             [
              0.8888888888888888,
              "#fdca26"
             ],
             [
              1,
              "#f0f921"
             ]
            ],
            "type": "heatmap"
           }
          ],
          "heatmapgl": [
           {
            "colorbar": {
             "outlinewidth": 0,
             "ticks": ""
            },
            "colorscale": [
             [
              0,
              "#0d0887"
             ],
             [
              0.1111111111111111,
              "#46039f"
             ],
             [
              0.2222222222222222,
              "#7201a8"
             ],
             [
              0.3333333333333333,
              "#9c179e"
             ],
             [
              0.4444444444444444,
              "#bd3786"
             ],
             [
              0.5555555555555556,
              "#d8576b"
             ],
             [
              0.6666666666666666,
              "#ed7953"
             ],
             [
              0.7777777777777778,
              "#fb9f3a"
             ],
             [
              0.8888888888888888,
              "#fdca26"
             ],
             [
              1,
              "#f0f921"
             ]
            ],
            "type": "heatmapgl"
           }
          ],
          "histogram": [
           {
            "marker": {
             "pattern": {
              "fillmode": "overlay",
              "size": 10,
              "solidity": 0.2
             }
            },
            "type": "histogram"
           }
          ],
          "histogram2d": [
           {
            "colorbar": {
             "outlinewidth": 0,
             "ticks": ""
            },
            "colorscale": [
             [
              0,
              "#0d0887"
             ],
             [
              0.1111111111111111,
              "#46039f"
             ],
             [
              0.2222222222222222,
              "#7201a8"
             ],
             [
              0.3333333333333333,
              "#9c179e"
             ],
             [
              0.4444444444444444,
              "#bd3786"
             ],
             [
              0.5555555555555556,
              "#d8576b"
             ],
             [
              0.6666666666666666,
              "#ed7953"
             ],
             [
              0.7777777777777778,
              "#fb9f3a"
             ],
             [
              0.8888888888888888,
              "#fdca26"
             ],
             [
              1,
              "#f0f921"
             ]
            ],
            "type": "histogram2d"
           }
          ],
          "histogram2dcontour": [
           {
            "colorbar": {
             "outlinewidth": 0,
             "ticks": ""
            },
            "colorscale": [
             [
              0,
              "#0d0887"
             ],
             [
              0.1111111111111111,
              "#46039f"
             ],
             [
              0.2222222222222222,
              "#7201a8"
             ],
             [
              0.3333333333333333,
              "#9c179e"
             ],
             [
              0.4444444444444444,
              "#bd3786"
             ],
             [
              0.5555555555555556,
              "#d8576b"
             ],
             [
              0.6666666666666666,
              "#ed7953"
             ],
             [
              0.7777777777777778,
              "#fb9f3a"
             ],
             [
              0.8888888888888888,
              "#fdca26"
             ],
             [
              1,
              "#f0f921"
             ]
            ],
            "type": "histogram2dcontour"
           }
          ],
          "mesh3d": [
           {
            "colorbar": {
             "outlinewidth": 0,
             "ticks": ""
            },
            "type": "mesh3d"
           }
          ],
          "parcoords": [
           {
            "line": {
             "colorbar": {
              "outlinewidth": 0,
              "ticks": ""
             }
            },
            "type": "parcoords"
           }
          ],
          "pie": [
           {
            "automargin": true,
            "type": "pie"
           }
          ],
          "scatter": [
           {
            "fillpattern": {
             "fillmode": "overlay",
             "size": 10,
             "solidity": 0.2
            },
            "type": "scatter"
           }
          ],
          "scatter3d": [
           {
            "line": {
             "colorbar": {
              "outlinewidth": 0,
              "ticks": ""
             }
            },
            "marker": {
             "colorbar": {
              "outlinewidth": 0,
              "ticks": ""
             }
            },
            "type": "scatter3d"
           }
          ],
          "scattercarpet": [
           {
            "marker": {
             "colorbar": {
              "outlinewidth": 0,
              "ticks": ""
             }
            },
            "type": "scattercarpet"
           }
          ],
          "scattergeo": [
           {
            "marker": {
             "colorbar": {
              "outlinewidth": 0,
              "ticks": ""
             }
            },
            "type": "scattergeo"
           }
          ],
          "scattergl": [
           {
            "marker": {
             "colorbar": {
              "outlinewidth": 0,
              "ticks": ""
             }
            },
            "type": "scattergl"
           }
          ],
          "scattermapbox": [
           {
            "marker": {
             "colorbar": {
              "outlinewidth": 0,
              "ticks": ""
             }
            },
            "type": "scattermapbox"
           }
          ],
          "scatterpolar": [
           {
            "marker": {
             "colorbar": {
              "outlinewidth": 0,
              "ticks": ""
             }
            },
            "type": "scatterpolar"
           }
          ],
          "scatterpolargl": [
           {
            "marker": {
             "colorbar": {
              "outlinewidth": 0,
              "ticks": ""
             }
            },
            "type": "scatterpolargl"
           }
          ],
          "scatterternary": [
           {
            "marker": {
             "colorbar": {
              "outlinewidth": 0,
              "ticks": ""
             }
            },
            "type": "scatterternary"
           }
          ],
          "surface": [
           {
            "colorbar": {
             "outlinewidth": 0,
             "ticks": ""
            },
            "colorscale": [
             [
              0,
              "#0d0887"
             ],
             [
              0.1111111111111111,
              "#46039f"
             ],
             [
              0.2222222222222222,
              "#7201a8"
             ],
             [
              0.3333333333333333,
              "#9c179e"
             ],
             [
              0.4444444444444444,
              "#bd3786"
             ],
             [
              0.5555555555555556,
              "#d8576b"
             ],
             [
              0.6666666666666666,
              "#ed7953"
             ],
             [
              0.7777777777777778,
              "#fb9f3a"
             ],
             [
              0.8888888888888888,
              "#fdca26"
             ],
             [
              1,
              "#f0f921"
             ]
            ],
            "type": "surface"
           }
          ],
          "table": [
           {
            "cells": {
             "fill": {
              "color": "#EBF0F8"
             },
             "line": {
              "color": "white"
             }
            },
            "header": {
             "fill": {
              "color": "#C8D4E3"
             },
             "line": {
              "color": "white"
             }
            },
            "type": "table"
           }
          ]
         },
         "layout": {
          "annotationdefaults": {
           "arrowcolor": "#2a3f5f",
           "arrowhead": 0,
           "arrowwidth": 1
          },
          "autotypenumbers": "strict",
          "coloraxis": {
           "colorbar": {
            "outlinewidth": 0,
            "ticks": ""
           }
          },
          "colorscale": {
           "diverging": [
            [
             0,
             "#8e0152"
            ],
            [
             0.1,
             "#c51b7d"
            ],
            [
             0.2,
             "#de77ae"
            ],
            [
             0.3,
             "#f1b6da"
            ],
            [
             0.4,
             "#fde0ef"
            ],
            [
             0.5,
             "#f7f7f7"
            ],
            [
             0.6,
             "#e6f5d0"
            ],
            [
             0.7,
             "#b8e186"
            ],
            [
             0.8,
             "#7fbc41"
            ],
            [
             0.9,
             "#4d9221"
            ],
            [
             1,
             "#276419"
            ]
           ],
           "sequential": [
            [
             0,
             "#0d0887"
            ],
            [
             0.1111111111111111,
             "#46039f"
            ],
            [
             0.2222222222222222,
             "#7201a8"
            ],
            [
             0.3333333333333333,
             "#9c179e"
            ],
            [
             0.4444444444444444,
             "#bd3786"
            ],
            [
             0.5555555555555556,
             "#d8576b"
            ],
            [
             0.6666666666666666,
             "#ed7953"
            ],
            [
             0.7777777777777778,
             "#fb9f3a"
            ],
            [
             0.8888888888888888,
             "#fdca26"
            ],
            [
             1,
             "#f0f921"
            ]
           ],
           "sequentialminus": [
            [
             0,
             "#0d0887"
            ],
            [
             0.1111111111111111,
             "#46039f"
            ],
            [
             0.2222222222222222,
             "#7201a8"
            ],
            [
             0.3333333333333333,
             "#9c179e"
            ],
            [
             0.4444444444444444,
             "#bd3786"
            ],
            [
             0.5555555555555556,
             "#d8576b"
            ],
            [
             0.6666666666666666,
             "#ed7953"
            ],
            [
             0.7777777777777778,
             "#fb9f3a"
            ],
            [
             0.8888888888888888,
             "#fdca26"
            ],
            [
             1,
             "#f0f921"
            ]
           ]
          },
          "colorway": [
           "#636efa",
           "#EF553B",
           "#00cc96",
           "#ab63fa",
           "#FFA15A",
           "#19d3f3",
           "#FF6692",
           "#B6E880",
           "#FF97FF",
           "#FECB52"
          ],
          "font": {
           "color": "#2a3f5f"
          },
          "geo": {
           "bgcolor": "white",
           "lakecolor": "white",
           "landcolor": "#E5ECF6",
           "showlakes": true,
           "showland": true,
           "subunitcolor": "white"
          },
          "hoverlabel": {
           "align": "left"
          },
          "hovermode": "closest",
          "mapbox": {
           "style": "light"
          },
          "paper_bgcolor": "white",
          "plot_bgcolor": "#E5ECF6",
          "polar": {
           "angularaxis": {
            "gridcolor": "white",
            "linecolor": "white",
            "ticks": ""
           },
           "bgcolor": "#E5ECF6",
           "radialaxis": {
            "gridcolor": "white",
            "linecolor": "white",
            "ticks": ""
           }
          },
          "scene": {
           "xaxis": {
            "backgroundcolor": "#E5ECF6",
            "gridcolor": "white",
            "gridwidth": 2,
            "linecolor": "white",
            "showbackground": true,
            "ticks": "",
            "zerolinecolor": "white"
           },
           "yaxis": {
            "backgroundcolor": "#E5ECF6",
            "gridcolor": "white",
            "gridwidth": 2,
            "linecolor": "white",
            "showbackground": true,
            "ticks": "",
            "zerolinecolor": "white"
           },
           "zaxis": {
            "backgroundcolor": "#E5ECF6",
            "gridcolor": "white",
            "gridwidth": 2,
            "linecolor": "white",
            "showbackground": true,
            "ticks": "",
            "zerolinecolor": "white"
           }
          },
          "shapedefaults": {
           "line": {
            "color": "#2a3f5f"
           }
          },
          "ternary": {
           "aaxis": {
            "gridcolor": "white",
            "linecolor": "white",
            "ticks": ""
           },
           "baxis": {
            "gridcolor": "white",
            "linecolor": "white",
            "ticks": ""
           },
           "bgcolor": "#E5ECF6",
           "caxis": {
            "gridcolor": "white",
            "linecolor": "white",
            "ticks": ""
           }
          },
          "title": {
           "x": 0.05
          },
          "xaxis": {
           "automargin": true,
           "gridcolor": "white",
           "linecolor": "white",
           "ticks": "",
           "title": {
            "standoff": 15
           },
           "zerolinecolor": "white",
           "zerolinewidth": 2
          },
          "yaxis": {
           "automargin": true,
           "gridcolor": "white",
           "linecolor": "white",
           "ticks": "",
           "title": {
            "standoff": 15
           },
           "zerolinecolor": "white",
           "zerolinewidth": 2
          }
         }
        },
        "title": {
         "text": "Histogram of mean Total Minutes Asleep"
        },
        "width": 800,
        "xaxis": {
         "anchor": "y",
         "domain": [
          0,
          1
         ],
         "title": {
          "text": "TotalMinutesAsleep_mean"
         }
        },
        "yaxis": {
         "anchor": "x",
         "domain": [
          0,
          1
         ],
         "title": {
          "text": "count"
         }
        }
       }
      }
     },
     "metadata": {},
     "output_type": "display_data"
    }
   ],
   "source": [
    "px.histogram(\n",
    "    sleepDay_agg,\n",
    "    x='TotalMinutesAsleep_mean',\n",
    "    title='Histogram of mean Total Minutes Asleep',\n",
    "    width=800\n",
    ")"
   ]
  },
  {
   "cell_type": "markdown",
   "metadata": {},
   "source": [
    "Grouping *sleepDay* by \"SleepDay\" and aggregating the columns by mean. The resulting dataframe contains the average sleep measurements by the date."
   ]
  },
  {
   "cell_type": "code",
   "execution_count": 40,
   "metadata": {},
   "outputs": [
    {
     "data": {
      "text/html": [
       "<div>\n",
       "<style scoped>\n",
       "    .dataframe tbody tr th:only-of-type {\n",
       "        vertical-align: middle;\n",
       "    }\n",
       "\n",
       "    .dataframe tbody tr th {\n",
       "        vertical-align: top;\n",
       "    }\n",
       "\n",
       "    .dataframe thead th {\n",
       "        text-align: right;\n",
       "    }\n",
       "</style>\n",
       "<table border=\"1\" class=\"dataframe\">\n",
       "  <thead>\n",
       "    <tr style=\"text-align: right;\">\n",
       "      <th></th>\n",
       "      <th>TotalSleepRecords_mean</th>\n",
       "      <th>TotalMinutesAsleep_mean</th>\n",
       "      <th>TotalTimeInBed_mean</th>\n",
       "    </tr>\n",
       "    <tr>\n",
       "      <th>SleepDay</th>\n",
       "      <th></th>\n",
       "      <th></th>\n",
       "      <th></th>\n",
       "    </tr>\n",
       "  </thead>\n",
       "  <tbody>\n",
       "    <tr>\n",
       "      <th>2016-04-12</th>\n",
       "      <td>1.231</td>\n",
       "      <td>441.923</td>\n",
       "      <td>479.692</td>\n",
       "    </tr>\n",
       "    <tr>\n",
       "      <th>2016-04-13</th>\n",
       "      <td>1.571</td>\n",
       "      <td>430.429</td>\n",
       "      <td>471.857</td>\n",
       "    </tr>\n",
       "    <tr>\n",
       "      <th>2016-04-14</th>\n",
       "      <td>1.077</td>\n",
       "      <td>445.231</td>\n",
       "      <td>480.231</td>\n",
       "    </tr>\n",
       "    <tr>\n",
       "      <th>2016-04-15</th>\n",
       "      <td>1.118</td>\n",
       "      <td>427.471</td>\n",
       "      <td>476.353</td>\n",
       "    </tr>\n",
       "    <tr>\n",
       "      <th>2016-04-16</th>\n",
       "      <td>1.357</td>\n",
       "      <td>391.714</td>\n",
       "      <td>433.000</td>\n",
       "    </tr>\n",
       "    <tr>\n",
       "      <th>2016-04-17</th>\n",
       "      <td>1.250</td>\n",
       "      <td>464.083</td>\n",
       "      <td>509.167</td>\n",
       "    </tr>\n",
       "    <tr>\n",
       "      <th>2016-04-18</th>\n",
       "      <td>1.300</td>\n",
       "      <td>419.900</td>\n",
       "      <td>455.900</td>\n",
       "    </tr>\n",
       "    <tr>\n",
       "      <th>2016-04-19</th>\n",
       "      <td>1.143</td>\n",
       "      <td>409.071</td>\n",
       "      <td>451.571</td>\n",
       "    </tr>\n",
       "    <tr>\n",
       "      <th>2016-04-20</th>\n",
       "      <td>1.067</td>\n",
       "      <td>446.267</td>\n",
       "      <td>476.733</td>\n",
       "    </tr>\n",
       "    <tr>\n",
       "      <th>2016-04-21</th>\n",
       "      <td>1.000</td>\n",
       "      <td>376.000</td>\n",
       "      <td>409.333</td>\n",
       "    </tr>\n",
       "    <tr>\n",
       "      <th>2016-04-22</th>\n",
       "      <td>1.000</td>\n",
       "      <td>392.923</td>\n",
       "      <td>427.538</td>\n",
       "    </tr>\n",
       "    <tr>\n",
       "      <th>2016-04-23</th>\n",
       "      <td>1.067</td>\n",
       "      <td>430.533</td>\n",
       "      <td>464.200</td>\n",
       "    </tr>\n",
       "    <tr>\n",
       "      <th>2016-04-24</th>\n",
       "      <td>1.231</td>\n",
       "      <td>487.308</td>\n",
       "      <td>535.308</td>\n",
       "    </tr>\n",
       "    <tr>\n",
       "      <th>2016-04-25</th>\n",
       "      <td>1.000</td>\n",
       "      <td>395.385</td>\n",
       "      <td>432.154</td>\n",
       "    </tr>\n",
       "    <tr>\n",
       "      <th>2016-04-26</th>\n",
       "      <td>1.071</td>\n",
       "      <td>369.286</td>\n",
       "      <td>400.929</td>\n",
       "    </tr>\n",
       "    <tr>\n",
       "      <th>2016-04-27</th>\n",
       "      <td>1.000</td>\n",
       "      <td>427.500</td>\n",
       "      <td>470.571</td>\n",
       "    </tr>\n",
       "    <tr>\n",
       "      <th>2016-04-28</th>\n",
       "      <td>1.000</td>\n",
       "      <td>398.562</td>\n",
       "      <td>431.812</td>\n",
       "    </tr>\n",
       "    <tr>\n",
       "      <th>2016-04-29</th>\n",
       "      <td>1.000</td>\n",
       "      <td>386.267</td>\n",
       "      <td>416.867</td>\n",
       "    </tr>\n",
       "    <tr>\n",
       "      <th>2016-04-30</th>\n",
       "      <td>1.133</td>\n",
       "      <td>444.333</td>\n",
       "      <td>494.733</td>\n",
       "    </tr>\n",
       "    <tr>\n",
       "      <th>2016-05-01</th>\n",
       "      <td>1.125</td>\n",
       "      <td>424.812</td>\n",
       "      <td>489.562</td>\n",
       "    </tr>\n",
       "    <tr>\n",
       "      <th>2016-05-02</th>\n",
       "      <td>1.154</td>\n",
       "      <td>443.692</td>\n",
       "      <td>491.846</td>\n",
       "    </tr>\n",
       "    <tr>\n",
       "      <th>2016-05-03</th>\n",
       "      <td>1.083</td>\n",
       "      <td>397.000</td>\n",
       "      <td>440.667</td>\n",
       "    </tr>\n",
       "    <tr>\n",
       "      <th>2016-05-04</th>\n",
       "      <td>1.083</td>\n",
       "      <td>430.000</td>\n",
       "      <td>464.833</td>\n",
       "    </tr>\n",
       "    <tr>\n",
       "      <th>2016-05-05</th>\n",
       "      <td>1.077</td>\n",
       "      <td>370.000</td>\n",
       "      <td>405.615</td>\n",
       "    </tr>\n",
       "    <tr>\n",
       "      <th>2016-05-06</th>\n",
       "      <td>1.167</td>\n",
       "      <td>411.667</td>\n",
       "      <td>454.917</td>\n",
       "    </tr>\n",
       "    <tr>\n",
       "      <th>2016-05-07</th>\n",
       "      <td>1.214</td>\n",
       "      <td>414.286</td>\n",
       "      <td>450.571</td>\n",
       "    </tr>\n",
       "    <tr>\n",
       "      <th>2016-05-08</th>\n",
       "      <td>1.143</td>\n",
       "      <td>442.857</td>\n",
       "      <td>485.071</td>\n",
       "    </tr>\n",
       "    <tr>\n",
       "      <th>2016-05-09</th>\n",
       "      <td>1.000</td>\n",
       "      <td>416.182</td>\n",
       "      <td>442.636</td>\n",
       "    </tr>\n",
       "    <tr>\n",
       "      <th>2016-05-10</th>\n",
       "      <td>1.000</td>\n",
       "      <td>407.417</td>\n",
       "      <td>446.250</td>\n",
       "    </tr>\n",
       "    <tr>\n",
       "      <th>2016-05-11</th>\n",
       "      <td>1.000</td>\n",
       "      <td>438.545</td>\n",
       "      <td>463.545</td>\n",
       "    </tr>\n",
       "    <tr>\n",
       "      <th>2016-05-12</th>\n",
       "      <td>1.000</td>\n",
       "      <td>442.375</td>\n",
       "      <td>470.250</td>\n",
       "    </tr>\n",
       "  </tbody>\n",
       "</table>\n",
       "</div>"
      ],
      "text/plain": [
       "            TotalSleepRecords_mean  TotalMinutesAsleep_mean  \\\n",
       "SleepDay                                                      \n",
       "2016-04-12                   1.231                  441.923   \n",
       "2016-04-13                   1.571                  430.429   \n",
       "2016-04-14                   1.077                  445.231   \n",
       "2016-04-15                   1.118                  427.471   \n",
       "2016-04-16                   1.357                  391.714   \n",
       "2016-04-17                   1.250                  464.083   \n",
       "2016-04-18                   1.300                  419.900   \n",
       "2016-04-19                   1.143                  409.071   \n",
       "2016-04-20                   1.067                  446.267   \n",
       "2016-04-21                   1.000                  376.000   \n",
       "2016-04-22                   1.000                  392.923   \n",
       "2016-04-23                   1.067                  430.533   \n",
       "2016-04-24                   1.231                  487.308   \n",
       "2016-04-25                   1.000                  395.385   \n",
       "2016-04-26                   1.071                  369.286   \n",
       "2016-04-27                   1.000                  427.500   \n",
       "2016-04-28                   1.000                  398.562   \n",
       "2016-04-29                   1.000                  386.267   \n",
       "2016-04-30                   1.133                  444.333   \n",
       "2016-05-01                   1.125                  424.812   \n",
       "2016-05-02                   1.154                  443.692   \n",
       "2016-05-03                   1.083                  397.000   \n",
       "2016-05-04                   1.083                  430.000   \n",
       "2016-05-05                   1.077                  370.000   \n",
       "2016-05-06                   1.167                  411.667   \n",
       "2016-05-07                   1.214                  414.286   \n",
       "2016-05-08                   1.143                  442.857   \n",
       "2016-05-09                   1.000                  416.182   \n",
       "2016-05-10                   1.000                  407.417   \n",
       "2016-05-11                   1.000                  438.545   \n",
       "2016-05-12                   1.000                  442.375   \n",
       "\n",
       "            TotalTimeInBed_mean  \n",
       "SleepDay                         \n",
       "2016-04-12              479.692  \n",
       "2016-04-13              471.857  \n",
       "2016-04-14              480.231  \n",
       "2016-04-15              476.353  \n",
       "2016-04-16              433.000  \n",
       "2016-04-17              509.167  \n",
       "2016-04-18              455.900  \n",
       "2016-04-19              451.571  \n",
       "2016-04-20              476.733  \n",
       "2016-04-21              409.333  \n",
       "2016-04-22              427.538  \n",
       "2016-04-23              464.200  \n",
       "2016-04-24              535.308  \n",
       "2016-04-25              432.154  \n",
       "2016-04-26              400.929  \n",
       "2016-04-27              470.571  \n",
       "2016-04-28              431.812  \n",
       "2016-04-29              416.867  \n",
       "2016-04-30              494.733  \n",
       "2016-05-01              489.562  \n",
       "2016-05-02              491.846  \n",
       "2016-05-03              440.667  \n",
       "2016-05-04              464.833  \n",
       "2016-05-05              405.615  \n",
       "2016-05-06              454.917  \n",
       "2016-05-07              450.571  \n",
       "2016-05-08              485.071  \n",
       "2016-05-09              442.636  \n",
       "2016-05-10              446.250  \n",
       "2016-05-11              463.545  \n",
       "2016-05-12              470.250  "
      ]
     },
     "execution_count": 40,
     "metadata": {},
     "output_type": "execute_result"
    }
   ],
   "source": [
    "sleepDay['SleepDay'] = pd.to_datetime(sleepDay['SleepDay'])\n",
    "sleepDay['day_of_week'] = sleepDay['SleepDay'].dt.dayofweek #monday denoted by 0\n",
    "sleepDay_day_agg = sleepDay.drop(columns=['Id','day_of_week']).groupby(['SleepDay']).agg(['mean']).round(3)\n",
    "sleepDay_day_agg.columns = sleepDay_day_agg.columns.map('_'.join)\n",
    "sleepDay_day_agg"
   ]
  },
  {
   "cell_type": "code",
   "execution_count": 69,
   "metadata": {},
   "outputs": [
    {
     "data": {
      "application/vnd.plotly.v1+json": {
       "config": {
        "plotlyServerURL": "https://plot.ly"
       },
       "data": [
        {
         "alignmentgroup": "True",
         "hovertemplate": "SleepDay=%{x}<br>TotalMinutesAsleep_mean=%{y}<extra></extra>",
         "legendgroup": "",
         "marker": {
          "color": "#636efa",
          "pattern": {
           "shape": ""
          }
         },
         "name": "",
         "offsetgroup": "",
         "orientation": "v",
         "showlegend": false,
         "textposition": "auto",
         "type": "bar",
         "x": [
          "2016-04-12T00:00:00",
          "2016-04-13T00:00:00",
          "2016-04-14T00:00:00",
          "2016-04-15T00:00:00",
          "2016-04-16T00:00:00",
          "2016-04-17T00:00:00",
          "2016-04-18T00:00:00",
          "2016-04-19T00:00:00",
          "2016-04-20T00:00:00",
          "2016-04-21T00:00:00",
          "2016-04-22T00:00:00",
          "2016-04-23T00:00:00",
          "2016-04-24T00:00:00",
          "2016-04-25T00:00:00",
          "2016-04-26T00:00:00",
          "2016-04-27T00:00:00",
          "2016-04-28T00:00:00",
          "2016-04-29T00:00:00",
          "2016-04-30T00:00:00",
          "2016-05-01T00:00:00",
          "2016-05-02T00:00:00",
          "2016-05-03T00:00:00",
          "2016-05-04T00:00:00",
          "2016-05-05T00:00:00",
          "2016-05-06T00:00:00",
          "2016-05-07T00:00:00",
          "2016-05-08T00:00:00",
          "2016-05-09T00:00:00",
          "2016-05-10T00:00:00",
          "2016-05-11T00:00:00",
          "2016-05-12T00:00:00"
         ],
         "xaxis": "x",
         "y": [
          441.923,
          430.429,
          445.231,
          427.471,
          391.714,
          464.083,
          419.9,
          409.071,
          446.267,
          376,
          392.923,
          430.533,
          487.308,
          395.385,
          369.286,
          427.5,
          398.562,
          386.267,
          444.333,
          424.812,
          443.692,
          397,
          430,
          370,
          411.667,
          414.286,
          442.857,
          416.182,
          407.417,
          438.545,
          442.375
         ],
         "yaxis": "y"
        }
       ],
       "layout": {
        "barmode": "relative",
        "legend": {
         "tracegroupgap": 0
        },
        "template": {
         "data": {
          "bar": [
           {
            "error_x": {
             "color": "#2a3f5f"
            },
            "error_y": {
             "color": "#2a3f5f"
            },
            "marker": {
             "line": {
              "color": "#E5ECF6",
              "width": 0.5
             },
             "pattern": {
              "fillmode": "overlay",
              "size": 10,
              "solidity": 0.2
             }
            },
            "type": "bar"
           }
          ],
          "barpolar": [
           {
            "marker": {
             "line": {
              "color": "#E5ECF6",
              "width": 0.5
             },
             "pattern": {
              "fillmode": "overlay",
              "size": 10,
              "solidity": 0.2
             }
            },
            "type": "barpolar"
           }
          ],
          "carpet": [
           {
            "aaxis": {
             "endlinecolor": "#2a3f5f",
             "gridcolor": "white",
             "linecolor": "white",
             "minorgridcolor": "white",
             "startlinecolor": "#2a3f5f"
            },
            "baxis": {
             "endlinecolor": "#2a3f5f",
             "gridcolor": "white",
             "linecolor": "white",
             "minorgridcolor": "white",
             "startlinecolor": "#2a3f5f"
            },
            "type": "carpet"
           }
          ],
          "choropleth": [
           {
            "colorbar": {
             "outlinewidth": 0,
             "ticks": ""
            },
            "type": "choropleth"
           }
          ],
          "contour": [
           {
            "colorbar": {
             "outlinewidth": 0,
             "ticks": ""
            },
            "colorscale": [
             [
              0,
              "#0d0887"
             ],
             [
              0.1111111111111111,
              "#46039f"
             ],
             [
              0.2222222222222222,
              "#7201a8"
             ],
             [
              0.3333333333333333,
              "#9c179e"
             ],
             [
              0.4444444444444444,
              "#bd3786"
             ],
             [
              0.5555555555555556,
              "#d8576b"
             ],
             [
              0.6666666666666666,
              "#ed7953"
             ],
             [
              0.7777777777777778,
              "#fb9f3a"
             ],
             [
              0.8888888888888888,
              "#fdca26"
             ],
             [
              1,
              "#f0f921"
             ]
            ],
            "type": "contour"
           }
          ],
          "contourcarpet": [
           {
            "colorbar": {
             "outlinewidth": 0,
             "ticks": ""
            },
            "type": "contourcarpet"
           }
          ],
          "heatmap": [
           {
            "colorbar": {
             "outlinewidth": 0,
             "ticks": ""
            },
            "colorscale": [
             [
              0,
              "#0d0887"
             ],
             [
              0.1111111111111111,
              "#46039f"
             ],
             [
              0.2222222222222222,
              "#7201a8"
             ],
             [
              0.3333333333333333,
              "#9c179e"
             ],
             [
              0.4444444444444444,
              "#bd3786"
             ],
             [
              0.5555555555555556,
              "#d8576b"
             ],
             [
              0.6666666666666666,
              "#ed7953"
             ],
             [
              0.7777777777777778,
              "#fb9f3a"
             ],
             [
              0.8888888888888888,
              "#fdca26"
             ],
             [
              1,
              "#f0f921"
             ]
            ],
            "type": "heatmap"
           }
          ],
          "heatmapgl": [
           {
            "colorbar": {
             "outlinewidth": 0,
             "ticks": ""
            },
            "colorscale": [
             [
              0,
              "#0d0887"
             ],
             [
              0.1111111111111111,
              "#46039f"
             ],
             [
              0.2222222222222222,
              "#7201a8"
             ],
             [
              0.3333333333333333,
              "#9c179e"
             ],
             [
              0.4444444444444444,
              "#bd3786"
             ],
             [
              0.5555555555555556,
              "#d8576b"
             ],
             [
              0.6666666666666666,
              "#ed7953"
             ],
             [
              0.7777777777777778,
              "#fb9f3a"
             ],
             [
              0.8888888888888888,
              "#fdca26"
             ],
             [
              1,
              "#f0f921"
             ]
            ],
            "type": "heatmapgl"
           }
          ],
          "histogram": [
           {
            "marker": {
             "pattern": {
              "fillmode": "overlay",
              "size": 10,
              "solidity": 0.2
             }
            },
            "type": "histogram"
           }
          ],
          "histogram2d": [
           {
            "colorbar": {
             "outlinewidth": 0,
             "ticks": ""
            },
            "colorscale": [
             [
              0,
              "#0d0887"
             ],
             [
              0.1111111111111111,
              "#46039f"
             ],
             [
              0.2222222222222222,
              "#7201a8"
             ],
             [
              0.3333333333333333,
              "#9c179e"
             ],
             [
              0.4444444444444444,
              "#bd3786"
             ],
             [
              0.5555555555555556,
              "#d8576b"
             ],
             [
              0.6666666666666666,
              "#ed7953"
             ],
             [
              0.7777777777777778,
              "#fb9f3a"
             ],
             [
              0.8888888888888888,
              "#fdca26"
             ],
             [
              1,
              "#f0f921"
             ]
            ],
            "type": "histogram2d"
           }
          ],
          "histogram2dcontour": [
           {
            "colorbar": {
             "outlinewidth": 0,
             "ticks": ""
            },
            "colorscale": [
             [
              0,
              "#0d0887"
             ],
             [
              0.1111111111111111,
              "#46039f"
             ],
             [
              0.2222222222222222,
              "#7201a8"
             ],
             [
              0.3333333333333333,
              "#9c179e"
             ],
             [
              0.4444444444444444,
              "#bd3786"
             ],
             [
              0.5555555555555556,
              "#d8576b"
             ],
             [
              0.6666666666666666,
              "#ed7953"
             ],
             [
              0.7777777777777778,
              "#fb9f3a"
             ],
             [
              0.8888888888888888,
              "#fdca26"
             ],
             [
              1,
              "#f0f921"
             ]
            ],
            "type": "histogram2dcontour"
           }
          ],
          "mesh3d": [
           {
            "colorbar": {
             "outlinewidth": 0,
             "ticks": ""
            },
            "type": "mesh3d"
           }
          ],
          "parcoords": [
           {
            "line": {
             "colorbar": {
              "outlinewidth": 0,
              "ticks": ""
             }
            },
            "type": "parcoords"
           }
          ],
          "pie": [
           {
            "automargin": true,
            "type": "pie"
           }
          ],
          "scatter": [
           {
            "fillpattern": {
             "fillmode": "overlay",
             "size": 10,
             "solidity": 0.2
            },
            "type": "scatter"
           }
          ],
          "scatter3d": [
           {
            "line": {
             "colorbar": {
              "outlinewidth": 0,
              "ticks": ""
             }
            },
            "marker": {
             "colorbar": {
              "outlinewidth": 0,
              "ticks": ""
             }
            },
            "type": "scatter3d"
           }
          ],
          "scattercarpet": [
           {
            "marker": {
             "colorbar": {
              "outlinewidth": 0,
              "ticks": ""
             }
            },
            "type": "scattercarpet"
           }
          ],
          "scattergeo": [
           {
            "marker": {
             "colorbar": {
              "outlinewidth": 0,
              "ticks": ""
             }
            },
            "type": "scattergeo"
           }
          ],
          "scattergl": [
           {
            "marker": {
             "colorbar": {
              "outlinewidth": 0,
              "ticks": ""
             }
            },
            "type": "scattergl"
           }
          ],
          "scattermapbox": [
           {
            "marker": {
             "colorbar": {
              "outlinewidth": 0,
              "ticks": ""
             }
            },
            "type": "scattermapbox"
           }
          ],
          "scatterpolar": [
           {
            "marker": {
             "colorbar": {
              "outlinewidth": 0,
              "ticks": ""
             }
            },
            "type": "scatterpolar"
           }
          ],
          "scatterpolargl": [
           {
            "marker": {
             "colorbar": {
              "outlinewidth": 0,
              "ticks": ""
             }
            },
            "type": "scatterpolargl"
           }
          ],
          "scatterternary": [
           {
            "marker": {
             "colorbar": {
              "outlinewidth": 0,
              "ticks": ""
             }
            },
            "type": "scatterternary"
           }
          ],
          "surface": [
           {
            "colorbar": {
             "outlinewidth": 0,
             "ticks": ""
            },
            "colorscale": [
             [
              0,
              "#0d0887"
             ],
             [
              0.1111111111111111,
              "#46039f"
             ],
             [
              0.2222222222222222,
              "#7201a8"
             ],
             [
              0.3333333333333333,
              "#9c179e"
             ],
             [
              0.4444444444444444,
              "#bd3786"
             ],
             [
              0.5555555555555556,
              "#d8576b"
             ],
             [
              0.6666666666666666,
              "#ed7953"
             ],
             [
              0.7777777777777778,
              "#fb9f3a"
             ],
             [
              0.8888888888888888,
              "#fdca26"
             ],
             [
              1,
              "#f0f921"
             ]
            ],
            "type": "surface"
           }
          ],
          "table": [
           {
            "cells": {
             "fill": {
              "color": "#EBF0F8"
             },
             "line": {
              "color": "white"
             }
            },
            "header": {
             "fill": {
              "color": "#C8D4E3"
             },
             "line": {
              "color": "white"
             }
            },
            "type": "table"
           }
          ]
         },
         "layout": {
          "annotationdefaults": {
           "arrowcolor": "#2a3f5f",
           "arrowhead": 0,
           "arrowwidth": 1
          },
          "autotypenumbers": "strict",
          "coloraxis": {
           "colorbar": {
            "outlinewidth": 0,
            "ticks": ""
           }
          },
          "colorscale": {
           "diverging": [
            [
             0,
             "#8e0152"
            ],
            [
             0.1,
             "#c51b7d"
            ],
            [
             0.2,
             "#de77ae"
            ],
            [
             0.3,
             "#f1b6da"
            ],
            [
             0.4,
             "#fde0ef"
            ],
            [
             0.5,
             "#f7f7f7"
            ],
            [
             0.6,
             "#e6f5d0"
            ],
            [
             0.7,
             "#b8e186"
            ],
            [
             0.8,
             "#7fbc41"
            ],
            [
             0.9,
             "#4d9221"
            ],
            [
             1,
             "#276419"
            ]
           ],
           "sequential": [
            [
             0,
             "#0d0887"
            ],
            [
             0.1111111111111111,
             "#46039f"
            ],
            [
             0.2222222222222222,
             "#7201a8"
            ],
            [
             0.3333333333333333,
             "#9c179e"
            ],
            [
             0.4444444444444444,
             "#bd3786"
            ],
            [
             0.5555555555555556,
             "#d8576b"
            ],
            [
             0.6666666666666666,
             "#ed7953"
            ],
            [
             0.7777777777777778,
             "#fb9f3a"
            ],
            [
             0.8888888888888888,
             "#fdca26"
            ],
            [
             1,
             "#f0f921"
            ]
           ],
           "sequentialminus": [
            [
             0,
             "#0d0887"
            ],
            [
             0.1111111111111111,
             "#46039f"
            ],
            [
             0.2222222222222222,
             "#7201a8"
            ],
            [
             0.3333333333333333,
             "#9c179e"
            ],
            [
             0.4444444444444444,
             "#bd3786"
            ],
            [
             0.5555555555555556,
             "#d8576b"
            ],
            [
             0.6666666666666666,
             "#ed7953"
            ],
            [
             0.7777777777777778,
             "#fb9f3a"
            ],
            [
             0.8888888888888888,
             "#fdca26"
            ],
            [
             1,
             "#f0f921"
            ]
           ]
          },
          "colorway": [
           "#636efa",
           "#EF553B",
           "#00cc96",
           "#ab63fa",
           "#FFA15A",
           "#19d3f3",
           "#FF6692",
           "#B6E880",
           "#FF97FF",
           "#FECB52"
          ],
          "font": {
           "color": "#2a3f5f"
          },
          "geo": {
           "bgcolor": "white",
           "lakecolor": "white",
           "landcolor": "#E5ECF6",
           "showlakes": true,
           "showland": true,
           "subunitcolor": "white"
          },
          "hoverlabel": {
           "align": "left"
          },
          "hovermode": "closest",
          "mapbox": {
           "style": "light"
          },
          "paper_bgcolor": "white",
          "plot_bgcolor": "#E5ECF6",
          "polar": {
           "angularaxis": {
            "gridcolor": "white",
            "linecolor": "white",
            "ticks": ""
           },
           "bgcolor": "#E5ECF6",
           "radialaxis": {
            "gridcolor": "white",
            "linecolor": "white",
            "ticks": ""
           }
          },
          "scene": {
           "xaxis": {
            "backgroundcolor": "#E5ECF6",
            "gridcolor": "white",
            "gridwidth": 2,
            "linecolor": "white",
            "showbackground": true,
            "ticks": "",
            "zerolinecolor": "white"
           },
           "yaxis": {
            "backgroundcolor": "#E5ECF6",
            "gridcolor": "white",
            "gridwidth": 2,
            "linecolor": "white",
            "showbackground": true,
            "ticks": "",
            "zerolinecolor": "white"
           },
           "zaxis": {
            "backgroundcolor": "#E5ECF6",
            "gridcolor": "white",
            "gridwidth": 2,
            "linecolor": "white",
            "showbackground": true,
            "ticks": "",
            "zerolinecolor": "white"
           }
          },
          "shapedefaults": {
           "line": {
            "color": "#2a3f5f"
           }
          },
          "ternary": {
           "aaxis": {
            "gridcolor": "white",
            "linecolor": "white",
            "ticks": ""
           },
           "baxis": {
            "gridcolor": "white",
            "linecolor": "white",
            "ticks": ""
           },
           "bgcolor": "#E5ECF6",
           "caxis": {
            "gridcolor": "white",
            "linecolor": "white",
            "ticks": ""
           }
          },
          "title": {
           "x": 0.05
          },
          "xaxis": {
           "automargin": true,
           "gridcolor": "white",
           "linecolor": "white",
           "ticks": "",
           "title": {
            "standoff": 15
           },
           "zerolinecolor": "white",
           "zerolinewidth": 2
          },
          "yaxis": {
           "automargin": true,
           "gridcolor": "white",
           "linecolor": "white",
           "ticks": "",
           "title": {
            "standoff": 15
           },
           "zerolinecolor": "white",
           "zerolinewidth": 2
          }
         }
        },
        "title": {
         "text": "Average Minutes Asleep by Date"
        },
        "width": 1000,
        "xaxis": {
         "anchor": "y",
         "domain": [
          0,
          1
         ],
         "title": {
          "text": "SleepDay"
         }
        },
        "yaxis": {
         "anchor": "x",
         "domain": [
          0,
          1
         ],
         "title": {
          "text": "TotalMinutesAsleep_mean"
         }
        }
       }
      }
     },
     "metadata": {},
     "output_type": "display_data"
    }
   ],
   "source": [
    "px.bar(\n",
    "    sleepDay_day_agg,\n",
    "    y='TotalMinutesAsleep_mean',\n",
    "    title=\"Average Minutes Asleep by Date\",\n",
    "    width=1000\n",
    ")"
   ]
  },
  {
   "cell_type": "code",
   "execution_count": 42,
   "metadata": {},
   "outputs": [
    {
     "data": {
      "text/html": [
       "<div>\n",
       "<style scoped>\n",
       "    .dataframe tbody tr th:only-of-type {\n",
       "        vertical-align: middle;\n",
       "    }\n",
       "\n",
       "    .dataframe tbody tr th {\n",
       "        vertical-align: top;\n",
       "    }\n",
       "\n",
       "    .dataframe thead th {\n",
       "        text-align: right;\n",
       "    }\n",
       "</style>\n",
       "<table border=\"1\" class=\"dataframe\">\n",
       "  <thead>\n",
       "    <tr style=\"text-align: right;\">\n",
       "      <th></th>\n",
       "      <th>TotalSleepRecords_mean</th>\n",
       "      <th>TotalMinutesAsleep_mean</th>\n",
       "      <th>TotalTimeInBed_mean</th>\n",
       "    </tr>\n",
       "    <tr>\n",
       "      <th>day_of_week</th>\n",
       "      <th></th>\n",
       "      <th></th>\n",
       "      <th></th>\n",
       "    </tr>\n",
       "  </thead>\n",
       "  <tbody>\n",
       "    <tr>\n",
       "      <th>0</th>\n",
       "      <td>1.106</td>\n",
       "      <td>418.830</td>\n",
       "      <td>456.170</td>\n",
       "    </tr>\n",
       "    <tr>\n",
       "      <th>1</th>\n",
       "      <td>1.108</td>\n",
       "      <td>404.538</td>\n",
       "      <td>443.292</td>\n",
       "    </tr>\n",
       "    <tr>\n",
       "      <th>2</th>\n",
       "      <td>1.152</td>\n",
       "      <td>434.682</td>\n",
       "      <td>470.030</td>\n",
       "    </tr>\n",
       "    <tr>\n",
       "      <th>3</th>\n",
       "      <td>1.031</td>\n",
       "      <td>402.369</td>\n",
       "      <td>435.800</td>\n",
       "    </tr>\n",
       "    <tr>\n",
       "      <th>4</th>\n",
       "      <td>1.070</td>\n",
       "      <td>405.421</td>\n",
       "      <td>445.053</td>\n",
       "    </tr>\n",
       "    <tr>\n",
       "      <th>5</th>\n",
       "      <td>1.190</td>\n",
       "      <td>420.810</td>\n",
       "      <td>461.276</td>\n",
       "    </tr>\n",
       "    <tr>\n",
       "      <th>6</th>\n",
       "      <td>1.182</td>\n",
       "      <td>452.745</td>\n",
       "      <td>503.509</td>\n",
       "    </tr>\n",
       "  </tbody>\n",
       "</table>\n",
       "</div>"
      ],
      "text/plain": [
       "             TotalSleepRecords_mean  TotalMinutesAsleep_mean  \\\n",
       "day_of_week                                                    \n",
       "0                             1.106                  418.830   \n",
       "1                             1.108                  404.538   \n",
       "2                             1.152                  434.682   \n",
       "3                             1.031                  402.369   \n",
       "4                             1.070                  405.421   \n",
       "5                             1.190                  420.810   \n",
       "6                             1.182                  452.745   \n",
       "\n",
       "             TotalTimeInBed_mean  \n",
       "day_of_week                       \n",
       "0                        456.170  \n",
       "1                        443.292  \n",
       "2                        470.030  \n",
       "3                        435.800  \n",
       "4                        445.053  \n",
       "5                        461.276  \n",
       "6                        503.509  "
      ]
     },
     "execution_count": 42,
     "metadata": {},
     "output_type": "execute_result"
    }
   ],
   "source": [
    "sleepDay_dayofweek_agg = sleepDay.drop(columns=['Id']).groupby(['day_of_week']).agg(['mean']).round(3)\n",
    "sleepDay_dayofweek_agg.columns = sleepDay_dayofweek_agg.columns.map('_'.join)\n",
    "sleepDay_dayofweek_agg\n",
    "#monday denoted by 0\n",
    "\n",
    "#not exactly sure how this is documented. The minutes asleep column could refer to the time slept the night before. For example, if day_of_week is 6, it refers to Saturday night."
   ]
  },
  {
   "cell_type": "code",
   "execution_count": 70,
   "metadata": {},
   "outputs": [
    {
     "data": {
      "application/vnd.plotly.v1+json": {
       "config": {
        "plotlyServerURL": "https://plot.ly"
       },
       "data": [
        {
         "alignmentgroup": "True",
         "hovertemplate": "day_of_week=%{x}<br>TotalMinutesAsleep_mean=%{y}<extra></extra>",
         "legendgroup": "",
         "marker": {
          "color": "#636efa",
          "pattern": {
           "shape": ""
          }
         },
         "name": "",
         "offsetgroup": "",
         "orientation": "v",
         "showlegend": false,
         "textposition": "auto",
         "type": "bar",
         "x": [
          0,
          1,
          2,
          3,
          4,
          5,
          6
         ],
         "xaxis": "x",
         "y": [
          418.83,
          404.538,
          434.682,
          402.369,
          405.421,
          420.81,
          452.745
         ],
         "yaxis": "y"
        }
       ],
       "layout": {
        "barmode": "relative",
        "legend": {
         "tracegroupgap": 0
        },
        "template": {
         "data": {
          "bar": [
           {
            "error_x": {
             "color": "#2a3f5f"
            },
            "error_y": {
             "color": "#2a3f5f"
            },
            "marker": {
             "line": {
              "color": "#E5ECF6",
              "width": 0.5
             },
             "pattern": {
              "fillmode": "overlay",
              "size": 10,
              "solidity": 0.2
             }
            },
            "type": "bar"
           }
          ],
          "barpolar": [
           {
            "marker": {
             "line": {
              "color": "#E5ECF6",
              "width": 0.5
             },
             "pattern": {
              "fillmode": "overlay",
              "size": 10,
              "solidity": 0.2
             }
            },
            "type": "barpolar"
           }
          ],
          "carpet": [
           {
            "aaxis": {
             "endlinecolor": "#2a3f5f",
             "gridcolor": "white",
             "linecolor": "white",
             "minorgridcolor": "white",
             "startlinecolor": "#2a3f5f"
            },
            "baxis": {
             "endlinecolor": "#2a3f5f",
             "gridcolor": "white",
             "linecolor": "white",
             "minorgridcolor": "white",
             "startlinecolor": "#2a3f5f"
            },
            "type": "carpet"
           }
          ],
          "choropleth": [
           {
            "colorbar": {
             "outlinewidth": 0,
             "ticks": ""
            },
            "type": "choropleth"
           }
          ],
          "contour": [
           {
            "colorbar": {
             "outlinewidth": 0,
             "ticks": ""
            },
            "colorscale": [
             [
              0,
              "#0d0887"
             ],
             [
              0.1111111111111111,
              "#46039f"
             ],
             [
              0.2222222222222222,
              "#7201a8"
             ],
             [
              0.3333333333333333,
              "#9c179e"
             ],
             [
              0.4444444444444444,
              "#bd3786"
             ],
             [
              0.5555555555555556,
              "#d8576b"
             ],
             [
              0.6666666666666666,
              "#ed7953"
             ],
             [
              0.7777777777777778,
              "#fb9f3a"
             ],
             [
              0.8888888888888888,
              "#fdca26"
             ],
             [
              1,
              "#f0f921"
             ]
            ],
            "type": "contour"
           }
          ],
          "contourcarpet": [
           {
            "colorbar": {
             "outlinewidth": 0,
             "ticks": ""
            },
            "type": "contourcarpet"
           }
          ],
          "heatmap": [
           {
            "colorbar": {
             "outlinewidth": 0,
             "ticks": ""
            },
            "colorscale": [
             [
              0,
              "#0d0887"
             ],
             [
              0.1111111111111111,
              "#46039f"
             ],
             [
              0.2222222222222222,
              "#7201a8"
             ],
             [
              0.3333333333333333,
              "#9c179e"
             ],
             [
              0.4444444444444444,
              "#bd3786"
             ],
             [
              0.5555555555555556,
              "#d8576b"
             ],
             [
              0.6666666666666666,
              "#ed7953"
             ],
             [
              0.7777777777777778,
              "#fb9f3a"
             ],
             [
              0.8888888888888888,
              "#fdca26"
             ],
             [
              1,
              "#f0f921"
             ]
            ],
            "type": "heatmap"
           }
          ],
          "heatmapgl": [
           {
            "colorbar": {
             "outlinewidth": 0,
             "ticks": ""
            },
            "colorscale": [
             [
              0,
              "#0d0887"
             ],
             [
              0.1111111111111111,
              "#46039f"
             ],
             [
              0.2222222222222222,
              "#7201a8"
             ],
             [
              0.3333333333333333,
              "#9c179e"
             ],
             [
              0.4444444444444444,
              "#bd3786"
             ],
             [
              0.5555555555555556,
              "#d8576b"
             ],
             [
              0.6666666666666666,
              "#ed7953"
             ],
             [
              0.7777777777777778,
              "#fb9f3a"
             ],
             [
              0.8888888888888888,
              "#fdca26"
             ],
             [
              1,
              "#f0f921"
             ]
            ],
            "type": "heatmapgl"
           }
          ],
          "histogram": [
           {
            "marker": {
             "pattern": {
              "fillmode": "overlay",
              "size": 10,
              "solidity": 0.2
             }
            },
            "type": "histogram"
           }
          ],
          "histogram2d": [
           {
            "colorbar": {
             "outlinewidth": 0,
             "ticks": ""
            },
            "colorscale": [
             [
              0,
              "#0d0887"
             ],
             [
              0.1111111111111111,
              "#46039f"
             ],
             [
              0.2222222222222222,
              "#7201a8"
             ],
             [
              0.3333333333333333,
              "#9c179e"
             ],
             [
              0.4444444444444444,
              "#bd3786"
             ],
             [
              0.5555555555555556,
              "#d8576b"
             ],
             [
              0.6666666666666666,
              "#ed7953"
             ],
             [
              0.7777777777777778,
              "#fb9f3a"
             ],
             [
              0.8888888888888888,
              "#fdca26"
             ],
             [
              1,
              "#f0f921"
             ]
            ],
            "type": "histogram2d"
           }
          ],
          "histogram2dcontour": [
           {
            "colorbar": {
             "outlinewidth": 0,
             "ticks": ""
            },
            "colorscale": [
             [
              0,
              "#0d0887"
             ],
             [
              0.1111111111111111,
              "#46039f"
             ],
             [
              0.2222222222222222,
              "#7201a8"
             ],
             [
              0.3333333333333333,
              "#9c179e"
             ],
             [
              0.4444444444444444,
              "#bd3786"
             ],
             [
              0.5555555555555556,
              "#d8576b"
             ],
             [
              0.6666666666666666,
              "#ed7953"
             ],
             [
              0.7777777777777778,
              "#fb9f3a"
             ],
             [
              0.8888888888888888,
              "#fdca26"
             ],
             [
              1,
              "#f0f921"
             ]
            ],
            "type": "histogram2dcontour"
           }
          ],
          "mesh3d": [
           {
            "colorbar": {
             "outlinewidth": 0,
             "ticks": ""
            },
            "type": "mesh3d"
           }
          ],
          "parcoords": [
           {
            "line": {
             "colorbar": {
              "outlinewidth": 0,
              "ticks": ""
             }
            },
            "type": "parcoords"
           }
          ],
          "pie": [
           {
            "automargin": true,
            "type": "pie"
           }
          ],
          "scatter": [
           {
            "fillpattern": {
             "fillmode": "overlay",
             "size": 10,
             "solidity": 0.2
            },
            "type": "scatter"
           }
          ],
          "scatter3d": [
           {
            "line": {
             "colorbar": {
              "outlinewidth": 0,
              "ticks": ""
             }
            },
            "marker": {
             "colorbar": {
              "outlinewidth": 0,
              "ticks": ""
             }
            },
            "type": "scatter3d"
           }
          ],
          "scattercarpet": [
           {
            "marker": {
             "colorbar": {
              "outlinewidth": 0,
              "ticks": ""
             }
            },
            "type": "scattercarpet"
           }
          ],
          "scattergeo": [
           {
            "marker": {
             "colorbar": {
              "outlinewidth": 0,
              "ticks": ""
             }
            },
            "type": "scattergeo"
           }
          ],
          "scattergl": [
           {
            "marker": {
             "colorbar": {
              "outlinewidth": 0,
              "ticks": ""
             }
            },
            "type": "scattergl"
           }
          ],
          "scattermapbox": [
           {
            "marker": {
             "colorbar": {
              "outlinewidth": 0,
              "ticks": ""
             }
            },
            "type": "scattermapbox"
           }
          ],
          "scatterpolar": [
           {
            "marker": {
             "colorbar": {
              "outlinewidth": 0,
              "ticks": ""
             }
            },
            "type": "scatterpolar"
           }
          ],
          "scatterpolargl": [
           {
            "marker": {
             "colorbar": {
              "outlinewidth": 0,
              "ticks": ""
             }
            },
            "type": "scatterpolargl"
           }
          ],
          "scatterternary": [
           {
            "marker": {
             "colorbar": {
              "outlinewidth": 0,
              "ticks": ""
             }
            },
            "type": "scatterternary"
           }
          ],
          "surface": [
           {
            "colorbar": {
             "outlinewidth": 0,
             "ticks": ""
            },
            "colorscale": [
             [
              0,
              "#0d0887"
             ],
             [
              0.1111111111111111,
              "#46039f"
             ],
             [
              0.2222222222222222,
              "#7201a8"
             ],
             [
              0.3333333333333333,
              "#9c179e"
             ],
             [
              0.4444444444444444,
              "#bd3786"
             ],
             [
              0.5555555555555556,
              "#d8576b"
             ],
             [
              0.6666666666666666,
              "#ed7953"
             ],
             [
              0.7777777777777778,
              "#fb9f3a"
             ],
             [
              0.8888888888888888,
              "#fdca26"
             ],
             [
              1,
              "#f0f921"
             ]
            ],
            "type": "surface"
           }
          ],
          "table": [
           {
            "cells": {
             "fill": {
              "color": "#EBF0F8"
             },
             "line": {
              "color": "white"
             }
            },
            "header": {
             "fill": {
              "color": "#C8D4E3"
             },
             "line": {
              "color": "white"
             }
            },
            "type": "table"
           }
          ]
         },
         "layout": {
          "annotationdefaults": {
           "arrowcolor": "#2a3f5f",
           "arrowhead": 0,
           "arrowwidth": 1
          },
          "autotypenumbers": "strict",
          "coloraxis": {
           "colorbar": {
            "outlinewidth": 0,
            "ticks": ""
           }
          },
          "colorscale": {
           "diverging": [
            [
             0,
             "#8e0152"
            ],
            [
             0.1,
             "#c51b7d"
            ],
            [
             0.2,
             "#de77ae"
            ],
            [
             0.3,
             "#f1b6da"
            ],
            [
             0.4,
             "#fde0ef"
            ],
            [
             0.5,
             "#f7f7f7"
            ],
            [
             0.6,
             "#e6f5d0"
            ],
            [
             0.7,
             "#b8e186"
            ],
            [
             0.8,
             "#7fbc41"
            ],
            [
             0.9,
             "#4d9221"
            ],
            [
             1,
             "#276419"
            ]
           ],
           "sequential": [
            [
             0,
             "#0d0887"
            ],
            [
             0.1111111111111111,
             "#46039f"
            ],
            [
             0.2222222222222222,
             "#7201a8"
            ],
            [
             0.3333333333333333,
             "#9c179e"
            ],
            [
             0.4444444444444444,
             "#bd3786"
            ],
            [
             0.5555555555555556,
             "#d8576b"
            ],
            [
             0.6666666666666666,
             "#ed7953"
            ],
            [
             0.7777777777777778,
             "#fb9f3a"
            ],
            [
             0.8888888888888888,
             "#fdca26"
            ],
            [
             1,
             "#f0f921"
            ]
           ],
           "sequentialminus": [
            [
             0,
             "#0d0887"
            ],
            [
             0.1111111111111111,
             "#46039f"
            ],
            [
             0.2222222222222222,
             "#7201a8"
            ],
            [
             0.3333333333333333,
             "#9c179e"
            ],
            [
             0.4444444444444444,
             "#bd3786"
            ],
            [
             0.5555555555555556,
             "#d8576b"
            ],
            [
             0.6666666666666666,
             "#ed7953"
            ],
            [
             0.7777777777777778,
             "#fb9f3a"
            ],
            [
             0.8888888888888888,
             "#fdca26"
            ],
            [
             1,
             "#f0f921"
            ]
           ]
          },
          "colorway": [
           "#636efa",
           "#EF553B",
           "#00cc96",
           "#ab63fa",
           "#FFA15A",
           "#19d3f3",
           "#FF6692",
           "#B6E880",
           "#FF97FF",
           "#FECB52"
          ],
          "font": {
           "color": "#2a3f5f"
          },
          "geo": {
           "bgcolor": "white",
           "lakecolor": "white",
           "landcolor": "#E5ECF6",
           "showlakes": true,
           "showland": true,
           "subunitcolor": "white"
          },
          "hoverlabel": {
           "align": "left"
          },
          "hovermode": "closest",
          "mapbox": {
           "style": "light"
          },
          "paper_bgcolor": "white",
          "plot_bgcolor": "#E5ECF6",
          "polar": {
           "angularaxis": {
            "gridcolor": "white",
            "linecolor": "white",
            "ticks": ""
           },
           "bgcolor": "#E5ECF6",
           "radialaxis": {
            "gridcolor": "white",
            "linecolor": "white",
            "ticks": ""
           }
          },
          "scene": {
           "xaxis": {
            "backgroundcolor": "#E5ECF6",
            "gridcolor": "white",
            "gridwidth": 2,
            "linecolor": "white",
            "showbackground": true,
            "ticks": "",
            "zerolinecolor": "white"
           },
           "yaxis": {
            "backgroundcolor": "#E5ECF6",
            "gridcolor": "white",
            "gridwidth": 2,
            "linecolor": "white",
            "showbackground": true,
            "ticks": "",
            "zerolinecolor": "white"
           },
           "zaxis": {
            "backgroundcolor": "#E5ECF6",
            "gridcolor": "white",
            "gridwidth": 2,
            "linecolor": "white",
            "showbackground": true,
            "ticks": "",
            "zerolinecolor": "white"
           }
          },
          "shapedefaults": {
           "line": {
            "color": "#2a3f5f"
           }
          },
          "ternary": {
           "aaxis": {
            "gridcolor": "white",
            "linecolor": "white",
            "ticks": ""
           },
           "baxis": {
            "gridcolor": "white",
            "linecolor": "white",
            "ticks": ""
           },
           "bgcolor": "#E5ECF6",
           "caxis": {
            "gridcolor": "white",
            "linecolor": "white",
            "ticks": ""
           }
          },
          "title": {
           "x": 0.05
          },
          "xaxis": {
           "automargin": true,
           "gridcolor": "white",
           "linecolor": "white",
           "ticks": "",
           "title": {
            "standoff": 15
           },
           "zerolinecolor": "white",
           "zerolinewidth": 2
          },
          "yaxis": {
           "automargin": true,
           "gridcolor": "white",
           "linecolor": "white",
           "ticks": "",
           "title": {
            "standoff": 15
           },
           "zerolinecolor": "white",
           "zerolinewidth": 2
          }
         }
        },
        "title": {
         "text": "Average Minutes Asleep by Day of Week"
        },
        "width": 800,
        "xaxis": {
         "anchor": "y",
         "domain": [
          0,
          1
         ],
         "title": {
          "text": "day_of_week"
         }
        },
        "yaxis": {
         "anchor": "x",
         "domain": [
          0,
          1
         ],
         "title": {
          "text": "TotalMinutesAsleep_mean"
         }
        }
       }
      }
     },
     "metadata": {},
     "output_type": "display_data"
    }
   ],
   "source": [
    "px.bar(\n",
    "    sleepDay_dayofweek_agg,\n",
    "    y='TotalMinutesAsleep_mean',\n",
    "    title='Average Minutes Asleep by Day of Week',\n",
    "    width=800\n",
    ")"
   ]
  },
  {
   "cell_type": "code",
   "execution_count": null,
   "metadata": {},
   "outputs": [],
   "source": []
  },
  {
   "cell_type": "markdown",
   "metadata": {},
   "source": [
    "## Bivariate Analysis"
   ]
  },
  {
   "cell_type": "code",
   "execution_count": 44,
   "metadata": {},
   "outputs": [
    {
     "data": {
      "text/html": [
       "<div>\n",
       "<style scoped>\n",
       "    .dataframe tbody tr th:only-of-type {\n",
       "        vertical-align: middle;\n",
       "    }\n",
       "\n",
       "    .dataframe tbody tr th {\n",
       "        vertical-align: top;\n",
       "    }\n",
       "\n",
       "    .dataframe thead th {\n",
       "        text-align: right;\n",
       "    }\n",
       "</style>\n",
       "<table border=\"1\" class=\"dataframe\">\n",
       "  <thead>\n",
       "    <tr style=\"text-align: right;\">\n",
       "      <th></th>\n",
       "      <th>Id</th>\n",
       "      <th>SleepDay</th>\n",
       "      <th>TotalSleepRecords</th>\n",
       "      <th>TotalMinutesAsleep</th>\n",
       "      <th>TotalTimeInBed</th>\n",
       "      <th>day_of_week</th>\n",
       "    </tr>\n",
       "  </thead>\n",
       "  <tbody>\n",
       "    <tr>\n",
       "      <th>0</th>\n",
       "      <td>1503960366</td>\n",
       "      <td>2016-04-12</td>\n",
       "      <td>1</td>\n",
       "      <td>327</td>\n",
       "      <td>346</td>\n",
       "      <td>1</td>\n",
       "    </tr>\n",
       "    <tr>\n",
       "      <th>1</th>\n",
       "      <td>1503960366</td>\n",
       "      <td>2016-04-13</td>\n",
       "      <td>2</td>\n",
       "      <td>384</td>\n",
       "      <td>407</td>\n",
       "      <td>2</td>\n",
       "    </tr>\n",
       "    <tr>\n",
       "      <th>2</th>\n",
       "      <td>1503960366</td>\n",
       "      <td>2016-04-15</td>\n",
       "      <td>1</td>\n",
       "      <td>412</td>\n",
       "      <td>442</td>\n",
       "      <td>4</td>\n",
       "    </tr>\n",
       "    <tr>\n",
       "      <th>3</th>\n",
       "      <td>1503960366</td>\n",
       "      <td>2016-04-16</td>\n",
       "      <td>2</td>\n",
       "      <td>340</td>\n",
       "      <td>367</td>\n",
       "      <td>5</td>\n",
       "    </tr>\n",
       "    <tr>\n",
       "      <th>4</th>\n",
       "      <td>1503960366</td>\n",
       "      <td>2016-04-17</td>\n",
       "      <td>1</td>\n",
       "      <td>700</td>\n",
       "      <td>712</td>\n",
       "      <td>6</td>\n",
       "    </tr>\n",
       "    <tr>\n",
       "      <th>...</th>\n",
       "      <td>...</td>\n",
       "      <td>...</td>\n",
       "      <td>...</td>\n",
       "      <td>...</td>\n",
       "      <td>...</td>\n",
       "      <td>...</td>\n",
       "    </tr>\n",
       "    <tr>\n",
       "      <th>408</th>\n",
       "      <td>8792009665</td>\n",
       "      <td>2016-04-30</td>\n",
       "      <td>1</td>\n",
       "      <td>343</td>\n",
       "      <td>360</td>\n",
       "      <td>5</td>\n",
       "    </tr>\n",
       "    <tr>\n",
       "      <th>409</th>\n",
       "      <td>8792009665</td>\n",
       "      <td>2016-05-01</td>\n",
       "      <td>1</td>\n",
       "      <td>503</td>\n",
       "      <td>527</td>\n",
       "      <td>6</td>\n",
       "    </tr>\n",
       "    <tr>\n",
       "      <th>410</th>\n",
       "      <td>8792009665</td>\n",
       "      <td>2016-05-02</td>\n",
       "      <td>1</td>\n",
       "      <td>415</td>\n",
       "      <td>423</td>\n",
       "      <td>0</td>\n",
       "    </tr>\n",
       "    <tr>\n",
       "      <th>411</th>\n",
       "      <td>8792009665</td>\n",
       "      <td>2016-05-03</td>\n",
       "      <td>1</td>\n",
       "      <td>516</td>\n",
       "      <td>545</td>\n",
       "      <td>1</td>\n",
       "    </tr>\n",
       "    <tr>\n",
       "      <th>412</th>\n",
       "      <td>8792009665</td>\n",
       "      <td>2016-05-04</td>\n",
       "      <td>1</td>\n",
       "      <td>439</td>\n",
       "      <td>463</td>\n",
       "      <td>2</td>\n",
       "    </tr>\n",
       "  </tbody>\n",
       "</table>\n",
       "<p>413 rows × 6 columns</p>\n",
       "</div>"
      ],
      "text/plain": [
       "             Id   SleepDay  TotalSleepRecords  TotalMinutesAsleep  \\\n",
       "0    1503960366 2016-04-12                  1                 327   \n",
       "1    1503960366 2016-04-13                  2                 384   \n",
       "2    1503960366 2016-04-15                  1                 412   \n",
       "3    1503960366 2016-04-16                  2                 340   \n",
       "4    1503960366 2016-04-17                  1                 700   \n",
       "..          ...        ...                ...                 ...   \n",
       "408  8792009665 2016-04-30                  1                 343   \n",
       "409  8792009665 2016-05-01                  1                 503   \n",
       "410  8792009665 2016-05-02                  1                 415   \n",
       "411  8792009665 2016-05-03                  1                 516   \n",
       "412  8792009665 2016-05-04                  1                 439   \n",
       "\n",
       "     TotalTimeInBed  day_of_week  \n",
       "0               346            1  \n",
       "1               407            2  \n",
       "2               442            4  \n",
       "3               367            5  \n",
       "4               712            6  \n",
       "..              ...          ...  \n",
       "408             360            5  \n",
       "409             527            6  \n",
       "410             423            0  \n",
       "411             545            1  \n",
       "412             463            2  \n",
       "\n",
       "[413 rows x 6 columns]"
      ]
     },
     "execution_count": 44,
     "metadata": {},
     "output_type": "execute_result"
    }
   ],
   "source": [
    "sleepDay"
   ]
  },
  {
   "cell_type": "code",
   "execution_count": 45,
   "metadata": {},
   "outputs": [
    {
     "data": {
      "text/html": [
       "<div>\n",
       "<style scoped>\n",
       "    .dataframe tbody tr th:only-of-type {\n",
       "        vertical-align: middle;\n",
       "    }\n",
       "\n",
       "    .dataframe tbody tr th {\n",
       "        vertical-align: top;\n",
       "    }\n",
       "\n",
       "    .dataframe thead th {\n",
       "        text-align: right;\n",
       "    }\n",
       "</style>\n",
       "<table border=\"1\" class=\"dataframe\">\n",
       "  <thead>\n",
       "    <tr style=\"text-align: right;\">\n",
       "      <th></th>\n",
       "      <th>Id</th>\n",
       "      <th>ActivityDate</th>\n",
       "      <th>TotalSteps</th>\n",
       "      <th>TotalDistance</th>\n",
       "      <th>TrackerDistance</th>\n",
       "      <th>LoggedActivitiesDistance</th>\n",
       "      <th>VeryActiveDistance</th>\n",
       "      <th>ModeratelyActiveDistance</th>\n",
       "      <th>LightActiveDistance</th>\n",
       "      <th>SedentaryActiveDistance</th>\n",
       "      <th>VeryActiveMinutes</th>\n",
       "      <th>FairlyActiveMinutes</th>\n",
       "      <th>LightlyActiveMinutes</th>\n",
       "      <th>SedentaryMinutes</th>\n",
       "      <th>Calories</th>\n",
       "      <th>SleepDay</th>\n",
       "      <th>TotalSleepRecords</th>\n",
       "      <th>TotalMinutesAsleep</th>\n",
       "      <th>TotalTimeInBed</th>\n",
       "      <th>day_of_week</th>\n",
       "    </tr>\n",
       "  </thead>\n",
       "  <tbody>\n",
       "    <tr>\n",
       "      <th>0</th>\n",
       "      <td>1503960366</td>\n",
       "      <td>2016-04-12</td>\n",
       "      <td>13162</td>\n",
       "      <td>8.50</td>\n",
       "      <td>8.50</td>\n",
       "      <td>0.0</td>\n",
       "      <td>1.88</td>\n",
       "      <td>0.55</td>\n",
       "      <td>6.06</td>\n",
       "      <td>0.0</td>\n",
       "      <td>25</td>\n",
       "      <td>13</td>\n",
       "      <td>328</td>\n",
       "      <td>728</td>\n",
       "      <td>1985</td>\n",
       "      <td>2016-04-12</td>\n",
       "      <td>1</td>\n",
       "      <td>327</td>\n",
       "      <td>346</td>\n",
       "      <td>1</td>\n",
       "    </tr>\n",
       "    <tr>\n",
       "      <th>1</th>\n",
       "      <td>1503960366</td>\n",
       "      <td>2016-04-13</td>\n",
       "      <td>10735</td>\n",
       "      <td>6.97</td>\n",
       "      <td>6.97</td>\n",
       "      <td>0.0</td>\n",
       "      <td>1.57</td>\n",
       "      <td>0.69</td>\n",
       "      <td>4.71</td>\n",
       "      <td>0.0</td>\n",
       "      <td>21</td>\n",
       "      <td>19</td>\n",
       "      <td>217</td>\n",
       "      <td>776</td>\n",
       "      <td>1797</td>\n",
       "      <td>2016-04-13</td>\n",
       "      <td>2</td>\n",
       "      <td>384</td>\n",
       "      <td>407</td>\n",
       "      <td>2</td>\n",
       "    </tr>\n",
       "    <tr>\n",
       "      <th>2</th>\n",
       "      <td>1503960366</td>\n",
       "      <td>2016-04-15</td>\n",
       "      <td>9762</td>\n",
       "      <td>6.28</td>\n",
       "      <td>6.28</td>\n",
       "      <td>0.0</td>\n",
       "      <td>2.14</td>\n",
       "      <td>1.26</td>\n",
       "      <td>2.83</td>\n",
       "      <td>0.0</td>\n",
       "      <td>29</td>\n",
       "      <td>34</td>\n",
       "      <td>209</td>\n",
       "      <td>726</td>\n",
       "      <td>1745</td>\n",
       "      <td>2016-04-15</td>\n",
       "      <td>1</td>\n",
       "      <td>412</td>\n",
       "      <td>442</td>\n",
       "      <td>4</td>\n",
       "    </tr>\n",
       "    <tr>\n",
       "      <th>3</th>\n",
       "      <td>1503960366</td>\n",
       "      <td>2016-04-16</td>\n",
       "      <td>12669</td>\n",
       "      <td>8.16</td>\n",
       "      <td>8.16</td>\n",
       "      <td>0.0</td>\n",
       "      <td>2.71</td>\n",
       "      <td>0.41</td>\n",
       "      <td>5.04</td>\n",
       "      <td>0.0</td>\n",
       "      <td>36</td>\n",
       "      <td>10</td>\n",
       "      <td>221</td>\n",
       "      <td>773</td>\n",
       "      <td>1863</td>\n",
       "      <td>2016-04-16</td>\n",
       "      <td>2</td>\n",
       "      <td>340</td>\n",
       "      <td>367</td>\n",
       "      <td>5</td>\n",
       "    </tr>\n",
       "    <tr>\n",
       "      <th>4</th>\n",
       "      <td>1503960366</td>\n",
       "      <td>2016-04-17</td>\n",
       "      <td>9705</td>\n",
       "      <td>6.48</td>\n",
       "      <td>6.48</td>\n",
       "      <td>0.0</td>\n",
       "      <td>3.19</td>\n",
       "      <td>0.78</td>\n",
       "      <td>2.51</td>\n",
       "      <td>0.0</td>\n",
       "      <td>38</td>\n",
       "      <td>20</td>\n",
       "      <td>164</td>\n",
       "      <td>539</td>\n",
       "      <td>1728</td>\n",
       "      <td>2016-04-17</td>\n",
       "      <td>1</td>\n",
       "      <td>700</td>\n",
       "      <td>712</td>\n",
       "      <td>6</td>\n",
       "    </tr>\n",
       "    <tr>\n",
       "      <th>...</th>\n",
       "      <td>...</td>\n",
       "      <td>...</td>\n",
       "      <td>...</td>\n",
       "      <td>...</td>\n",
       "      <td>...</td>\n",
       "      <td>...</td>\n",
       "      <td>...</td>\n",
       "      <td>...</td>\n",
       "      <td>...</td>\n",
       "      <td>...</td>\n",
       "      <td>...</td>\n",
       "      <td>...</td>\n",
       "      <td>...</td>\n",
       "      <td>...</td>\n",
       "      <td>...</td>\n",
       "      <td>...</td>\n",
       "      <td>...</td>\n",
       "      <td>...</td>\n",
       "      <td>...</td>\n",
       "      <td>...</td>\n",
       "    </tr>\n",
       "    <tr>\n",
       "      <th>408</th>\n",
       "      <td>8792009665</td>\n",
       "      <td>2016-04-30</td>\n",
       "      <td>7174</td>\n",
       "      <td>4.59</td>\n",
       "      <td>4.59</td>\n",
       "      <td>0.0</td>\n",
       "      <td>0.33</td>\n",
       "      <td>0.36</td>\n",
       "      <td>3.91</td>\n",
       "      <td>0.0</td>\n",
       "      <td>10</td>\n",
       "      <td>20</td>\n",
       "      <td>301</td>\n",
       "      <td>749</td>\n",
       "      <td>2896</td>\n",
       "      <td>2016-04-30</td>\n",
       "      <td>1</td>\n",
       "      <td>343</td>\n",
       "      <td>360</td>\n",
       "      <td>5</td>\n",
       "    </tr>\n",
       "    <tr>\n",
       "      <th>409</th>\n",
       "      <td>8792009665</td>\n",
       "      <td>2016-05-01</td>\n",
       "      <td>1619</td>\n",
       "      <td>1.04</td>\n",
       "      <td>1.04</td>\n",
       "      <td>0.0</td>\n",
       "      <td>0.00</td>\n",
       "      <td>0.00</td>\n",
       "      <td>1.04</td>\n",
       "      <td>0.0</td>\n",
       "      <td>0</td>\n",
       "      <td>0</td>\n",
       "      <td>79</td>\n",
       "      <td>834</td>\n",
       "      <td>1962</td>\n",
       "      <td>2016-05-01</td>\n",
       "      <td>1</td>\n",
       "      <td>503</td>\n",
       "      <td>527</td>\n",
       "      <td>6</td>\n",
       "    </tr>\n",
       "    <tr>\n",
       "      <th>410</th>\n",
       "      <td>8792009665</td>\n",
       "      <td>2016-05-02</td>\n",
       "      <td>1831</td>\n",
       "      <td>1.17</td>\n",
       "      <td>1.17</td>\n",
       "      <td>0.0</td>\n",
       "      <td>0.00</td>\n",
       "      <td>0.00</td>\n",
       "      <td>1.17</td>\n",
       "      <td>0.0</td>\n",
       "      <td>0</td>\n",
       "      <td>0</td>\n",
       "      <td>101</td>\n",
       "      <td>916</td>\n",
       "      <td>2015</td>\n",
       "      <td>2016-05-02</td>\n",
       "      <td>1</td>\n",
       "      <td>415</td>\n",
       "      <td>423</td>\n",
       "      <td>0</td>\n",
       "    </tr>\n",
       "    <tr>\n",
       "      <th>411</th>\n",
       "      <td>8792009665</td>\n",
       "      <td>2016-05-03</td>\n",
       "      <td>2421</td>\n",
       "      <td>1.55</td>\n",
       "      <td>1.55</td>\n",
       "      <td>0.0</td>\n",
       "      <td>0.00</td>\n",
       "      <td>0.00</td>\n",
       "      <td>1.55</td>\n",
       "      <td>0.0</td>\n",
       "      <td>0</td>\n",
       "      <td>0</td>\n",
       "      <td>156</td>\n",
       "      <td>739</td>\n",
       "      <td>2297</td>\n",
       "      <td>2016-05-03</td>\n",
       "      <td>1</td>\n",
       "      <td>516</td>\n",
       "      <td>545</td>\n",
       "      <td>1</td>\n",
       "    </tr>\n",
       "    <tr>\n",
       "      <th>412</th>\n",
       "      <td>8792009665</td>\n",
       "      <td>2016-05-04</td>\n",
       "      <td>2283</td>\n",
       "      <td>1.46</td>\n",
       "      <td>1.46</td>\n",
       "      <td>0.0</td>\n",
       "      <td>0.00</td>\n",
       "      <td>0.00</td>\n",
       "      <td>1.46</td>\n",
       "      <td>0.0</td>\n",
       "      <td>0</td>\n",
       "      <td>0</td>\n",
       "      <td>129</td>\n",
       "      <td>848</td>\n",
       "      <td>2067</td>\n",
       "      <td>2016-05-04</td>\n",
       "      <td>1</td>\n",
       "      <td>439</td>\n",
       "      <td>463</td>\n",
       "      <td>2</td>\n",
       "    </tr>\n",
       "  </tbody>\n",
       "</table>\n",
       "<p>413 rows × 20 columns</p>\n",
       "</div>"
      ],
      "text/plain": [
       "             Id ActivityDate  TotalSteps  TotalDistance  TrackerDistance  \\\n",
       "0    1503960366   2016-04-12       13162           8.50             8.50   \n",
       "1    1503960366   2016-04-13       10735           6.97             6.97   \n",
       "2    1503960366   2016-04-15        9762           6.28             6.28   \n",
       "3    1503960366   2016-04-16       12669           8.16             8.16   \n",
       "4    1503960366   2016-04-17        9705           6.48             6.48   \n",
       "..          ...          ...         ...            ...              ...   \n",
       "408  8792009665   2016-04-30        7174           4.59             4.59   \n",
       "409  8792009665   2016-05-01        1619           1.04             1.04   \n",
       "410  8792009665   2016-05-02        1831           1.17             1.17   \n",
       "411  8792009665   2016-05-03        2421           1.55             1.55   \n",
       "412  8792009665   2016-05-04        2283           1.46             1.46   \n",
       "\n",
       "     LoggedActivitiesDistance  VeryActiveDistance  ModeratelyActiveDistance  \\\n",
       "0                         0.0                1.88                      0.55   \n",
       "1                         0.0                1.57                      0.69   \n",
       "2                         0.0                2.14                      1.26   \n",
       "3                         0.0                2.71                      0.41   \n",
       "4                         0.0                3.19                      0.78   \n",
       "..                        ...                 ...                       ...   \n",
       "408                       0.0                0.33                      0.36   \n",
       "409                       0.0                0.00                      0.00   \n",
       "410                       0.0                0.00                      0.00   \n",
       "411                       0.0                0.00                      0.00   \n",
       "412                       0.0                0.00                      0.00   \n",
       "\n",
       "     LightActiveDistance  SedentaryActiveDistance  VeryActiveMinutes  \\\n",
       "0                   6.06                      0.0                 25   \n",
       "1                   4.71                      0.0                 21   \n",
       "2                   2.83                      0.0                 29   \n",
       "3                   5.04                      0.0                 36   \n",
       "4                   2.51                      0.0                 38   \n",
       "..                   ...                      ...                ...   \n",
       "408                 3.91                      0.0                 10   \n",
       "409                 1.04                      0.0                  0   \n",
       "410                 1.17                      0.0                  0   \n",
       "411                 1.55                      0.0                  0   \n",
       "412                 1.46                      0.0                  0   \n",
       "\n",
       "     FairlyActiveMinutes  LightlyActiveMinutes  SedentaryMinutes  Calories  \\\n",
       "0                     13                   328               728      1985   \n",
       "1                     19                   217               776      1797   \n",
       "2                     34                   209               726      1745   \n",
       "3                     10                   221               773      1863   \n",
       "4                     20                   164               539      1728   \n",
       "..                   ...                   ...               ...       ...   \n",
       "408                   20                   301               749      2896   \n",
       "409                    0                    79               834      1962   \n",
       "410                    0                   101               916      2015   \n",
       "411                    0                   156               739      2297   \n",
       "412                    0                   129               848      2067   \n",
       "\n",
       "      SleepDay  TotalSleepRecords  TotalMinutesAsleep  TotalTimeInBed  \\\n",
       "0   2016-04-12                  1                 327             346   \n",
       "1   2016-04-13                  2                 384             407   \n",
       "2   2016-04-15                  1                 412             442   \n",
       "3   2016-04-16                  2                 340             367   \n",
       "4   2016-04-17                  1                 700             712   \n",
       "..         ...                ...                 ...             ...   \n",
       "408 2016-04-30                  1                 343             360   \n",
       "409 2016-05-01                  1                 503             527   \n",
       "410 2016-05-02                  1                 415             423   \n",
       "411 2016-05-03                  1                 516             545   \n",
       "412 2016-05-04                  1                 439             463   \n",
       "\n",
       "     day_of_week  \n",
       "0              1  \n",
       "1              2  \n",
       "2              4  \n",
       "3              5  \n",
       "4              6  \n",
       "..           ...  \n",
       "408            5  \n",
       "409            6  \n",
       "410            0  \n",
       "411            1  \n",
       "412            2  \n",
       "\n",
       "[413 rows x 20 columns]"
      ]
     },
     "execution_count": 45,
     "metadata": {},
     "output_type": "execute_result"
    }
   ],
   "source": [
    "dailyActivity['ActivityDate'] = pd.to_datetime(dailyActivity['ActivityDate'])\n",
    "merged_activity_sleep=pd.merge(dailyActivity,sleepDay, how='inner', left_on=['Id','ActivityDate'], right_on=['Id','SleepDay'])\n",
    "merged_activity_sleep"
   ]
  },
  {
   "cell_type": "markdown",
   "metadata": {},
   "source": [
    "Here we plot scatterplots of different levels of active minutes with total minutes asleep in that day. For VeryActiveMinutes, FairlyActiveMinutes, and Lightly Active Minutes there is no clear association. However, there is a visibly negative correlation between SedentaryMinutes and TotalMinutesAsleep. In the higher end of SedentaryMinutes, there is likely a mutual exclusivity with TotalMinutesAsleep because the number of SedentaryMinutes is associated with time spent awake. Regardless, there is a noticeable negative correlation even before SedentaryMinutes might inherently cut into TotalMinutesAsleep."
   ]
  },
  {
   "cell_type": "code",
   "execution_count": 46,
   "metadata": {},
   "outputs": [
    {
     "data": {
      "application/vnd.plotly.v1+json": {
       "config": {
        "plotlyServerURL": "https://plot.ly"
       },
       "data": [
        {
         "hovertemplate": "VeryActiveMinutes=%{x}<br>TotalMinutesAsleep=%{y}<extra></extra>",
         "legendgroup": "",
         "marker": {
          "color": "#636efa",
          "symbol": "circle"
         },
         "mode": "markers",
         "name": "",
         "orientation": "v",
         "showlegend": false,
         "type": "scatter",
         "x": [
          25,
          21,
          29,
          36,
          38,
          50,
          28,
          19,
          41,
          39,
          73,
          31,
          48,
          16,
          52,
          33,
          41,
          50,
          45,
          24,
          37,
          44,
          46,
          46,
          36,
          0,
          9,
          1,
          0,
          0,
          0,
          0,
          0,
          0,
          0,
          0,
          0,
          3,
          0,
          0,
          0,
          0,
          0,
          0,
          0,
          0,
          0,
          0,
          0,
          0,
          0,
          0,
          0,
          0,
          0,
          0,
          0,
          0,
          0,
          0,
          0,
          0,
          0,
          0,
          0,
          0,
          19,
          1,
          1,
          1,
          11,
          0,
          23,
          9,
          32,
          0,
          15,
          0,
          26,
          0,
          0,
          44,
          31,
          5,
          15,
          31,
          11,
          4,
          19,
          2,
          0,
          33,
          0,
          30,
          50,
          7,
          0,
          15,
          36,
          43,
          41,
          24,
          47,
          14,
          14,
          29,
          0,
          9,
          1,
          4,
          65,
          0,
          13,
          38,
          0,
          0,
          0,
          1,
          0,
          0,
          1,
          0,
          0,
          0,
          1,
          0,
          1,
          0,
          8,
          6,
          13,
          6,
          6,
          0,
          0,
          8,
          6,
          3,
          0,
          2,
          3,
          3,
          0,
          0,
          6,
          0,
          27,
          20,
          19,
          7,
          77,
          58,
          14,
          14,
          11,
          19,
          14,
          12,
          33,
          35,
          12,
          12,
          120,
          107,
          6,
          13,
          8,
          0,
          0,
          0,
          0,
          0,
          0,
          0,
          0,
          0,
          0,
          0,
          29,
          32,
          0,
          0,
          0,
          0,
          27,
          30,
          0,
          2,
          0,
          26,
          0,
          0,
          0,
          34,
          0,
          6,
          12,
          15,
          0,
          66,
          0,
          0,
          0,
          1,
          3,
          12,
          22,
          10,
          2,
          4,
          9,
          15,
          6,
          1,
          1,
          14,
          12,
          4,
          0,
          4,
          8,
          1,
          5,
          5,
          0,
          1,
          10,
          0,
          19,
          0,
          61,
          58,
          0,
          0,
          0,
          69,
          0,
          47,
          25,
          0,
          0,
          51,
          40,
          16,
          49,
          46,
          0,
          0,
          23,
          26,
          0,
          44,
          21,
          0,
          3,
          59,
          61,
          0,
          8,
          86,
          15,
          118,
          115,
          184,
          200,
          114,
          108,
          87,
          110,
          62,
          24,
          210,
          61,
          38,
          63,
          99,
          97,
          207,
          194,
          37,
          97,
          25,
          45,
          104,
          45,
          7,
          0,
          0,
          0,
          26,
          11,
          0,
          0,
          0,
          0,
          0,
          0,
          0,
          0,
          0,
          0,
          0,
          0,
          17,
          14,
          0,
          50,
          8,
          0,
          0,
          50,
          5,
          13,
          35,
          48,
          53,
          30,
          58,
          0,
          35,
          36,
          7,
          38,
          12,
          32,
          0,
          18,
          21,
          15,
          14,
          0,
          0,
          0,
          43,
          62,
          24,
          0,
          0,
          0,
          59,
          31,
          35,
          30,
          67,
          87,
          19,
          58,
          0,
          69,
          70,
          55,
          54,
          42,
          30,
          66,
          57,
          45,
          84,
          20,
          32,
          67,
          57,
          5,
          89,
          125,
          121,
          65,
          116,
          123,
          60,
          64,
          0,
          117,
          120,
          82,
          137,
          113,
          19,
          0,
          117,
          117,
          90,
          4,
          11,
          3,
          0,
          71,
          63,
          71,
          19,
          66,
          74,
          0,
          0,
          71,
          63,
          72,
          8,
          0,
          0,
          0,
          0,
          0,
          1,
          8,
          0,
          0,
          6,
          10,
          0,
          0,
          0,
          0
         ],
         "xaxis": "x",
         "y": [
          327,
          384,
          412,
          340,
          700,
          304,
          360,
          325,
          361,
          430,
          277,
          245,
          366,
          341,
          404,
          369,
          277,
          273,
          247,
          334,
          331,
          594,
          338,
          383,
          285,
          119,
          124,
          796,
          137,
          644,
          722,
          590,
          750,
          398,
          475,
          296,
          166,
          503,
          531,
          545,
          523,
          524,
          437,
          498,
          461,
          477,
          520,
          522,
          555,
          506,
          508,
          513,
          490,
          573,
          527,
          511,
          538,
          468,
          524,
          511,
          541,
          531,
          357,
          523,
          456,
          61,
          467,
          445,
          452,
          556,
          500,
          465,
          460,
          405,
          374,
          442,
          433,
          436,
          448,
          408,
          411,
          274,
          295,
          291,
          424,
          283,
          381,
          412,
          219,
          152,
          332,
          355,
          235,
          310,
          262,
          250,
          349,
          261,
          333,
          237,
          383,
          230,
          292,
          213,
          318,
          323,
          237,
          259,
          312,
          501,
          77,
          322,
          478,
          226,
          385,
          364,
          442,
          535,
          465,
          506,
          515,
          461,
          523,
          59,
          533,
          692,
          467,
          488,
          505,
          286,
          497,
          523,
          490,
          484,
          478,
          474,
          450,
          507,
          602,
          535,
          487,
          529,
          302,
          499,
          426,
          619,
          99,
          329,
          421,
          442,
          82,
          478,
          552,
          319,
          439,
          428,
          409,
          547,
          368,
          390,
          471,
          471,
          472,
          529,
          62,
          354,
          469,
          429,
          370,
          441,
          337,
          462,
          98,
          388,
          439,
          436,
          388,
          328,
          353,
          332,
          419,
          106,
          322,
          439,
          502,
          417,
          337,
          462,
          374,
          401,
          361,
          457,
          405,
          499,
          483,
          126,
          103,
          171,
          115,
          123,
          425,
          400,
          384,
          253,
          382,
          591,
          293,
          457,
          454,
          425,
          465,
          480,
          370,
          421,
          432,
          442,
          433,
          479,
          327,
          412,
          414,
          404,
          520,
          520,
          435,
          416,
          354,
          404,
          441,
          455,
          357,
          377,
          651,
          350,
          520,
          357,
          658,
          399,
          322,
          631,
          553,
          433,
          412,
          347,
          421,
          450,
          775,
          622,
          409,
          380,
          447,
          419,
          400,
          442,
          568,
          453,
          418,
          463,
          438,
          419,
          432,
          477,
          392,
          406,
          549,
          527,
          449,
          447,
          414,
          338,
          384,
          543,
          421,
          354,
          424,
          361,
          459,
          412,
          379,
          525,
          508,
          603,
          74,
          504,
          431,
          380,
          336,
          493,
          465,
          474,
          508,
          480,
          492,
          353,
          542,
          393,
          600,
          507,
          392,
          658,
          498,
          555,
          492,
          235,
          423,
          391,
          366,
          630,
          508,
          370,
          357,
          427,
          442,
          476,
          418,
          451,
          425,
          528,
          511,
          400,
          441,
          455,
          440,
          433,
          422,
          411,
          466,
          394,
          442,
          467,
          443,
          298,
          541,
          489,
          469,
          452,
          516,
          79,
          58,
          514,
          451,
          472,
          377,
          472,
          492,
          390,
          428,
          681,
          446,
          485,
          469,
          354,
          485,
          388,
          440,
          456,
          420,
          322,
          530,
          481,
          427,
          451,
          444,
          486,
          331,
          74,
          338,
          447,
          424,
          513,
          611,
          525,
          398,
          387,
          381,
          396,
          441,
          565,
          458,
          388,
          388,
          550,
          531,
          506,
          527,
          468,
          475,
          351,
          405,
          441,
          381,
          323,
          459,
          545,
          359,
          342,
          368,
          496,
          458,
          531,
          486,
          363,
          528,
          391,
          339,
          423,
          402,
          398,
          343,
          503,
          415,
          516,
          439
         ],
         "yaxis": "y"
        }
       ],
       "layout": {
        "legend": {
         "tracegroupgap": 0
        },
        "margin": {
         "t": 60
        },
        "template": {
         "data": {
          "bar": [
           {
            "error_x": {
             "color": "#2a3f5f"
            },
            "error_y": {
             "color": "#2a3f5f"
            },
            "marker": {
             "line": {
              "color": "#E5ECF6",
              "width": 0.5
             },
             "pattern": {
              "fillmode": "overlay",
              "size": 10,
              "solidity": 0.2
             }
            },
            "type": "bar"
           }
          ],
          "barpolar": [
           {
            "marker": {
             "line": {
              "color": "#E5ECF6",
              "width": 0.5
             },
             "pattern": {
              "fillmode": "overlay",
              "size": 10,
              "solidity": 0.2
             }
            },
            "type": "barpolar"
           }
          ],
          "carpet": [
           {
            "aaxis": {
             "endlinecolor": "#2a3f5f",
             "gridcolor": "white",
             "linecolor": "white",
             "minorgridcolor": "white",
             "startlinecolor": "#2a3f5f"
            },
            "baxis": {
             "endlinecolor": "#2a3f5f",
             "gridcolor": "white",
             "linecolor": "white",
             "minorgridcolor": "white",
             "startlinecolor": "#2a3f5f"
            },
            "type": "carpet"
           }
          ],
          "choropleth": [
           {
            "colorbar": {
             "outlinewidth": 0,
             "ticks": ""
            },
            "type": "choropleth"
           }
          ],
          "contour": [
           {
            "colorbar": {
             "outlinewidth": 0,
             "ticks": ""
            },
            "colorscale": [
             [
              0,
              "#0d0887"
             ],
             [
              0.1111111111111111,
              "#46039f"
             ],
             [
              0.2222222222222222,
              "#7201a8"
             ],
             [
              0.3333333333333333,
              "#9c179e"
             ],
             [
              0.4444444444444444,
              "#bd3786"
             ],
             [
              0.5555555555555556,
              "#d8576b"
             ],
             [
              0.6666666666666666,
              "#ed7953"
             ],
             [
              0.7777777777777778,
              "#fb9f3a"
             ],
             [
              0.8888888888888888,
              "#fdca26"
             ],
             [
              1,
              "#f0f921"
             ]
            ],
            "type": "contour"
           }
          ],
          "contourcarpet": [
           {
            "colorbar": {
             "outlinewidth": 0,
             "ticks": ""
            },
            "type": "contourcarpet"
           }
          ],
          "heatmap": [
           {
            "colorbar": {
             "outlinewidth": 0,
             "ticks": ""
            },
            "colorscale": [
             [
              0,
              "#0d0887"
             ],
             [
              0.1111111111111111,
              "#46039f"
             ],
             [
              0.2222222222222222,
              "#7201a8"
             ],
             [
              0.3333333333333333,
              "#9c179e"
             ],
             [
              0.4444444444444444,
              "#bd3786"
             ],
             [
              0.5555555555555556,
              "#d8576b"
             ],
             [
              0.6666666666666666,
              "#ed7953"
             ],
             [
              0.7777777777777778,
              "#fb9f3a"
             ],
             [
              0.8888888888888888,
              "#fdca26"
             ],
             [
              1,
              "#f0f921"
             ]
            ],
            "type": "heatmap"
           }
          ],
          "heatmapgl": [
           {
            "colorbar": {
             "outlinewidth": 0,
             "ticks": ""
            },
            "colorscale": [
             [
              0,
              "#0d0887"
             ],
             [
              0.1111111111111111,
              "#46039f"
             ],
             [
              0.2222222222222222,
              "#7201a8"
             ],
             [
              0.3333333333333333,
              "#9c179e"
             ],
             [
              0.4444444444444444,
              "#bd3786"
             ],
             [
              0.5555555555555556,
              "#d8576b"
             ],
             [
              0.6666666666666666,
              "#ed7953"
             ],
             [
              0.7777777777777778,
              "#fb9f3a"
             ],
             [
              0.8888888888888888,
              "#fdca26"
             ],
             [
              1,
              "#f0f921"
             ]
            ],
            "type": "heatmapgl"
           }
          ],
          "histogram": [
           {
            "marker": {
             "pattern": {
              "fillmode": "overlay",
              "size": 10,
              "solidity": 0.2
             }
            },
            "type": "histogram"
           }
          ],
          "histogram2d": [
           {
            "colorbar": {
             "outlinewidth": 0,
             "ticks": ""
            },
            "colorscale": [
             [
              0,
              "#0d0887"
             ],
             [
              0.1111111111111111,
              "#46039f"
             ],
             [
              0.2222222222222222,
              "#7201a8"
             ],
             [
              0.3333333333333333,
              "#9c179e"
             ],
             [
              0.4444444444444444,
              "#bd3786"
             ],
             [
              0.5555555555555556,
              "#d8576b"
             ],
             [
              0.6666666666666666,
              "#ed7953"
             ],
             [
              0.7777777777777778,
              "#fb9f3a"
             ],
             [
              0.8888888888888888,
              "#fdca26"
             ],
             [
              1,
              "#f0f921"
             ]
            ],
            "type": "histogram2d"
           }
          ],
          "histogram2dcontour": [
           {
            "colorbar": {
             "outlinewidth": 0,
             "ticks": ""
            },
            "colorscale": [
             [
              0,
              "#0d0887"
             ],
             [
              0.1111111111111111,
              "#46039f"
             ],
             [
              0.2222222222222222,
              "#7201a8"
             ],
             [
              0.3333333333333333,
              "#9c179e"
             ],
             [
              0.4444444444444444,
              "#bd3786"
             ],
             [
              0.5555555555555556,
              "#d8576b"
             ],
             [
              0.6666666666666666,
              "#ed7953"
             ],
             [
              0.7777777777777778,
              "#fb9f3a"
             ],
             [
              0.8888888888888888,
              "#fdca26"
             ],
             [
              1,
              "#f0f921"
             ]
            ],
            "type": "histogram2dcontour"
           }
          ],
          "mesh3d": [
           {
            "colorbar": {
             "outlinewidth": 0,
             "ticks": ""
            },
            "type": "mesh3d"
           }
          ],
          "parcoords": [
           {
            "line": {
             "colorbar": {
              "outlinewidth": 0,
              "ticks": ""
             }
            },
            "type": "parcoords"
           }
          ],
          "pie": [
           {
            "automargin": true,
            "type": "pie"
           }
          ],
          "scatter": [
           {
            "fillpattern": {
             "fillmode": "overlay",
             "size": 10,
             "solidity": 0.2
            },
            "type": "scatter"
           }
          ],
          "scatter3d": [
           {
            "line": {
             "colorbar": {
              "outlinewidth": 0,
              "ticks": ""
             }
            },
            "marker": {
             "colorbar": {
              "outlinewidth": 0,
              "ticks": ""
             }
            },
            "type": "scatter3d"
           }
          ],
          "scattercarpet": [
           {
            "marker": {
             "colorbar": {
              "outlinewidth": 0,
              "ticks": ""
             }
            },
            "type": "scattercarpet"
           }
          ],
          "scattergeo": [
           {
            "marker": {
             "colorbar": {
              "outlinewidth": 0,
              "ticks": ""
             }
            },
            "type": "scattergeo"
           }
          ],
          "scattergl": [
           {
            "marker": {
             "colorbar": {
              "outlinewidth": 0,
              "ticks": ""
             }
            },
            "type": "scattergl"
           }
          ],
          "scattermapbox": [
           {
            "marker": {
             "colorbar": {
              "outlinewidth": 0,
              "ticks": ""
             }
            },
            "type": "scattermapbox"
           }
          ],
          "scatterpolar": [
           {
            "marker": {
             "colorbar": {
              "outlinewidth": 0,
              "ticks": ""
             }
            },
            "type": "scatterpolar"
           }
          ],
          "scatterpolargl": [
           {
            "marker": {
             "colorbar": {
              "outlinewidth": 0,
              "ticks": ""
             }
            },
            "type": "scatterpolargl"
           }
          ],
          "scatterternary": [
           {
            "marker": {
             "colorbar": {
              "outlinewidth": 0,
              "ticks": ""
             }
            },
            "type": "scatterternary"
           }
          ],
          "surface": [
           {
            "colorbar": {
             "outlinewidth": 0,
             "ticks": ""
            },
            "colorscale": [
             [
              0,
              "#0d0887"
             ],
             [
              0.1111111111111111,
              "#46039f"
             ],
             [
              0.2222222222222222,
              "#7201a8"
             ],
             [
              0.3333333333333333,
              "#9c179e"
             ],
             [
              0.4444444444444444,
              "#bd3786"
             ],
             [
              0.5555555555555556,
              "#d8576b"
             ],
             [
              0.6666666666666666,
              "#ed7953"
             ],
             [
              0.7777777777777778,
              "#fb9f3a"
             ],
             [
              0.8888888888888888,
              "#fdca26"
             ],
             [
              1,
              "#f0f921"
             ]
            ],
            "type": "surface"
           }
          ],
          "table": [
           {
            "cells": {
             "fill": {
              "color": "#EBF0F8"
             },
             "line": {
              "color": "white"
             }
            },
            "header": {
             "fill": {
              "color": "#C8D4E3"
             },
             "line": {
              "color": "white"
             }
            },
            "type": "table"
           }
          ]
         },
         "layout": {
          "annotationdefaults": {
           "arrowcolor": "#2a3f5f",
           "arrowhead": 0,
           "arrowwidth": 1
          },
          "autotypenumbers": "strict",
          "coloraxis": {
           "colorbar": {
            "outlinewidth": 0,
            "ticks": ""
           }
          },
          "colorscale": {
           "diverging": [
            [
             0,
             "#8e0152"
            ],
            [
             0.1,
             "#c51b7d"
            ],
            [
             0.2,
             "#de77ae"
            ],
            [
             0.3,
             "#f1b6da"
            ],
            [
             0.4,
             "#fde0ef"
            ],
            [
             0.5,
             "#f7f7f7"
            ],
            [
             0.6,
             "#e6f5d0"
            ],
            [
             0.7,
             "#b8e186"
            ],
            [
             0.8,
             "#7fbc41"
            ],
            [
             0.9,
             "#4d9221"
            ],
            [
             1,
             "#276419"
            ]
           ],
           "sequential": [
            [
             0,
             "#0d0887"
            ],
            [
             0.1111111111111111,
             "#46039f"
            ],
            [
             0.2222222222222222,
             "#7201a8"
            ],
            [
             0.3333333333333333,
             "#9c179e"
            ],
            [
             0.4444444444444444,
             "#bd3786"
            ],
            [
             0.5555555555555556,
             "#d8576b"
            ],
            [
             0.6666666666666666,
             "#ed7953"
            ],
            [
             0.7777777777777778,
             "#fb9f3a"
            ],
            [
             0.8888888888888888,
             "#fdca26"
            ],
            [
             1,
             "#f0f921"
            ]
           ],
           "sequentialminus": [
            [
             0,
             "#0d0887"
            ],
            [
             0.1111111111111111,
             "#46039f"
            ],
            [
             0.2222222222222222,
             "#7201a8"
            ],
            [
             0.3333333333333333,
             "#9c179e"
            ],
            [
             0.4444444444444444,
             "#bd3786"
            ],
            [
             0.5555555555555556,
             "#d8576b"
            ],
            [
             0.6666666666666666,
             "#ed7953"
            ],
            [
             0.7777777777777778,
             "#fb9f3a"
            ],
            [
             0.8888888888888888,
             "#fdca26"
            ],
            [
             1,
             "#f0f921"
            ]
           ]
          },
          "colorway": [
           "#636efa",
           "#EF553B",
           "#00cc96",
           "#ab63fa",
           "#FFA15A",
           "#19d3f3",
           "#FF6692",
           "#B6E880",
           "#FF97FF",
           "#FECB52"
          ],
          "font": {
           "color": "#2a3f5f"
          },
          "geo": {
           "bgcolor": "white",
           "lakecolor": "white",
           "landcolor": "#E5ECF6",
           "showlakes": true,
           "showland": true,
           "subunitcolor": "white"
          },
          "hoverlabel": {
           "align": "left"
          },
          "hovermode": "closest",
          "mapbox": {
           "style": "light"
          },
          "paper_bgcolor": "white",
          "plot_bgcolor": "#E5ECF6",
          "polar": {
           "angularaxis": {
            "gridcolor": "white",
            "linecolor": "white",
            "ticks": ""
           },
           "bgcolor": "#E5ECF6",
           "radialaxis": {
            "gridcolor": "white",
            "linecolor": "white",
            "ticks": ""
           }
          },
          "scene": {
           "xaxis": {
            "backgroundcolor": "#E5ECF6",
            "gridcolor": "white",
            "gridwidth": 2,
            "linecolor": "white",
            "showbackground": true,
            "ticks": "",
            "zerolinecolor": "white"
           },
           "yaxis": {
            "backgroundcolor": "#E5ECF6",
            "gridcolor": "white",
            "gridwidth": 2,
            "linecolor": "white",
            "showbackground": true,
            "ticks": "",
            "zerolinecolor": "white"
           },
           "zaxis": {
            "backgroundcolor": "#E5ECF6",
            "gridcolor": "white",
            "gridwidth": 2,
            "linecolor": "white",
            "showbackground": true,
            "ticks": "",
            "zerolinecolor": "white"
           }
          },
          "shapedefaults": {
           "line": {
            "color": "#2a3f5f"
           }
          },
          "ternary": {
           "aaxis": {
            "gridcolor": "white",
            "linecolor": "white",
            "ticks": ""
           },
           "baxis": {
            "gridcolor": "white",
            "linecolor": "white",
            "ticks": ""
           },
           "bgcolor": "#E5ECF6",
           "caxis": {
            "gridcolor": "white",
            "linecolor": "white",
            "ticks": ""
           }
          },
          "title": {
           "x": 0.05
          },
          "xaxis": {
           "automargin": true,
           "gridcolor": "white",
           "linecolor": "white",
           "ticks": "",
           "title": {
            "standoff": 15
           },
           "zerolinecolor": "white",
           "zerolinewidth": 2
          },
          "yaxis": {
           "automargin": true,
           "gridcolor": "white",
           "linecolor": "white",
           "ticks": "",
           "title": {
            "standoff": 15
           },
           "zerolinecolor": "white",
           "zerolinewidth": 2
          }
         }
        },
        "width": 600,
        "xaxis": {
         "anchor": "y",
         "domain": [
          0,
          1
         ],
         "title": {
          "text": "VeryActiveMinutes"
         }
        },
        "yaxis": {
         "anchor": "x",
         "domain": [
          0,
          1
         ],
         "title": {
          "text": "TotalMinutesAsleep"
         }
        }
       }
      }
     },
     "metadata": {},
     "output_type": "display_data"
    }
   ],
   "source": [
    "px.scatter(\n",
    "    merged_activity_sleep,\n",
    "    x='VeryActiveMinutes',\n",
    "    y='TotalMinutesAsleep',\n",
    "    width=600\n",
    ")"
   ]
  },
  {
   "cell_type": "code",
   "execution_count": 47,
   "metadata": {},
   "outputs": [
    {
     "data": {
      "application/vnd.plotly.v1+json": {
       "config": {
        "plotlyServerURL": "https://plot.ly"
       },
       "data": [
        {
         "hovertemplate": "FairlyActiveMinutes=%{x}<br>TotalMinutesAsleep=%{y}<extra></extra>",
         "legendgroup": "",
         "marker": {
          "color": "#636efa",
          "symbol": "circle"
         },
         "mode": "markers",
         "name": "",
         "orientation": "v",
         "showlegend": false,
         "type": "scatter",
         "x": [
          13,
          19,
          34,
          10,
          20,
          31,
          12,
          8,
          21,
          5,
          14,
          23,
          28,
          12,
          34,
          35,
          15,
          24,
          24,
          6,
          46,
          8,
          11,
          31,
          23,
          0,
          71,
          7,
          0,
          0,
          0,
          7,
          0,
          0,
          0,
          0,
          0,
          8,
          0,
          0,
          0,
          0,
          0,
          0,
          0,
          0,
          0,
          0,
          0,
          0,
          0,
          0,
          0,
          0,
          0,
          0,
          0,
          0,
          0,
          0,
          0,
          0,
          0,
          0,
          0,
          0,
          32,
          48,
          24,
          7,
          16,
          7,
          26,
          27,
          35,
          0,
          11,
          0,
          9,
          0,
          0,
          19,
          46,
          23,
          42,
          83,
          58,
          95,
          67,
          98,
          0,
          12,
          92,
          95,
          9,
          95,
          10,
          8,
          32,
          52,
          40,
          143,
          41,
          96,
          88,
          55,
          86,
          116,
          115,
          15,
          21,
          0,
          46,
          42,
          0,
          0,
          0,
          9,
          0,
          0,
          9,
          0,
          18,
          0,
          19,
          0,
          5,
          8,
          21,
          47,
          8,
          18,
          38,
          0,
          11,
          26,
          11,
          28,
          0,
          14,
          12,
          18,
          0,
          0,
          9,
          0,
          8,
          16,
          42,
          12,
          25,
          5,
          8,
          23,
          48,
          9,
          43,
          15,
          4,
          21,
          39,
          39,
          56,
          38,
          19,
          14,
          18,
          0,
          0,
          0,
          0,
          0,
          0,
          0,
          0,
          0,
          0,
          0,
          1,
          1,
          0,
          0,
          0,
          0,
          4,
          2,
          0,
          6,
          0,
          4,
          8,
          0,
          0,
          22,
          0,
          21,
          41,
          29,
          0,
          35,
          0,
          0,
          0,
          8,
          24,
          66,
          30,
          8,
          29,
          41,
          66,
          95,
          15,
          8,
          16,
          9,
          19,
          36,
          0,
          15,
          5,
          16,
          46,
          46,
          12,
          37,
          41,
          0,
          13,
          0,
          41,
          38,
          0,
          0,
          0,
          28,
          0,
          42,
          16,
          0,
          0,
          11,
          18,
          16,
          13,
          15,
          0,
          0,
          9,
          29,
          0,
          29,
          9,
          0,
          8,
          22,
          40,
          0,
          6,
          16,
          11,
          30,
          54,
          56,
          37,
          32,
          23,
          16,
          74,
          30,
          24,
          65,
          38,
          32,
          16,
          51,
          36,
          45,
          72,
          20,
          8,
          9,
          21,
          37,
          15,
          15,
          0,
          0,
          0,
          10,
          19,
          0,
          0,
          0,
          0,
          0,
          0,
          0,
          0,
          0,
          0,
          0,
          0,
          18,
          24,
          0,
          14,
          24,
          0,
          0,
          3,
          13,
          42,
          41,
          4,
          27,
          33,
          41,
          0,
          31,
          7,
          38,
          8,
          15,
          16,
          0,
          39,
          36,
          36,
          22,
          0,
          0,
          14,
          21,
          34,
          7,
          8,
          0,
          0,
          6,
          26,
          32,
          21,
          69,
          13,
          6,
          59,
          0,
          39,
          33,
          6,
          48,
          17,
          15,
          26,
          36,
          12,
          35,
          42,
          27,
          50,
          40,
          4,
          5,
          14,
          20,
          15,
          14,
          21,
          23,
          21,
          0,
          10,
          19,
          8,
          16,
          12,
          10,
          0,
          16,
          16,
          18,
          4,
          10,
          7,
          0,
          10,
          4,
          20,
          10,
          3,
          5,
          0,
          0,
          13,
          13,
          10,
          6,
          0,
          0,
          0,
          0,
          10,
          20,
          45,
          0,
          0,
          14,
          20,
          0,
          0,
          0,
          0
         ],
         "xaxis": "x",
         "y": [
          327,
          384,
          412,
          340,
          700,
          304,
          360,
          325,
          361,
          430,
          277,
          245,
          366,
          341,
          404,
          369,
          277,
          273,
          247,
          334,
          331,
          594,
          338,
          383,
          285,
          119,
          124,
          796,
          137,
          644,
          722,
          590,
          750,
          398,
          475,
          296,
          166,
          503,
          531,
          545,
          523,
          524,
          437,
          498,
          461,
          477,
          520,
          522,
          555,
          506,
          508,
          513,
          490,
          573,
          527,
          511,
          538,
          468,
          524,
          511,
          541,
          531,
          357,
          523,
          456,
          61,
          467,
          445,
          452,
          556,
          500,
          465,
          460,
          405,
          374,
          442,
          433,
          436,
          448,
          408,
          411,
          274,
          295,
          291,
          424,
          283,
          381,
          412,
          219,
          152,
          332,
          355,
          235,
          310,
          262,
          250,
          349,
          261,
          333,
          237,
          383,
          230,
          292,
          213,
          318,
          323,
          237,
          259,
          312,
          501,
          77,
          322,
          478,
          226,
          385,
          364,
          442,
          535,
          465,
          506,
          515,
          461,
          523,
          59,
          533,
          692,
          467,
          488,
          505,
          286,
          497,
          523,
          490,
          484,
          478,
          474,
          450,
          507,
          602,
          535,
          487,
          529,
          302,
          499,
          426,
          619,
          99,
          329,
          421,
          442,
          82,
          478,
          552,
          319,
          439,
          428,
          409,
          547,
          368,
          390,
          471,
          471,
          472,
          529,
          62,
          354,
          469,
          429,
          370,
          441,
          337,
          462,
          98,
          388,
          439,
          436,
          388,
          328,
          353,
          332,
          419,
          106,
          322,
          439,
          502,
          417,
          337,
          462,
          374,
          401,
          361,
          457,
          405,
          499,
          483,
          126,
          103,
          171,
          115,
          123,
          425,
          400,
          384,
          253,
          382,
          591,
          293,
          457,
          454,
          425,
          465,
          480,
          370,
          421,
          432,
          442,
          433,
          479,
          327,
          412,
          414,
          404,
          520,
          520,
          435,
          416,
          354,
          404,
          441,
          455,
          357,
          377,
          651,
          350,
          520,
          357,
          658,
          399,
          322,
          631,
          553,
          433,
          412,
          347,
          421,
          450,
          775,
          622,
          409,
          380,
          447,
          419,
          400,
          442,
          568,
          453,
          418,
          463,
          438,
          419,
          432,
          477,
          392,
          406,
          549,
          527,
          449,
          447,
          414,
          338,
          384,
          543,
          421,
          354,
          424,
          361,
          459,
          412,
          379,
          525,
          508,
          603,
          74,
          504,
          431,
          380,
          336,
          493,
          465,
          474,
          508,
          480,
          492,
          353,
          542,
          393,
          600,
          507,
          392,
          658,
          498,
          555,
          492,
          235,
          423,
          391,
          366,
          630,
          508,
          370,
          357,
          427,
          442,
          476,
          418,
          451,
          425,
          528,
          511,
          400,
          441,
          455,
          440,
          433,
          422,
          411,
          466,
          394,
          442,
          467,
          443,
          298,
          541,
          489,
          469,
          452,
          516,
          79,
          58,
          514,
          451,
          472,
          377,
          472,
          492,
          390,
          428,
          681,
          446,
          485,
          469,
          354,
          485,
          388,
          440,
          456,
          420,
          322,
          530,
          481,
          427,
          451,
          444,
          486,
          331,
          74,
          338,
          447,
          424,
          513,
          611,
          525,
          398,
          387,
          381,
          396,
          441,
          565,
          458,
          388,
          388,
          550,
          531,
          506,
          527,
          468,
          475,
          351,
          405,
          441,
          381,
          323,
          459,
          545,
          359,
          342,
          368,
          496,
          458,
          531,
          486,
          363,
          528,
          391,
          339,
          423,
          402,
          398,
          343,
          503,
          415,
          516,
          439
         ],
         "yaxis": "y"
        }
       ],
       "layout": {
        "legend": {
         "tracegroupgap": 0
        },
        "margin": {
         "t": 60
        },
        "template": {
         "data": {
          "bar": [
           {
            "error_x": {
             "color": "#2a3f5f"
            },
            "error_y": {
             "color": "#2a3f5f"
            },
            "marker": {
             "line": {
              "color": "#E5ECF6",
              "width": 0.5
             },
             "pattern": {
              "fillmode": "overlay",
              "size": 10,
              "solidity": 0.2
             }
            },
            "type": "bar"
           }
          ],
          "barpolar": [
           {
            "marker": {
             "line": {
              "color": "#E5ECF6",
              "width": 0.5
             },
             "pattern": {
              "fillmode": "overlay",
              "size": 10,
              "solidity": 0.2
             }
            },
            "type": "barpolar"
           }
          ],
          "carpet": [
           {
            "aaxis": {
             "endlinecolor": "#2a3f5f",
             "gridcolor": "white",
             "linecolor": "white",
             "minorgridcolor": "white",
             "startlinecolor": "#2a3f5f"
            },
            "baxis": {
             "endlinecolor": "#2a3f5f",
             "gridcolor": "white",
             "linecolor": "white",
             "minorgridcolor": "white",
             "startlinecolor": "#2a3f5f"
            },
            "type": "carpet"
           }
          ],
          "choropleth": [
           {
            "colorbar": {
             "outlinewidth": 0,
             "ticks": ""
            },
            "type": "choropleth"
           }
          ],
          "contour": [
           {
            "colorbar": {
             "outlinewidth": 0,
             "ticks": ""
            },
            "colorscale": [
             [
              0,
              "#0d0887"
             ],
             [
              0.1111111111111111,
              "#46039f"
             ],
             [
              0.2222222222222222,
              "#7201a8"
             ],
             [
              0.3333333333333333,
              "#9c179e"
             ],
             [
              0.4444444444444444,
              "#bd3786"
             ],
             [
              0.5555555555555556,
              "#d8576b"
             ],
             [
              0.6666666666666666,
              "#ed7953"
             ],
             [
              0.7777777777777778,
              "#fb9f3a"
             ],
             [
              0.8888888888888888,
              "#fdca26"
             ],
             [
              1,
              "#f0f921"
             ]
            ],
            "type": "contour"
           }
          ],
          "contourcarpet": [
           {
            "colorbar": {
             "outlinewidth": 0,
             "ticks": ""
            },
            "type": "contourcarpet"
           }
          ],
          "heatmap": [
           {
            "colorbar": {
             "outlinewidth": 0,
             "ticks": ""
            },
            "colorscale": [
             [
              0,
              "#0d0887"
             ],
             [
              0.1111111111111111,
              "#46039f"
             ],
             [
              0.2222222222222222,
              "#7201a8"
             ],
             [
              0.3333333333333333,
              "#9c179e"
             ],
             [
              0.4444444444444444,
              "#bd3786"
             ],
             [
              0.5555555555555556,
              "#d8576b"
             ],
             [
              0.6666666666666666,
              "#ed7953"
             ],
             [
              0.7777777777777778,
              "#fb9f3a"
             ],
             [
              0.8888888888888888,
              "#fdca26"
             ],
             [
              1,
              "#f0f921"
             ]
            ],
            "type": "heatmap"
           }
          ],
          "heatmapgl": [
           {
            "colorbar": {
             "outlinewidth": 0,
             "ticks": ""
            },
            "colorscale": [
             [
              0,
              "#0d0887"
             ],
             [
              0.1111111111111111,
              "#46039f"
             ],
             [
              0.2222222222222222,
              "#7201a8"
             ],
             [
              0.3333333333333333,
              "#9c179e"
             ],
             [
              0.4444444444444444,
              "#bd3786"
             ],
             [
              0.5555555555555556,
              "#d8576b"
             ],
             [
              0.6666666666666666,
              "#ed7953"
             ],
             [
              0.7777777777777778,
              "#fb9f3a"
             ],
             [
              0.8888888888888888,
              "#fdca26"
             ],
             [
              1,
              "#f0f921"
             ]
            ],
            "type": "heatmapgl"
           }
          ],
          "histogram": [
           {
            "marker": {
             "pattern": {
              "fillmode": "overlay",
              "size": 10,
              "solidity": 0.2
             }
            },
            "type": "histogram"
           }
          ],
          "histogram2d": [
           {
            "colorbar": {
             "outlinewidth": 0,
             "ticks": ""
            },
            "colorscale": [
             [
              0,
              "#0d0887"
             ],
             [
              0.1111111111111111,
              "#46039f"
             ],
             [
              0.2222222222222222,
              "#7201a8"
             ],
             [
              0.3333333333333333,
              "#9c179e"
             ],
             [
              0.4444444444444444,
              "#bd3786"
             ],
             [
              0.5555555555555556,
              "#d8576b"
             ],
             [
              0.6666666666666666,
              "#ed7953"
             ],
             [
              0.7777777777777778,
              "#fb9f3a"
             ],
             [
              0.8888888888888888,
              "#fdca26"
             ],
             [
              1,
              "#f0f921"
             ]
            ],
            "type": "histogram2d"
           }
          ],
          "histogram2dcontour": [
           {
            "colorbar": {
             "outlinewidth": 0,
             "ticks": ""
            },
            "colorscale": [
             [
              0,
              "#0d0887"
             ],
             [
              0.1111111111111111,
              "#46039f"
             ],
             [
              0.2222222222222222,
              "#7201a8"
             ],
             [
              0.3333333333333333,
              "#9c179e"
             ],
             [
              0.4444444444444444,
              "#bd3786"
             ],
             [
              0.5555555555555556,
              "#d8576b"
             ],
             [
              0.6666666666666666,
              "#ed7953"
             ],
             [
              0.7777777777777778,
              "#fb9f3a"
             ],
             [
              0.8888888888888888,
              "#fdca26"
             ],
             [
              1,
              "#f0f921"
             ]
            ],
            "type": "histogram2dcontour"
           }
          ],
          "mesh3d": [
           {
            "colorbar": {
             "outlinewidth": 0,
             "ticks": ""
            },
            "type": "mesh3d"
           }
          ],
          "parcoords": [
           {
            "line": {
             "colorbar": {
              "outlinewidth": 0,
              "ticks": ""
             }
            },
            "type": "parcoords"
           }
          ],
          "pie": [
           {
            "automargin": true,
            "type": "pie"
           }
          ],
          "scatter": [
           {
            "fillpattern": {
             "fillmode": "overlay",
             "size": 10,
             "solidity": 0.2
            },
            "type": "scatter"
           }
          ],
          "scatter3d": [
           {
            "line": {
             "colorbar": {
              "outlinewidth": 0,
              "ticks": ""
             }
            },
            "marker": {
             "colorbar": {
              "outlinewidth": 0,
              "ticks": ""
             }
            },
            "type": "scatter3d"
           }
          ],
          "scattercarpet": [
           {
            "marker": {
             "colorbar": {
              "outlinewidth": 0,
              "ticks": ""
             }
            },
            "type": "scattercarpet"
           }
          ],
          "scattergeo": [
           {
            "marker": {
             "colorbar": {
              "outlinewidth": 0,
              "ticks": ""
             }
            },
            "type": "scattergeo"
           }
          ],
          "scattergl": [
           {
            "marker": {
             "colorbar": {
              "outlinewidth": 0,
              "ticks": ""
             }
            },
            "type": "scattergl"
           }
          ],
          "scattermapbox": [
           {
            "marker": {
             "colorbar": {
              "outlinewidth": 0,
              "ticks": ""
             }
            },
            "type": "scattermapbox"
           }
          ],
          "scatterpolar": [
           {
            "marker": {
             "colorbar": {
              "outlinewidth": 0,
              "ticks": ""
             }
            },
            "type": "scatterpolar"
           }
          ],
          "scatterpolargl": [
           {
            "marker": {
             "colorbar": {
              "outlinewidth": 0,
              "ticks": ""
             }
            },
            "type": "scatterpolargl"
           }
          ],
          "scatterternary": [
           {
            "marker": {
             "colorbar": {
              "outlinewidth": 0,
              "ticks": ""
             }
            },
            "type": "scatterternary"
           }
          ],
          "surface": [
           {
            "colorbar": {
             "outlinewidth": 0,
             "ticks": ""
            },
            "colorscale": [
             [
              0,
              "#0d0887"
             ],
             [
              0.1111111111111111,
              "#46039f"
             ],
             [
              0.2222222222222222,
              "#7201a8"
             ],
             [
              0.3333333333333333,
              "#9c179e"
             ],
             [
              0.4444444444444444,
              "#bd3786"
             ],
             [
              0.5555555555555556,
              "#d8576b"
             ],
             [
              0.6666666666666666,
              "#ed7953"
             ],
             [
              0.7777777777777778,
              "#fb9f3a"
             ],
             [
              0.8888888888888888,
              "#fdca26"
             ],
             [
              1,
              "#f0f921"
             ]
            ],
            "type": "surface"
           }
          ],
          "table": [
           {
            "cells": {
             "fill": {
              "color": "#EBF0F8"
             },
             "line": {
              "color": "white"
             }
            },
            "header": {
             "fill": {
              "color": "#C8D4E3"
             },
             "line": {
              "color": "white"
             }
            },
            "type": "table"
           }
          ]
         },
         "layout": {
          "annotationdefaults": {
           "arrowcolor": "#2a3f5f",
           "arrowhead": 0,
           "arrowwidth": 1
          },
          "autotypenumbers": "strict",
          "coloraxis": {
           "colorbar": {
            "outlinewidth": 0,
            "ticks": ""
           }
          },
          "colorscale": {
           "diverging": [
            [
             0,
             "#8e0152"
            ],
            [
             0.1,
             "#c51b7d"
            ],
            [
             0.2,
             "#de77ae"
            ],
            [
             0.3,
             "#f1b6da"
            ],
            [
             0.4,
             "#fde0ef"
            ],
            [
             0.5,
             "#f7f7f7"
            ],
            [
             0.6,
             "#e6f5d0"
            ],
            [
             0.7,
             "#b8e186"
            ],
            [
             0.8,
             "#7fbc41"
            ],
            [
             0.9,
             "#4d9221"
            ],
            [
             1,
             "#276419"
            ]
           ],
           "sequential": [
            [
             0,
             "#0d0887"
            ],
            [
             0.1111111111111111,
             "#46039f"
            ],
            [
             0.2222222222222222,
             "#7201a8"
            ],
            [
             0.3333333333333333,
             "#9c179e"
            ],
            [
             0.4444444444444444,
             "#bd3786"
            ],
            [
             0.5555555555555556,
             "#d8576b"
            ],
            [
             0.6666666666666666,
             "#ed7953"
            ],
            [
             0.7777777777777778,
             "#fb9f3a"
            ],
            [
             0.8888888888888888,
             "#fdca26"
            ],
            [
             1,
             "#f0f921"
            ]
           ],
           "sequentialminus": [
            [
             0,
             "#0d0887"
            ],
            [
             0.1111111111111111,
             "#46039f"
            ],
            [
             0.2222222222222222,
             "#7201a8"
            ],
            [
             0.3333333333333333,
             "#9c179e"
            ],
            [
             0.4444444444444444,
             "#bd3786"
            ],
            [
             0.5555555555555556,
             "#d8576b"
            ],
            [
             0.6666666666666666,
             "#ed7953"
            ],
            [
             0.7777777777777778,
             "#fb9f3a"
            ],
            [
             0.8888888888888888,
             "#fdca26"
            ],
            [
             1,
             "#f0f921"
            ]
           ]
          },
          "colorway": [
           "#636efa",
           "#EF553B",
           "#00cc96",
           "#ab63fa",
           "#FFA15A",
           "#19d3f3",
           "#FF6692",
           "#B6E880",
           "#FF97FF",
           "#FECB52"
          ],
          "font": {
           "color": "#2a3f5f"
          },
          "geo": {
           "bgcolor": "white",
           "lakecolor": "white",
           "landcolor": "#E5ECF6",
           "showlakes": true,
           "showland": true,
           "subunitcolor": "white"
          },
          "hoverlabel": {
           "align": "left"
          },
          "hovermode": "closest",
          "mapbox": {
           "style": "light"
          },
          "paper_bgcolor": "white",
          "plot_bgcolor": "#E5ECF6",
          "polar": {
           "angularaxis": {
            "gridcolor": "white",
            "linecolor": "white",
            "ticks": ""
           },
           "bgcolor": "#E5ECF6",
           "radialaxis": {
            "gridcolor": "white",
            "linecolor": "white",
            "ticks": ""
           }
          },
          "scene": {
           "xaxis": {
            "backgroundcolor": "#E5ECF6",
            "gridcolor": "white",
            "gridwidth": 2,
            "linecolor": "white",
            "showbackground": true,
            "ticks": "",
            "zerolinecolor": "white"
           },
           "yaxis": {
            "backgroundcolor": "#E5ECF6",
            "gridcolor": "white",
            "gridwidth": 2,
            "linecolor": "white",
            "showbackground": true,
            "ticks": "",
            "zerolinecolor": "white"
           },
           "zaxis": {
            "backgroundcolor": "#E5ECF6",
            "gridcolor": "white",
            "gridwidth": 2,
            "linecolor": "white",
            "showbackground": true,
            "ticks": "",
            "zerolinecolor": "white"
           }
          },
          "shapedefaults": {
           "line": {
            "color": "#2a3f5f"
           }
          },
          "ternary": {
           "aaxis": {
            "gridcolor": "white",
            "linecolor": "white",
            "ticks": ""
           },
           "baxis": {
            "gridcolor": "white",
            "linecolor": "white",
            "ticks": ""
           },
           "bgcolor": "#E5ECF6",
           "caxis": {
            "gridcolor": "white",
            "linecolor": "white",
            "ticks": ""
           }
          },
          "title": {
           "x": 0.05
          },
          "xaxis": {
           "automargin": true,
           "gridcolor": "white",
           "linecolor": "white",
           "ticks": "",
           "title": {
            "standoff": 15
           },
           "zerolinecolor": "white",
           "zerolinewidth": 2
          },
          "yaxis": {
           "automargin": true,
           "gridcolor": "white",
           "linecolor": "white",
           "ticks": "",
           "title": {
            "standoff": 15
           },
           "zerolinecolor": "white",
           "zerolinewidth": 2
          }
         }
        },
        "width": 600,
        "xaxis": {
         "anchor": "y",
         "domain": [
          0,
          1
         ],
         "title": {
          "text": "FairlyActiveMinutes"
         }
        },
        "yaxis": {
         "anchor": "x",
         "domain": [
          0,
          1
         ],
         "title": {
          "text": "TotalMinutesAsleep"
         }
        }
       }
      }
     },
     "metadata": {},
     "output_type": "display_data"
    }
   ],
   "source": [
    "px.scatter(\n",
    "    merged_activity_sleep,\n",
    "    x='FairlyActiveMinutes',\n",
    "    y='TotalMinutesAsleep',\n",
    "    width=600\n",
    ")"
   ]
  },
  {
   "cell_type": "code",
   "execution_count": 48,
   "metadata": {},
   "outputs": [
    {
     "data": {
      "application/vnd.plotly.v1+json": {
       "config": {
        "plotlyServerURL": "https://plot.ly"
       },
       "data": [
        {
         "hovertemplate": "LightlyActiveMinutes=%{x}<br>TotalMinutesAsleep=%{y}<extra></extra>",
         "legendgroup": "",
         "marker": {
          "color": "#636efa",
          "symbol": "circle"
         },
         "mode": "markers",
         "name": "",
         "orientation": "v",
         "showlegend": false,
         "type": "scatter",
         "x": [
          328,
          217,
          209,
          221,
          164,
          264,
          205,
          211,
          262,
          238,
          216,
          279,
          189,
          243,
          217,
          246,
          277,
          254,
          250,
          289,
          175,
          203,
          206,
          214,
          251,
          120,
          402,
          148,
          295,
          176,
          184,
          75,
          55,
          32,
          51,
          192,
          95,
          181,
          238,
          197,
          188,
          150,
          60,
          141,
          327,
          153,
          162,
          432,
          164,
          260,
          286,
          331,
          352,
          233,
          191,
          355,
          345,
          475,
          383,
          229,
          258,
          401,
          17,
          330,
          343,
          242,
          195,
          206,
          284,
          249,
          206,
          382,
          208,
          206,
          360,
          360,
          277,
          227,
          295,
          229,
          4,
          131,
          153,
          214,
          183,
          153,
          205,
          214,
          221,
          164,
          242,
          188,
          252,
          129,
          133,
          170,
          176,
          190,
          150,
          194,
          124,
          176,
          258,
          142,
          178,
          168,
          208,
          171,
          196,
          331,
          55,
          174,
          346,
          196,
          177,
          263,
          206,
          339,
          228,
          194,
          58,
          311,
          306,
          34,
          176,
          233,
          191,
          390,
          288,
          300,
          359,
          289,
          196,
          67,
          344,
          287,
          314,
          279,
          153,
          374,
          329,
          311,
          2,
          299,
          253,
          201,
          239,
          249,
          228,
          272,
          220,
          215,
          239,
          224,
          241,
          234,
          300,
          241,
          204,
          251,
          199,
          199,
          260,
          178,
          258,
          267,
          256,
          196,
          194,
          231,
          350,
          225,
          114,
          121,
          137,
          215,
          317,
          179,
          180,
          194,
          236,
          226,
          290,
          240,
          200,
          233,
          180,
          185,
          229,
          108,
          308,
          266,
          231,
          232,
          58,
          432,
          283,
          197,
          190,
          238,
          263,
          258,
          271,
          256,
          335,
          302,
          191,
          179,
          260,
          144,
          408,
          281,
          270,
          216,
          238,
          232,
          267,
          263,
          313,
          251,
          241,
          207,
          439,
          439,
          253,
          262,
          235,
          68,
          277,
          226,
          256,
          239,
          288,
          46,
          206,
          249,
          148,
          177,
          270,
          272,
          104,
          201,
          238,
          206,
          165,
          270,
          84,
          237,
          227,
          247,
          224,
          241,
          229,
          96,
          210,
          251,
          265,
          195,
          48,
          140,
          144,
          176,
          199,
          158,
          159,
          130,
          111,
          113,
          175,
          200,
          223,
          141,
          214,
          181,
          190,
          141,
          165,
          163,
          178,
          235,
          212,
          141,
          143,
          194,
          63,
          518,
          312,
          241,
          480,
          349,
          294,
          402,
          512,
          362,
          458,
          141,
          461,
          397,
          487,
          133,
          412,
          318,
          197,
          85,
          105,
          58,
          189,
          142,
          86,
          217,
          280,
          295,
          238,
          195,
          297,
          214,
          240,
          347,
          199,
          282,
          254,
          279,
          288,
          369,
          237,
          215,
          313,
          267,
          284,
          305,
          299,
          328,
          151,
          231,
          275,
          199,
          105,
          203,
          237,
          153,
          155,
          189,
          139,
          124,
          145,
          206,
          153,
          125,
          129,
          132,
          145,
          161,
          308,
          258,
          139,
          152,
          135,
          154,
          209,
          147,
          171,
          128,
          58,
          158,
          223,
          148,
          156,
          169,
          174,
          190,
          142,
          93,
          174,
          154,
          169,
          145,
          159,
          136,
          135,
          141,
          141,
          161,
          192,
          139,
          172,
          121,
          127,
          142,
          195,
          167,
          214,
          166,
          158,
          139,
          171,
          152,
          184,
          102,
          116,
          82,
          84,
          126,
          139,
          195,
          232,
          112,
          310,
          380,
          301,
          79,
          101,
          156,
          129
         ],
         "xaxis": "x",
         "y": [
          327,
          384,
          412,
          340,
          700,
          304,
          360,
          325,
          361,
          430,
          277,
          245,
          366,
          341,
          404,
          369,
          277,
          273,
          247,
          334,
          331,
          594,
          338,
          383,
          285,
          119,
          124,
          796,
          137,
          644,
          722,
          590,
          750,
          398,
          475,
          296,
          166,
          503,
          531,
          545,
          523,
          524,
          437,
          498,
          461,
          477,
          520,
          522,
          555,
          506,
          508,
          513,
          490,
          573,
          527,
          511,
          538,
          468,
          524,
          511,
          541,
          531,
          357,
          523,
          456,
          61,
          467,
          445,
          452,
          556,
          500,
          465,
          460,
          405,
          374,
          442,
          433,
          436,
          448,
          408,
          411,
          274,
          295,
          291,
          424,
          283,
          381,
          412,
          219,
          152,
          332,
          355,
          235,
          310,
          262,
          250,
          349,
          261,
          333,
          237,
          383,
          230,
          292,
          213,
          318,
          323,
          237,
          259,
          312,
          501,
          77,
          322,
          478,
          226,
          385,
          364,
          442,
          535,
          465,
          506,
          515,
          461,
          523,
          59,
          533,
          692,
          467,
          488,
          505,
          286,
          497,
          523,
          490,
          484,
          478,
          474,
          450,
          507,
          602,
          535,
          487,
          529,
          302,
          499,
          426,
          619,
          99,
          329,
          421,
          442,
          82,
          478,
          552,
          319,
          439,
          428,
          409,
          547,
          368,
          390,
          471,
          471,
          472,
          529,
          62,
          354,
          469,
          429,
          370,
          441,
          337,
          462,
          98,
          388,
          439,
          436,
          388,
          328,
          353,
          332,
          419,
          106,
          322,
          439,
          502,
          417,
          337,
          462,
          374,
          401,
          361,
          457,
          405,
          499,
          483,
          126,
          103,
          171,
          115,
          123,
          425,
          400,
          384,
          253,
          382,
          591,
          293,
          457,
          454,
          425,
          465,
          480,
          370,
          421,
          432,
          442,
          433,
          479,
          327,
          412,
          414,
          404,
          520,
          520,
          435,
          416,
          354,
          404,
          441,
          455,
          357,
          377,
          651,
          350,
          520,
          357,
          658,
          399,
          322,
          631,
          553,
          433,
          412,
          347,
          421,
          450,
          775,
          622,
          409,
          380,
          447,
          419,
          400,
          442,
          568,
          453,
          418,
          463,
          438,
          419,
          432,
          477,
          392,
          406,
          549,
          527,
          449,
          447,
          414,
          338,
          384,
          543,
          421,
          354,
          424,
          361,
          459,
          412,
          379,
          525,
          508,
          603,
          74,
          504,
          431,
          380,
          336,
          493,
          465,
          474,
          508,
          480,
          492,
          353,
          542,
          393,
          600,
          507,
          392,
          658,
          498,
          555,
          492,
          235,
          423,
          391,
          366,
          630,
          508,
          370,
          357,
          427,
          442,
          476,
          418,
          451,
          425,
          528,
          511,
          400,
          441,
          455,
          440,
          433,
          422,
          411,
          466,
          394,
          442,
          467,
          443,
          298,
          541,
          489,
          469,
          452,
          516,
          79,
          58,
          514,
          451,
          472,
          377,
          472,
          492,
          390,
          428,
          681,
          446,
          485,
          469,
          354,
          485,
          388,
          440,
          456,
          420,
          322,
          530,
          481,
          427,
          451,
          444,
          486,
          331,
          74,
          338,
          447,
          424,
          513,
          611,
          525,
          398,
          387,
          381,
          396,
          441,
          565,
          458,
          388,
          388,
          550,
          531,
          506,
          527,
          468,
          475,
          351,
          405,
          441,
          381,
          323,
          459,
          545,
          359,
          342,
          368,
          496,
          458,
          531,
          486,
          363,
          528,
          391,
          339,
          423,
          402,
          398,
          343,
          503,
          415,
          516,
          439
         ],
         "yaxis": "y"
        }
       ],
       "layout": {
        "legend": {
         "tracegroupgap": 0
        },
        "margin": {
         "t": 60
        },
        "template": {
         "data": {
          "bar": [
           {
            "error_x": {
             "color": "#2a3f5f"
            },
            "error_y": {
             "color": "#2a3f5f"
            },
            "marker": {
             "line": {
              "color": "#E5ECF6",
              "width": 0.5
             },
             "pattern": {
              "fillmode": "overlay",
              "size": 10,
              "solidity": 0.2
             }
            },
            "type": "bar"
           }
          ],
          "barpolar": [
           {
            "marker": {
             "line": {
              "color": "#E5ECF6",
              "width": 0.5
             },
             "pattern": {
              "fillmode": "overlay",
              "size": 10,
              "solidity": 0.2
             }
            },
            "type": "barpolar"
           }
          ],
          "carpet": [
           {
            "aaxis": {
             "endlinecolor": "#2a3f5f",
             "gridcolor": "white",
             "linecolor": "white",
             "minorgridcolor": "white",
             "startlinecolor": "#2a3f5f"
            },
            "baxis": {
             "endlinecolor": "#2a3f5f",
             "gridcolor": "white",
             "linecolor": "white",
             "minorgridcolor": "white",
             "startlinecolor": "#2a3f5f"
            },
            "type": "carpet"
           }
          ],
          "choropleth": [
           {
            "colorbar": {
             "outlinewidth": 0,
             "ticks": ""
            },
            "type": "choropleth"
           }
          ],
          "contour": [
           {
            "colorbar": {
             "outlinewidth": 0,
             "ticks": ""
            },
            "colorscale": [
             [
              0,
              "#0d0887"
             ],
             [
              0.1111111111111111,
              "#46039f"
             ],
             [
              0.2222222222222222,
              "#7201a8"
             ],
             [
              0.3333333333333333,
              "#9c179e"
             ],
             [
              0.4444444444444444,
              "#bd3786"
             ],
             [
              0.5555555555555556,
              "#d8576b"
             ],
             [
              0.6666666666666666,
              "#ed7953"
             ],
             [
              0.7777777777777778,
              "#fb9f3a"
             ],
             [
              0.8888888888888888,
              "#fdca26"
             ],
             [
              1,
              "#f0f921"
             ]
            ],
            "type": "contour"
           }
          ],
          "contourcarpet": [
           {
            "colorbar": {
             "outlinewidth": 0,
             "ticks": ""
            },
            "type": "contourcarpet"
           }
          ],
          "heatmap": [
           {
            "colorbar": {
             "outlinewidth": 0,
             "ticks": ""
            },
            "colorscale": [
             [
              0,
              "#0d0887"
             ],
             [
              0.1111111111111111,
              "#46039f"
             ],
             [
              0.2222222222222222,
              "#7201a8"
             ],
             [
              0.3333333333333333,
              "#9c179e"
             ],
             [
              0.4444444444444444,
              "#bd3786"
             ],
             [
              0.5555555555555556,
              "#d8576b"
             ],
             [
              0.6666666666666666,
              "#ed7953"
             ],
             [
              0.7777777777777778,
              "#fb9f3a"
             ],
             [
              0.8888888888888888,
              "#fdca26"
             ],
             [
              1,
              "#f0f921"
             ]
            ],
            "type": "heatmap"
           }
          ],
          "heatmapgl": [
           {
            "colorbar": {
             "outlinewidth": 0,
             "ticks": ""
            },
            "colorscale": [
             [
              0,
              "#0d0887"
             ],
             [
              0.1111111111111111,
              "#46039f"
             ],
             [
              0.2222222222222222,
              "#7201a8"
             ],
             [
              0.3333333333333333,
              "#9c179e"
             ],
             [
              0.4444444444444444,
              "#bd3786"
             ],
             [
              0.5555555555555556,
              "#d8576b"
             ],
             [
              0.6666666666666666,
              "#ed7953"
             ],
             [
              0.7777777777777778,
              "#fb9f3a"
             ],
             [
              0.8888888888888888,
              "#fdca26"
             ],
             [
              1,
              "#f0f921"
             ]
            ],
            "type": "heatmapgl"
           }
          ],
          "histogram": [
           {
            "marker": {
             "pattern": {
              "fillmode": "overlay",
              "size": 10,
              "solidity": 0.2
             }
            },
            "type": "histogram"
           }
          ],
          "histogram2d": [
           {
            "colorbar": {
             "outlinewidth": 0,
             "ticks": ""
            },
            "colorscale": [
             [
              0,
              "#0d0887"
             ],
             [
              0.1111111111111111,
              "#46039f"
             ],
             [
              0.2222222222222222,
              "#7201a8"
             ],
             [
              0.3333333333333333,
              "#9c179e"
             ],
             [
              0.4444444444444444,
              "#bd3786"
             ],
             [
              0.5555555555555556,
              "#d8576b"
             ],
             [
              0.6666666666666666,
              "#ed7953"
             ],
             [
              0.7777777777777778,
              "#fb9f3a"
             ],
             [
              0.8888888888888888,
              "#fdca26"
             ],
             [
              1,
              "#f0f921"
             ]
            ],
            "type": "histogram2d"
           }
          ],
          "histogram2dcontour": [
           {
            "colorbar": {
             "outlinewidth": 0,
             "ticks": ""
            },
            "colorscale": [
             [
              0,
              "#0d0887"
             ],
             [
              0.1111111111111111,
              "#46039f"
             ],
             [
              0.2222222222222222,
              "#7201a8"
             ],
             [
              0.3333333333333333,
              "#9c179e"
             ],
             [
              0.4444444444444444,
              "#bd3786"
             ],
             [
              0.5555555555555556,
              "#d8576b"
             ],
             [
              0.6666666666666666,
              "#ed7953"
             ],
             [
              0.7777777777777778,
              "#fb9f3a"
             ],
             [
              0.8888888888888888,
              "#fdca26"
             ],
             [
              1,
              "#f0f921"
             ]
            ],
            "type": "histogram2dcontour"
           }
          ],
          "mesh3d": [
           {
            "colorbar": {
             "outlinewidth": 0,
             "ticks": ""
            },
            "type": "mesh3d"
           }
          ],
          "parcoords": [
           {
            "line": {
             "colorbar": {
              "outlinewidth": 0,
              "ticks": ""
             }
            },
            "type": "parcoords"
           }
          ],
          "pie": [
           {
            "automargin": true,
            "type": "pie"
           }
          ],
          "scatter": [
           {
            "fillpattern": {
             "fillmode": "overlay",
             "size": 10,
             "solidity": 0.2
            },
            "type": "scatter"
           }
          ],
          "scatter3d": [
           {
            "line": {
             "colorbar": {
              "outlinewidth": 0,
              "ticks": ""
             }
            },
            "marker": {
             "colorbar": {
              "outlinewidth": 0,
              "ticks": ""
             }
            },
            "type": "scatter3d"
           }
          ],
          "scattercarpet": [
           {
            "marker": {
             "colorbar": {
              "outlinewidth": 0,
              "ticks": ""
             }
            },
            "type": "scattercarpet"
           }
          ],
          "scattergeo": [
           {
            "marker": {
             "colorbar": {
              "outlinewidth": 0,
              "ticks": ""
             }
            },
            "type": "scattergeo"
           }
          ],
          "scattergl": [
           {
            "marker": {
             "colorbar": {
              "outlinewidth": 0,
              "ticks": ""
             }
            },
            "type": "scattergl"
           }
          ],
          "scattermapbox": [
           {
            "marker": {
             "colorbar": {
              "outlinewidth": 0,
              "ticks": ""
             }
            },
            "type": "scattermapbox"
           }
          ],
          "scatterpolar": [
           {
            "marker": {
             "colorbar": {
              "outlinewidth": 0,
              "ticks": ""
             }
            },
            "type": "scatterpolar"
           }
          ],
          "scatterpolargl": [
           {
            "marker": {
             "colorbar": {
              "outlinewidth": 0,
              "ticks": ""
             }
            },
            "type": "scatterpolargl"
           }
          ],
          "scatterternary": [
           {
            "marker": {
             "colorbar": {
              "outlinewidth": 0,
              "ticks": ""
             }
            },
            "type": "scatterternary"
           }
          ],
          "surface": [
           {
            "colorbar": {
             "outlinewidth": 0,
             "ticks": ""
            },
            "colorscale": [
             [
              0,
              "#0d0887"
             ],
             [
              0.1111111111111111,
              "#46039f"
             ],
             [
              0.2222222222222222,
              "#7201a8"
             ],
             [
              0.3333333333333333,
              "#9c179e"
             ],
             [
              0.4444444444444444,
              "#bd3786"
             ],
             [
              0.5555555555555556,
              "#d8576b"
             ],
             [
              0.6666666666666666,
              "#ed7953"
             ],
             [
              0.7777777777777778,
              "#fb9f3a"
             ],
             [
              0.8888888888888888,
              "#fdca26"
             ],
             [
              1,
              "#f0f921"
             ]
            ],
            "type": "surface"
           }
          ],
          "table": [
           {
            "cells": {
             "fill": {
              "color": "#EBF0F8"
             },
             "line": {
              "color": "white"
             }
            },
            "header": {
             "fill": {
              "color": "#C8D4E3"
             },
             "line": {
              "color": "white"
             }
            },
            "type": "table"
           }
          ]
         },
         "layout": {
          "annotationdefaults": {
           "arrowcolor": "#2a3f5f",
           "arrowhead": 0,
           "arrowwidth": 1
          },
          "autotypenumbers": "strict",
          "coloraxis": {
           "colorbar": {
            "outlinewidth": 0,
            "ticks": ""
           }
          },
          "colorscale": {
           "diverging": [
            [
             0,
             "#8e0152"
            ],
            [
             0.1,
             "#c51b7d"
            ],
            [
             0.2,
             "#de77ae"
            ],
            [
             0.3,
             "#f1b6da"
            ],
            [
             0.4,
             "#fde0ef"
            ],
            [
             0.5,
             "#f7f7f7"
            ],
            [
             0.6,
             "#e6f5d0"
            ],
            [
             0.7,
             "#b8e186"
            ],
            [
             0.8,
             "#7fbc41"
            ],
            [
             0.9,
             "#4d9221"
            ],
            [
             1,
             "#276419"
            ]
           ],
           "sequential": [
            [
             0,
             "#0d0887"
            ],
            [
             0.1111111111111111,
             "#46039f"
            ],
            [
             0.2222222222222222,
             "#7201a8"
            ],
            [
             0.3333333333333333,
             "#9c179e"
            ],
            [
             0.4444444444444444,
             "#bd3786"
            ],
            [
             0.5555555555555556,
             "#d8576b"
            ],
            [
             0.6666666666666666,
             "#ed7953"
            ],
            [
             0.7777777777777778,
             "#fb9f3a"
            ],
            [
             0.8888888888888888,
             "#fdca26"
            ],
            [
             1,
             "#f0f921"
            ]
           ],
           "sequentialminus": [
            [
             0,
             "#0d0887"
            ],
            [
             0.1111111111111111,
             "#46039f"
            ],
            [
             0.2222222222222222,
             "#7201a8"
            ],
            [
             0.3333333333333333,
             "#9c179e"
            ],
            [
             0.4444444444444444,
             "#bd3786"
            ],
            [
             0.5555555555555556,
             "#d8576b"
            ],
            [
             0.6666666666666666,
             "#ed7953"
            ],
            [
             0.7777777777777778,
             "#fb9f3a"
            ],
            [
             0.8888888888888888,
             "#fdca26"
            ],
            [
             1,
             "#f0f921"
            ]
           ]
          },
          "colorway": [
           "#636efa",
           "#EF553B",
           "#00cc96",
           "#ab63fa",
           "#FFA15A",
           "#19d3f3",
           "#FF6692",
           "#B6E880",
           "#FF97FF",
           "#FECB52"
          ],
          "font": {
           "color": "#2a3f5f"
          },
          "geo": {
           "bgcolor": "white",
           "lakecolor": "white",
           "landcolor": "#E5ECF6",
           "showlakes": true,
           "showland": true,
           "subunitcolor": "white"
          },
          "hoverlabel": {
           "align": "left"
          },
          "hovermode": "closest",
          "mapbox": {
           "style": "light"
          },
          "paper_bgcolor": "white",
          "plot_bgcolor": "#E5ECF6",
          "polar": {
           "angularaxis": {
            "gridcolor": "white",
            "linecolor": "white",
            "ticks": ""
           },
           "bgcolor": "#E5ECF6",
           "radialaxis": {
            "gridcolor": "white",
            "linecolor": "white",
            "ticks": ""
           }
          },
          "scene": {
           "xaxis": {
            "backgroundcolor": "#E5ECF6",
            "gridcolor": "white",
            "gridwidth": 2,
            "linecolor": "white",
            "showbackground": true,
            "ticks": "",
            "zerolinecolor": "white"
           },
           "yaxis": {
            "backgroundcolor": "#E5ECF6",
            "gridcolor": "white",
            "gridwidth": 2,
            "linecolor": "white",
            "showbackground": true,
            "ticks": "",
            "zerolinecolor": "white"
           },
           "zaxis": {
            "backgroundcolor": "#E5ECF6",
            "gridcolor": "white",
            "gridwidth": 2,
            "linecolor": "white",
            "showbackground": true,
            "ticks": "",
            "zerolinecolor": "white"
           }
          },
          "shapedefaults": {
           "line": {
            "color": "#2a3f5f"
           }
          },
          "ternary": {
           "aaxis": {
            "gridcolor": "white",
            "linecolor": "white",
            "ticks": ""
           },
           "baxis": {
            "gridcolor": "white",
            "linecolor": "white",
            "ticks": ""
           },
           "bgcolor": "#E5ECF6",
           "caxis": {
            "gridcolor": "white",
            "linecolor": "white",
            "ticks": ""
           }
          },
          "title": {
           "x": 0.05
          },
          "xaxis": {
           "automargin": true,
           "gridcolor": "white",
           "linecolor": "white",
           "ticks": "",
           "title": {
            "standoff": 15
           },
           "zerolinecolor": "white",
           "zerolinewidth": 2
          },
          "yaxis": {
           "automargin": true,
           "gridcolor": "white",
           "linecolor": "white",
           "ticks": "",
           "title": {
            "standoff": 15
           },
           "zerolinecolor": "white",
           "zerolinewidth": 2
          }
         }
        },
        "width": 600,
        "xaxis": {
         "anchor": "y",
         "domain": [
          0,
          1
         ],
         "title": {
          "text": "LightlyActiveMinutes"
         }
        },
        "yaxis": {
         "anchor": "x",
         "domain": [
          0,
          1
         ],
         "title": {
          "text": "TotalMinutesAsleep"
         }
        }
       }
      }
     },
     "metadata": {},
     "output_type": "display_data"
    }
   ],
   "source": [
    "px.scatter(\n",
    "    merged_activity_sleep,\n",
    "    x='LightlyActiveMinutes',\n",
    "    y='TotalMinutesAsleep',\n",
    "    width=600\n",
    ")"
   ]
  },
  {
   "cell_type": "code",
   "execution_count": 73,
   "metadata": {},
   "outputs": [
    {
     "data": {
      "application/vnd.plotly.v1+json": {
       "config": {
        "plotlyServerURL": "https://plot.ly"
       },
       "data": [
        {
         "hovertemplate": "SedentaryMinutes=%{x}<br>TotalMinutesAsleep=%{y}<extra></extra>",
         "legendgroup": "",
         "marker": {
          "color": "#636efa",
          "symbol": "circle"
         },
         "mode": "markers",
         "name": "",
         "orientation": "v",
         "showlegend": false,
         "type": "scatter",
         "x": [
          728,
          776,
          726,
          773,
          539,
          775,
          818,
          838,
          732,
          709,
          814,
          833,
          782,
          815,
          712,
          730,
          798,
          816,
          857,
          754,
          833,
          574,
          835,
          746,
          669,
          1193,
          816,
          682,
          991,
          527,
          218,
          585,
          734,
          986,
          941,
          1058,
          1167,
          706,
          663,
          653,
          687,
          728,
          1053,
          785,
          623,
          749,
          712,
          458,
          704,
          821,
          586,
          626,
          492,
          594,
          716,
          716,
          530,
          479,
          511,
          665,
          610,
          543,
          1002,
          569,
          330,
          1129,
          676,
          705,
          720,
          508,
          678,
          648,
          761,
          781,
          591,
          584,
          653,
          732,
          623,
          764,
          2,
          777,
          754,
          801,
          644,
          663,
          600,
          605,
          738,
          845,
          712,
          731,
          724,
          660,
          781,
          797,
          714,
          804,
          744,
          687,
          691,
          713,
          594,
          852,
          680,
          676,
          703,
          688,
          676,
          712,
          1222,
          950,
          531,
          916,
          855,
          775,
          774,
          589,
          752,
          724,
          824,
          604,
          671,
          1265,
          709,
          546,
          692,
          544,
          649,
          680,
          552,
          624,
          695,
          836,
          585,
          669,
          692,
          586,
          603,
          490,
          555,
          574,
          0,
          837,
          609,
          721,
          1017,
          704,
          696,
          853,
          945,
          749,
          584,
          673,
          684,
          878,
          537,
          579,
          935,
          632,
          896,
          896,
          508,
          576,
          1020,
          648,
          858,
          787,
          840,
          717,
          711,
          716,
          1219,
          895,
          841,
          756,
          706,
          916,
          839,
          839,
          762,
          1106,
          797,
          741,
          667,
          725,
          897,
          734,
          809,
          866,
          733,
          641,
          783,
          622,
          380,
          844,
          1062,
          1096,
          1121,
          1019,
          718,
          777,
          772,
          944,
          556,
          437,
          890,
          757,
          717,
          901,
          469,
          542,
          730,
          765,
          733,
          738,
          692,
          728,
          729,
          757,
          745,
          682,
          577,
          577,
          746,
          701,
          784,
          241,
          767,
          647,
          693,
          689,
          521,
          943,
          622,
          756,
          598,
          801,
          781,
          443,
          582,
          732,
          750,
          745,
          727,
          709,
          506,
          436,
          724,
          812,
          651,
          692,
          761,
          902,
          505,
          667,
          707,
          628,
          222,
          728,
          776,
          662,
          695,
          472,
          525,
          623,
          733,
          773,
          670,
          823,
          627,
          425,
          743,
          759,
          773,
          692,
          739,
          621,
          499,
          732,
          580,
          631,
          1153,
          639,
          257,
          502,
          702,
          759,
          425,
          587,
          579,
          413,
          468,
          711,
          417,
          758,
          479,
          525,
          479,
          673,
          456,
          517,
          125,
          1053,
          863,
          976,
          796,
          548,
          862,
          837,
          741,
          634,
          689,
          659,
          639,
          708,
          659,
          484,
          720,
          637,
          680,
          697,
          621,
          645,
          731,
          722,
          655,
          654,
          683,
          591,
          717,
          745,
          709,
          607,
          626,
          709,
          127,
          1155,
          1142,
          745,
          744,
          787,
          864,
          671,
          797,
          758,
          762,
          566,
          706,
          726,
          829,
          810,
          584,
          685,
          737,
          761,
          843,
          834,
          621,
          695,
          743,
          757,
          343,
          695,
          741,
          1076,
          723,
          680,
          699,
          729,
          563,
          599,
          720,
          737,
          763,
          677,
          769,
          740,
          734,
          692,
          692,
          593,
          676,
          711,
          767,
          780,
          669,
          802,
          822,
          680,
          764,
          831,
          851,
          621,
          772,
          840,
          763,
          433,
          831,
          806,
          853,
          937,
          744,
          817,
          795,
          900,
          714,
          634,
          749,
          834,
          916,
          739,
          848
         ],
         "xaxis": "x",
         "y": [
          327,
          384,
          412,
          340,
          700,
          304,
          360,
          325,
          361,
          430,
          277,
          245,
          366,
          341,
          404,
          369,
          277,
          273,
          247,
          334,
          331,
          594,
          338,
          383,
          285,
          119,
          124,
          796,
          137,
          644,
          722,
          590,
          750,
          398,
          475,
          296,
          166,
          503,
          531,
          545,
          523,
          524,
          437,
          498,
          461,
          477,
          520,
          522,
          555,
          506,
          508,
          513,
          490,
          573,
          527,
          511,
          538,
          468,
          524,
          511,
          541,
          531,
          357,
          523,
          456,
          61,
          467,
          445,
          452,
          556,
          500,
          465,
          460,
          405,
          374,
          442,
          433,
          436,
          448,
          408,
          411,
          274,
          295,
          291,
          424,
          283,
          381,
          412,
          219,
          152,
          332,
          355,
          235,
          310,
          262,
          250,
          349,
          261,
          333,
          237,
          383,
          230,
          292,
          213,
          318,
          323,
          237,
          259,
          312,
          501,
          77,
          322,
          478,
          226,
          385,
          364,
          442,
          535,
          465,
          506,
          515,
          461,
          523,
          59,
          533,
          692,
          467,
          488,
          505,
          286,
          497,
          523,
          490,
          484,
          478,
          474,
          450,
          507,
          602,
          535,
          487,
          529,
          302,
          499,
          426,
          619,
          99,
          329,
          421,
          442,
          82,
          478,
          552,
          319,
          439,
          428,
          409,
          547,
          368,
          390,
          471,
          471,
          472,
          529,
          62,
          354,
          469,
          429,
          370,
          441,
          337,
          462,
          98,
          388,
          439,
          436,
          388,
          328,
          353,
          332,
          419,
          106,
          322,
          439,
          502,
          417,
          337,
          462,
          374,
          401,
          361,
          457,
          405,
          499,
          483,
          126,
          103,
          171,
          115,
          123,
          425,
          400,
          384,
          253,
          382,
          591,
          293,
          457,
          454,
          425,
          465,
          480,
          370,
          421,
          432,
          442,
          433,
          479,
          327,
          412,
          414,
          404,
          520,
          520,
          435,
          416,
          354,
          404,
          441,
          455,
          357,
          377,
          651,
          350,
          520,
          357,
          658,
          399,
          322,
          631,
          553,
          433,
          412,
          347,
          421,
          450,
          775,
          622,
          409,
          380,
          447,
          419,
          400,
          442,
          568,
          453,
          418,
          463,
          438,
          419,
          432,
          477,
          392,
          406,
          549,
          527,
          449,
          447,
          414,
          338,
          384,
          543,
          421,
          354,
          424,
          361,
          459,
          412,
          379,
          525,
          508,
          603,
          74,
          504,
          431,
          380,
          336,
          493,
          465,
          474,
          508,
          480,
          492,
          353,
          542,
          393,
          600,
          507,
          392,
          658,
          498,
          555,
          492,
          235,
          423,
          391,
          366,
          630,
          508,
          370,
          357,
          427,
          442,
          476,
          418,
          451,
          425,
          528,
          511,
          400,
          441,
          455,
          440,
          433,
          422,
          411,
          466,
          394,
          442,
          467,
          443,
          298,
          541,
          489,
          469,
          452,
          516,
          79,
          58,
          514,
          451,
          472,
          377,
          472,
          492,
          390,
          428,
          681,
          446,
          485,
          469,
          354,
          485,
          388,
          440,
          456,
          420,
          322,
          530,
          481,
          427,
          451,
          444,
          486,
          331,
          74,
          338,
          447,
          424,
          513,
          611,
          525,
          398,
          387,
          381,
          396,
          441,
          565,
          458,
          388,
          388,
          550,
          531,
          506,
          527,
          468,
          475,
          351,
          405,
          441,
          381,
          323,
          459,
          545,
          359,
          342,
          368,
          496,
          458,
          531,
          486,
          363,
          528,
          391,
          339,
          423,
          402,
          398,
          343,
          503,
          415,
          516,
          439
         ],
         "yaxis": "y"
        },
        {
         "hovertemplate": "<b>OLS trendline</b><br>TotalMinutesAsleep = -0.427429 * SedentaryMinutes + 723.87<br>R<sup>2</sup>=0.359273<br><br>SedentaryMinutes=%{x}<br>TotalMinutesAsleep=%{y} <b>(trend)</b><extra></extra>",
         "legendgroup": "",
         "marker": {
          "color": "#636efa",
          "symbol": "circle"
         },
         "mode": "lines",
         "name": "",
         "showlegend": false,
         "type": "scatter",
         "x": [
          0,
          2,
          125,
          127,
          218,
          222,
          241,
          257,
          330,
          343,
          380,
          413,
          417,
          425,
          425,
          433,
          436,
          437,
          443,
          456,
          458,
          468,
          469,
          472,
          479,
          479,
          479,
          484,
          490,
          492,
          499,
          502,
          505,
          506,
          508,
          508,
          511,
          517,
          521,
          525,
          525,
          527,
          530,
          531,
          537,
          539,
          542,
          543,
          544,
          546,
          548,
          552,
          555,
          556,
          563,
          566,
          569,
          574,
          574,
          576,
          577,
          577,
          579,
          579,
          580,
          582,
          584,
          584,
          584,
          585,
          585,
          586,
          586,
          587,
          589,
          591,
          591,
          593,
          594,
          594,
          598,
          599,
          600,
          603,
          604,
          605,
          607,
          609,
          610,
          621,
          621,
          621,
          621,
          622,
          622,
          623,
          623,
          623,
          624,
          626,
          626,
          627,
          628,
          631,
          632,
          634,
          634,
          637,
          639,
          639,
          641,
          644,
          645,
          647,
          648,
          648,
          649,
          651,
          653,
          653,
          654,
          655,
          659,
          659,
          660,
          662,
          663,
          663,
          665,
          667,
          667,
          669,
          669,
          669,
          670,
          671,
          671,
          673,
          673,
          676,
          676,
          676,
          676,
          677,
          678,
          680,
          680,
          680,
          680,
          680,
          682,
          682,
          683,
          684,
          685,
          687,
          687,
          688,
          689,
          689,
          691,
          692,
          692,
          692,
          692,
          692,
          692,
          692,
          693,
          695,
          695,
          695,
          695,
          696,
          697,
          699,
          701,
          702,
          703,
          704,
          704,
          705,
          706,
          706,
          706,
          707,
          708,
          709,
          709,
          709,
          709,
          709,
          711,
          711,
          711,
          712,
          712,
          712,
          712,
          713,
          714,
          714,
          716,
          716,
          716,
          717,
          717,
          717,
          718,
          720,
          720,
          720,
          721,
          722,
          723,
          724,
          724,
          724,
          725,
          726,
          726,
          727,
          728,
          728,
          728,
          728,
          729,
          729,
          730,
          730,
          731,
          731,
          732,
          732,
          732,
          732,
          733,
          733,
          733,
          734,
          734,
          734,
          737,
          737,
          738,
          738,
          739,
          739,
          740,
          741,
          741,
          741,
          743,
          743,
          744,
          744,
          744,
          745,
          745,
          745,
          745,
          746,
          746,
          749,
          749,
          749,
          750,
          752,
          754,
          754,
          756,
          756,
          757,
          757,
          757,
          758,
          758,
          759,
          759,
          761,
          761,
          761,
          762,
          762,
          763,
          763,
          764,
          764,
          765,
          767,
          767,
          769,
          772,
          772,
          773,
          773,
          773,
          774,
          775,
          775,
          776,
          776,
          777,
          777,
          780,
          781,
          781,
          781,
          782,
          783,
          784,
          785,
          787,
          787,
          795,
          796,
          797,
          797,
          797,
          798,
          801,
          801,
          802,
          804,
          806,
          809,
          810,
          812,
          814,
          815,
          816,
          816,
          817,
          818,
          821,
          822,
          823,
          824,
          829,
          831,
          831,
          833,
          833,
          834,
          834,
          835,
          836,
          837,
          837,
          838,
          839,
          839,
          840,
          840,
          841,
          843,
          844,
          845,
          848,
          851,
          852,
          853,
          853,
          855,
          857,
          858,
          862,
          863,
          864,
          866,
          878,
          890,
          895,
          896,
          896,
          897,
          900,
          901,
          902,
          916,
          916,
          916,
          935,
          937,
          941,
          943,
          944,
          945,
          950,
          976,
          986,
          991,
          1002,
          1017,
          1019,
          1020,
          1053,
          1053,
          1058,
          1062,
          1076,
          1096,
          1106,
          1121,
          1129,
          1142,
          1153,
          1155,
          1167,
          1193,
          1219,
          1222,
          1265
         ],
         "xaxis": "x",
         "y": [
          723.8695155852485,
          723.0146567156708,
          670.4408362366412,
          669.5859773670635,
          630.6898988012773,
          628.9801810621219,
          620.8590218011336,
          614.0201508445118,
          582.8178021049252,
          577.26121945267,
          561.4463303654823,
          547.34115901745,
          545.6314412782946,
          542.2120057999837,
          542.2120057999837,
          538.7925703216728,
          537.5102820173063,
          537.0828525825174,
          534.5182759737843,
          528.9616933215291,
          528.1068344519514,
          523.8325401040628,
          523.4051106692739,
          522.1228223649073,
          519.1308163213853,
          519.1308163213853,
          519.1308163213853,
          516.9936691474411,
          514.4290925387079,
          513.5742336691302,
          510.58222762560814,
          509.2999393212416,
          508.017651016875,
          507.59022158208614,
          506.7353627125084,
          506.7353627125084,
          505.45307440814184,
          502.8884977994087,
          501.1787800602533,
          499.46906232109785,
          499.46906232109785,
          498.6142034515201,
          497.33191514715355,
          496.9044857123647,
          494.3399091036315,
          493.4850502340538,
          492.20276192968726,
          491.7753324948984,
          491.3479030601095,
          490.4930441905318,
          489.6381853209541,
          487.92846758179866,
          486.6461792774321,
          486.2187498426432,
          483.2267437991212,
          481.9444554947546,
          480.66216719038806,
          478.5250200164438,
          478.5250200164438,
          477.67016114686606,
          477.2427317120772,
          477.2427317120772,
          476.3878728424995,
          476.3878728424995,
          475.9604434077106,
          475.1055845381329,
          474.2507256685552,
          474.2507256685552,
          474.2507256685552,
          473.8232962337663,
          473.8232962337663,
          473.3958667989775,
          473.3958667989775,
          472.9684373641886,
          472.1135784946109,
          471.2587196250332,
          471.2587196250332,
          470.40386075545547,
          469.9764313206666,
          469.9764313206666,
          468.26671358151117,
          467.8392841467223,
          467.4118547119335,
          466.12956640756687,
          465.702136972778,
          465.2747075379892,
          464.4198486684115,
          463.5649897988337,
          463.1375603640449,
          458.4358365813674,
          458.4358365813674,
          458.4358365813674,
          458.4358365813674,
          458.0084071465786,
          458.0084071465786,
          457.5809777117897,
          457.5809777117897,
          457.5809777117897,
          457.1535482770009,
          456.2986894074231,
          456.2986894074231,
          455.8712599726343,
          455.44383053784543,
          454.1615422334789,
          453.73411279869,
          452.8792539291123,
          452.8792539291123,
          451.59696562474574,
          450.742106755168,
          450.742106755168,
          449.8872478855903,
          448.6049595812237,
          448.17753014643483,
          447.32267127685714,
          446.8952418420683,
          446.8952418420683,
          446.4678124072794,
          445.6129535377017,
          444.758094668124,
          444.758094668124,
          444.33066523333514,
          443.90323579854623,
          442.19351805939084,
          442.19351805939084,
          441.766088624602,
          440.91122975502424,
          440.4838003202354,
          440.4838003202354,
          439.6289414506577,
          438.77408258107994,
          438.77408258107994,
          437.91922371150224,
          437.91922371150224,
          437.91922371150224,
          437.4917942767134,
          437.06436484192454,
          437.06436484192454,
          436.2095059723468,
          436.2095059723468,
          434.92721766798024,
          434.92721766798024,
          434.92721766798024,
          434.92721766798024,
          434.4997882331914,
          434.0723587984025,
          433.2174999288248,
          433.2174999288248,
          433.2174999288248,
          433.2174999288248,
          433.2174999288248,
          432.3626410592471,
          432.3626410592471,
          431.93521162445825,
          431.50778218966934,
          431.0803527548805,
          430.2254938853028,
          430.2254938853028,
          429.79806445051395,
          429.3706350157251,
          429.3706350157251,
          428.51577614614735,
          428.0883467113585,
          428.0883467113585,
          428.0883467113585,
          428.0883467113585,
          428.0883467113585,
          428.0883467113585,
          428.0883467113585,
          427.66091727656965,
          426.80605840699195,
          426.80605840699195,
          426.80605840699195,
          426.80605840699195,
          426.37862897220305,
          425.9511995374142,
          425.0963406678365,
          424.2414817982588,
          423.8140523634699,
          423.38662292868105,
          422.9591934938922,
          422.9591934938922,
          422.53176405910335,
          422.1043346243145,
          422.1043346243145,
          422.1043346243145,
          421.6769051895256,
          421.24947575473675,
          420.8220463199479,
          420.8220463199479,
          420.8220463199479,
          420.8220463199479,
          420.8220463199479,
          419.9671874503702,
          419.9671874503702,
          419.9671874503702,
          419.53975801558136,
          419.53975801558136,
          419.53975801558136,
          419.53975801558136,
          419.11232858079245,
          418.6848991460036,
          418.6848991460036,
          417.8300402764259,
          417.8300402764259,
          417.8300402764259,
          417.40261084163706,
          417.40261084163706,
          417.40261084163706,
          416.9751814068482,
          416.12032253727045,
          416.12032253727045,
          416.12032253727045,
          415.6928931024816,
          415.26546366769276,
          414.8380342329039,
          414.41060479811506,
          414.41060479811506,
          414.41060479811506,
          413.98317536332615,
          413.5557459285373,
          413.5557459285373,
          413.12831649374846,
          412.7008870589596,
          412.7008870589596,
          412.7008870589596,
          412.7008870589596,
          412.27345762417076,
          412.27345762417076,
          411.8460281893819,
          411.8460281893819,
          411.418598754593,
          411.418598754593,
          410.99116931980416,
          410.99116931980416,
          410.99116931980416,
          410.99116931980416,
          410.5637398850153,
          410.5637398850153,
          410.5637398850153,
          410.13631045022646,
          410.13631045022646,
          410.13631045022646,
          408.85402214585986,
          408.85402214585986,
          408.426592711071,
          408.426592711071,
          407.99916327628216,
          407.99916327628216,
          407.5717338414933,
          407.14430440670446,
          407.14430440670446,
          407.14430440670446,
          406.2894455371267,
          406.2894455371267,
          405.86201610233786,
          405.86201610233786,
          405.86201610233786,
          405.434586667549,
          405.434586667549,
          405.434586667549,
          405.434586667549,
          405.00715723276016,
          405.00715723276016,
          403.72486892839356,
          403.72486892839356,
          403.72486892839356,
          403.2974394936047,
          402.442580624027,
          401.58772175444926,
          401.58772175444926,
          400.73286288487157,
          400.73286288487157,
          400.3054334500827,
          400.3054334500827,
          400.3054334500827,
          399.87800401529387,
          399.87800401529387,
          399.450574580505,
          399.450574580505,
          398.59571571092727,
          398.59571571092727,
          398.59571571092727,
          398.1682862761384,
          398.1682862761384,
          397.74085684134957,
          397.74085684134957,
          397.3134274065607,
          397.3134274065607,
          396.88599797177187,
          396.0311391021941,
          396.0311391021941,
          395.1762802326164,
          393.8939919282498,
          393.8939919282498,
          393.46656249346097,
          393.46656249346097,
          393.46656249346097,
          393.0391330586721,
          392.6117036238833,
          392.6117036238833,
          392.1842741890944,
          392.1842741890944,
          391.7568447543055,
          391.7568447543055,
          390.474556449939,
          390.0471270151501,
          390.0471270151501,
          390.0471270151501,
          389.6196975803613,
          389.19226814557237,
          388.7648387107835,
          388.3374092759947,
          387.482550406417,
          387.482550406417,
          384.0631149281061,
          383.6356854933172,
          383.2082560585284,
          383.2082560585284,
          383.2082560585284,
          382.78082662373953,
          381.4985383193729,
          381.4985383193729,
          381.0711088845841,
          380.2162500150064,
          379.3613911454286,
          378.0791028410621,
          377.65167340627323,
          376.7968145366955,
          375.9419556671178,
          375.51452623232893,
          375.0870967975401,
          375.0870967975401,
          374.65966736275124,
          374.23223792796233,
          372.9499496235958,
          372.52252018880694,
          372.0950907540181,
          371.6676613192292,
          369.53051414528494,
          368.6756552757072,
          368.6756552757072,
          367.8207964061295,
          367.8207964061295,
          367.39336697134064,
          367.39336697134064,
          366.96593753655173,
          366.5385081017629,
          366.11107866697404,
          366.11107866697404,
          365.6836492321852,
          365.25621979739634,
          365.25621979739634,
          364.8287903626075,
          364.8287903626075,
          364.4013609278186,
          363.5465020582409,
          363.11907262345204,
          362.6916431886632,
          361.4093548842966,
          360.12706657993004,
          359.6996371451412,
          359.2722077103523,
          359.2722077103523,
          358.4173488407746,
          357.5624899711969,
          357.13506053640805,
          355.4253427972526,
          354.99791336246375,
          354.5704839276749,
          353.71562505809715,
          348.58647184063085,
          343.45731862316455,
          341.32017144922025,
          340.8927420144314,
          340.8927420144314,
          340.46531257964256,
          339.18302427527595,
          338.7555948404871,
          338.32816540569826,
          332.34415331865426,
          332.34415331865426,
          332.34415331865426,
          324.2229940576659,
          323.3681351880882,
          321.65841744893277,
          320.80355857935507,
          320.3761291445662,
          319.9486997097774,
          317.8115525358331,
          306.6983872313227,
          302.4240928834342,
          300.2869457094899,
          295.58522192681244,
          289.17378040497954,
          288.31892153540184,
          287.891492100613,
          273.78632075258065,
          273.78632075258065,
          271.64917357863635,
          269.9394558394809,
          263.9554437524369,
          255.40685505665977,
          251.13256070877117,
          244.72111918693827,
          241.30168370862742,
          235.74510105637228,
          231.04337727369483,
          230.18851840411708,
          225.05936518665078,
          213.9461998821405,
          202.8330345776302,
          201.5507462732636,
          183.1712805773427
         ],
         "yaxis": "y"
        }
       ],
       "layout": {
        "legend": {
         "tracegroupgap": 0
        },
        "margin": {
         "t": 60
        },
        "template": {
         "data": {
          "bar": [
           {
            "error_x": {
             "color": "#2a3f5f"
            },
            "error_y": {
             "color": "#2a3f5f"
            },
            "marker": {
             "line": {
              "color": "#E5ECF6",
              "width": 0.5
             },
             "pattern": {
              "fillmode": "overlay",
              "size": 10,
              "solidity": 0.2
             }
            },
            "type": "bar"
           }
          ],
          "barpolar": [
           {
            "marker": {
             "line": {
              "color": "#E5ECF6",
              "width": 0.5
             },
             "pattern": {
              "fillmode": "overlay",
              "size": 10,
              "solidity": 0.2
             }
            },
            "type": "barpolar"
           }
          ],
          "carpet": [
           {
            "aaxis": {
             "endlinecolor": "#2a3f5f",
             "gridcolor": "white",
             "linecolor": "white",
             "minorgridcolor": "white",
             "startlinecolor": "#2a3f5f"
            },
            "baxis": {
             "endlinecolor": "#2a3f5f",
             "gridcolor": "white",
             "linecolor": "white",
             "minorgridcolor": "white",
             "startlinecolor": "#2a3f5f"
            },
            "type": "carpet"
           }
          ],
          "choropleth": [
           {
            "colorbar": {
             "outlinewidth": 0,
             "ticks": ""
            },
            "type": "choropleth"
           }
          ],
          "contour": [
           {
            "colorbar": {
             "outlinewidth": 0,
             "ticks": ""
            },
            "colorscale": [
             [
              0,
              "#0d0887"
             ],
             [
              0.1111111111111111,
              "#46039f"
             ],
             [
              0.2222222222222222,
              "#7201a8"
             ],
             [
              0.3333333333333333,
              "#9c179e"
             ],
             [
              0.4444444444444444,
              "#bd3786"
             ],
             [
              0.5555555555555556,
              "#d8576b"
             ],
             [
              0.6666666666666666,
              "#ed7953"
             ],
             [
              0.7777777777777778,
              "#fb9f3a"
             ],
             [
              0.8888888888888888,
              "#fdca26"
             ],
             [
              1,
              "#f0f921"
             ]
            ],
            "type": "contour"
           }
          ],
          "contourcarpet": [
           {
            "colorbar": {
             "outlinewidth": 0,
             "ticks": ""
            },
            "type": "contourcarpet"
           }
          ],
          "heatmap": [
           {
            "colorbar": {
             "outlinewidth": 0,
             "ticks": ""
            },
            "colorscale": [
             [
              0,
              "#0d0887"
             ],
             [
              0.1111111111111111,
              "#46039f"
             ],
             [
              0.2222222222222222,
              "#7201a8"
             ],
             [
              0.3333333333333333,
              "#9c179e"
             ],
             [
              0.4444444444444444,
              "#bd3786"
             ],
             [
              0.5555555555555556,
              "#d8576b"
             ],
             [
              0.6666666666666666,
              "#ed7953"
             ],
             [
              0.7777777777777778,
              "#fb9f3a"
             ],
             [
              0.8888888888888888,
              "#fdca26"
             ],
             [
              1,
              "#f0f921"
             ]
            ],
            "type": "heatmap"
           }
          ],
          "heatmapgl": [
           {
            "colorbar": {
             "outlinewidth": 0,
             "ticks": ""
            },
            "colorscale": [
             [
              0,
              "#0d0887"
             ],
             [
              0.1111111111111111,
              "#46039f"
             ],
             [
              0.2222222222222222,
              "#7201a8"
             ],
             [
              0.3333333333333333,
              "#9c179e"
             ],
             [
              0.4444444444444444,
              "#bd3786"
             ],
             [
              0.5555555555555556,
              "#d8576b"
             ],
             [
              0.6666666666666666,
              "#ed7953"
             ],
             [
              0.7777777777777778,
              "#fb9f3a"
             ],
             [
              0.8888888888888888,
              "#fdca26"
             ],
             [
              1,
              "#f0f921"
             ]
            ],
            "type": "heatmapgl"
           }
          ],
          "histogram": [
           {
            "marker": {
             "pattern": {
              "fillmode": "overlay",
              "size": 10,
              "solidity": 0.2
             }
            },
            "type": "histogram"
           }
          ],
          "histogram2d": [
           {
            "colorbar": {
             "outlinewidth": 0,
             "ticks": ""
            },
            "colorscale": [
             [
              0,
              "#0d0887"
             ],
             [
              0.1111111111111111,
              "#46039f"
             ],
             [
              0.2222222222222222,
              "#7201a8"
             ],
             [
              0.3333333333333333,
              "#9c179e"
             ],
             [
              0.4444444444444444,
              "#bd3786"
             ],
             [
              0.5555555555555556,
              "#d8576b"
             ],
             [
              0.6666666666666666,
              "#ed7953"
             ],
             [
              0.7777777777777778,
              "#fb9f3a"
             ],
             [
              0.8888888888888888,
              "#fdca26"
             ],
             [
              1,
              "#f0f921"
             ]
            ],
            "type": "histogram2d"
           }
          ],
          "histogram2dcontour": [
           {
            "colorbar": {
             "outlinewidth": 0,
             "ticks": ""
            },
            "colorscale": [
             [
              0,
              "#0d0887"
             ],
             [
              0.1111111111111111,
              "#46039f"
             ],
             [
              0.2222222222222222,
              "#7201a8"
             ],
             [
              0.3333333333333333,
              "#9c179e"
             ],
             [
              0.4444444444444444,
              "#bd3786"
             ],
             [
              0.5555555555555556,
              "#d8576b"
             ],
             [
              0.6666666666666666,
              "#ed7953"
             ],
             [
              0.7777777777777778,
              "#fb9f3a"
             ],
             [
              0.8888888888888888,
              "#fdca26"
             ],
             [
              1,
              "#f0f921"
             ]
            ],
            "type": "histogram2dcontour"
           }
          ],
          "mesh3d": [
           {
            "colorbar": {
             "outlinewidth": 0,
             "ticks": ""
            },
            "type": "mesh3d"
           }
          ],
          "parcoords": [
           {
            "line": {
             "colorbar": {
              "outlinewidth": 0,
              "ticks": ""
             }
            },
            "type": "parcoords"
           }
          ],
          "pie": [
           {
            "automargin": true,
            "type": "pie"
           }
          ],
          "scatter": [
           {
            "fillpattern": {
             "fillmode": "overlay",
             "size": 10,
             "solidity": 0.2
            },
            "type": "scatter"
           }
          ],
          "scatter3d": [
           {
            "line": {
             "colorbar": {
              "outlinewidth": 0,
              "ticks": ""
             }
            },
            "marker": {
             "colorbar": {
              "outlinewidth": 0,
              "ticks": ""
             }
            },
            "type": "scatter3d"
           }
          ],
          "scattercarpet": [
           {
            "marker": {
             "colorbar": {
              "outlinewidth": 0,
              "ticks": ""
             }
            },
            "type": "scattercarpet"
           }
          ],
          "scattergeo": [
           {
            "marker": {
             "colorbar": {
              "outlinewidth": 0,
              "ticks": ""
             }
            },
            "type": "scattergeo"
           }
          ],
          "scattergl": [
           {
            "marker": {
             "colorbar": {
              "outlinewidth": 0,
              "ticks": ""
             }
            },
            "type": "scattergl"
           }
          ],
          "scattermapbox": [
           {
            "marker": {
             "colorbar": {
              "outlinewidth": 0,
              "ticks": ""
             }
            },
            "type": "scattermapbox"
           }
          ],
          "scatterpolar": [
           {
            "marker": {
             "colorbar": {
              "outlinewidth": 0,
              "ticks": ""
             }
            },
            "type": "scatterpolar"
           }
          ],
          "scatterpolargl": [
           {
            "marker": {
             "colorbar": {
              "outlinewidth": 0,
              "ticks": ""
             }
            },
            "type": "scatterpolargl"
           }
          ],
          "scatterternary": [
           {
            "marker": {
             "colorbar": {
              "outlinewidth": 0,
              "ticks": ""
             }
            },
            "type": "scatterternary"
           }
          ],
          "surface": [
           {
            "colorbar": {
             "outlinewidth": 0,
             "ticks": ""
            },
            "colorscale": [
             [
              0,
              "#0d0887"
             ],
             [
              0.1111111111111111,
              "#46039f"
             ],
             [
              0.2222222222222222,
              "#7201a8"
             ],
             [
              0.3333333333333333,
              "#9c179e"
             ],
             [
              0.4444444444444444,
              "#bd3786"
             ],
             [
              0.5555555555555556,
              "#d8576b"
             ],
             [
              0.6666666666666666,
              "#ed7953"
             ],
             [
              0.7777777777777778,
              "#fb9f3a"
             ],
             [
              0.8888888888888888,
              "#fdca26"
             ],
             [
              1,
              "#f0f921"
             ]
            ],
            "type": "surface"
           }
          ],
          "table": [
           {
            "cells": {
             "fill": {
              "color": "#EBF0F8"
             },
             "line": {
              "color": "white"
             }
            },
            "header": {
             "fill": {
              "color": "#C8D4E3"
             },
             "line": {
              "color": "white"
             }
            },
            "type": "table"
           }
          ]
         },
         "layout": {
          "annotationdefaults": {
           "arrowcolor": "#2a3f5f",
           "arrowhead": 0,
           "arrowwidth": 1
          },
          "autotypenumbers": "strict",
          "coloraxis": {
           "colorbar": {
            "outlinewidth": 0,
            "ticks": ""
           }
          },
          "colorscale": {
           "diverging": [
            [
             0,
             "#8e0152"
            ],
            [
             0.1,
             "#c51b7d"
            ],
            [
             0.2,
             "#de77ae"
            ],
            [
             0.3,
             "#f1b6da"
            ],
            [
             0.4,
             "#fde0ef"
            ],
            [
             0.5,
             "#f7f7f7"
            ],
            [
             0.6,
             "#e6f5d0"
            ],
            [
             0.7,
             "#b8e186"
            ],
            [
             0.8,
             "#7fbc41"
            ],
            [
             0.9,
             "#4d9221"
            ],
            [
             1,
             "#276419"
            ]
           ],
           "sequential": [
            [
             0,
             "#0d0887"
            ],
            [
             0.1111111111111111,
             "#46039f"
            ],
            [
             0.2222222222222222,
             "#7201a8"
            ],
            [
             0.3333333333333333,
             "#9c179e"
            ],
            [
             0.4444444444444444,
             "#bd3786"
            ],
            [
             0.5555555555555556,
             "#d8576b"
            ],
            [
             0.6666666666666666,
             "#ed7953"
            ],
            [
             0.7777777777777778,
             "#fb9f3a"
            ],
            [
             0.8888888888888888,
             "#fdca26"
            ],
            [
             1,
             "#f0f921"
            ]
           ],
           "sequentialminus": [
            [
             0,
             "#0d0887"
            ],
            [
             0.1111111111111111,
             "#46039f"
            ],
            [
             0.2222222222222222,
             "#7201a8"
            ],
            [
             0.3333333333333333,
             "#9c179e"
            ],
            [
             0.4444444444444444,
             "#bd3786"
            ],
            [
             0.5555555555555556,
             "#d8576b"
            ],
            [
             0.6666666666666666,
             "#ed7953"
            ],
            [
             0.7777777777777778,
             "#fb9f3a"
            ],
            [
             0.8888888888888888,
             "#fdca26"
            ],
            [
             1,
             "#f0f921"
            ]
           ]
          },
          "colorway": [
           "#636efa",
           "#EF553B",
           "#00cc96",
           "#ab63fa",
           "#FFA15A",
           "#19d3f3",
           "#FF6692",
           "#B6E880",
           "#FF97FF",
           "#FECB52"
          ],
          "font": {
           "color": "#2a3f5f"
          },
          "geo": {
           "bgcolor": "white",
           "lakecolor": "white",
           "landcolor": "#E5ECF6",
           "showlakes": true,
           "showland": true,
           "subunitcolor": "white"
          },
          "hoverlabel": {
           "align": "left"
          },
          "hovermode": "closest",
          "mapbox": {
           "style": "light"
          },
          "paper_bgcolor": "white",
          "plot_bgcolor": "#E5ECF6",
          "polar": {
           "angularaxis": {
            "gridcolor": "white",
            "linecolor": "white",
            "ticks": ""
           },
           "bgcolor": "#E5ECF6",
           "radialaxis": {
            "gridcolor": "white",
            "linecolor": "white",
            "ticks": ""
           }
          },
          "scene": {
           "xaxis": {
            "backgroundcolor": "#E5ECF6",
            "gridcolor": "white",
            "gridwidth": 2,
            "linecolor": "white",
            "showbackground": true,
            "ticks": "",
            "zerolinecolor": "white"
           },
           "yaxis": {
            "backgroundcolor": "#E5ECF6",
            "gridcolor": "white",
            "gridwidth": 2,
            "linecolor": "white",
            "showbackground": true,
            "ticks": "",
            "zerolinecolor": "white"
           },
           "zaxis": {
            "backgroundcolor": "#E5ECF6",
            "gridcolor": "white",
            "gridwidth": 2,
            "linecolor": "white",
            "showbackground": true,
            "ticks": "",
            "zerolinecolor": "white"
           }
          },
          "shapedefaults": {
           "line": {
            "color": "#2a3f5f"
           }
          },
          "ternary": {
           "aaxis": {
            "gridcolor": "white",
            "linecolor": "white",
            "ticks": ""
           },
           "baxis": {
            "gridcolor": "white",
            "linecolor": "white",
            "ticks": ""
           },
           "bgcolor": "#E5ECF6",
           "caxis": {
            "gridcolor": "white",
            "linecolor": "white",
            "ticks": ""
           }
          },
          "title": {
           "x": 0.05
          },
          "xaxis": {
           "automargin": true,
           "gridcolor": "white",
           "linecolor": "white",
           "ticks": "",
           "title": {
            "standoff": 15
           },
           "zerolinecolor": "white",
           "zerolinewidth": 2
          },
          "yaxis": {
           "automargin": true,
           "gridcolor": "white",
           "linecolor": "white",
           "ticks": "",
           "title": {
            "standoff": 15
           },
           "zerolinecolor": "white",
           "zerolinewidth": 2
          }
         }
        },
        "width": 600,
        "xaxis": {
         "anchor": "y",
         "domain": [
          0,
          1
         ],
         "title": {
          "text": "SedentaryMinutes"
         }
        },
        "yaxis": {
         "anchor": "x",
         "domain": [
          0,
          1
         ],
         "title": {
          "text": "TotalMinutesAsleep"
         }
        }
       }
      }
     },
     "metadata": {},
     "output_type": "display_data"
    }
   ],
   "source": [
    "px.scatter(\n",
    "    merged_activity_sleep,\n",
    "    x='SedentaryMinutes',\n",
    "    y='TotalMinutesAsleep',\n",
    "    width=600,\n",
    "    trendline='ols'\n",
    ")\n",
    "#R^2 is 0.36"
   ]
  },
  {
   "cell_type": "code",
   "execution_count": 50,
   "metadata": {},
   "outputs": [
    {
     "data": {
      "application/vnd.plotly.v1+json": {
       "config": {
        "plotlyServerURL": "https://plot.ly"
       },
       "data": [
        {
         "hovertemplate": "Calories=%{x}<br>TotalMinutesAsleep=%{y}<extra></extra>",
         "legendgroup": "",
         "marker": {
          "color": "#636efa",
          "symbol": "circle"
         },
         "mode": "markers",
         "name": "",
         "orientation": "v",
         "showlegend": false,
         "type": "scatter",
         "x": [
          1985,
          1797,
          1745,
          1863,
          1728,
          2035,
          1786,
          1775,
          1949,
          1788,
          2013,
          1970,
          1898,
          1837,
          1947,
          1820,
          2004,
          1990,
          1959,
          1896,
          1821,
          1740,
          1819,
          1859,
          1783,
          2498,
          3846,
          2580,
          2987,
          1725,
          1763,
          1541,
          2220,
          2151,
          2221,
          2638,
          2351,
          1459,
          1521,
          1431,
          1444,
          1373,
          1214,
          1356,
          1667,
          1370,
          1399,
          1916,
          1401,
          1576,
          1593,
          1649,
          1692,
          1506,
          1447,
          1690,
          1658,
          1926,
          1736,
          1491,
          1555,
          1869,
          1141,
          1698,
          1364,
          1804,
          2038,
          2010,
          2133,
          1882,
          1944,
          2346,
          2048,
          1946,
          2629,
          2187,
          2095,
          1861,
          2194,
          1854,
          403,
          1450,
          1495,
          1433,
          1468,
          1625,
          1529,
          1584,
          1638,
          1554,
          1397,
          1481,
          1638,
          1655,
          1570,
          1551,
          1377,
          1407,
          1545,
          1650,
          1501,
          1760,
          1710,
          1628,
          1618,
          1590,
          1574,
          1633,
          1630,
          3654,
          3051,
          2828,
          3879,
          3429,
          2704,
          3089,
          2926,
          2302,
          1985,
          1884,
          1632,
          2200,
          2220,
          1792,
          1886,
          1945,
          1880,
          2314,
          2236,
          2324,
          2367,
          2175,
          2092,
          1593,
          2270,
          2235,
          2266,
          2158,
          1792,
          2345,
          2260,
          2232,
          257,
          3066,
          3073,
          2572,
          3274,
          3015,
          3083,
          3069,
          3544,
          3306,
          2885,
          2929,
          3074,
          2969,
          3283,
          2926,
          3147,
          3162,
          2899,
          2899,
          4022,
          3934,
          3013,
          3061,
          2954,
          2113,
          2095,
          2194,
          2496,
          2180,
          1933,
          1954,
          1974,
          2150,
          2432,
          2070,
          2291,
          2361,
          2203,
          2196,
          2363,
          2246,
          2336,
          2421,
          2070,
          2120,
          2211,
          2123,
          2423,
          2281,
          2181,
          2499,
          1212,
          2486,
          2223,
          1918,
          1692,
          2666,
          2947,
          2898,
          2984,
          2896,
          3328,
          3394,
          3013,
          2812,
          3061,
          2729,
          3691,
          3538,
          3064,
          2784,
          2908,
          3033,
          3165,
          3115,
          3145,
          3004,
          3006,
          2859,
          3683,
          3683,
          2990,
          3172,
          3069,
          1240,
          2026,
          1718,
          2324,
          2254,
          1831,
          1397,
          1683,
          2284,
          1570,
          2066,
          2105,
          1776,
          1507,
          2033,
          2093,
          1922,
          1999,
          2169,
          1463,
          1747,
          1996,
          2116,
          1698,
          2156,
          1916,
          1494,
          1762,
          2272,
          2335,
          1693,
          741,
          3405,
          2551,
          4022,
          4005,
          4274,
          4552,
          3625,
          3501,
          3192,
          4018,
          3329,
          3152,
          4392,
          3374,
          3088,
          3294,
          3580,
          3544,
          4501,
          4546,
          3014,
          3795,
          2755,
          3004,
          3841,
          1665,
          2828,
          2225,
          2018,
          2606,
          2536,
          4900,
          2409,
          2651,
          2305,
          2576,
          1879,
          2560,
          2361,
          2636,
          1838,
          2469,
          2250,
          1248,
          2400,
          2507,
          2127,
          1994,
          1718,
          1466,
          1756,
          2173,
          2027,
          2039,
          2046,
          2174,
          2179,
          2086,
          2571,
          1705,
          2194,
          2012,
          2034,
          2182,
          2254,
          2002,
          1740,
          2162,
          2072,
          2086,
          2066,
          1850,
          1947,
          1659,
          2105,
          2361,
          1855,
          928,
          2076,
          2225,
          2772,
          2516,
          2734,
          2395,
          2944,
          2997,
          2463,
          2846,
          2049,
          2752,
          2781,
          2693,
          2862,
          2995,
          2730,
          2754,
          2754,
          2655,
          2924,
          2739,
          2534,
          2960,
          2735,
          1199,
          3043,
          3554,
          3331,
          3635,
          4079,
          4163,
          3666,
          3363,
          2572,
          4157,
          4092,
          3787,
          4236,
          4044,
          2908,
          2741,
          4005,
          4005,
          3763,
          3061,
          2884,
          2982,
          2660,
          3369,
          3491,
          3784,
          3110,
          3783,
          3644,
          2799,
          2685,
          3721,
          3586,
          3788,
          1976,
          2044,
          1934,
          1963,
          2009,
          2188,
          2419,
          2748,
          2067,
          2780,
          3101,
          2896,
          1962,
          2015,
          2297,
          2067
         ],
         "xaxis": "x",
         "y": [
          327,
          384,
          412,
          340,
          700,
          304,
          360,
          325,
          361,
          430,
          277,
          245,
          366,
          341,
          404,
          369,
          277,
          273,
          247,
          334,
          331,
          594,
          338,
          383,
          285,
          119,
          124,
          796,
          137,
          644,
          722,
          590,
          750,
          398,
          475,
          296,
          166,
          503,
          531,
          545,
          523,
          524,
          437,
          498,
          461,
          477,
          520,
          522,
          555,
          506,
          508,
          513,
          490,
          573,
          527,
          511,
          538,
          468,
          524,
          511,
          541,
          531,
          357,
          523,
          456,
          61,
          467,
          445,
          452,
          556,
          500,
          465,
          460,
          405,
          374,
          442,
          433,
          436,
          448,
          408,
          411,
          274,
          295,
          291,
          424,
          283,
          381,
          412,
          219,
          152,
          332,
          355,
          235,
          310,
          262,
          250,
          349,
          261,
          333,
          237,
          383,
          230,
          292,
          213,
          318,
          323,
          237,
          259,
          312,
          501,
          77,
          322,
          478,
          226,
          385,
          364,
          442,
          535,
          465,
          506,
          515,
          461,
          523,
          59,
          533,
          692,
          467,
          488,
          505,
          286,
          497,
          523,
          490,
          484,
          478,
          474,
          450,
          507,
          602,
          535,
          487,
          529,
          302,
          499,
          426,
          619,
          99,
          329,
          421,
          442,
          82,
          478,
          552,
          319,
          439,
          428,
          409,
          547,
          368,
          390,
          471,
          471,
          472,
          529,
          62,
          354,
          469,
          429,
          370,
          441,
          337,
          462,
          98,
          388,
          439,
          436,
          388,
          328,
          353,
          332,
          419,
          106,
          322,
          439,
          502,
          417,
          337,
          462,
          374,
          401,
          361,
          457,
          405,
          499,
          483,
          126,
          103,
          171,
          115,
          123,
          425,
          400,
          384,
          253,
          382,
          591,
          293,
          457,
          454,
          425,
          465,
          480,
          370,
          421,
          432,
          442,
          433,
          479,
          327,
          412,
          414,
          404,
          520,
          520,
          435,
          416,
          354,
          404,
          441,
          455,
          357,
          377,
          651,
          350,
          520,
          357,
          658,
          399,
          322,
          631,
          553,
          433,
          412,
          347,
          421,
          450,
          775,
          622,
          409,
          380,
          447,
          419,
          400,
          442,
          568,
          453,
          418,
          463,
          438,
          419,
          432,
          477,
          392,
          406,
          549,
          527,
          449,
          447,
          414,
          338,
          384,
          543,
          421,
          354,
          424,
          361,
          459,
          412,
          379,
          525,
          508,
          603,
          74,
          504,
          431,
          380,
          336,
          493,
          465,
          474,
          508,
          480,
          492,
          353,
          542,
          393,
          600,
          507,
          392,
          658,
          498,
          555,
          492,
          235,
          423,
          391,
          366,
          630,
          508,
          370,
          357,
          427,
          442,
          476,
          418,
          451,
          425,
          528,
          511,
          400,
          441,
          455,
          440,
          433,
          422,
          411,
          466,
          394,
          442,
          467,
          443,
          298,
          541,
          489,
          469,
          452,
          516,
          79,
          58,
          514,
          451,
          472,
          377,
          472,
          492,
          390,
          428,
          681,
          446,
          485,
          469,
          354,
          485,
          388,
          440,
          456,
          420,
          322,
          530,
          481,
          427,
          451,
          444,
          486,
          331,
          74,
          338,
          447,
          424,
          513,
          611,
          525,
          398,
          387,
          381,
          396,
          441,
          565,
          458,
          388,
          388,
          550,
          531,
          506,
          527,
          468,
          475,
          351,
          405,
          441,
          381,
          323,
          459,
          545,
          359,
          342,
          368,
          496,
          458,
          531,
          486,
          363,
          528,
          391,
          339,
          423,
          402,
          398,
          343,
          503,
          415,
          516,
          439
         ],
         "yaxis": "y"
        }
       ],
       "layout": {
        "legend": {
         "tracegroupgap": 0
        },
        "margin": {
         "t": 60
        },
        "template": {
         "data": {
          "bar": [
           {
            "error_x": {
             "color": "#2a3f5f"
            },
            "error_y": {
             "color": "#2a3f5f"
            },
            "marker": {
             "line": {
              "color": "#E5ECF6",
              "width": 0.5
             },
             "pattern": {
              "fillmode": "overlay",
              "size": 10,
              "solidity": 0.2
             }
            },
            "type": "bar"
           }
          ],
          "barpolar": [
           {
            "marker": {
             "line": {
              "color": "#E5ECF6",
              "width": 0.5
             },
             "pattern": {
              "fillmode": "overlay",
              "size": 10,
              "solidity": 0.2
             }
            },
            "type": "barpolar"
           }
          ],
          "carpet": [
           {
            "aaxis": {
             "endlinecolor": "#2a3f5f",
             "gridcolor": "white",
             "linecolor": "white",
             "minorgridcolor": "white",
             "startlinecolor": "#2a3f5f"
            },
            "baxis": {
             "endlinecolor": "#2a3f5f",
             "gridcolor": "white",
             "linecolor": "white",
             "minorgridcolor": "white",
             "startlinecolor": "#2a3f5f"
            },
            "type": "carpet"
           }
          ],
          "choropleth": [
           {
            "colorbar": {
             "outlinewidth": 0,
             "ticks": ""
            },
            "type": "choropleth"
           }
          ],
          "contour": [
           {
            "colorbar": {
             "outlinewidth": 0,
             "ticks": ""
            },
            "colorscale": [
             [
              0,
              "#0d0887"
             ],
             [
              0.1111111111111111,
              "#46039f"
             ],
             [
              0.2222222222222222,
              "#7201a8"
             ],
             [
              0.3333333333333333,
              "#9c179e"
             ],
             [
              0.4444444444444444,
              "#bd3786"
             ],
             [
              0.5555555555555556,
              "#d8576b"
             ],
             [
              0.6666666666666666,
              "#ed7953"
             ],
             [
              0.7777777777777778,
              "#fb9f3a"
             ],
             [
              0.8888888888888888,
              "#fdca26"
             ],
             [
              1,
              "#f0f921"
             ]
            ],
            "type": "contour"
           }
          ],
          "contourcarpet": [
           {
            "colorbar": {
             "outlinewidth": 0,
             "ticks": ""
            },
            "type": "contourcarpet"
           }
          ],
          "heatmap": [
           {
            "colorbar": {
             "outlinewidth": 0,
             "ticks": ""
            },
            "colorscale": [
             [
              0,
              "#0d0887"
             ],
             [
              0.1111111111111111,
              "#46039f"
             ],
             [
              0.2222222222222222,
              "#7201a8"
             ],
             [
              0.3333333333333333,
              "#9c179e"
             ],
             [
              0.4444444444444444,
              "#bd3786"
             ],
             [
              0.5555555555555556,
              "#d8576b"
             ],
             [
              0.6666666666666666,
              "#ed7953"
             ],
             [
              0.7777777777777778,
              "#fb9f3a"
             ],
             [
              0.8888888888888888,
              "#fdca26"
             ],
             [
              1,
              "#f0f921"
             ]
            ],
            "type": "heatmap"
           }
          ],
          "heatmapgl": [
           {
            "colorbar": {
             "outlinewidth": 0,
             "ticks": ""
            },
            "colorscale": [
             [
              0,
              "#0d0887"
             ],
             [
              0.1111111111111111,
              "#46039f"
             ],
             [
              0.2222222222222222,
              "#7201a8"
             ],
             [
              0.3333333333333333,
              "#9c179e"
             ],
             [
              0.4444444444444444,
              "#bd3786"
             ],
             [
              0.5555555555555556,
              "#d8576b"
             ],
             [
              0.6666666666666666,
              "#ed7953"
             ],
             [
              0.7777777777777778,
              "#fb9f3a"
             ],
             [
              0.8888888888888888,
              "#fdca26"
             ],
             [
              1,
              "#f0f921"
             ]
            ],
            "type": "heatmapgl"
           }
          ],
          "histogram": [
           {
            "marker": {
             "pattern": {
              "fillmode": "overlay",
              "size": 10,
              "solidity": 0.2
             }
            },
            "type": "histogram"
           }
          ],
          "histogram2d": [
           {
            "colorbar": {
             "outlinewidth": 0,
             "ticks": ""
            },
            "colorscale": [
             [
              0,
              "#0d0887"
             ],
             [
              0.1111111111111111,
              "#46039f"
             ],
             [
              0.2222222222222222,
              "#7201a8"
             ],
             [
              0.3333333333333333,
              "#9c179e"
             ],
             [
              0.4444444444444444,
              "#bd3786"
             ],
             [
              0.5555555555555556,
              "#d8576b"
             ],
             [
              0.6666666666666666,
              "#ed7953"
             ],
             [
              0.7777777777777778,
              "#fb9f3a"
             ],
             [
              0.8888888888888888,
              "#fdca26"
             ],
             [
              1,
              "#f0f921"
             ]
            ],
            "type": "histogram2d"
           }
          ],
          "histogram2dcontour": [
           {
            "colorbar": {
             "outlinewidth": 0,
             "ticks": ""
            },
            "colorscale": [
             [
              0,
              "#0d0887"
             ],
             [
              0.1111111111111111,
              "#46039f"
             ],
             [
              0.2222222222222222,
              "#7201a8"
             ],
             [
              0.3333333333333333,
              "#9c179e"
             ],
             [
              0.4444444444444444,
              "#bd3786"
             ],
             [
              0.5555555555555556,
              "#d8576b"
             ],
             [
              0.6666666666666666,
              "#ed7953"
             ],
             [
              0.7777777777777778,
              "#fb9f3a"
             ],
             [
              0.8888888888888888,
              "#fdca26"
             ],
             [
              1,
              "#f0f921"
             ]
            ],
            "type": "histogram2dcontour"
           }
          ],
          "mesh3d": [
           {
            "colorbar": {
             "outlinewidth": 0,
             "ticks": ""
            },
            "type": "mesh3d"
           }
          ],
          "parcoords": [
           {
            "line": {
             "colorbar": {
              "outlinewidth": 0,
              "ticks": ""
             }
            },
            "type": "parcoords"
           }
          ],
          "pie": [
           {
            "automargin": true,
            "type": "pie"
           }
          ],
          "scatter": [
           {
            "fillpattern": {
             "fillmode": "overlay",
             "size": 10,
             "solidity": 0.2
            },
            "type": "scatter"
           }
          ],
          "scatter3d": [
           {
            "line": {
             "colorbar": {
              "outlinewidth": 0,
              "ticks": ""
             }
            },
            "marker": {
             "colorbar": {
              "outlinewidth": 0,
              "ticks": ""
             }
            },
            "type": "scatter3d"
           }
          ],
          "scattercarpet": [
           {
            "marker": {
             "colorbar": {
              "outlinewidth": 0,
              "ticks": ""
             }
            },
            "type": "scattercarpet"
           }
          ],
          "scattergeo": [
           {
            "marker": {
             "colorbar": {
              "outlinewidth": 0,
              "ticks": ""
             }
            },
            "type": "scattergeo"
           }
          ],
          "scattergl": [
           {
            "marker": {
             "colorbar": {
              "outlinewidth": 0,
              "ticks": ""
             }
            },
            "type": "scattergl"
           }
          ],
          "scattermapbox": [
           {
            "marker": {
             "colorbar": {
              "outlinewidth": 0,
              "ticks": ""
             }
            },
            "type": "scattermapbox"
           }
          ],
          "scatterpolar": [
           {
            "marker": {
             "colorbar": {
              "outlinewidth": 0,
              "ticks": ""
             }
            },
            "type": "scatterpolar"
           }
          ],
          "scatterpolargl": [
           {
            "marker": {
             "colorbar": {
              "outlinewidth": 0,
              "ticks": ""
             }
            },
            "type": "scatterpolargl"
           }
          ],
          "scatterternary": [
           {
            "marker": {
             "colorbar": {
              "outlinewidth": 0,
              "ticks": ""
             }
            },
            "type": "scatterternary"
           }
          ],
          "surface": [
           {
            "colorbar": {
             "outlinewidth": 0,
             "ticks": ""
            },
            "colorscale": [
             [
              0,
              "#0d0887"
             ],
             [
              0.1111111111111111,
              "#46039f"
             ],
             [
              0.2222222222222222,
              "#7201a8"
             ],
             [
              0.3333333333333333,
              "#9c179e"
             ],
             [
              0.4444444444444444,
              "#bd3786"
             ],
             [
              0.5555555555555556,
              "#d8576b"
             ],
             [
              0.6666666666666666,
              "#ed7953"
             ],
             [
              0.7777777777777778,
              "#fb9f3a"
             ],
             [
              0.8888888888888888,
              "#fdca26"
             ],
             [
              1,
              "#f0f921"
             ]
            ],
            "type": "surface"
           }
          ],
          "table": [
           {
            "cells": {
             "fill": {
              "color": "#EBF0F8"
             },
             "line": {
              "color": "white"
             }
            },
            "header": {
             "fill": {
              "color": "#C8D4E3"
             },
             "line": {
              "color": "white"
             }
            },
            "type": "table"
           }
          ]
         },
         "layout": {
          "annotationdefaults": {
           "arrowcolor": "#2a3f5f",
           "arrowhead": 0,
           "arrowwidth": 1
          },
          "autotypenumbers": "strict",
          "coloraxis": {
           "colorbar": {
            "outlinewidth": 0,
            "ticks": ""
           }
          },
          "colorscale": {
           "diverging": [
            [
             0,
             "#8e0152"
            ],
            [
             0.1,
             "#c51b7d"
            ],
            [
             0.2,
             "#de77ae"
            ],
            [
             0.3,
             "#f1b6da"
            ],
            [
             0.4,
             "#fde0ef"
            ],
            [
             0.5,
             "#f7f7f7"
            ],
            [
             0.6,
             "#e6f5d0"
            ],
            [
             0.7,
             "#b8e186"
            ],
            [
             0.8,
             "#7fbc41"
            ],
            [
             0.9,
             "#4d9221"
            ],
            [
             1,
             "#276419"
            ]
           ],
           "sequential": [
            [
             0,
             "#0d0887"
            ],
            [
             0.1111111111111111,
             "#46039f"
            ],
            [
             0.2222222222222222,
             "#7201a8"
            ],
            [
             0.3333333333333333,
             "#9c179e"
            ],
            [
             0.4444444444444444,
             "#bd3786"
            ],
            [
             0.5555555555555556,
             "#d8576b"
            ],
            [
             0.6666666666666666,
             "#ed7953"
            ],
            [
             0.7777777777777778,
             "#fb9f3a"
            ],
            [
             0.8888888888888888,
             "#fdca26"
            ],
            [
             1,
             "#f0f921"
            ]
           ],
           "sequentialminus": [
            [
             0,
             "#0d0887"
            ],
            [
             0.1111111111111111,
             "#46039f"
            ],
            [
             0.2222222222222222,
             "#7201a8"
            ],
            [
             0.3333333333333333,
             "#9c179e"
            ],
            [
             0.4444444444444444,
             "#bd3786"
            ],
            [
             0.5555555555555556,
             "#d8576b"
            ],
            [
             0.6666666666666666,
             "#ed7953"
            ],
            [
             0.7777777777777778,
             "#fb9f3a"
            ],
            [
             0.8888888888888888,
             "#fdca26"
            ],
            [
             1,
             "#f0f921"
            ]
           ]
          },
          "colorway": [
           "#636efa",
           "#EF553B",
           "#00cc96",
           "#ab63fa",
           "#FFA15A",
           "#19d3f3",
           "#FF6692",
           "#B6E880",
           "#FF97FF",
           "#FECB52"
          ],
          "font": {
           "color": "#2a3f5f"
          },
          "geo": {
           "bgcolor": "white",
           "lakecolor": "white",
           "landcolor": "#E5ECF6",
           "showlakes": true,
           "showland": true,
           "subunitcolor": "white"
          },
          "hoverlabel": {
           "align": "left"
          },
          "hovermode": "closest",
          "mapbox": {
           "style": "light"
          },
          "paper_bgcolor": "white",
          "plot_bgcolor": "#E5ECF6",
          "polar": {
           "angularaxis": {
            "gridcolor": "white",
            "linecolor": "white",
            "ticks": ""
           },
           "bgcolor": "#E5ECF6",
           "radialaxis": {
            "gridcolor": "white",
            "linecolor": "white",
            "ticks": ""
           }
          },
          "scene": {
           "xaxis": {
            "backgroundcolor": "#E5ECF6",
            "gridcolor": "white",
            "gridwidth": 2,
            "linecolor": "white",
            "showbackground": true,
            "ticks": "",
            "zerolinecolor": "white"
           },
           "yaxis": {
            "backgroundcolor": "#E5ECF6",
            "gridcolor": "white",
            "gridwidth": 2,
            "linecolor": "white",
            "showbackground": true,
            "ticks": "",
            "zerolinecolor": "white"
           },
           "zaxis": {
            "backgroundcolor": "#E5ECF6",
            "gridcolor": "white",
            "gridwidth": 2,
            "linecolor": "white",
            "showbackground": true,
            "ticks": "",
            "zerolinecolor": "white"
           }
          },
          "shapedefaults": {
           "line": {
            "color": "#2a3f5f"
           }
          },
          "ternary": {
           "aaxis": {
            "gridcolor": "white",
            "linecolor": "white",
            "ticks": ""
           },
           "baxis": {
            "gridcolor": "white",
            "linecolor": "white",
            "ticks": ""
           },
           "bgcolor": "#E5ECF6",
           "caxis": {
            "gridcolor": "white",
            "linecolor": "white",
            "ticks": ""
           }
          },
          "title": {
           "x": 0.05
          },
          "xaxis": {
           "automargin": true,
           "gridcolor": "white",
           "linecolor": "white",
           "ticks": "",
           "title": {
            "standoff": 15
           },
           "zerolinecolor": "white",
           "zerolinewidth": 2
          },
          "yaxis": {
           "automargin": true,
           "gridcolor": "white",
           "linecolor": "white",
           "ticks": "",
           "title": {
            "standoff": 15
           },
           "zerolinecolor": "white",
           "zerolinewidth": 2
          }
         }
        },
        "width": 600,
        "xaxis": {
         "anchor": "y",
         "domain": [
          0,
          1
         ],
         "title": {
          "text": "Calories"
         }
        },
        "yaxis": {
         "anchor": "x",
         "domain": [
          0,
          1
         ],
         "title": {
          "text": "TotalMinutesAsleep"
         }
        }
       }
      }
     },
     "metadata": {},
     "output_type": "display_data"
    }
   ],
   "source": [
    "px.scatter(\n",
    "    merged_activity_sleep,\n",
    "    x='Calories',\n",
    "    y='TotalMinutesAsleep',\n",
    "    width=600\n",
    ")"
   ]
  },
  {
   "cell_type": "code",
   "execution_count": 77,
   "metadata": {},
   "outputs": [
    {
     "data": {
      "application/vnd.plotly.v1+json": {
       "config": {
        "plotlyServerURL": "https://plot.ly"
       },
       "data": [
        {
         "hovertemplate": "TotalSteps=%{x}<br>TotalMinutesAsleep=%{y}<extra></extra>",
         "legendgroup": "",
         "marker": {
          "color": "#636efa",
          "symbol": "circle"
         },
         "mode": "markers",
         "name": "",
         "orientation": "v",
         "showlegend": false,
         "type": "scatter",
         "x": [
          13162,
          10735,
          9762,
          12669,
          9705,
          15506,
          10544,
          9819,
          14371,
          10039,
          15355,
          13755,
          13154,
          11181,
          14673,
          10602,
          14727,
          15103,
          14070,
          12159,
          11992,
          10060,
          12022,
          12207,
          12770,
          3176,
          18213,
          3758,
          6724,
          3844,
          4014,
          2573,
          678,
          356,
          980,
          3761,
          1675,
          4414,
          4993,
          3335,
          3821,
          2547,
          838,
          2424,
          7222,
          2467,
          2915,
          12357,
          3490,
          6017,
          6088,
          6375,
          7604,
          4729,
          3609,
          7018,
          6564,
          12167,
          8198,
          4193,
          5528,
          10685,
          254,
          8580,
          8891,
          5079,
          10352,
          10129,
          10465,
          5472,
          8247,
          6711,
          10080,
          7804,
          16901,
          9471,
          9482,
          5980,
          11423,
          5439,
          42,
          8856,
          10035,
          7641,
          9010,
          13459,
          10415,
          11663,
          12414,
          11658,
          6093,
          8911,
          12058,
          14112,
          11177,
          11388,
          7193,
          7114,
          10645,
          13238,
          10414,
          16520,
          14335,
          13559,
          12312,
          11677,
          11550,
          13585,
          13072,
          8539,
          1982,
          4496,
          10252,
          11728,
          4369,
          5862,
          5546,
          10210,
          5664,
          4744,
          2276,
          8925,
          8954,
          3702,
          4500,
          4935,
          4081,
          9259,
          9899,
          10780,
          10817,
          7990,
          8221,
          1251,
          9261,
          9648,
          9524,
          7937,
          3672,
          10378,
          9487,
          9129,
          17,
          8758,
          6580,
          4660,
          11009,
          10181,
          10553,
          10055,
          12139,
          13236,
          10243,
          9461,
          11193,
          10074,
          12533,
          10255,
          10096,
          12375,
          9603,
          9603,
          22770,
          17298,
          10218,
          10299,
          10201,
          3276,
          2961,
          3974,
          7198,
          3945,
          2268,
          2064,
          2072,
          3809,
          6831,
          3385,
          6326,
          7243,
          4493,
          4676,
          6222,
          5232,
          6910,
          7502,
          2923,
          3800,
          4514,
          5183,
          7303,
          5275,
          3915,
          9105,
          768,
          13743,
          9148,
          7833,
          3428,
          6543,
          7213,
          6877,
          7860,
          6506,
          11140,
          12692,
          9105,
          6708,
          8793,
          6530,
          15126,
          15050,
          9167,
          6108,
          7047,
          9023,
          9930,
          10144,
          9454,
          8161,
          8614,
          6943,
          14370,
          14370,
          8232,
          10613,
          9810,
          2752,
          11596,
          4832,
          17022,
          16556,
          5771,
          655,
          3727,
          15482,
          2713,
          12346,
          11682,
          4112,
          1807,
          10946,
          11886,
          10538,
          11393,
          12764,
          1202,
          5164,
          9769,
          12848,
          4249,
          14331,
          9632,
          1868,
          6083,
          11611,
          16358,
          4926,
          3121,
          8135,
          5077,
          8596,
          12087,
          14269,
          12231,
          9893,
          12574,
          8330,
          10830,
          9172,
          7638,
          15764,
          6393,
          5325,
          6805,
          9841,
          7924,
          12363,
          13368,
          7439,
          11045,
          5206,
          7550,
          8869,
          4038,
          14450,
          7150,
          5153,
          11135,
          10449,
          19542,
          8206,
          11495,
          7623,
          9411,
          3403,
          9592,
          8915,
          9799,
          3365,
          7336,
          7328,
          4477,
          4053,
          5162,
          1282,
          10199,
          5652,
          1551,
          5563,
          13217,
          10145,
          11404,
          10742,
          13928,
          11835,
          10725,
          20031,
          5029,
          13239,
          10433,
          10320,
          12627,
          10762,
          10081,
          5454,
          12912,
          12109,
          10147,
          10524,
          5908,
          6815,
          4188,
          12342,
          15448,
          6722,
          3587,
          4631,
          5600,
          11317,
          5813,
          9123,
          8585,
          10688,
          14365,
          9469,
          9753,
          3520,
          10091,
          10387,
          11107,
          11584,
          14560,
          12390,
          10052,
          10288,
          10988,
          12461,
          12827,
          10677,
          13566,
          9572,
          3789,
          15108,
          22359,
          19769,
          7626,
          12386,
          13318,
          14461,
          11207,
          2132,
          13630,
          13070,
          9388,
          15148,
          12200,
          5709,
          3703,
          12405,
          12405,
          16208,
          7359,
          5417,
          6175,
          2946,
          11419,
          6064,
          8712,
          7875,
          8567,
          7045,
          4468,
          2943,
          8382,
          6582,
          9143,
          4561,
          2564,
          1320,
          1219,
          2483,
          3147,
          4068,
          5245,
          1758,
          6157,
          8360,
          7174,
          1619,
          1831,
          2421,
          2283
         ],
         "xaxis": "x",
         "y": [
          327,
          384,
          412,
          340,
          700,
          304,
          360,
          325,
          361,
          430,
          277,
          245,
          366,
          341,
          404,
          369,
          277,
          273,
          247,
          334,
          331,
          594,
          338,
          383,
          285,
          119,
          124,
          796,
          137,
          644,
          722,
          590,
          750,
          398,
          475,
          296,
          166,
          503,
          531,
          545,
          523,
          524,
          437,
          498,
          461,
          477,
          520,
          522,
          555,
          506,
          508,
          513,
          490,
          573,
          527,
          511,
          538,
          468,
          524,
          511,
          541,
          531,
          357,
          523,
          456,
          61,
          467,
          445,
          452,
          556,
          500,
          465,
          460,
          405,
          374,
          442,
          433,
          436,
          448,
          408,
          411,
          274,
          295,
          291,
          424,
          283,
          381,
          412,
          219,
          152,
          332,
          355,
          235,
          310,
          262,
          250,
          349,
          261,
          333,
          237,
          383,
          230,
          292,
          213,
          318,
          323,
          237,
          259,
          312,
          501,
          77,
          322,
          478,
          226,
          385,
          364,
          442,
          535,
          465,
          506,
          515,
          461,
          523,
          59,
          533,
          692,
          467,
          488,
          505,
          286,
          497,
          523,
          490,
          484,
          478,
          474,
          450,
          507,
          602,
          535,
          487,
          529,
          302,
          499,
          426,
          619,
          99,
          329,
          421,
          442,
          82,
          478,
          552,
          319,
          439,
          428,
          409,
          547,
          368,
          390,
          471,
          471,
          472,
          529,
          62,
          354,
          469,
          429,
          370,
          441,
          337,
          462,
          98,
          388,
          439,
          436,
          388,
          328,
          353,
          332,
          419,
          106,
          322,
          439,
          502,
          417,
          337,
          462,
          374,
          401,
          361,
          457,
          405,
          499,
          483,
          126,
          103,
          171,
          115,
          123,
          425,
          400,
          384,
          253,
          382,
          591,
          293,
          457,
          454,
          425,
          465,
          480,
          370,
          421,
          432,
          442,
          433,
          479,
          327,
          412,
          414,
          404,
          520,
          520,
          435,
          416,
          354,
          404,
          441,
          455,
          357,
          377,
          651,
          350,
          520,
          357,
          658,
          399,
          322,
          631,
          553,
          433,
          412,
          347,
          421,
          450,
          775,
          622,
          409,
          380,
          447,
          419,
          400,
          442,
          568,
          453,
          418,
          463,
          438,
          419,
          432,
          477,
          392,
          406,
          549,
          527,
          449,
          447,
          414,
          338,
          384,
          543,
          421,
          354,
          424,
          361,
          459,
          412,
          379,
          525,
          508,
          603,
          74,
          504,
          431,
          380,
          336,
          493,
          465,
          474,
          508,
          480,
          492,
          353,
          542,
          393,
          600,
          507,
          392,
          658,
          498,
          555,
          492,
          235,
          423,
          391,
          366,
          630,
          508,
          370,
          357,
          427,
          442,
          476,
          418,
          451,
          425,
          528,
          511,
          400,
          441,
          455,
          440,
          433,
          422,
          411,
          466,
          394,
          442,
          467,
          443,
          298,
          541,
          489,
          469,
          452,
          516,
          79,
          58,
          514,
          451,
          472,
          377,
          472,
          492,
          390,
          428,
          681,
          446,
          485,
          469,
          354,
          485,
          388,
          440,
          456,
          420,
          322,
          530,
          481,
          427,
          451,
          444,
          486,
          331,
          74,
          338,
          447,
          424,
          513,
          611,
          525,
          398,
          387,
          381,
          396,
          441,
          565,
          458,
          388,
          388,
          550,
          531,
          506,
          527,
          468,
          475,
          351,
          405,
          441,
          381,
          323,
          459,
          545,
          359,
          342,
          368,
          496,
          458,
          531,
          486,
          363,
          528,
          391,
          339,
          423,
          402,
          398,
          343,
          503,
          415,
          516,
          439
         ],
         "yaxis": "y"
        }
       ],
       "layout": {
        "legend": {
         "tracegroupgap": 0
        },
        "margin": {
         "t": 60
        },
        "template": {
         "data": {
          "bar": [
           {
            "error_x": {
             "color": "#2a3f5f"
            },
            "error_y": {
             "color": "#2a3f5f"
            },
            "marker": {
             "line": {
              "color": "#E5ECF6",
              "width": 0.5
             },
             "pattern": {
              "fillmode": "overlay",
              "size": 10,
              "solidity": 0.2
             }
            },
            "type": "bar"
           }
          ],
          "barpolar": [
           {
            "marker": {
             "line": {
              "color": "#E5ECF6",
              "width": 0.5
             },
             "pattern": {
              "fillmode": "overlay",
              "size": 10,
              "solidity": 0.2
             }
            },
            "type": "barpolar"
           }
          ],
          "carpet": [
           {
            "aaxis": {
             "endlinecolor": "#2a3f5f",
             "gridcolor": "white",
             "linecolor": "white",
             "minorgridcolor": "white",
             "startlinecolor": "#2a3f5f"
            },
            "baxis": {
             "endlinecolor": "#2a3f5f",
             "gridcolor": "white",
             "linecolor": "white",
             "minorgridcolor": "white",
             "startlinecolor": "#2a3f5f"
            },
            "type": "carpet"
           }
          ],
          "choropleth": [
           {
            "colorbar": {
             "outlinewidth": 0,
             "ticks": ""
            },
            "type": "choropleth"
           }
          ],
          "contour": [
           {
            "colorbar": {
             "outlinewidth": 0,
             "ticks": ""
            },
            "colorscale": [
             [
              0,
              "#0d0887"
             ],
             [
              0.1111111111111111,
              "#46039f"
             ],
             [
              0.2222222222222222,
              "#7201a8"
             ],
             [
              0.3333333333333333,
              "#9c179e"
             ],
             [
              0.4444444444444444,
              "#bd3786"
             ],
             [
              0.5555555555555556,
              "#d8576b"
             ],
             [
              0.6666666666666666,
              "#ed7953"
             ],
             [
              0.7777777777777778,
              "#fb9f3a"
             ],
             [
              0.8888888888888888,
              "#fdca26"
             ],
             [
              1,
              "#f0f921"
             ]
            ],
            "type": "contour"
           }
          ],
          "contourcarpet": [
           {
            "colorbar": {
             "outlinewidth": 0,
             "ticks": ""
            },
            "type": "contourcarpet"
           }
          ],
          "heatmap": [
           {
            "colorbar": {
             "outlinewidth": 0,
             "ticks": ""
            },
            "colorscale": [
             [
              0,
              "#0d0887"
             ],
             [
              0.1111111111111111,
              "#46039f"
             ],
             [
              0.2222222222222222,
              "#7201a8"
             ],
             [
              0.3333333333333333,
              "#9c179e"
             ],
             [
              0.4444444444444444,
              "#bd3786"
             ],
             [
              0.5555555555555556,
              "#d8576b"
             ],
             [
              0.6666666666666666,
              "#ed7953"
             ],
             [
              0.7777777777777778,
              "#fb9f3a"
             ],
             [
              0.8888888888888888,
              "#fdca26"
             ],
             [
              1,
              "#f0f921"
             ]
            ],
            "type": "heatmap"
           }
          ],
          "heatmapgl": [
           {
            "colorbar": {
             "outlinewidth": 0,
             "ticks": ""
            },
            "colorscale": [
             [
              0,
              "#0d0887"
             ],
             [
              0.1111111111111111,
              "#46039f"
             ],
             [
              0.2222222222222222,
              "#7201a8"
             ],
             [
              0.3333333333333333,
              "#9c179e"
             ],
             [
              0.4444444444444444,
              "#bd3786"
             ],
             [
              0.5555555555555556,
              "#d8576b"
             ],
             [
              0.6666666666666666,
              "#ed7953"
             ],
             [
              0.7777777777777778,
              "#fb9f3a"
             ],
             [
              0.8888888888888888,
              "#fdca26"
             ],
             [
              1,
              "#f0f921"
             ]
            ],
            "type": "heatmapgl"
           }
          ],
          "histogram": [
           {
            "marker": {
             "pattern": {
              "fillmode": "overlay",
              "size": 10,
              "solidity": 0.2
             }
            },
            "type": "histogram"
           }
          ],
          "histogram2d": [
           {
            "colorbar": {
             "outlinewidth": 0,
             "ticks": ""
            },
            "colorscale": [
             [
              0,
              "#0d0887"
             ],
             [
              0.1111111111111111,
              "#46039f"
             ],
             [
              0.2222222222222222,
              "#7201a8"
             ],
             [
              0.3333333333333333,
              "#9c179e"
             ],
             [
              0.4444444444444444,
              "#bd3786"
             ],
             [
              0.5555555555555556,
              "#d8576b"
             ],
             [
              0.6666666666666666,
              "#ed7953"
             ],
             [
              0.7777777777777778,
              "#fb9f3a"
             ],
             [
              0.8888888888888888,
              "#fdca26"
             ],
             [
              1,
              "#f0f921"
             ]
            ],
            "type": "histogram2d"
           }
          ],
          "histogram2dcontour": [
           {
            "colorbar": {
             "outlinewidth": 0,
             "ticks": ""
            },
            "colorscale": [
             [
              0,
              "#0d0887"
             ],
             [
              0.1111111111111111,
              "#46039f"
             ],
             [
              0.2222222222222222,
              "#7201a8"
             ],
             [
              0.3333333333333333,
              "#9c179e"
             ],
             [
              0.4444444444444444,
              "#bd3786"
             ],
             [
              0.5555555555555556,
              "#d8576b"
             ],
             [
              0.6666666666666666,
              "#ed7953"
             ],
             [
              0.7777777777777778,
              "#fb9f3a"
             ],
             [
              0.8888888888888888,
              "#fdca26"
             ],
             [
              1,
              "#f0f921"
             ]
            ],
            "type": "histogram2dcontour"
           }
          ],
          "mesh3d": [
           {
            "colorbar": {
             "outlinewidth": 0,
             "ticks": ""
            },
            "type": "mesh3d"
           }
          ],
          "parcoords": [
           {
            "line": {
             "colorbar": {
              "outlinewidth": 0,
              "ticks": ""
             }
            },
            "type": "parcoords"
           }
          ],
          "pie": [
           {
            "automargin": true,
            "type": "pie"
           }
          ],
          "scatter": [
           {
            "fillpattern": {
             "fillmode": "overlay",
             "size": 10,
             "solidity": 0.2
            },
            "type": "scatter"
           }
          ],
          "scatter3d": [
           {
            "line": {
             "colorbar": {
              "outlinewidth": 0,
              "ticks": ""
             }
            },
            "marker": {
             "colorbar": {
              "outlinewidth": 0,
              "ticks": ""
             }
            },
            "type": "scatter3d"
           }
          ],
          "scattercarpet": [
           {
            "marker": {
             "colorbar": {
              "outlinewidth": 0,
              "ticks": ""
             }
            },
            "type": "scattercarpet"
           }
          ],
          "scattergeo": [
           {
            "marker": {
             "colorbar": {
              "outlinewidth": 0,
              "ticks": ""
             }
            },
            "type": "scattergeo"
           }
          ],
          "scattergl": [
           {
            "marker": {
             "colorbar": {
              "outlinewidth": 0,
              "ticks": ""
             }
            },
            "type": "scattergl"
           }
          ],
          "scattermapbox": [
           {
            "marker": {
             "colorbar": {
              "outlinewidth": 0,
              "ticks": ""
             }
            },
            "type": "scattermapbox"
           }
          ],
          "scatterpolar": [
           {
            "marker": {
             "colorbar": {
              "outlinewidth": 0,
              "ticks": ""
             }
            },
            "type": "scatterpolar"
           }
          ],
          "scatterpolargl": [
           {
            "marker": {
             "colorbar": {
              "outlinewidth": 0,
              "ticks": ""
             }
            },
            "type": "scatterpolargl"
           }
          ],
          "scatterternary": [
           {
            "marker": {
             "colorbar": {
              "outlinewidth": 0,
              "ticks": ""
             }
            },
            "type": "scatterternary"
           }
          ],
          "surface": [
           {
            "colorbar": {
             "outlinewidth": 0,
             "ticks": ""
            },
            "colorscale": [
             [
              0,
              "#0d0887"
             ],
             [
              0.1111111111111111,
              "#46039f"
             ],
             [
              0.2222222222222222,
              "#7201a8"
             ],
             [
              0.3333333333333333,
              "#9c179e"
             ],
             [
              0.4444444444444444,
              "#bd3786"
             ],
             [
              0.5555555555555556,
              "#d8576b"
             ],
             [
              0.6666666666666666,
              "#ed7953"
             ],
             [
              0.7777777777777778,
              "#fb9f3a"
             ],
             [
              0.8888888888888888,
              "#fdca26"
             ],
             [
              1,
              "#f0f921"
             ]
            ],
            "type": "surface"
           }
          ],
          "table": [
           {
            "cells": {
             "fill": {
              "color": "#EBF0F8"
             },
             "line": {
              "color": "white"
             }
            },
            "header": {
             "fill": {
              "color": "#C8D4E3"
             },
             "line": {
              "color": "white"
             }
            },
            "type": "table"
           }
          ]
         },
         "layout": {
          "annotationdefaults": {
           "arrowcolor": "#2a3f5f",
           "arrowhead": 0,
           "arrowwidth": 1
          },
          "autotypenumbers": "strict",
          "coloraxis": {
           "colorbar": {
            "outlinewidth": 0,
            "ticks": ""
           }
          },
          "colorscale": {
           "diverging": [
            [
             0,
             "#8e0152"
            ],
            [
             0.1,
             "#c51b7d"
            ],
            [
             0.2,
             "#de77ae"
            ],
            [
             0.3,
             "#f1b6da"
            ],
            [
             0.4,
             "#fde0ef"
            ],
            [
             0.5,
             "#f7f7f7"
            ],
            [
             0.6,
             "#e6f5d0"
            ],
            [
             0.7,
             "#b8e186"
            ],
            [
             0.8,
             "#7fbc41"
            ],
            [
             0.9,
             "#4d9221"
            ],
            [
             1,
             "#276419"
            ]
           ],
           "sequential": [
            [
             0,
             "#0d0887"
            ],
            [
             0.1111111111111111,
             "#46039f"
            ],
            [
             0.2222222222222222,
             "#7201a8"
            ],
            [
             0.3333333333333333,
             "#9c179e"
            ],
            [
             0.4444444444444444,
             "#bd3786"
            ],
            [
             0.5555555555555556,
             "#d8576b"
            ],
            [
             0.6666666666666666,
             "#ed7953"
            ],
            [
             0.7777777777777778,
             "#fb9f3a"
            ],
            [
             0.8888888888888888,
             "#fdca26"
            ],
            [
             1,
             "#f0f921"
            ]
           ],
           "sequentialminus": [
            [
             0,
             "#0d0887"
            ],
            [
             0.1111111111111111,
             "#46039f"
            ],
            [
             0.2222222222222222,
             "#7201a8"
            ],
            [
             0.3333333333333333,
             "#9c179e"
            ],
            [
             0.4444444444444444,
             "#bd3786"
            ],
            [
             0.5555555555555556,
             "#d8576b"
            ],
            [
             0.6666666666666666,
             "#ed7953"
            ],
            [
             0.7777777777777778,
             "#fb9f3a"
            ],
            [
             0.8888888888888888,
             "#fdca26"
            ],
            [
             1,
             "#f0f921"
            ]
           ]
          },
          "colorway": [
           "#636efa",
           "#EF553B",
           "#00cc96",
           "#ab63fa",
           "#FFA15A",
           "#19d3f3",
           "#FF6692",
           "#B6E880",
           "#FF97FF",
           "#FECB52"
          ],
          "font": {
           "color": "#2a3f5f"
          },
          "geo": {
           "bgcolor": "white",
           "lakecolor": "white",
           "landcolor": "#E5ECF6",
           "showlakes": true,
           "showland": true,
           "subunitcolor": "white"
          },
          "hoverlabel": {
           "align": "left"
          },
          "hovermode": "closest",
          "mapbox": {
           "style": "light"
          },
          "paper_bgcolor": "white",
          "plot_bgcolor": "#E5ECF6",
          "polar": {
           "angularaxis": {
            "gridcolor": "white",
            "linecolor": "white",
            "ticks": ""
           },
           "bgcolor": "#E5ECF6",
           "radialaxis": {
            "gridcolor": "white",
            "linecolor": "white",
            "ticks": ""
           }
          },
          "scene": {
           "xaxis": {
            "backgroundcolor": "#E5ECF6",
            "gridcolor": "white",
            "gridwidth": 2,
            "linecolor": "white",
            "showbackground": true,
            "ticks": "",
            "zerolinecolor": "white"
           },
           "yaxis": {
            "backgroundcolor": "#E5ECF6",
            "gridcolor": "white",
            "gridwidth": 2,
            "linecolor": "white",
            "showbackground": true,
            "ticks": "",
            "zerolinecolor": "white"
           },
           "zaxis": {
            "backgroundcolor": "#E5ECF6",
            "gridcolor": "white",
            "gridwidth": 2,
            "linecolor": "white",
            "showbackground": true,
            "ticks": "",
            "zerolinecolor": "white"
           }
          },
          "shapedefaults": {
           "line": {
            "color": "#2a3f5f"
           }
          },
          "ternary": {
           "aaxis": {
            "gridcolor": "white",
            "linecolor": "white",
            "ticks": ""
           },
           "baxis": {
            "gridcolor": "white",
            "linecolor": "white",
            "ticks": ""
           },
           "bgcolor": "#E5ECF6",
           "caxis": {
            "gridcolor": "white",
            "linecolor": "white",
            "ticks": ""
           }
          },
          "title": {
           "x": 0.05
          },
          "xaxis": {
           "automargin": true,
           "gridcolor": "white",
           "linecolor": "white",
           "ticks": "",
           "title": {
            "standoff": 15
           },
           "zerolinecolor": "white",
           "zerolinewidth": 2
          },
          "yaxis": {
           "automargin": true,
           "gridcolor": "white",
           "linecolor": "white",
           "ticks": "",
           "title": {
            "standoff": 15
           },
           "zerolinecolor": "white",
           "zerolinewidth": 2
          }
         }
        },
        "width": 600,
        "xaxis": {
         "anchor": "y",
         "domain": [
          0,
          1
         ],
         "title": {
          "text": "TotalSteps"
         }
        },
        "yaxis": {
         "anchor": "x",
         "domain": [
          0,
          1
         ],
         "title": {
          "text": "TotalMinutesAsleep"
         }
        }
       }
      }
     },
     "metadata": {},
     "output_type": "display_data"
    }
   ],
   "source": [
    "px.scatter(\n",
    "    merged_activity_sleep,\n",
    "    x='TotalSteps',\n",
    "    y='TotalMinutesAsleep',\n",
    "    width=600,\n",
    ")"
   ]
  },
  {
   "cell_type": "markdown",
   "metadata": {},
   "source": [
    "## Summary"
   ]
  }
 ],
 "metadata": {
  "interpreter": {
   "hash": "ad2bdc8ecc057115af97d19610ffacc2b4e99fae6737bb82f5d7fb13d2f2c186"
  },
  "kernelspec": {
   "display_name": "Python 3.8.8 ('base')",
   "language": "python",
   "name": "python3"
  },
  "language_info": {
   "codemirror_mode": {
    "name": "ipython",
    "version": 3
   },
   "file_extension": ".py",
   "mimetype": "text/x-python",
   "name": "python",
   "nbconvert_exporter": "python",
   "pygments_lexer": "ipython3",
   "version": "3.8.8"
  },
  "orig_nbformat": 4
 },
 "nbformat": 4,
 "nbformat_minor": 2
}
